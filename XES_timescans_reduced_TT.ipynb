{
 "cells": [
  {
   "cell_type": "code",
   "execution_count": 1,
   "id": "97ffa53a-bbaf-458c-9e9d-877ce684fb10",
   "metadata": {},
   "outputs": [],
   "source": [
    "%matplotlib widget\n",
    "import numpy as np\n",
    "import glob, itertools, os\n",
    "\n",
    "from alvra_tools.channels import *\n",
    "from alvra_tools.XES_functions import *\n",
    "from alvra_tools.utils import *\n",
    "\n",
    "import warnings\n",
    "warnings.filterwarnings('ignore')"
   ]
  },
  {
   "cell_type": "code",
   "execution_count": 2,
   "id": "3a635fae-ce94-4ee8-8944-8de1b40cfc3f",
   "metadata": {},
   "outputs": [
    {
     "name": "stdout",
     "output_type": "stream",
     "text": [
      "1 runs: [49]\n"
     ]
    },
    {
     "data": {
      "text/plain": [
       "['/sf/alvra/data/p20222/work/reduced_data/no_rounding/run0049-FebpyCN4_H2O_timescan_001/meta/scan.json']"
      ]
     },
     "execution_count": 2,
     "metadata": {},
     "output_type": "execute_result"
    }
   ],
   "source": [
    "pgroup='p20222'\n",
    "runlist = [49]\n",
    "#runlist1 = np.arange(420, 425, 1)\n",
    "\n",
    "#runlist = np.concatenate((runlist1, runlist2, runlist3, runlist4))\n",
    "print ('{} runs: {}'.format(len(runlist),runlist))\n",
    "\n",
    "#############################################################\n",
    "jsonlist = []\n",
    "for run in runlist:\n",
    "    file = glob.glob('/sf/alvra/data/{}/work/reduced_data/no_rounding/*{:04d}*/meta/scan.json'.format(pgroup, run))\n",
    "    jsonlist.append(file)\n",
    "jsonlist = itertools.chain.from_iterable(jsonlist)\n",
    "jsonlist = sorted(jsonlist, key = os.path.getmtime)\n",
    "jsonlist"
   ]
  },
  {
   "cell_type": "code",
   "execution_count": 28,
   "id": "3567c9ca-b7d0-435a-95d3-6b1e2cd61ee1",
   "metadata": {},
   "outputs": [
    {
     "name": "stdout",
     "output_type": "stream",
     "text": [
      "It took 2.23 seconds to process this file\n",
      "\n",
      "Job done! It took 96.23 seconds to process 31 file(s)\n",
      "------------------------------\n",
      "Timezero found in file = 100.01392000004499 mm\n",
      "Processed run run0049-FebpyCN4_H2O_timescan_001\n"
     ]
    }
   ],
   "source": [
    "threshold_low = 3\n",
    "threshold_high = 50\n",
    "nshots = None\n",
    "nsteps = None\n",
    "\n",
    "reducedir='../Claudio/Reduced_TT/'\n",
    "\n",
    "TT = TT_PSEN126\n",
    "Timezero_mm = 10.02694\n",
    "channel_delay_motor = channel_delay_topas\n",
    "\n",
    "#####################################################################################\n",
    "from sfdata import SFScanInfo\n",
    "\n",
    "for json in jsonlist:\n",
    "    scan = SFScanInfo(json)\n",
    "    try:\n",
    "        Timezero_mm = get_timezero_NBS(json)\n",
    "        flag = True\n",
    "    except:\n",
    "        Timezero_mm = Timezero_mm\n",
    "        \n",
    "    Delays_fs_scan, Delays_corr_scan, \\\n",
    "    spectra_ROIs_ON, spectra_ROIs_OFF, \\\n",
    "    Delay_fs, Delay_mm = \\\n",
    "    XES_delayscan_TT_reduced(scan, pgroup, TT, channel_delay_motor, Timezero_mm, threshold_low, threshold_high, nshots, nsteps=nsteps)\n",
    "    \n",
    "    print ('------------------------------')\n",
    "    if flag:\n",
    "        print ('Timezero found in file = {} mm'.format(Timezero_mm))\n",
    "    else:\n",
    "        print ('Timezero = {} mm'.format(Timezero_mm))\n",
    "\n",
    "    if scan.parameters['units'] == ['nS']:\n",
    "        Delay_fs = - scan.values\n",
    "    #    Delay_fs = Delay_fs - 0.17\n",
    "    else:\n",
    "        Delay_fs = scan.values\n",
    "        Delay_fs = Delay_fs - mm2fs(Timezero_mm, 0)\n",
    "        \n",
    "    run_name = json.split('/')[-3]\n",
    "    os.makedirs(reducedir+run_name, exist_ok=True)\n",
    "\n",
    "    #np.save(reducedir+run_name+'/delays_corr.npy', Delays_corr_scan)\n",
    "    #np.save(reducedir+run_name+'/delays_stage.npy', Delays_fs_scan)\n",
    "    #np.save(reducedir+run_name+'/Delay_readbacks.npy', Delay_fs)\n",
    "\n",
    "    #for i, spectrum in enumerate([spectrum_roi1_ON, spectrum_roi2_ON, spectrum_roi3_ON, spectrum_roi4_ON]):\n",
    "    #    np.save(reducedir+run_name+'/spectrum_roi{}_ON.npy'.format(i+1), spectrum)\n",
    "\n",
    "    #for i, spectrum in enumerate([spectrum_roi1_OFF, spectrum_roi2_OFF, spectrum_roi3_OFF, spectrum_roi4_OFF]):\n",
    "    #    np.save(reducedir+run_name+'/spectrum_roi{}_OFF.npy'.format(i+1), spectrum)\n",
    "    \n",
    "    print ('Processed run {}'.format(json.split('/')[-3]))\n",
    "    "
   ]
  },
  {
   "cell_type": "code",
   "execution_count": 51,
   "id": "f4b859e4-234d-4ed1-be39-b29a0b84e834",
   "metadata": {},
   "outputs": [],
   "source": [
    "spectrum_ROI_ON = len(spectra_ROIs_ON)*[0]\n",
    "for i,key in enumerate((spectra_ROIs_ON.keys())):\n",
    "    spectrum_ROI_ON[i] = spectra_ROIs_ON[key]\n",
    "    spectrum_ROI_ON[i] = np.asarray(list(itertools.chain.from_iterable(spectrum_ROI_ON[i])))"
   ]
  },
  {
   "cell_type": "code",
   "execution_count": 53,
   "id": "d67180a8-73b7-42e6-9aa4-af044ddfd7c2",
   "metadata": {},
   "outputs": [
    {
     "ename": "NameError",
     "evalue": "name 'spectrum_ROI_on_rebin' is not defined",
     "output_type": "error",
     "traceback": [
      "\u001b[0;31m---------------------------------------------------------------------------\u001b[0m",
      "\u001b[0;31mNameError\u001b[0m                                 Traceback (most recent call last)",
      "\u001b[0;32m<ipython-input-53-6dda265c6533>\u001b[0m in \u001b[0;36m<module>\u001b[0;34m\u001b[0m\n\u001b[1;32m      6\u001b[0m \u001b[0;34m\u001b[0m\u001b[0m\n\u001b[1;32m      7\u001b[0m \u001b[0;32mfor\u001b[0m \u001b[0mroi\u001b[0m \u001b[0;32min\u001b[0m \u001b[0mrange\u001b[0m\u001b[0;34m(\u001b[0m\u001b[0mlen\u001b[0m\u001b[0;34m(\u001b[0m\u001b[0mspectrum_ROI_ON\u001b[0m\u001b[0;34m)\u001b[0m\u001b[0;34m)\u001b[0m\u001b[0;34m:\u001b[0m\u001b[0;34m\u001b[0m\u001b[0;34m\u001b[0m\u001b[0m\n\u001b[0;32m----> 8\u001b[0;31m     \u001b[0mspectrum_ROI_on_rebin\u001b[0m\u001b[0;34m[\u001b[0m\u001b[0mroi\u001b[0m\u001b[0;34m]\u001b[0m \u001b[0;34m=\u001b[0m \u001b[0mnp\u001b[0m\u001b[0;34m.\u001b[0m\u001b[0mzeros\u001b[0m\u001b[0;34m(\u001b[0m\u001b[0;34m(\u001b[0m\u001b[0mlen\u001b[0m\u001b[0;34m(\u001b[0m\u001b[0mbin_centres\u001b[0m\u001b[0;34m)\u001b[0m\u001b[0;34m,\u001b[0m \u001b[0mnp\u001b[0m\u001b[0;34m.\u001b[0m\u001b[0mshape\u001b[0m\u001b[0;34m(\u001b[0m\u001b[0mspectrum_ROI_on_rebin\u001b[0m\u001b[0;34m[\u001b[0m\u001b[0mroi\u001b[0m\u001b[0;34m]\u001b[0m\u001b[0;34m)\u001b[0m\u001b[0;34m[\u001b[0m\u001b[0;36m1\u001b[0m\u001b[0;34m]\u001b[0m\u001b[0;34m)\u001b[0m\u001b[0;34m)\u001b[0m\u001b[0;34m\u001b[0m\u001b[0;34m\u001b[0m\u001b[0m\n\u001b[0m\u001b[1;32m      9\u001b[0m \u001b[0;34m\u001b[0m\u001b[0m\n",
      "\u001b[0;31mNameError\u001b[0m: name 'spectrum_ROI_on_rebin' is not defined"
     ]
    }
   ],
   "source": [
    "binsize = 50\n",
    "\n",
    "binList = np.arange(Delays_fs_scan[0] - 100, Delays_fs_scan[-1] + 100, binsize)\n",
    "bin_centres = (binList[:-1] + binList[1:])/2\n",
    "Delay_fs_TT = np.arange(Delays_fs_scan[0] -100 + binsize/2, Delays_fs_scan[-1] + 100 - binsize/2, binsize)\n",
    "\n",
    "for roi in range(len(spectrum_ROI_ON)):\n",
    "    spectrum_ROI_on_rebin[roi] = np.zeros((len(bin_centres), np.shape(spectrum_ROI_on_rebin[roi])[1]))\n",
    "    "
   ]
  },
  {
   "cell_type": "code",
   "execution_count": 52,
   "id": "a7bb379f-4e47-4bd9-aa70-9f7399736271",
   "metadata": {},
   "outputs": [
    {
     "data": {
      "text/plain": [
       "8"
      ]
     },
     "execution_count": 52,
     "metadata": {},
     "output_type": "execute_result"
    }
   ],
   "source": [
    "len(spectrum_ROI_ON)"
   ]
  },
  {
   "cell_type": "code",
   "execution_count": 4,
   "id": "5346fc9b-f3f6-43c9-bf9c-a2015662ee57",
   "metadata": {},
   "outputs": [],
   "source": [
    "spectrum_roi1_ON = spectra_ROIs_ON['roi_0']\n",
    "spectrum_roi2_ON = spectra_ROIs_ON['roi_1']\n",
    "\n"
   ]
  },
  {
   "cell_type": "code",
   "execution_count": 4,
   "id": "3193ec43-57aa-4a11-9502-cec14af94552",
   "metadata": {},
   "outputs": [],
   "source": [
    "roi_array = [spectrum_roi1_ON, spectrum_roi1_OFF, \n",
    "             spectrum_roi2_ON, spectrum_roi2_OFF,\n",
    "             spectrum_roi3_ON, spectrum_roi3_OFF,\n",
    "             spectrum_roi4_ON, spectrum_roi4_OFF,]\n",
    "\n",
    "for index in range(len(roi_array)):\n",
    "    roi_array[index] = np.asarray(list(itertools.chain.from_iterable(roi_array[index])))\n",
    "    print (np.shape(roi_array[index]))\n",
    "\n",
    "spectrum_roi1_ON = spectra_ROIs_ON['roi_0']"
   ]
  },
  {
   "cell_type": "code",
   "execution_count": 7,
   "id": "9a012d54-6315-4bf3-a5f8-79604da2efac",
   "metadata": {},
   "outputs": [
    {
     "data": {
      "text/plain": [
       "(13304, 120)"
      ]
     },
     "execution_count": 7,
     "metadata": {},
     "output_type": "execute_result"
    }
   ],
   "source": [
    "np.shape(spectrum_roi1_ON)"
   ]
  },
  {
   "cell_type": "code",
   "execution_count": 6,
   "id": "0a14e28c-9b80-4eb7-9621-1fa1705656e1",
   "metadata": {},
   "outputs": [],
   "source": [
    "spectrum_roi1_ON = np.asarray(list(itertools.chain.from_iterable(spectrum_roi1_ON)))"
   ]
  },
  {
   "cell_type": "code",
   "execution_count": null,
   "id": "4d508f61-18d9-4e3d-9acf-7cd3906cf76a",
   "metadata": {},
   "outputs": [],
   "source": []
  }
 ],
 "metadata": {
  "kernelspec": {
   "display_name": "Python [conda env:alvra-analysis]",
   "language": "python",
   "name": "conda-env-alvra-analysis-py"
  },
  "language_info": {
   "codemirror_mode": {
    "name": "ipython",
    "version": 3
   },
   "file_extension": ".py",
   "mimetype": "text/x-python",
   "name": "python",
   "nbconvert_exporter": "python",
   "pygments_lexer": "ipython3",
   "version": "3.8.10"
  }
 },
 "nbformat": 4,
 "nbformat_minor": 5
}

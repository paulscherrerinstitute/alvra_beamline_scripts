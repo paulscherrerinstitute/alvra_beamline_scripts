{
 "cells": [
  {
   "cell_type": "code",
   "execution_count": null,
   "metadata": {
    "collapsed": true
   },
   "outputs": [],
   "source": [
    "%matplotlib nbagg\n",
    "#from photodiag import PalmSetup\n",
    "import photodiag\n",
    "import json\n",
    "import numpy as np\n",
    "from matplotlib import pyplot as plt\n",
    "import pandas as pd\n",
    "import h5py\n",
    "import os, glob\n",
    "\n",
    "\n",
    "from scipy.special import erf\n",
    "from scipy.optimize import curve_fit\n",
    "from alvra_tools import load_data\n",
    "from IPython.display import clear_output"
   ]
  },
  {
   "cell_type": "markdown",
   "metadata": {},
   "source": [
    "# First part: load a THz scan to calibrate the eV to fs slope"
   ]
  },
  {
   "cell_type": "markdown",
   "metadata": {},
   "source": [
    "### First look for the correct PALM calibration file"
   ]
  },
  {
   "cell_type": "code",
   "execution_count": null,
   "metadata": {},
   "outputs": [],
   "source": [
    "#DIRcalib = '/sf/photo/src/PALM/calib/'\n",
    "#DIRcalib = '/sf/photo/src/PALM/calib/Alvra'\n",
    "#DIRcalib = '/sf/alvra/data/p18442/res/PhotoDiag/scan_info/'\n",
    "DIRcalib = '/sf/alvra/data/p18182/res/PhotoDiag/scan_info/'\n",
    "\n",
    "!ls -lah -rt $DIRcalib | grep palm_etof"
   ]
  },
  {
   "cell_type": "markdown",
   "metadata": {},
   "source": [
    "### Now load the calibration file and give the energy range"
   ]
  },
  {
   "cell_type": "code",
   "execution_count": null,
   "metadata": {
    "collapsed": true
   },
   "outputs": [],
   "source": [
    "#CalibrationFn = DIRcalib + '2019-05-24_13:40:42.palm_etof'     # 12 keV settings\n",
    "CalibrationFn = DIRcalib + '2020-01-25_16:28:32.palm_etof'     # 5 keV settings -- p18182\n",
    "\n",
    "energyFrom =  8400\n",
    "energyTo =    8600\n",
    "energySteps = 2000\n",
    "\n",
    "###########################################################################################\n",
    "\n",
    "palm = photodiag.PalmSetup({'0': 'SAROP11-PALMK118:CH1_BUFFER', '1': 'SAROP11-PALMK118:CH2_BUFFER'},\n",
    "                 noise_range=[0, 250],\n",
    "                 energy_range=np.linspace(energyFrom, energyTo, energySteps))\n",
    "\n",
    "palm.load_etof_calib(CalibrationFn)    \n",
    "\n",
    "# define the fitfunction\n",
    "def fitThz(x, a, b, c, d, e, f):\n",
    "    return a + b*np.exp(-(c-x)**2/np.abs(d)**2)*np.sin(e*x + f) \n"
   ]
  },
  {
   "cell_type": "markdown",
   "metadata": {},
   "source": [
    "### Now choose the directory of the json file for the THz scan"
   ]
  },
  {
   "cell_type": "code",
   "execution_count": null,
   "metadata": {
    "scrolled": true
   },
   "outputs": [],
   "source": [
    "DIRjson = \"/sf/alvra/data/p18182/res/PhotoDiag/scan_info/\"\n",
    "\n",
    "!ls -lah -rt $DIRjson | grep json"
   ]
  },
  {
   "cell_type": "markdown",
   "metadata": {},
   "source": [
    " ### Load the THz scan"
   ]
  },
  {
   "cell_type": "code",
   "execution_count": null,
   "metadata": {},
   "outputs": [],
   "source": [
    "scan_name = 'PALM_scan_508'\n",
    "\n",
    "###########################################\n",
    "\n",
    "fn_json = DIRjson + scan_name + '_scan_info.json'\n",
    "\n",
    "with open(fn_json) as f:\n",
    "    dataFiles = json.load(f)\n",
    "numFiles = len(dataFiles['scan_files'])\n",
    "StagePOS = dataFiles['scan_values'][:]\n",
    "\n",
    "eVIntP = []\n",
    "eVIntUp = []\n",
    "wf_str = []\n",
    "wf_ref = []\n",
    "\n",
    "for i in range(0,numFiles):\n",
    "    fn = str(dataFiles['scan_files'][i][0])\n",
    "    with h5py.File(fn, 'r') as fileName:\n",
    "        fileName = load_data._get_data(fileName)\n",
    "        \n",
    "        TOF = -fileName['SAROP11-PALMK118:CH2_BUFFER/data'][:]\n",
    "        uTOF = -fileName['SAROP11-PALMK118:CH1_BUFFER/data'][:]\n",
    "        PulseIds = fileName['SAROP11-PALMK118:CH2_BUFFER/pulse_id'][:]   \n",
    "        \n",
    "        try:\n",
    "            ### will use the following lines will work if there is TIFALL5 in the channel list\n",
    "            EventCode = fileName['SAR-CVME-TIFALL5:EvtSet/data']\n",
    "            FEL = EventCode[:,48]\n",
    "            Laser = EventCode[:,18]\n",
    "            Darkshot = EventCode[:,21]\n",
    "            index_ok = np.logical_and.reduce((FEL, Laser, np.logical_not(Darkshot)))\n",
    "            print ('Shots selection done with event code')\n",
    "        except:\n",
    "            ### will use the following line if there is no TIFALL5, need to know the FEL/laser reprate however...\n",
    "            mod = 2   # for 50 Hz\n",
    "            index_ok = PulseIds%mod == 0          \n",
    "            print ('Shots selection done with pulseID modulo = {}'.format(mod))\n",
    "                \n",
    "        tmpP = palm.etofs['1'].convert(input_data=TOF[index_ok], interp_energy=palm.energy_range)\n",
    "        tmpUp = palm.etofs['0'].convert(input_data=uTOF[index_ok],interp_energy=palm.energy_range)\n",
    "        \n",
    "        eVIntP.append(tmpP)\n",
    "        eVIntUp.append(tmpUp)\n",
    "        wf_str.append(TOF[index_ok])\n",
    "        wf_ref.append(uTOF[index_ok])\n",
    "        clear_output(wait=True)\n",
    "        print('Loaded file %s' %str(dataFiles['scan_files'][i][0]))\n",
    "\n",
    "\n",
    "eVIntP = np.array(eVIntP)\n",
    "eVIntUp = np.array(eVIntUp)\n",
    "\n",
    "wf_str = np.array(wf_str)\n",
    "wf_ref = np.array(wf_ref)\n",
    "StagePOS = np.array(StagePOS)\n",
    "Stagefs = (StagePOS[:,0]*1e-3*2/3e8)*1e15\n",
    "\n",
    "Datasize = str(wf_str.shape)\n",
    "print('Datasize = {}'.format(Datasize))"
   ]
  },
  {
   "cell_type": "markdown",
   "metadata": {},
   "source": [
    " ### Plot the THz scan to see whether the energy range is fine"
   ]
  },
  {
   "cell_type": "code",
   "execution_count": null,
   "metadata": {},
   "outputs": [],
   "source": [
    "fig = plt.figure()\n",
    "plt.pcolormesh(StagePOS[:,0], palm.energy_range, np.transpose(eVIntP.mean(axis=1)))\n",
    "plt.xlabel('Delay [s]')\n",
    "plt.ylabel('Electron energy [eV]')\n",
    "plt.title(fn_json.split('/')[-1])\n",
    "plt.show()"
   ]
  },
  {
   "cell_type": "markdown",
   "metadata": {},
   "source": [
    " ### Now calculate t0 and calibration factor with the fit"
   ]
  },
  {
   "cell_type": "code",
   "execution_count": null,
   "metadata": {},
   "outputs": [],
   "source": [
    "### Load is done, now run this cell to calculate the calibration factor (eV2fs)\n",
    "### For p18182 (5 keV) found -28.240766953955095 eV/fs\n",
    "### For p18389 (12 keV) found -4.610191678065906 eV/fs\n",
    "\n",
    "# determining t0 and peak-to-peak distance\n",
    "streak=np.transpose(np.array([StagePOS[:,0], palm.energy_range[np.argmax(np.transpose(eVIntP.mean(axis=1)),axis =0)]]))\n",
    "streakDerivative=np.transpose(np.array([[np.mean(t) for t in np.transpose([streak[:-1,0],streak[1:,0]])],np.diff(streak[:,1])/np.diff(streak[:,0])]))\n",
    "#streakDerivative=np.transpose(np.array([streak[:-1,0],np.diff(streak[:,1])/np.diff(streak[:,0])]))\n",
    "t0=[t[0] for t in streakDerivative if t[1]==min(streakDerivative[:,1])][0]\n",
    "\n",
    "print(\"t0 is at {} s\".format(t0))\n",
    "print(\"Max streak is {} eV\".format(max(np.array([t for t in streak if t[0]<t0])[:,1])-min(np.array([t for t in streak if t[0]>t0])[:,1])))\n",
    "\n",
    "#Now fit with fit function\n",
    "param_bounds = ([300,10,5.4e-10,1e-13,2e12,0],[600,500,5.5e-10,3e-12,4e12,np.inf])\n",
    "parameters,extras = curve_fit(fitThz,StagePOS[:,0],palm.energy_range[np.argmax(np.transpose(eVIntP.mean(axis=1)),axis =0)], \n",
    "                              p0 = [np.min(palm.energy_range), 50, t0,2e-12,2.8e12,1])#,bounds=param_bounds)\n",
    "# make the derivative \n",
    "dx = StagePOS[2,0]-StagePOS[1,0]\n",
    "d_fitTHz_dx = np.gradient(fitThz(StagePOS[:,0],*parameters), dx)\n",
    "\n",
    "max_y = np.max(np.gradient(fitThz(StagePOS[:,0],*parameters)))  # Find the maximum y value\n",
    "max_x = np.argmin(np.gradient(fitThz(StagePOS[:,0],*parameters)))  # Find the maximum y value\n",
    "\n",
    "# t0 from the phase fit \n",
    "t0_from_phase = parameters[2] + (parameters[4]*parameters[5])**-1 \n",
    "\n",
    "calibrationLineSlope=np.interp(t0_from_phase,StagePOS[:,0],d_fitTHz_dx)\n",
    "calibrationLineIntercept=np.interp(t0_from_phase,StagePOS[:,0],fitThz(StagePOS[:,0],*parameters))-calibrationLineSlope*t0_from_phase\n",
    "ev2fsCalib = 1/(calibrationLineSlope*1e-15)\n",
    "#print(max_x, max_y)\n",
    "print (\"t0 from phase is at {} s\".format(t0_from_phase))\n",
    "print (\"Calibration factor is {} eV/fs\".format(ev2fsCalib))\n",
    "#print(parameters[2])\n",
    "#print([calibrationLineSlope,calibrationLineIntercept,t0_from_phase])\n",
    "print (calibrationLineIntercept)\n",
    "# Trace from fit\n",
    "xS=np.arange(np.min(StagePOS[:,0]),np.max(StagePOS[:,0]),(np.max(StagePOS[:,0])-np.min(StagePOS[:,0]))/300)\n",
    "ySFitted=[fitThz(x, parameters[0],parameters[1],parameters[2],parameters[3],parameters[4],parameters[5]) for x in xS]\n",
    "\n",
    "# Trace line \n",
    "#Trace_lin_fit = calibrationLineSlope * \n",
    "\n",
    "\n",
    "# Plot\n",
    "fig = plt.figure(figsize=(8,4))\n",
    "plt.pcolormesh(StagePOS[:,0], palm.energy_range, np.transpose(eVIntP.mean(axis=1)), cmap='CMRmap')\n",
    "plt.colorbar()\n",
    "plt.plot(xS,ySFitted)\n",
    "plt.axvline(t0_from_phase)\n",
    "plt.xlabel('Delay [s]')\n",
    "plt.ylabel('Electron energy [eV]')\n",
    "plt.title(scan_name)\n",
    "plt.show()\n",
    "PeakToPeak = np.max(ySFitted)-np.min(ySFitted)\n",
    "print('Scan {}, t0 from phase = {} and peak-to-peak streak of {} eV'.format(scan_name, t0_from_phase, np.round(PeakToPeak,2)))"
   ]
  },
  {
   "cell_type": "code",
   "execution_count": null,
   "metadata": {
    "collapsed": true
   },
   "outputs": [],
   "source": []
  },
  {
   "cell_type": "code",
   "execution_count": null,
   "metadata": {
    "collapsed": true
   },
   "outputs": [],
   "source": []
  },
  {
   "cell_type": "code",
   "execution_count": null,
   "metadata": {
    "collapsed": true
   },
   "outputs": [],
   "source": []
  },
  {
   "cell_type": "code",
   "execution_count": null,
   "metadata": {
    "collapsed": true
   },
   "outputs": [],
   "source": []
  },
  {
   "cell_type": "code",
   "execution_count": null,
   "metadata": {
    "collapsed": true
   },
   "outputs": [],
   "source": []
  },
  {
   "cell_type": "code",
   "execution_count": null,
   "metadata": {
    "scrolled": true
   },
   "outputs": [],
   "source": [
    "DIR = \"/sf/alvra/data/p18182/raw/scan_data/SiN_timingHe_3/\"\n",
    "\n",
    "!ls -lah -rt $DIR | grep BSREAD\n",
    "\n",
    "!hostname\n",
    "\n",
    "listfile = os.listdir(DIR)\n",
    "number_files = len(listfile)\n",
    "print (\"There are\",number_files,\" BSREAD files in the folder\", DIR)"
   ]
  },
  {
   "cell_type": "code",
   "execution_count": null,
   "metadata": {
    "collapsed": true
   },
   "outputs": [],
   "source": [
    "# Analyse a single file, no dark / light selection of the shots!!\n",
    "\n",
    "fff = DIR + \"run_000397.BSREAD.h5\"\n",
    "#print (os.path.isfile(fileName))\n",
    "\n",
    "with h5py.File(fff, 'r') as fileName:\n",
    "    fileName = load_data._get_data(fileName)\n",
    "    check = fileName[\"SAR-CVME-TIFALL5:EvtSet/is_data_present\"][:]\n",
    "    \n",
    "\n",
    "#pulse_id, delays, pulse_lengths, debug_data = palm.process_hdf5_file(fileName, debug=True)\n",
    "\n",
    "pulse_id, delays, _, (input_data, lags, cross_corr, _) = palm.process_hdf5_file(fff, debug=True)\n",
    "ev2fsCalib = -3.5391553376634146\n",
    "delays_fs = delays * ev2fsCalib"
   ]
  },
  {
   "cell_type": "code",
   "execution_count": null,
   "metadata": {},
   "outputs": [],
   "source": [
    "# Check one shot (be careful, could be a dark one!!) to see the TOF peak and cross correlation\n",
    "\n",
    "shot = 4\n",
    "\n",
    "print ('Delay for shot {} = {} with calibration = {} eV/fs'.format(shot, delays[shot]*ev2fsCalib, ev2fsCalib))\n",
    "print (np.amax(input_data['0'],axis=1)[shot])\n",
    "print (cross_corr[shot].sum())\n",
    "\n",
    "plt.figure(figsize= (10,5))\n",
    "plt.subplot(121)\n",
    "plt.plot(palm.energy_range, input_data['0'][shot], label=\"unstreaked\")\n",
    "plt.plot(palm.energy_range, input_data['1'][shot], label=\"streaked\")\n",
    "plt.legend(loc=\"best\")\n",
    "\n",
    "plt.subplot(122)\n",
    "plt.plot(lags, cross_corr[shot], label=\"cross correlation\")\n",
    "plt.legend(loc=\"best\")\n",
    "plt.grid()"
   ]
  },
  {
   "cell_type": "markdown",
   "metadata": {},
   "source": [
    "# Analyse a series of files"
   ]
  },
  {
   "cell_type": "code",
   "execution_count": null,
   "metadata": {
    "scrolled": true
   },
   "outputs": [],
   "source": [
    "datalist = glob.glob(DIR + \"*.BSREAD.h5\")\n",
    "datalist = sorted(datalist)\n",
    "datalist"
   ]
  },
  {
   "cell_type": "markdown",
   "metadata": {},
   "source": [
    "## Next is to extract TT arrival times (choose FEL or laser as pump)"
   ]
  },
  {
   "cell_type": "code",
   "execution_count": null,
   "metadata": {
    "scrolled": true
   },
   "outputs": [],
   "source": [
    "datalist = glob.glob(DIR + \"*.BSREAD.h5\")\n",
    "datalist = sorted(datalist)\n",
    "\n",
    "ev2fsCalib= -20.723024835035712 #eV/fs    # This is from THz scan_508, p18182\n",
    "#ev2fsCalib= -18.913301646032846 #eV/fs    # This is from THz scan_010, p18442\n",
    "#ev2fsCalib = -3.5391553376634146 #eV/fs    # This is for 12 KeV\n",
    "\n",
    "Delays_PALM_all = []\n",
    "Delays_mean = []\n",
    "cross_corr_all = []\n",
    "str_OK = []\n",
    "ref_OK = []\n",
    "pulseID_filter = []\n",
    "pulseID_first = []\n",
    "run_number = []\n",
    "\n",
    "nshots = None\n",
    "\n",
    "for fileName in datalist:\n",
    "    testdata = load_data.check_files_and_data(fileName)\n",
    "    \n",
    "    if (testdata):# and (i!=12):\n",
    "        with h5py.File(fileName, 'r') as BS_file:\n",
    "#            clear_output(wait=True)\n",
    "            print (\"Processing file {}\". format(fileName))\n",
    "            run_number.append(int(fileName.split('_')[-1].split('.')[0]))\n",
    "\n",
    "            pulse_id_PALM, delays_PALM_eV, _, (input_data, lags, cross_corr, _) = \\\n",
    "                                                palm.process_hdf5_file(fileName, debug=True)\n",
    "            \n",
    "            pulseID_first.append(pulse_id_PALM[0]) \n",
    "                        \n",
    "            #(reprate_light, reprate_dark), mod_out = load_data.load_reprates_laser_pump(fileName)\n",
    "            (reprate_light, reprate_dark), mod_out = load_data.load_reprates_FEL_pump(fileName)\n",
    "            \n",
    "            pulse_id_PALM = pulse_id_PALM[:len(reprate_light)]\n",
    "            delays_PALM_eV = delays_PALM_eV[:len(reprate_light)]\n",
    "            cross_corr = cross_corr[:len(reprate_light)]\n",
    "            input_data_0 = input_data['0'][:][:len(reprate_light)]\n",
    "            input_data_1 = input_data['1'][:][:len(reprate_light)]\n",
    "            \n",
    "            delays_PALM_fs = delays_PALM_eV * ev2fsCalib\n",
    "            \n",
    "            fullArraySize = int(len(delays_PALM_fs)/mod_out)\n",
    "            \n",
    "            beamOK = (np.amax(input_data_0,axis=1) > 0.1)# & (delays !=0.0)\n",
    "\n",
    "            delays_beamOK_light = delays_PALM_fs[beamOK & reprate_light]\n",
    "            cross_corr_OK = cross_corr[beamOK & reprate_light]\n",
    "            pulseID_OK = pulse_id_PALM[beamOK & reprate_light]\n",
    "            refData_OK = input_data_0[beamOK & reprate_light]\n",
    "            StrData_OK = input_data_1[beamOK & reprate_light]\n",
    "        \n",
    "            shots2pad = fullArraySize - len(delays_beamOK_light)\n",
    "            print ('Modulo is {}, light shots are {}, need to pad {} shots'.format(mod_out, len(delays_beamOK_light), shots2pad))\n",
    "            \n",
    "            delays_beamOK_light = np.pad(delays_beamOK_light, (0, shots2pad), constant_values=np.NaN)\n",
    "            \n",
    "            Delays_PALM_all.append(delays_beamOK_light)\n",
    "            cross_corr_all.append(cross_corr_OK)\n",
    "            pulseID_filter.append(pulseID_OK)\n",
    "            ref_OK.append(refData_OK)\n",
    "            str_OK.append(StrData_OK)\n",
    "        \n",
    "        Delays_mean.append(np.nanmean(delays_beamOK_light))\n",
    "            \n",
    "        print (\"Run {}, Pulse ID = {} ----- mean delay = {} fs\".format(fileName.split('_')[-1].split('.')[0], \\\n",
    "                pulse_id_PALM[0], np.round(np.nanmean(delays_beamOK_light),3)))#, fileName,\"pulseID =\",pulse_id[0],)\n",
    "        \n",
    "Delays_PALM_all = np.asarray(Delays_PALM_all)\n",
    "Delays_mean = np.asarray(Delays_mean)\n",
    "cross_corr_all = np.asarray(cross_corr_all)\n",
    "ref_OK = np.array(ref_OK)\n",
    "str_OK = np.array(str_OK)\n",
    "pulseID_filter = np.array(pulseID_filter)\n",
    "#pulseID_first = np.array(pulseID_first)\n",
    "print (\"Job done!\")\n",
    "print (\"Calibration factor used is {} eV/fs\".format(ev2fsCalib))"
   ]
  },
  {
   "cell_type": "code",
   "execution_count": null,
   "metadata": {},
   "outputs": [],
   "source": [
    "Delays_PALM_all.shape"
   ]
  },
  {
   "cell_type": "code",
   "execution_count": null,
   "metadata": {},
   "outputs": [],
   "source": [
    "fig, ax1 = plt.subplots(figsize=(8,6))\n",
    "plt.title(DIR)\n",
    "\n",
    "plt.grid()\n",
    "plt.xlabel('Run number')\n",
    "ax1.plot(run_number, Delays_mean, label = 'Arrival time', marker ='.', color = 'r')\n",
    "ax1.set_ylabel('mean arrival time (fs)', color='r')\n",
    "\n",
    "ax2 = ax1.twinx()\n",
    "for i in range(len(Delays_PALM_all)):\n",
    "    xe = run_number[i]\n",
    "    ye = len(Delays_PALM_all[i])\n",
    "    ax2.plot(xe, ye, label = 'mean arrival time',marker = '.', color ='b')\n",
    "ax2.set_ylabel('Number of shots per run', color='b')\n",
    "\n",
    "plt.show()"
   ]
  },
  {
   "cell_type": "code",
   "execution_count": null,
   "metadata": {},
   "outputs": [],
   "source": [
    "plt.figure(figsize=(10,5))\n",
    "plt.suptitle(DIR)\n",
    "\n",
    "plt.subplot(121)\n",
    "plt.hist((Delays_PALM_all[0,:]-np.nanmean(Delays_PALM_all)), bins =np.arange(-100,100,5), facecolor='blue', \\\n",
    "         label=\"sigma = {} fs\".format(np.round(np.nanstd(Delays_PALM_all[0,:]-np.nanmean(Delays_PALM_all)), 3), alpha=0.5))\n",
    "plt.title('single run')\n",
    "plt.legend(loc=\"best\")\n",
    "plt.xlabel ('delay (fs)')\n",
    "plt.show()\n",
    "\n",
    "plt.subplot(122)\n",
    "plt.hist((Delays_PALM_all.ravel()-np.nanmean(Delays_PALM_all)), bins =np.arange(-100,100,5), facecolor='blue', \\\n",
    "         label=\"sigma = {} fs\".format(np.round(np.nanstd(Delays_PALM_all.ravel()-np.nanmean(Delays_PALM_all)), 3), alpha=0.5))\n",
    "plt.title('all runs')\n",
    "plt.legend(loc=\"best\")\n",
    "plt.xlabel ('delay (fs)')\n",
    "plt.show()"
   ]
  },
  {
   "cell_type": "code",
   "execution_count": null,
   "metadata": {
    "collapsed": true
   },
   "outputs": [],
   "source": []
  },
  {
   "cell_type": "code",
   "execution_count": null,
   "metadata": {
    "collapsed": true
   },
   "outputs": [],
   "source": []
  },
  {
   "cell_type": "code",
   "execution_count": null,
   "metadata": {
    "collapsed": true
   },
   "outputs": [],
   "source": []
  },
  {
   "cell_type": "code",
   "execution_count": null,
   "metadata": {
    "collapsed": true
   },
   "outputs": [],
   "source": []
  },
  {
   "cell_type": "code",
   "execution_count": null,
   "metadata": {
    "collapsed": true
   },
   "outputs": [],
   "source": [
    "saveDir = \"/das/work/p17/p17569/alvra_beamline_scripts/ProcessedData/\"    # dest folder (needs to exist)\n",
    "fn = str(saveDir + \"Runs_451_513.h5\")\n",
    "\n",
    "hf = h5py.File(fn, 'w')\n",
    "hf.create_dataset('Total_light_1D', data=Total_light_1D)\n",
    "hf.create_dataset('Total_pulseIDS', data=Total_pulseIDS)\n",
    "hf.create_dataset('Total_strData', data=Total_strData)\n",
    "hf.create_dataset('Total_refData', data=Total_refData)\n",
    "hf.create_dataset('Total_corrData', data=Total_corrData)\n",
    "hf.close()"
   ]
  },
  {
   "cell_type": "code",
   "execution_count": null,
   "metadata": {
    "collapsed": true
   },
   "outputs": [],
   "source": [
    "itemindex = np.where(Total_light_1D==66.05130091)"
   ]
  },
  {
   "cell_type": "code",
   "execution_count": null,
   "metadata": {
    "collapsed": true
   },
   "outputs": [],
   "source": [
    "import pandas as pd\n",
    "#input_data_max = np.amax(input_data['0'],axis=1)\n",
    "df = pd.DataFrame(Total_light_1D)\n",
    "Avg = df.rolling(300).mean()"
   ]
  },
  {
   "cell_type": "code",
   "execution_count": null,
   "metadata": {
    "collapsed": true,
    "scrolled": false
   },
   "outputs": [],
   "source": [
    "plt.figure(figsize= (10,5))\n",
    "#plt.plot(Total_light_1D[0::1000])\n",
    "plt.plot(Total_pulseIDS, Total_light_1D[:],'.')\n",
    "#plt.plot(Total_light_1D[:],'.')\n",
    "\n",
    "plt.plot(Total_pulseIDS, Avg,'.', ms=1 )\n",
    "\n",
    "\n",
    "for xc in pulseID_first:\n",
    "    if run_number[pulseID_first.index(xc)]%5 ==0:\n",
    "        plt.axvline(x=xc, color = 'r')\n",
    "        #plt.text(xc,200, pulseID_first.index(xc)+start_index,color = 'r')\n",
    "        plt.text(xc,350, run_number[pulseID_first.index(xc)],color = 'r')\n",
    "\n",
    "plt.ylabel(\"Arrival time (fs)\")\n",
    "#plt.xlabel(\"shot number\")\n",
    "plt.xlabel(\"Pulse ID\")\n",
    "\n",
    "plt.ticklabel_format(useOffset=False, style='plain')\n",
    "plt.ylim((-480,400))\n",
    "plt.grid()\n"
   ]
  }
 ],
 "metadata": {
  "kernelspec": {
   "display_name": "Python [conda env:alvra-analysis]",
   "language": "python",
   "name": "conda-env-alvra-analysis-py"
  },
  "language_info": {
   "codemirror_mode": {
    "name": "ipython",
    "version": 3
   },
   "file_extension": ".py",
   "mimetype": "text/x-python",
   "name": "python",
   "nbconvert_exporter": "python",
   "pygments_lexer": "ipython3",
   "version": "3.6.7"
  }
 },
 "nbformat": 4,
 "nbformat_minor": 2
}

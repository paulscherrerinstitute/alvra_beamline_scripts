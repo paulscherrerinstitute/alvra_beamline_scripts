{
 "cells": [
  {
   "cell_type": "code",
   "execution_count": null,
   "metadata": {
    "collapsed": true
   },
   "outputs": [],
   "source": [
    "%matplotlib nbagg\n",
    "import numpy as np\n",
    "import json\n",
    "import os, math\n",
    "import pandas as pd\n",
    "from matplotlib import pyplot as plt\n",
    "from scipy.optimize import curve_fit\n",
    "from IPython.display import clear_output, display\n",
    "\n",
    "from alvra_tools.load_data import *\n",
    "from alvra_tools.load_meta import *\n",
    "from alvra_tools.channels import *\n",
    "#from alvra_tools.channels_raw import *\n",
    "from alvra_tools.utils import errfunc_sigma, errfunc_fwhm, threshold\n",
    "import glob"
   ]
  },
  {
   "cell_type": "code",
   "execution_count": null,
   "metadata": {},
   "outputs": [],
   "source": [
    "scan_name =\"RuBpyJet_scan_5\"\n",
    "\n",
    "DIR_json = \"/sf/alvra/data/p18442/res/scan_info/\"\n",
    "DIR = \"/sf/alvra/data/p18442/raw/scan_data/\" + scan_name + \"/\"             #use this for a scan\n",
    "\n",
    "#######################################################################\n",
    "\n",
    "files_scan = glob.glob(DIR_json + scan_name + '.*')\n",
    "scan_range = '.'+files_scan[-1].split('.')[-2]\n",
    "print ('scan_range = {}'.format(scan_range))"
   ]
  },
  {
   "cell_type": "code",
   "execution_count": null,
   "metadata": {},
   "outputs": [],
   "source": [
    "quantile_band = 0.8\n",
    "\n",
    "###############################################################3\n",
    "\n",
    "json_file = DIR_json + scan_name + scan_range + \".json\"\n",
    "print (json_file)\n",
    "\n",
    "with open(json_file) as file:\n",
    "    data = json.load(file)\n",
    "numFiles = len(data['scan_files'])\n",
    "#numFiles = 1\n",
    "\n",
    "print (\"Processing\",numFiles,\"files\")\n",
    "\n",
    "Signal_t = []\n",
    "Signal_f = []\n",
    "Izero = []\n",
    "Position_mm = []\n",
    "\n",
    "for i in range(0,numFiles):\n",
    "    filename = str(data['scan_files'][i][0])\n",
    "    print (filename)\n",
    "    exists = os.path.isfile(filename)\n",
    "    if exists: # and i !=21:\n",
    "        clear_output(wait=True)\n",
    "        print(\"step\", i+1, \"of\",numFiles, f\": Processing {filename}\")\n",
    "        (data_trans_shot, data_fluo_shot, Izero_shot, laser_shot, position_shot, pulseIDs) = \\\n",
    "         load_FEL_scans(filename, channel_position_X)\n",
    "        \n",
    "        data_t_shot_norm = data_trans_shot / Izero_shot\n",
    "        data_f_shot_norm = data_fluo_shot / Izero_shot\n",
    "        \n",
    "        df_data_t = pd.DataFrame(data_t_shot_norm)\n",
    "        Signal_t.append(np.quantile(df_data_t, [0.5, 0.5 - quantile_band/2, 0.5 + quantile_band/2]))\n",
    "        \n",
    "        df_data_f = pd.DataFrame(data_f_shot_norm)\n",
    "        Signal_f.append(np.quantile(df_data_f, [0.5, 0.5 - quantile_band/2, 0.5 + quantile_band/2]))\n",
    "    \n",
    "        position_shot = [x for x in position_shot if (np.abs(x) > 0)]\n",
    "        Position_mm.append(np.mean(position_shot))\n",
    "    \n",
    "Signal_t = np.asarray(Signal_t)\n",
    "Signal_f = np.asarray(Signal_f)\n",
    "\n",
    "Position_mm_readback = load_scan_readback(json_file)\n",
    "Position_mm = np.asarray(Position_mm)\n",
    "\n",
    "print (\"Job done!\")\n",
    "print ('Quantiles for error bars: {},{}'.format(0.5 - quantile_band/2, 0.5 + quantile_band/2))"
   ]
  },
  {
   "cell_type": "code",
   "execution_count": null,
   "metadata": {},
   "outputs": [],
   "source": [
    "Int_f = Signal_f[:,0]\n",
    "err_f_low = Signal_f[:,1]\n",
    "err_f_high = Signal_f[:,2]\n",
    "Int_t = Signal_t[:,0]\n",
    "err_t_low = Signal_t[:,1]\n",
    "err_t_high = Signal_t[:,2]\n",
    "\n",
    "plt.figure(figsize = (6,10))\n",
    "plt.subplots_adjust(hspace=0.25)\n",
    "\n",
    "plt.subplot(211)\n",
    "plt.plot(Position_mm, Int_f, label='Fluorescence, {}%'.format(quantile_band*100),marker='.')\n",
    "plt.fill_between(Position_mm, err_f_low, err_f_high, color='lightblue')\n",
    "plt.title(scan_name + scan_range)\n",
    "plt.grid()\n",
    "plt.xlabel(\"Position (mm)\")\n",
    "plt.legend(loc=\"best\")\n",
    "\n",
    "plt.subplot(212)\n",
    "plt.plot(Position_mm, Int_t, label='Transmission, {}%'.format(quantile_band*100),marker='.')\n",
    "plt.fill_between(Position_mm, err_t_low, err_t_high, color='lightblue')\n",
    "plt.title(scan_name + scan_range)\n",
    "plt.grid()\n",
    "plt.xlabel(\"Position (mm)\")\n",
    "plt.legend(loc=\"best\")\n",
    "\n",
    "\n",
    "plt.show()"
   ]
  },
  {
   "cell_type": "code",
   "execution_count": null,
   "metadata": {
    "collapsed": true
   },
   "outputs": [],
   "source": []
  }
 ],
 "metadata": {
  "kernelspec": {
   "display_name": "Python [conda env:alvra-analysis-p18387]",
   "language": "python",
   "name": "conda-env-alvra-analysis-p18387-py"
  },
  "language_info": {
   "codemirror_mode": {
    "name": "ipython",
    "version": 3
   },
   "file_extension": ".py",
   "mimetype": "text/x-python",
   "name": "python",
   "nbconvert_exporter": "python",
   "pygments_lexer": "ipython3",
   "version": "3.6.7"
  }
 },
 "nbformat": 4,
 "nbformat_minor": 2
}

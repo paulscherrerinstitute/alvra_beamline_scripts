{
 "cells": [
  {
   "cell_type": "code",
   "execution_count": 1,
   "metadata": {},
   "outputs": [],
   "source": [
    "%matplotlib widget\n",
    "%load_ext line_profiler\n",
    "import jungfrau_utils as ju\n",
    "import numpy as np\n",
    "import json, h5py\n",
    "import os, glob\n",
    "import time\n",
    "import csv\n",
    "import pandas as pd\n",
    "from matplotlib import pyplot as plt\n",
    "from matplotlib import cm\n",
    "from scipy.optimize import curve_fit\n",
    "from IPython.display import clear_output, display\n",
    "import matplotlib.colors as colors\n",
    "import matplotlib.ticker as ticker\n",
    "from ipyfilechooser import FileChooser\n",
    "from scipy.stats.stats import pearsonr\n",
    "\n",
    "from collections import namedtuple\n",
    "\n",
    "from sfdata import SFDataFile, SFDataFiles\n",
    "from scipy.optimize import curve_fit\n",
    "\n",
    "from alvra_tools.load_data import *\n",
    "from alvra_tools.channels import *\n",
    "from alvra_tools.utils import *\n",
    "from alvra_tools.XAS_functions import *\n",
    "\n",
    "import warnings\n",
    "warnings.filterwarnings('ignore')"
   ]
  },
  {
   "cell_type": "markdown",
   "metadata": {},
   "source": [
    "## Test static data (BSREAD, BSDATA, CAMERA and JF)"
   ]
  },
  {
   "cell_type": "code",
   "execution_count": 2,
   "metadata": {},
   "outputs": [
    {
     "name": "stdout",
     "output_type": "stream",
     "text": [
      "\n",
      "--------------------------------------------------------------------------------\n",
      "\n",
      "\u001b[32mSAR-CVME-TIFALL4:EvtSet  2001 / 2001 -> 0% loss ▇▇▇▇▇▇▇▇▇▇\u001b[39m\n",
      "\u001b[32mSARES11-GES1:CH1_VAL_GET 2001 / 2001 -> 0% loss ▇▇▇▇▇▇▇▇▇▇\u001b[39m\n",
      "\n",
      "\u001b[32mover the whole data set: 2001 / 2001 -> 0% loss\u001b[39m\n",
      "\u001b[32mcomplete channels: 2 / 2 -> 0% incomplete\u001b[39m\n",
      "\n",
      "--------------------------------------------------------------------------------\n",
      "\n",
      "FEL rep rate is 100.0 Hz\n",
      "(2001,)\n"
     ]
    }
   ],
   "source": [
    "ff = \"/sf/alvra/data/p19636/raw/run0046/data/acq0071.*.h5\"\n",
    "\n",
    "fnames = SFDataFiles(ff)\n",
    "\n",
    "channels = [channel_diode_1]\n",
    "\n",
    "results,_ = load_data_compact(channels, fnames)\n",
    "\n",
    "print (results[channel_diode_1].shape)\n",
    "    "
   ]
  },
  {
   "cell_type": "code",
   "execution_count": 7,
   "metadata": {},
   "outputs": [
    {
     "data": {
      "application/vnd.jupyter.widget-view+json": {
       "model_id": "a2410ae5d8b94d37a72ae325ed1587cd",
       "version_major": 2,
       "version_minor": 0
      },
      "image/png": "[encoded data removed]",
      "text/html": [
       "\n",
       "            <div style=\"display: inline-block;\">\n",
       "                <div class=\"jupyter-widgets widget-label\" style=\"text-align: center;\">\n",
       "                    Figure\n",
       "                </div>\n",
       "                <img src='data:image/png;base64,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' width=640.0/>\n",
       "            </div>\n",
       "        "
      ],
      "text/plain": [
       "Canvas(toolbar=Toolbar(toolitems=[('Home', 'Reset original view', 'home', 'home'), ('Back', 'Back to previous …"
      ]
     },
     "metadata": {},
     "output_type": "display_data"
    },
    {
     "name": "stdout",
     "output_type": "stream",
     "text": [
      "Avg fluo is 14.358692797660854\n"
     ]
    }
   ],
   "source": [
    "fluo = results[channel_diode_1]\n",
    "plt.figure()\n",
    "plt.title(ff.split('/')[-3])\n",
    "plt.hist(fluo, bins = 100)\n",
    "plt.show()\n",
    "print ('Avg fluo is {}'.format(np.mean(fluo)))"
   ]
  },
  {
   "cell_type": "code",
   "execution_count": null,
   "metadata": {},
   "outputs": [],
   "source": []
  },
  {
   "cell_type": "code",
   "execution_count": null,
   "metadata": {
    "collapsed": true,
    "jupyter": {
     "outputs_hidden": true
    }
   },
   "outputs": [],
   "source": []
  },
  {
   "cell_type": "markdown",
   "metadata": {},
   "source": [
    "## Test FEL pump / laser probe (YAG scans)"
   ]
  },
  {
   "cell_type": "code",
   "execution_count": 22,
   "metadata": {},
   "outputs": [
    {
     "name": "stdout",
     "output_type": "stream",
     "text": [
      "Probe rep rate (laser) is 100.0 Hz\n",
      "Pump rep rate (FEL) is 50.0 Hz\n",
      "\n",
      "--------------------------------------------------------------------------------\n",
      "\n",
      "\u001b[32mSAR-CVME-TIFALL5:EvtSet       10001 / 10001 ->  0% loss ▇▇▇▇▇▇▇▇▇▇\u001b[39m\n",
      "\u001b[31mSAROP11-PALMK118:CH1_BUFFER    5000 / 10001 -> 50% loss ▇▇▇▇▇\u001b[39m\n",
      "\u001b[31mSAROP11-PALMK118:CH2_BUFFER    5000 / 10001 -> 50% loss ▇▇▇▇▇\u001b[39m\n",
      "\u001b[31mSAROP11-PBPS122:INTENSITY      5000 / 10001 -> 50% loss ▇▇▇▇▇\u001b[39m\n",
      "\u001b[32mSLAAR11-LMOT-M453:ENC_1_BS    10001 / 10001 ->  0% loss ▇▇▇▇▇▇▇▇▇▇\u001b[39m\n",
      "\u001b[39mSLAAR11-LSCP1-FNS:CH0:VAL_GET 10000 / 10001 ->  0% loss ▇▇▇▇▇▇▇▇▇▇\u001b[39m\n",
      "\u001b[39mSLAAR11-LSCP1-FNS:CH2:VAL_GET 10000 / 10001 ->  0% loss ▇▇▇▇▇▇▇▇▇▇\u001b[39m\n",
      "\n",
      "\u001b[31mover the whole data set: 5000 / 10001 -> 50% loss\u001b[39m\n",
      "\n",
      "--------------------------------------------------------------------------------\n",
      "\n",
      "(4999,) (4999,) (4999,) (4999, 2000) (4999,)\n"
     ]
    }
   ],
   "source": [
    "bsread_file = \"/sf/alvra/data/p17589/raw/2020-07-02_YAG_timing_9/run_000451.BSREAD.h5\"\n",
    "\n",
    "channel_list_pp = [channel_Events, channel_LaserDiode, channel_Laser_refDiode]\n",
    "channel_list_all = channel_list_pp + [channel_Izero122, channel_delay_harm]\n",
    "\n",
    "results_pp, results_FEL, FEL_reprate, ratio = load_data_compact_FEL_pump(channel_list_pp, channel_list_all, bsread_file)\n",
    "\n",
    "print (results_pp[channel_LaserDiode].pump.shape,\n",
    "       results_pp[channel_LaserDiode].unpump.shape,\n",
    "       results_FEL[channel_Izero122].shape,\n",
    "       results_FEL[channel_delay_harm].shape)"
   ]
  },
  {
   "cell_type": "markdown",
   "metadata": {},
   "source": [
    "## Test laser pump / FEL probe (different pumping schemes)"
   ]
  },
  {
   "cell_type": "code",
   "execution_count": 18,
   "metadata": {},
   "outputs": [
    {
     "name": "stdout",
     "output_type": "stream",
     "text": [
      "\n",
      "--------------------------------------------------------------------------------\n",
      "\n",
      "\u001b[32mSAR-CVME-TIFALL5:EvtSet    1000 / 1000 -> 0% loss ▇▇▇▇▇▇▇▇▇▇\u001b[39m\n",
      "\u001b[32mSARES11-GES1:CH1_VAL_GET   1000 / 1000 -> 0% loss ▇▇▇▇▇▇▇▇▇▇\u001b[39m\n",
      "\u001b[31mSAROP11-PBPS117:INTENSITY   978 / 1000 -> 2% loss ▇▇▇▇▇▇▇▇▇\u001b[39m\n",
      "\u001b[32mSLAAR11-LMOT-M453:ENC_1_BS 1000 / 1000 -> 0% loss ▇▇▇▇▇▇▇▇▇▇\u001b[39m\n",
      "\n",
      "\u001b[31mover the whole data set: 978 / 1000 -> 2% loss\u001b[39m\n",
      "\u001b[31mcomplete channels: 3 / 4 -> 25% incomplete\u001b[39m\n",
      "\n",
      "--------------------------------------------------------------------------------\n",
      "\n",
      "Probe rep rate (FEL) is 100.0 Hz\n",
      "Pump scheme is 6:1\n",
      "Loaded 839 pump and 139 unpump shots\n",
      "(839,) (139,) (839,) (139,)\n"
     ]
    }
   ],
   "source": [
    "#bsread_file = \"/sf/alvra/data/p17589/raw/laserPump4t1/run_001197.BSREAD.h5\"\n",
    "#bsread_file = \"/sf/alvra/data/p17589/raw/laserPump11t1/run_001195.BSREAD.h5\"run_034923\n",
    "ff = \"/sf/alvra/data/p19198/raw/s4_Au_50nm_2/run_000896.BSDATA.h5\"\n",
    "#bsread_file = \"/sf/alvra/data/p17589/raw/laserPump1t1/run_001202.BSREAD.h5\"\n",
    "\n",
    "fnames = SFDataFiles(ff)\n",
    "\n",
    "channel_list_pp = [channel_Events, channel_Izero117, channel_APD_Ch1]\n",
    "channel_list_all = channel_list_pp + [channel_delay_harm]\n",
    "\n",
    "\n",
    "results_pp, results_FEL, _, _ = load_data_compact_laser_pump(channel_list_pp, channel_list_all, fnames)\n",
    "\n",
    "print (#results_pp['SAROP11-CVME-PBPS2:Lnk9Ch13-DATA-SUM/data'].pump.shape,\n",
    "       #results_pp['SAROP11-CVME-PBPS2:Lnk9Ch13-DATA-SUM/data'].unpump.shape,\n",
    "       results_pp[channel_Izero117].pump.shape,\n",
    "       results_pp[channel_Izero117].unpump.shape,\n",
    "       results_pp[channel_APD_Ch1].pump.shape,\n",
    "       results_pp[channel_APD_Ch1].unpump.shape)"
   ]
  },
  {
   "cell_type": "code",
   "execution_count": null,
   "metadata": {},
   "outputs": [],
   "source": []
  },
  {
   "cell_type": "code",
   "execution_count": null,
   "metadata": {},
   "outputs": [],
   "source": []
  },
  {
   "cell_type": "markdown",
   "metadata": {},
   "source": [
    "## Test data"
   ]
  },
  {
   "cell_type": "code",
   "execution_count": null,
   "metadata": {},
   "outputs": [],
   "source": []
  },
  {
   "cell_type": "code",
   "execution_count": null,
   "metadata": {},
   "outputs": [],
   "source": []
  },
  {
   "cell_type": "code",
   "execution_count": null,
   "metadata": {},
   "outputs": [],
   "source": []
  },
  {
   "cell_type": "code",
   "execution_count": null,
   "metadata": {},
   "outputs": [],
   "source": []
  },
  {
   "cell_type": "code",
   "execution_count": null,
   "metadata": {},
   "outputs": [],
   "source": []
  },
  {
   "cell_type": "code",
   "execution_count": null,
   "metadata": {},
   "outputs": [],
   "source": []
  },
  {
   "cell_type": "code",
   "execution_count": null,
   "metadata": {},
   "outputs": [],
   "source": []
  },
  {
   "cell_type": "markdown",
   "metadata": {},
   "source": [
    "## Function for FEL pump / laser probe (as in alvra_tools/load_data.py)"
   ]
  },
  {
   "cell_type": "code",
   "execution_count": 37,
   "metadata": {},
   "outputs": [
    {
     "name": "stdout",
     "output_type": "stream",
     "text": [
      "\n",
      "--------------------------------------------------------------------------------\n",
      "\n",
      "\u001b[32mSAR-CVME-TIFALL5:EvtSet       3001 / 3001 ->  0% loss ▇▇▇▇▇▇▇▇▇▇\u001b[39m\n",
      "\u001b[39mSAROP11-PALMK118:CH2_BUFFER   1501 / 3001 -> 50% loss ▇▇▇▇▇\u001b[39m\n",
      "\u001b[39mSAROP11-PBPS122:INTENSITY     1500 / 3001 -> 50% loss ▇▇▇▇▇\u001b[39m\n",
      "\u001b[39mSLAAR11-LMOT-M453:ENC_1_BS    2999 / 3001 ->  0% loss ▇▇▇▇▇▇▇▇▇▇\u001b[39m\n",
      "\u001b[32mSLAAR11-LSCP1-FNS:CH0:VAL_GET 3001 / 3001 ->  0% loss ▇▇▇▇▇▇▇▇▇▇\u001b[39m\n",
      "\u001b[32mSLAAR11-LSCP1-FNS:CH2:VAL_GET 3001 / 3001 ->  0% loss ▇▇▇▇▇▇▇▇▇▇\u001b[39m\n",
      "\n",
      "\u001b[31mover the whole data set: 1498 / 3001 -> 50% loss\u001b[39m\n",
      "\n",
      "--------------------------------------------------------------------------------\n",
      "\n",
      "(1497,) (1497,) (1497, 2000) (1497,) (1497,)\n"
     ]
    }
   ],
   "source": [
    "#bsread_file = \"/sf/alvra/data/p17589/raw/scan_data/scan0010_2020-07-03-SiN4_5/scan0010_2020-07-03-SiN4_5_step0047/run_001149.BSREAD.h5\"\n",
    "#bsread_file = \"/sf/alvra/data/p17589/raw/scan_data/scan0010_2020-07-03-SiN4_5/scan0010_2020-07-03-SiN4_5_step0000/run_001102.BSREAD.h5\"\n",
    "bsread_file = \"/sf/alvra/data/p17589/raw/scan_data/scan0010_2020-07-03-SiN4_5/scan0010_2020-07-03-SiN4_5_step0019/run_001121.BSREAD.h5\"\n",
    "\n",
    "channels_always = [channel_Events, channel_LaserDiode, channel_Laser_refDiode]\n",
    "channels_pump   = channels_always + [channel_Izero122, channel_delay_harm, channel_PALM_streak]\n",
    "channels_unpump = channels_always\n",
    "\n",
    "with SFDataFiles(bsread_file) as data:\n",
    "    subset_unpump = data[channels_unpump]\n",
    "    #subset_unpump.print_stats(show_complete=True)\n",
    "    subset_unpump.drop_missing()\n",
    "\n",
    "    event_code = subset_unpump[channel_Events].data\n",
    "\n",
    "    ec_FEL      = event_code[:, 12] # Event 12: BAM bunch 1\n",
    "    ec_Laser    = event_code[:, 18]\n",
    "    ec_Darkshot = event_code[:, 21]\n",
    "\n",
    "    index_dark_before = np.append([True], np.logical_not(ec_Darkshot))[:-1]\n",
    "    index_light = np.logical_and.reduce((ec_FEL, ec_Laser, np.logical_not(ec_Darkshot), index_dark_before))\n",
    "    index_dark  = np.logical_and.reduce((np.logical_not(ec_FEL), ec_Laser, np.logical_not(ec_Darkshot), index_dark_before))\n",
    "\n",
    "    result_unpump = {}\n",
    "    for ch in channels_unpump:\n",
    "        try:\n",
    "            result_unpump[ch] = subset_unpump[ch].data[index_dark] # these are still all shots, thus we ignore the pump shots here!\n",
    "        except Exception as e:\n",
    "            print(\"channel missing:\", ch, e)\n",
    "\n",
    "    actual_pids_unpump = subset_unpump[channel_Events].pids[index_dark]\n",
    "\n",
    "with SFDataFiles(bsread_file) as data:\n",
    "        \n",
    "    subset_pump = data[channels_pump]\n",
    "    subset_pump.print_stats(show_complete=True)\n",
    "    subset_pump.drop_missing()\n",
    "        \n",
    "    result_pump = {}\n",
    "    for ch in channels_pump:\n",
    "        try:\n",
    "            result_pump[ch] = subset_pump[ch].data\n",
    "        except Exception as e:\n",
    "            print (\"Channel missing:\", ch, e)\n",
    "        \n",
    "    actual_pids_pump = subset_pump[channel_Events].pids\n",
    "\n",
    "#wanted_pids_pump  = actual_pids_unpump + 1\n",
    "#final_pids, ind_pump, ind_unpump = np.intersect1d(actual_pids_pump, wanted_pids_pump, return_indices=True)\n",
    "#_, _, ind_unpump = np.intersect1d(final_pids, actual_pids_unpump, return_indices=True)\n",
    "\n",
    "wanted_pids_pump  = actual_pids_unpump + 1\n",
    "final_pids_pump, ind_pump, _ind_unpump = np.intersect1d(actual_pids_pump, wanted_pids_pump, return_indices=True)\n",
    "final_pids_unpump = final_pids_pump - 1\n",
    "_, _, ind_unpump = np.intersect1d(final_pids_unpump, actual_pids_unpump, return_indices=True)\n",
    "\n",
    "for ch in channels_pump:\n",
    "    result_pump[ch] = result_pump[ch][ind_pump]\n",
    "\n",
    "for ch in channels_unpump:\n",
    "    result_unpump[ch] = result_unpump[ch][ind_unpump]\n",
    "\n",
    "\n",
    "ppdata = namedtuple(\"PPData\", [\"pump\", \"unpump\"])\n",
    "\n",
    "result_pp = {}\n",
    "shared_channels = set(channels_pump).intersection(channels_unpump)\n",
    "for ch in shared_channels:\n",
    "     result_pp[ch] = ppdata(pump=result_pump[ch], unpump= result_unpump[ch])\n",
    "\n",
    "print (result_pp[channel_LaserDiode].pump.shape,\n",
    "       result_pp[channel_LaserDiode].unpump.shape,\n",
    "       result_pump[channel_PALM_streak].shape,\n",
    "       result_pump[channel_Izero122].shape,\n",
    "       result_pump[channel_delay_harm].shape)\n"
   ]
  },
  {
   "cell_type": "code",
   "execution_count": null,
   "metadata": {
    "collapsed": true,
    "jupyter": {
     "outputs_hidden": true
    }
   },
   "outputs": [],
   "source": []
  },
  {
   "cell_type": "code",
   "execution_count": null,
   "metadata": {
    "collapsed": true,
    "jupyter": {
     "outputs_hidden": true
    }
   },
   "outputs": [],
   "source": []
  },
  {
   "cell_type": "markdown",
   "metadata": {},
   "source": [
    "## Function for laser pump / FEL probe (as in alvra_tools/load_data.py)"
   ]
  },
  {
   "cell_type": "code",
   "execution_count": 15,
   "metadata": {},
   "outputs": [
    {
     "name": "stdout",
     "output_type": "stream",
     "text": [
      "\n",
      "--------------------------------------------------------------------------------\n",
      "\n",
      "\u001b[32mSAR-CVME-TIFALL5:EvtSet    1000 / 1000 -> 0% loss ▇▇▇▇▇▇▇▇▇▇\u001b[39m\n",
      "\u001b[32mSARES11-GES1:CH1_VAL_GET   1000 / 1000 -> 0% loss ▇▇▇▇▇▇▇▇▇▇\u001b[39m\n",
      "\u001b[31mSAROP11-PBPS117:INTENSITY   978 / 1000 -> 2% loss ▇▇▇▇▇▇▇▇▇\u001b[39m\n",
      "\u001b[32mSLAAR11-LMOT-M453:ENC_1_BS 1000 / 1000 -> 0% loss ▇▇▇▇▇▇▇▇▇▇\u001b[39m\n",
      "\n",
      "\u001b[31mover the whole data set: 978 / 1000 -> 2% loss\u001b[39m\n",
      "\u001b[31mcomplete channels: 3 / 4 -> 25% incomplete\u001b[39m\n",
      "\n",
      "--------------------------------------------------------------------------------\n",
      "\n",
      "Probe rep rate (FEL) is 100.0 Hz\n",
      "Pump scheme is 6:1\n",
      "Pump rep rate (laser) is 16.666666666666668 Hz\n",
      "(839,) (139,) (839,) (139,)\n"
     ]
    }
   ],
   "source": [
    "#bsread_file = \"/sf/alvra/data/p18741/raw/Co_YIG_monoscan_Fe_002/run_001733.BSREAD.h5\"\n",
    "#bsread_file = \"/sf/alvra/data/p17589/raw/test_laserPump11/run_001174.BSREAD.h5\"\n",
    "#bsread_file = \"/sf/alvra/data/p18442/raw/scan_data/RuBpy_RIXS_1/run_001495.BSREAD.h5\"\n",
    "#bsread_file = \"/sf/alvra/data/p18741/raw/Co_YIG_delayscan_Fe_014/run_002756*.h5\"\n",
    "ff = \"/sf/alvra/data/p19198/raw/s4_Au_50nm_2/run_000896.BSDATA.h5\"\n",
    "\n",
    "channel_list_pp = [channel_Events, channel_APD_Ch1, channel_Izero117]#, 'JF04T01V01']\n",
    "channel_list_FEL = channel_list_pp + [channel_delay_harm]\n",
    "\n",
    "with SFDataFiles(ff) as data:\n",
    "    \n",
    "    subset_FEL = data[channel_list_FEL]\n",
    "    subset_FEL.print_stats(show_complete=True)\n",
    "    \n",
    "    Event_code = subset_FEL[channel_Events].data\n",
    "    FEL      = Event_code[:,12] #Event 12: BAM bunch 1\n",
    "    \n",
    "    Deltap_FEL = (1 / FEL.mean()).round().astype(int) #Get the FEL rep rate from the Event code\n",
    "    FEL_reprate = 100 / Deltap_FEL\n",
    "    print ('Probe rep rate (FEL) is {} Hz'.format(FEL_reprate))\n",
    "    \n",
    "    subset_FEL.drop_missing()\n",
    "\n",
    "    Event_code = subset_FEL[channel_Events].data\n",
    "\n",
    "    FEL      = Event_code[:,12] #Event 12: BAM bunch 1\n",
    "    Laser    = Event_code[:,18]\n",
    "    Darkshot = Event_code[:,21]\n",
    "\n",
    "    if Darkshot.mean()==0:\n",
    "        laser_reprate = (1 / Laser.mean() - 1).round().astype(int)\n",
    "        index_light = np.logical_and.reduce((FEL, Laser))\n",
    "        index_dark  = np.logical_and.reduce((FEL, np.logical_not(Laser)))\n",
    "    else:\n",
    "        laser_reprate = (Laser.mean() / Darkshot.mean() - 1).round().astype(int)\n",
    "\n",
    "        index_light = np.logical_and.reduce((FEL, Laser, np.logical_not(Darkshot)))\n",
    "        index_dark = np.logical_and.reduce((FEL, Laser, Darkshot))\n",
    "\n",
    "    #index_probe = np.logical_and.reduce((Laser, np.logical_not(Darkshot)))\n",
    "\n",
    "    #Deltap_FEL = (1 / FEL.mean()).round().astype(int) #Get the FEL rep rate from the Event code\n",
    "    #FEL_reprate = 100 / Deltap_FEL\n",
    "    #print ('Probe rep rate (FEL) is {} Hz'.format(FEL_reprate))\n",
    "\n",
    "    print ('Pump scheme is {}:1'.format(laser_reprate))\n",
    "    \n",
    "    if Darkshot.mean()==0:\n",
    "        laser_reprate = Laser.mean().round().astype(int)\n",
    "    else:\n",
    "        laser_reprate = (Laser.mean() / Darkshot.mean() - 1).round().astype(int)\n",
    "    \n",
    "    print ('Pump rep rate (laser) is {} Hz'.format(100 / laser_reprate))\n",
    "    \n",
    "    result_pp = {}\n",
    "    for ch in channel_list_pp:\n",
    "        ch_pump   = subset_FEL[ch].data[index_light]\n",
    "        pids_pump   = subset_FEL[ch].pids[index_light]\n",
    "\n",
    "        ch_unpump = subset_FEL[ch].data[index_dark]\n",
    "        pids_unpump = subset_FEL[ch].pids[index_dark]\n",
    "\n",
    "        correct_pids_pump   = pids_unpump + Deltap_FEL\n",
    "        final_pids, indPump, indUnPump = np.intersect1d(pids_pump, correct_pids_pump, return_indices=True)\n",
    "\n",
    "        if ((100 / laser_reprate) == FEL_reprate):\n",
    "            ch_pump   = ch_pump[indPump]\n",
    "            ch_unpump = ch_unpump[indUnPump] \n",
    "\n",
    "        ppdata = namedtuple(\"PPData\", [\"pump\", \"unpump\"])\n",
    "        result_pp[ch] = ppdata(pump=ch_pump, unpump=ch_unpump)\n",
    "\n",
    "\n",
    "    result_FEL = {}\n",
    "    for ch in channel_list_FEL:\n",
    "        result_FEL[ch] = subset_FEL[ch].data\n",
    "\n",
    "print (result_pp[channel_Izero117].pump.shape,\n",
    "       result_pp[channel_Izero117].unpump.shape,\n",
    "       result_pp[channel_APD_Ch1].pump.shape,\n",
    "       result_pp[channel_APD_Ch1].unpump.shape,)\n",
    "\n"
   ]
  },
  {
   "cell_type": "code",
   "execution_count": 36,
   "metadata": {},
   "outputs": [
    {
     "data": {
      "text/plain": [
       "2"
      ]
     },
     "execution_count": 36,
     "metadata": {},
     "output_type": "execute_result"
    }
   ],
   "source": [
    "Deltap"
   ]
  },
  {
   "cell_type": "markdown",
   "metadata": {},
   "source": [
    "# cell to test ipyfilechooser library"
   ]
  },
  {
   "cell_type": "code",
   "execution_count": null,
   "metadata": {},
   "outputs": [],
   "source": [
    "fc = FileChooser('/sf/alvra/data/p17589/raw/')\n",
    "fc.use_dir_icons = True\n",
    "display(fc)"
   ]
  }
 ],
 "metadata": {
  "kernelspec": {
   "display_name": "Python [conda env:alvra-analysis-p19636]",
   "language": "python",
   "name": "conda-env-alvra-analysis-p19636-py"
  },
  "language_info": {
   "codemirror_mode": {
    "name": "ipython",
    "version": 3
   },
   "file_extension": ".py",
   "mimetype": "text/x-python",
   "name": "python",
   "nbconvert_exporter": "python",
   "pygments_lexer": "ipython3",
   "version": "3.8.10"
  }
 },
 "nbformat": 4,
 "nbformat_minor": 4
}

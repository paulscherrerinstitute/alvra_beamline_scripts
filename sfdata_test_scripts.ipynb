{
 "cells": [
  {
   "cell_type": "code",
   "execution_count": 5,
   "metadata": {},
   "outputs": [
    {
     "name": "stdout",
     "output_type": "stream",
     "text": [
      "The line_profiler extension is already loaded. To reload it, use:\n",
      "  %reload_ext line_profiler\n"
     ]
    }
   ],
   "source": [
    "%matplotlib nbagg\n",
    "%load_ext line_profiler\n",
    "import numpy as np\n",
    "import json\n",
    "import os\n",
    "from matplotlib import pyplot as plt\n",
    "#from astropy.modeling import models, fitting\n",
    "\n",
    "import jungfrau_utils as ju\n",
    "from alvra_tools import *\n",
    "from alvra_tools.load_data import _get_data\n",
    "from alvra_tools.utils import errfunc_sigma, errfunc_fwhm\n",
    "from alvra_tools.channels import *\n",
    "from IPython.display import clear_output, display\n",
    "import csv\n",
    "import pandas as pd\n",
    "\n",
    "from collections import namedtuple\n",
    "\n",
    "from sfdata import SFDataFile\n",
    "from scipy.optimize import curve_fit\n",
    "\n",
    "import glob\n",
    "from ipyfilechooser import FileChooser"
   ]
  },
  {
   "cell_type": "markdown",
   "metadata": {},
   "source": [
    "# cell to test ipyfilechooser library"
   ]
  },
  {
   "cell_type": "code",
   "execution_count": 3,
   "metadata": {},
   "outputs": [
    {
     "data": {
      "application/vnd.jupyter.widget-view+json": {
       "model_id": "0a477b510a864cfea7ba4811d2bb0c00",
       "version_major": 2,
       "version_minor": 0
      },
      "text/plain": [
       "FileChooser(path='/sf/alvra/data/p17589/raw', filename='', show_hidden='False')"
      ]
     },
     "metadata": {},
     "output_type": "display_data"
    }
   ],
   "source": [
    "fc = FileChooser('/sf/alvra/data/p17589/raw/')\n",
    "fc.use_dir_icons = True\n",
    "display(fc)"
   ]
  },
  {
   "cell_type": "markdown",
   "metadata": {},
   "source": [
    "## Test no pump probe data "
   ]
  },
  {
   "cell_type": "code",
   "execution_count": null,
   "metadata": {
    "collapsed": true
   },
   "outputs": [],
   "source": [
    "bsread_file = \"/sf/alvra/data/p17589/raw/2020-07-02_YAG_timing_9/run_000451.BSREAD.h5\"\n"
   ]
  },
  {
   "cell_type": "code",
   "execution_count": null,
   "metadata": {
    "collapsed": true
   },
   "outputs": [],
   "source": []
  },
  {
   "cell_type": "markdown",
   "metadata": {},
   "source": [
    "## Test FEL pump / laser probe (YAG scans)"
   ]
  },
  {
   "cell_type": "code",
   "execution_count": 22,
   "metadata": {},
   "outputs": [
    {
     "name": "stdout",
     "output_type": "stream",
     "text": [
      "Probe rep rate (laser) is 100.0 Hz\n",
      "Pump rep rate (FEL) is 50.0 Hz\n",
      "\n",
      "--------------------------------------------------------------------------------\n",
      "\n",
      "\u001b[32mSAR-CVME-TIFALL5:EvtSet       10001 / 10001 ->  0% loss ▇▇▇▇▇▇▇▇▇▇\u001b[39m\n",
      "\u001b[31mSAROP11-PALMK118:CH1_BUFFER    5000 / 10001 -> 50% loss ▇▇▇▇▇\u001b[39m\n",
      "\u001b[31mSAROP11-PALMK118:CH2_BUFFER    5000 / 10001 -> 50% loss ▇▇▇▇▇\u001b[39m\n",
      "\u001b[31mSAROP11-PBPS122:INTENSITY      5000 / 10001 -> 50% loss ▇▇▇▇▇\u001b[39m\n",
      "\u001b[32mSLAAR11-LMOT-M453:ENC_1_BS    10001 / 10001 ->  0% loss ▇▇▇▇▇▇▇▇▇▇\u001b[39m\n",
      "\u001b[39mSLAAR11-LSCP1-FNS:CH0:VAL_GET 10000 / 10001 ->  0% loss ▇▇▇▇▇▇▇▇▇▇\u001b[39m\n",
      "\u001b[39mSLAAR11-LSCP1-FNS:CH2:VAL_GET 10000 / 10001 ->  0% loss ▇▇▇▇▇▇▇▇▇▇\u001b[39m\n",
      "\n",
      "\u001b[31mover the whole data set: 5000 / 10001 -> 50% loss\u001b[39m\n",
      "\n",
      "--------------------------------------------------------------------------------\n",
      "\n",
      "(4999,) (4999,) (4999,) (4999, 2000) (4999,)\n"
     ]
    }
   ],
   "source": [
    "bsread_file = \"/sf/alvra/data/p17589/raw/2020-07-02_YAG_timing_9/run_000451.BSREAD.h5\"\n",
    "\n",
    "channel_list_pp = [channel_Events, channel_LaserDiode, channel_Laser_refDiode]\n",
    "channel_list_all = channel_list_pp + [channel_Izero122, channel_delay_harm, channel_PALM_streak, channel_PALM_unstreak]\n",
    "\n",
    "results_pp, results_FEL, FEL_reprate, ratio = load_data_compact_FEL_pump(channel_list_pp, channel_list_all, bsread_file)\n",
    "\n",
    "print (results_pp[channel_LaserDiode].pump.shape,\n",
    "       results_pp[channel_LaserDiode].unpump.shape,\n",
    "       results_FEL[channel_Izero122].shape,\n",
    "       results_FEL[channel_PALM_streak].shape,\n",
    "       results_FEL[channel_delay_harm].shape)"
   ]
  },
  {
   "cell_type": "markdown",
   "metadata": {},
   "source": [
    "## Test laser pump / FEL probe (different pumping schemes)"
   ]
  },
  {
   "cell_type": "code",
   "execution_count": 32,
   "metadata": {
    "scrolled": false
   },
   "outputs": [
    {
     "name": "stdout",
     "output_type": "stream",
     "text": [
      "\n",
      "--------------------------------------------------------------------------------\n",
      "\n",
      "\u001b[32mSAR-CVME-TIFALL5:EvtSet     1000 / 1000 -> 0% loss ▇▇▇▇▇▇▇▇▇▇\u001b[39m\n",
      "\u001b[32mSARES11-GES1:CH2_VAL_GET    1000 / 1000 -> 0% loss ▇▇▇▇▇▇▇▇▇▇\u001b[39m\n",
      "\u001b[32mSAROP11-PALMK118:CH2_BUFFER 1000 / 1000 -> 0% loss ▇▇▇▇▇▇▇▇▇▇\u001b[39m\n",
      "\u001b[32mSAROP11-PBPS122:INTENSITY   1000 / 1000 -> 0% loss ▇▇▇▇▇▇▇▇▇▇\u001b[39m\n",
      "\u001b[31mSLAAR11-LMOT-M453:ENC_1_BS   999 / 1000 -> 0% loss ▇▇▇▇▇▇▇▇▇▇\u001b[39m\n",
      "\n",
      "\u001b[31mover the whole data set: 999 / 1000 -> 0% loss\u001b[39m\n",
      "\n",
      "--------------------------------------------------------------------------------\n",
      "\n",
      "Probe rep rate (FEL) is 100.0 Hz\n",
      "Pump scheme is 19:1\n",
      "Loaded 949 pump and 50 unpump shots\n",
      "(949,) (50,) (949,) (50,) (949, 2000) (999,)\n"
     ]
    }
   ],
   "source": [
    "#bsread_file = \"/sf/alvra/data/p17589/raw/laserPump4t1/run_001197.BSREAD.h5\"\n",
    "#bsread_file = \"/sf/alvra/data/p17589/raw/laserPump11t1/run_001195.BSREAD.h5\"\n",
    "bsread_file = \"/sf/alvra/data/p17589/raw/laserPump19t1/run_001185.BSREAD.h5\"\n",
    "#bsread_file = \"/sf/alvra/data/p17589/raw/laserPump1t1/run_001202.BSREAD.h5\"\n",
    "\n",
    "\n",
    "channel_list_pp = [channel_Events, channel_PIPS_fluo, channel_Izero122, channel_PALM_streak]\n",
    "channel_list_FEL = channel_list_pp + [channel_delay_harm]\n",
    "\n",
    "results_pp, results_FEL = load_data_compact_laser_pump(channel_list_pp, channel_list_FEL, bsread_file)\n",
    "\n",
    "print (results_pp[channel_PIPS_fluo].pump.shape,\n",
    "       results_pp[channel_PIPS_fluo].unpump.shape,\n",
    "       results_pp[channel_Izero122].pump.shape,\n",
    "       results_pp[channel_Izero122].unpump.shape,\n",
    "       results_pp[channel_PALM_streak].pump.shape,\n",
    "       results_FEL[channel_delay_harm].shape)"
   ]
  },
  {
   "cell_type": "code",
   "execution_count": null,
   "metadata": {
    "collapsed": true
   },
   "outputs": [],
   "source": []
  },
  {
   "cell_type": "code",
   "execution_count": null,
   "metadata": {
    "collapsed": true
   },
   "outputs": [],
   "source": []
  },
  {
   "cell_type": "markdown",
   "metadata": {},
   "source": [
    "## Function for FEL pump / laser probe (as in alvra_tools/load_data.py)"
   ]
  },
  {
   "cell_type": "code",
   "execution_count": 37,
   "metadata": {
    "scrolled": false
   },
   "outputs": [
    {
     "name": "stdout",
     "output_type": "stream",
     "text": [
      "\n",
      "--------------------------------------------------------------------------------\n",
      "\n",
      "\u001b[32mSAR-CVME-TIFALL5:EvtSet       3001 / 3001 ->  0% loss ▇▇▇▇▇▇▇▇▇▇\u001b[39m\n",
      "\u001b[39mSAROP11-PALMK118:CH2_BUFFER   1501 / 3001 -> 50% loss ▇▇▇▇▇\u001b[39m\n",
      "\u001b[39mSAROP11-PBPS122:INTENSITY     1500 / 3001 -> 50% loss ▇▇▇▇▇\u001b[39m\n",
      "\u001b[39mSLAAR11-LMOT-M453:ENC_1_BS    2999 / 3001 ->  0% loss ▇▇▇▇▇▇▇▇▇▇\u001b[39m\n",
      "\u001b[32mSLAAR11-LSCP1-FNS:CH0:VAL_GET 3001 / 3001 ->  0% loss ▇▇▇▇▇▇▇▇▇▇\u001b[39m\n",
      "\u001b[32mSLAAR11-LSCP1-FNS:CH2:VAL_GET 3001 / 3001 ->  0% loss ▇▇▇▇▇▇▇▇▇▇\u001b[39m\n",
      "\n",
      "\u001b[31mover the whole data set: 1498 / 3001 -> 50% loss\u001b[39m\n",
      "\n",
      "--------------------------------------------------------------------------------\n",
      "\n",
      "(1497,) (1497,) (1497, 2000) (1497,) (1497,)\n"
     ]
    }
   ],
   "source": [
    "#bsread_file = \"/sf/alvra/data/p17589/raw/scan_data/scan0010_2020-07-03-SiN4_5/scan0010_2020-07-03-SiN4_5_step0047/run_001149.BSREAD.h5\"\n",
    "#bsread_file = \"/sf/alvra/data/p17589/raw/scan_data/scan0010_2020-07-03-SiN4_5/scan0010_2020-07-03-SiN4_5_step0000/run_001102.BSREAD.h5\"\n",
    "bsread_file = \"/sf/alvra/data/p17589/raw/scan_data/scan0010_2020-07-03-SiN4_5/scan0010_2020-07-03-SiN4_5_step0019/run_001121.BSREAD.h5\"\n",
    "\n",
    "channels_always = [channel_Events, channel_LaserDiode, channel_Laser_refDiode]\n",
    "channels_pump   = channels_always + [channel_Izero122, channel_delay_harm, channel_PALM_streak]\n",
    "channels_unpump = channels_always\n",
    "\n",
    "with SFDataFiles(bsread_file) as data:\n",
    "    subset_unpump = data[channels_unpump]\n",
    "    #subset_unpump.print_stats(show_complete=True)\n",
    "    subset_unpump.drop_missing()\n",
    "\n",
    "    event_code = subset_unpump[channel_Events].data\n",
    "\n",
    "    ec_FEL      = event_code[:, 12] # Event 12: BAM bunch 1\n",
    "    ec_Laser    = event_code[:, 18]\n",
    "    ec_Darkshot = event_code[:, 21]\n",
    "\n",
    "    index_dark_before = np.append([True], np.logical_not(ec_Darkshot))[:-1]\n",
    "    index_light = np.logical_and.reduce((ec_FEL, ec_Laser, np.logical_not(ec_Darkshot), index_dark_before))\n",
    "    index_dark  = np.logical_and.reduce((np.logical_not(ec_FEL), ec_Laser, np.logical_not(ec_Darkshot), index_dark_before))\n",
    "\n",
    "    result_unpump = {}\n",
    "    for ch in channels_unpump:\n",
    "        try:\n",
    "            result_unpump[ch] = subset_unpump[ch].data[index_dark] # these are still all shots, thus we ignore the pump shots here!\n",
    "        except Exception as e:\n",
    "            print(\"channel missing:\", ch, e)\n",
    "\n",
    "    actual_pids_unpump = subset_unpump[channel_Events].pids[index_dark]\n",
    "\n",
    "with SFDataFiles(bsread_file) as data:\n",
    "        \n",
    "    subset_pump = data[channels_pump]\n",
    "    subset_pump.print_stats(show_complete=True)\n",
    "    subset_pump.drop_missing()\n",
    "        \n",
    "    result_pump = {}\n",
    "    for ch in channels_pump:\n",
    "        try:\n",
    "            result_pump[ch] = subset_pump[ch].data\n",
    "        except Exception as e:\n",
    "            print (\"Channel missing:\", ch, e)\n",
    "        \n",
    "    actual_pids_pump = subset_pump[channel_Events].pids\n",
    "\n",
    "#wanted_pids_pump  = actual_pids_unpump + 1\n",
    "#final_pids, ind_pump, ind_unpump = np.intersect1d(actual_pids_pump, wanted_pids_pump, return_indices=True)\n",
    "#_, _, ind_unpump = np.intersect1d(final_pids, actual_pids_unpump, return_indices=True)\n",
    "\n",
    "wanted_pids_pump  = actual_pids_unpump + 1\n",
    "final_pids_pump, ind_pump, _ind_unpump = np.intersect1d(actual_pids_pump, wanted_pids_pump, return_indices=True)\n",
    "final_pids_unpump = final_pids_pump - 1\n",
    "_, _, ind_unpump = np.intersect1d(final_pids_unpump, actual_pids_unpump, return_indices=True)\n",
    "\n",
    "for ch in channels_pump:\n",
    "    result_pump[ch] = result_pump[ch][ind_pump]\n",
    "\n",
    "for ch in channels_unpump:\n",
    "    result_unpump[ch] = result_unpump[ch][ind_unpump]\n",
    "\n",
    "\n",
    "ppdata = namedtuple(\"PPData\", [\"pump\", \"unpump\"])\n",
    "\n",
    "result_pp = {}\n",
    "shared_channels = set(channels_pump).intersection(channels_unpump)\n",
    "for ch in shared_channels:\n",
    "     result_pp[ch] = ppdata(pump=result_pump[ch], unpump= result_unpump[ch])\n",
    "\n",
    "print (result_pp[channel_LaserDiode].pump.shape,\n",
    "       result_pp[channel_LaserDiode].unpump.shape,\n",
    "       result_pump[channel_PALM_streak].shape,\n",
    "       result_pump[channel_Izero122].shape,\n",
    "       result_pump[channel_delay_harm].shape)\n"
   ]
  },
  {
   "cell_type": "code",
   "execution_count": null,
   "metadata": {
    "collapsed": true
   },
   "outputs": [],
   "source": []
  },
  {
   "cell_type": "code",
   "execution_count": null,
   "metadata": {
    "collapsed": true
   },
   "outputs": [],
   "source": []
  },
  {
   "cell_type": "markdown",
   "metadata": {},
   "source": [
    "## Function for laser pump / FEL probe (as in alvra_tools/load_data.py)"
   ]
  },
  {
   "cell_type": "code",
   "execution_count": 39,
   "metadata": {},
   "outputs": [
    {
     "name": "stdout",
     "output_type": "stream",
     "text": [
      "\n",
      "--------------------------------------------------------------------------------\n",
      "\n",
      "\u001b[32mSAR-CVME-TIFALL5:EvtSet     1000 / 1000 -> 0% loss ▇▇▇▇▇▇▇▇▇▇\u001b[39m\n",
      "\u001b[32mSARES11-GES1:CH2_VAL_GET    1000 / 1000 -> 0% loss ▇▇▇▇▇▇▇▇▇▇\u001b[39m\n",
      "\u001b[32mSAROP11-PALMK118:CH2_BUFFER 1000 / 1000 -> 0% loss ▇▇▇▇▇▇▇▇▇▇\u001b[39m\n",
      "\u001b[32mSAROP11-PBPS122:INTENSITY   1000 / 1000 -> 0% loss ▇▇▇▇▇▇▇▇▇▇\u001b[39m\n",
      "\u001b[32mSLAAR11-LMOT-M453:ENC_1_BS  1000 / 1000 -> 0% loss ▇▇▇▇▇▇▇▇▇▇\u001b[39m\n",
      "\n",
      "\u001b[32mover the whole data set: 1000 / 1000 -> 0% loss\u001b[39m\n",
      "\n",
      "--------------------------------------------------------------------------------\n",
      "\n",
      "Probe rep rate (FEL) is 100.0 Hz\n",
      "Pump rep rate (laser) is 25.0 Hz\n",
      "(800,) (200,) (800,) (1000,)\n"
     ]
    }
   ],
   "source": [
    "bsread_file = \"/sf/alvra/data/p17589/raw/test_laserPump41/run_001169.BSREAD.h5\"\n",
    "#bsread_file = \"/sf/alvra/data/p17589/raw/test_laserPump11/run_001174.BSREAD.h5\"\n",
    "\n",
    "\n",
    "channel_list_pp = [channel_Events, channel_PIPS_fluo, channel_Izero122, channel_PALM_streak]#, channel_PALM_streak, channel_PALM_unstreak]\n",
    "channel_list_FEL = channel_list_pp + [channel_delay_harm]\n",
    "\n",
    "with SFDataFiles(bsread_file) as data:\n",
    "    \n",
    "    subset_FEL = data[channel_list_FEL]\n",
    "    subset_FEL.print_stats(show_complete=True)\n",
    "    subset_FEL.drop_missing()\n",
    "        \n",
    "    Event_code = subset_FEL[channel_Events].data\n",
    "                                                          \n",
    "    FEL      = Event_code[:,12] #Event 12: BAM bunch 1\n",
    "    Laser    = Event_code[:,18]\n",
    "    Darkshot = Event_code[:,21]\n",
    "        \n",
    "    index_light = np.logical_and.reduce((FEL, Laser, np.logical_not(Darkshot)))\n",
    "    index_dark = np.logical_and.reduce((FEL, Laser, Darkshot))\n",
    "    \n",
    "    FEL_reprate = 100 / (1 / FEL.mean()).round().astype(int)\n",
    "    \n",
    "    Deltap = (1 / FEL.mean()).round().astype(int) #Get the FEL rep rate from the Event code\n",
    "    print ('Probe rep rate (FEL) is {} Hz'.format(100 / Deltap))\n",
    "    \n",
    "    if Darkshot.mean()==0:\n",
    "        laser_reprate = Laser.mean().round().astype(int)\n",
    "    else:\n",
    "        laser_reprate = (Laser.mean() / Darkshot.mean() - 1).round().astype(int)\n",
    "    \n",
    "    print ('Pump rep rate (laser) is {} Hz'.format(100 / laser_reprate))\n",
    "    \n",
    "    result_pp = {}\n",
    "    for ch in channel_list_pp:\n",
    "        try:\n",
    "            ch_pump   = subset_FEL[ch].data[index_light]\n",
    "            pids_pump   = subset_FEL[ch].pids[index_light]\n",
    "                \n",
    "            ch_unpump = subset_FEL[ch].data[index_dark]\n",
    "            pids_unpump = subset_FEL[ch].pids[index_dark]\n",
    "                \n",
    "            correct_pids_pump   = pids_unpump + Deltap\n",
    "            final_pids, indPump, indUnPump = np.intersect1d(pids_pump, correct_pids_pump, return_indices=True)\n",
    "            \n",
    "            if (laser_reprate == FEL_reprate):\n",
    "                ch_pump   = ch_pump[indPump]\n",
    "                ch_unpump = ch_unpump[indUnPump] \n",
    "                           \n",
    "            ppdata = namedtuple(\"PPData\", [\"pump\", \"unpump\"])\n",
    "            result_pp[ch] = ppdata(pump=ch_pump, unpump=ch_unpump)\n",
    "                \n",
    "        except Exception as e:\n",
    "            print(\"channel missing:\", e)\n",
    "            \n",
    "    result_FEL = {}\n",
    "    for ch in channel_list_FEL:\n",
    "        try:\n",
    "            result_FEL[ch] = subset_FEL[ch].data \n",
    "        except Exception as e:\n",
    "            print (\"channel missing:\",e)\n",
    "\n",
    "print (result_pp[channel_PIPS_fluo].pump.shape,\n",
    "       result_pp[channel_PIPS_fluo].unpump.shape,\n",
    "       result_pp[channel_Izero122].pump.shape,\n",
    "       result_FEL[channel_delay_harm].shape)\n",
    "\n"
   ]
  },
  {
   "cell_type": "code",
   "execution_count": null,
   "metadata": {
    "collapsed": true
   },
   "outputs": [],
   "source": []
  }
 ],
 "metadata": {
  "kernelspec": {
   "display_name": "Python [conda env:alvra-analysis]",
   "language": "python",
   "name": "conda-env-alvra-analysis-py"
  },
  "language_info": {
   "codemirror_mode": {
    "name": "ipython",
    "version": 3
   },
   "file_extension": ".py",
   "mimetype": "text/x-python",
   "name": "python",
   "nbconvert_exporter": "python",
   "pygments_lexer": "ipython3",
   "version": "3.6.7"
  }
 },
 "nbformat": 4,
 "nbformat_minor": 2
}

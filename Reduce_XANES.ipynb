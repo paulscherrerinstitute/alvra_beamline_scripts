{
 "cells": [
  {
   "cell_type": "code",
   "execution_count": 3,
   "id": "b091f352-19c6-40b2-915d-04b2d22605d2",
   "metadata": {},
   "outputs": [],
   "source": [
    "%matplotlib widget\n",
    "import numpy as np\n",
    "import json, os, glob\n",
    "from matplotlib import pyplot as plt\n",
    "from scipy.optimize import curve_fit\n",
    "\n",
    "from alvra_tools.load_data import *\n",
    "from alvra_tools.channels import *\n",
    "from alvra_tools.utils import *\n",
    "from alvra_tools.XAS_functions import *\n",
    "from alvra_tools.XAS_utils import *\n",
    "\n",
    "import warnings\n",
    "warnings.filterwarnings('ignore')"
   ]
  },
  {
   "cell_type": "markdown",
   "id": "8e2c58e5-cf9e-4627-91e6-fcd4d56b9c8d",
   "metadata": {},
   "source": [
    "# Reduce data "
   ]
  },
  {
   "cell_type": "code",
   "execution_count": 50,
   "id": "2070f01a-0936-4012-baaf-7d1a192f9c9c",
   "metadata": {},
   "outputs": [
    {
     "name": "stdout",
     "output_type": "stream",
     "text": [
      "will reduce 1 run(s): [50]\n"
     ]
    },
    {
     "data": {
      "text/plain": [
       "['/sf/alvra/data/p22251/raw/run0050-MbCO_timescan_7114eV_flow80_cont/meta/scan.json']"
      ]
     },
     "execution_count": 50,
     "metadata": {},
     "output_type": "execute_result"
    }
   ],
   "source": [
    "pgroup = 'p22251'\n",
    "\n",
    "#runlist = np.arange(63, 73)\n",
    "runlist = [50]\n",
    "\n",
    "##############################################\n",
    "from textwrap import wrap\n",
    "from sfdata import SFScanInfo\n",
    "jsonlist = []\n",
    "for run in runlist:\n",
    "    jsonfile = ''\n",
    "    jsonfile = glob.glob('/sf/alvra/data/{}/raw/*{:04d}*/meta/scan.json'.format(pgroup, run))[0]\n",
    "    jsonlist.append(jsonfile)\n",
    "print (\"will reduce {} run(s): {}\".format(len(jsonlist), runlist))\n",
    "titlestring = pgroup + ' --- ' +str(runlist)\n",
    "jsonlist"
   ]
  },
  {
   "cell_type": "code",
   "execution_count": 48,
   "id": "5b90a3d6-9c95-4a7b-be00-86787047fc76",
   "metadata": {},
   "outputs": [
    {
     "name": "stdout",
     "output_type": "stream",
     "text": [
      "/sf/alvra/data/p22251/raw/run0050-MbCO_timescan_7114eV_flow80_cont/meta/scan.json\n",
      "Step 51 of 51: Processing acq0051\n",
      "\n",
      "--------------------------------------------------------------------------------\n",
      "\n",
      "SAR-CVME-TIFALL4:EvtSet           118 / 120 -> 2% loss ▇▇▇▇▇▇▇▇▇\n",
      "SARES11-CVME-EVR0:DUMMY_PV3_NBS   115 / 120 -> 4% loss ▇▇▇▇▇▇▇▇▇\n",
      "SARES11-GES1:PR1_CH1_VAL_GET      118 / 120 -> 2% loss ▇▇▇▇▇▇▇▇▇\n",
      "SARES11-GES1:PR1_CH2_VAL_GET      118 / 120 -> 2% loss ▇▇▇▇▇▇▇▇▇\n",
      "SARES11-SPEC125-M1.edge_amplitude 118 / 120 -> 2% loss ▇▇▇▇▇▇▇▇▇\n",
      "SARES11-SPEC125-M1.edge_position  118 / 120 -> 2% loss ▇▇▇▇▇▇▇▇▇\n",
      "SAROP11-PBPS122:INTENSITY         118 / 120 -> 2% loss ▇▇▇▇▇▇▇▇▇\n",
      "SLAAR11-L-BECKBS:PR1_CH4_VAL_GET  118 / 120 -> 2% loss ▇▇▇▇▇▇▇▇▇\n",
      "\n",
      "\u001b[31mover the whole data set: 113 / 120 -> 6% loss\u001b[39m\n",
      "\u001b[31mcomplete channels: 0 / 8 -> 100% incomplete\u001b[39m\n",
      "\n",
      "--------------------------------------------------------------------------------\n",
      "\n",
      "FEL rep rate is 100.0 Hz\n",
      "Laser rep rate is 50.0 Hz (delayed or dark)\n",
      "Pump scheme is 1:1\n",
      "Loaded 54 pump and 54 unpump shots\n",
      "correlation Diode1 (dark shots) = 0.9873150979168026\n",
      "correlation Diode2 (dark shots) = -0.21275322582296932\n",
      "----------------------------\n",
      "Loaded 122818 total on/off pairs\n"
     ]
    }
   ],
   "source": [
    "channel_delay_motor = channel_delay_beckhoff\n",
    "detector_XAS_1 = channel_diode_1\n",
    "detector_XAS_2 = channel_diode_2\n",
    "detector_Izero = channel_Izero122\n",
    "\n",
    "dir2save = ''\n",
    "\n",
    "TT = TT_PSEN126\n",
    "saveflag = True\n",
    "\n",
    "###########################################################\n",
    "reducedir='/sf/alvra/data/{}/work/Reduced_data/{}'.format(pgroup, dir2save)\n",
    "\n",
    "pump_1, unpump_1, pump_2, unpump_2, pump_1_raw, unpump_1_raw, pump_2_raw, unpump_2_raw, Izero_pump, Izero_unpump, Delays_stage, arrTimes, Delays_corr, energy, energypad, readbacks, corr1, corr2 = \\\n",
    "Reduce_scan_PP(reducedir, saveflag, jsonlist, TT, channel_delay_motor, detector_XAS_1, detector_XAS_2, detector_Izero)\n",
    "\n",
    "#pump_1, unpump_1, pump_2, unpump_2, pump_1_raw, unpump_1_raw, pump_2_raw, unpump_2_raw, Izero_pump, Izero_unpump, Delays_stage, arrTimes, Delays_corr, energy, energypad, readbacks, corr1, corr2 = \\\n",
    "#Reduce_scan_PP_loop(reducedir, saveflag, jsonlist, TT, channel_delay_motor, detector_XAS_1, detector_XAS_2, detector_Izero)\n",
    "\n",
    "#pump_1, pump_2, pump_1_raw, pump_2_raw, Izero_pump, Delays_stage, arrTimes, Delays_corr, energy, energypad, readbacks, corr1, corr2, lights, darks = \\\n",
    "#Reduce_scan_PP_noPair(reducedir, saveflag, jsonlist, TT, channel_delay_motor, detector_XAS_1, detector_XAS_2, detector_Izero)"
   ]
  },
  {
   "cell_type": "code",
   "execution_count": 23,
   "id": "c7095b63-5c81-4d49-b5d8-f115b5774571",
   "metadata": {},
   "outputs": [
    {
     "ename": "ValueError",
     "evalue": "x and y must have same first dimension, but have shapes (22,) and (21,)",
     "output_type": "error",
     "traceback": [
      "\u001b[0;31m---------------------------------------------------------------------------\u001b[0m",
      "\u001b[0;31mValueError\u001b[0m                                Traceback (most recent call last)",
      "Cell \u001b[0;32mIn[23], line 1\u001b[0m\n\u001b[0;32m----> 1\u001b[0m \u001b[43mPlot_correlations_scan\u001b[49m\u001b[43m(\u001b[49m\u001b[43mpgroup\u001b[49m\u001b[43m,\u001b[49m\u001b[43m \u001b[49m\u001b[43mreducedir\u001b[49m\u001b[43m,\u001b[49m\u001b[43m \u001b[49m\u001b[43mrunlist\u001b[49m\u001b[43m,\u001b[49m\u001b[43m \u001b[49m\u001b[43mtimescan\u001b[49m\u001b[38;5;241;43m=\u001b[39;49m\u001b[38;5;28;43;01mTrue\u001b[39;49;00m\u001b[43m,\u001b[49m\u001b[43m \u001b[49m\u001b[43mlowlim\u001b[49m\u001b[43m \u001b[49m\u001b[38;5;241;43m=\u001b[39;49m\u001b[43m \u001b[49m\u001b[38;5;241;43m0.9\u001b[39;49m\u001b[43m)\u001b[49m  \u001b[38;5;66;03m#This plots ALL the runs of runlisT\u001b[39;00m\n",
      "File \u001b[0;32m/das/work/p22/p22251/anaconda/alvra-analysis-p22251/lib/python3.11/site-packages/alvra_tools-0.3.16-py3.13.egg/alvra_tools/XAS_utils.py:279\u001b[0m, in \u001b[0;36mPlot_correlations_scan\u001b[0;34m(pgroup, reducedir, runlist, timescan, lowlim)\u001b[0m\n\u001b[1;32m    276\u001b[0m         xlabel \u001b[38;5;241m=\u001b[39m \u001b[38;5;124m'\u001b[39m\u001b[38;5;124mAcq number\u001b[39m\u001b[38;5;124m'\u001b[39m\n\u001b[1;32m    277\u001b[0m         xunits \u001b[38;5;241m=\u001b[39m \u001b[38;5;124m'\u001b[39m\u001b[38;5;124mN/A\u001b[39m\u001b[38;5;124m'\u001b[39m\n\u001b[0;32m--> 279\u001b[0m     \u001b[43max1\u001b[49m\u001b[38;5;241;43m.\u001b[39;49m\u001b[43mplot\u001b[49m\u001b[43m(\u001b[49m\u001b[43mreadbacks\u001b[49m\u001b[43m,\u001b[49m\u001b[43m \u001b[49m\u001b[43mcorr1\u001b[49m\u001b[43m,\u001b[49m\u001b[43m \u001b[49m\u001b[43mlabel\u001b[49m\u001b[38;5;241;43m=\u001b[39;49m\u001b[38;5;124;43m'\u001b[39;49m\u001b[38;5;124;43mdiode1 run\u001b[39;49m\u001b[38;5;132;43;01m{:04d}\u001b[39;49;00m\u001b[38;5;124;43m'\u001b[39;49m\u001b[38;5;241;43m.\u001b[39;49m\u001b[43mformat\u001b[49m\u001b[43m(\u001b[49m\u001b[43mrun\u001b[49m\u001b[43m)\u001b[49m\u001b[43m)\u001b[49m\n\u001b[1;32m    280\u001b[0m     ax3\u001b[38;5;241m.\u001b[39mplot(readbacks, corr2, label\u001b[38;5;241m=\u001b[39m\u001b[38;5;124m'\u001b[39m\u001b[38;5;124mdiode2 run\u001b[39m\u001b[38;5;132;01m{:04d}\u001b[39;00m\u001b[38;5;124m'\u001b[39m\u001b[38;5;241m.\u001b[39mformat(run))\n\u001b[1;32m    281\u001b[0m ax1\u001b[38;5;241m.\u001b[39mlegend()\n",
      "File \u001b[0;32m/das/work/p22/p22251/anaconda/alvra-analysis-p22251/lib/python3.11/site-packages/matplotlib/axes/_axes.py:1779\u001b[0m, in \u001b[0;36mAxes.plot\u001b[0;34m(self, scalex, scaley, data, *args, **kwargs)\u001b[0m\n\u001b[1;32m   1536\u001b[0m \u001b[38;5;250m\u001b[39m\u001b[38;5;124;03m\"\"\"\u001b[39;00m\n\u001b[1;32m   1537\u001b[0m \u001b[38;5;124;03mPlot y versus x as lines and/or markers.\u001b[39;00m\n\u001b[1;32m   1538\u001b[0m \n\u001b[0;32m   (...)\u001b[0m\n\u001b[1;32m   1776\u001b[0m \u001b[38;5;124;03m(``'green'``) or hex strings (``'#008000'``).\u001b[39;00m\n\u001b[1;32m   1777\u001b[0m \u001b[38;5;124;03m\"\"\"\u001b[39;00m\n\u001b[1;32m   1778\u001b[0m kwargs \u001b[38;5;241m=\u001b[39m cbook\u001b[38;5;241m.\u001b[39mnormalize_kwargs(kwargs, mlines\u001b[38;5;241m.\u001b[39mLine2D)\n\u001b[0;32m-> 1779\u001b[0m lines \u001b[38;5;241m=\u001b[39m [\u001b[38;5;241m*\u001b[39m\u001b[38;5;28mself\u001b[39m\u001b[38;5;241m.\u001b[39m_get_lines(\u001b[38;5;28mself\u001b[39m, \u001b[38;5;241m*\u001b[39margs, data\u001b[38;5;241m=\u001b[39mdata, \u001b[38;5;241m*\u001b[39m\u001b[38;5;241m*\u001b[39mkwargs)]\n\u001b[1;32m   1780\u001b[0m \u001b[38;5;28;01mfor\u001b[39;00m line \u001b[38;5;129;01min\u001b[39;00m lines:\n\u001b[1;32m   1781\u001b[0m     \u001b[38;5;28mself\u001b[39m\u001b[38;5;241m.\u001b[39madd_line(line)\n",
      "File \u001b[0;32m/das/work/p22/p22251/anaconda/alvra-analysis-p22251/lib/python3.11/site-packages/matplotlib/axes/_base.py:296\u001b[0m, in \u001b[0;36m_process_plot_var_args.__call__\u001b[0;34m(self, axes, data, *args, **kwargs)\u001b[0m\n\u001b[1;32m    294\u001b[0m     this \u001b[38;5;241m+\u001b[39m\u001b[38;5;241m=\u001b[39m args[\u001b[38;5;241m0\u001b[39m],\n\u001b[1;32m    295\u001b[0m     args \u001b[38;5;241m=\u001b[39m args[\u001b[38;5;241m1\u001b[39m:]\n\u001b[0;32m--> 296\u001b[0m \u001b[38;5;28;01myield from\u001b[39;00m \u001b[38;5;28;43mself\u001b[39;49m\u001b[38;5;241;43m.\u001b[39;49m\u001b[43m_plot_args\u001b[49m\u001b[43m(\u001b[49m\n\u001b[1;32m    297\u001b[0m \u001b[43m    \u001b[49m\u001b[43maxes\u001b[49m\u001b[43m,\u001b[49m\u001b[43m \u001b[49m\u001b[43mthis\u001b[49m\u001b[43m,\u001b[49m\u001b[43m \u001b[49m\u001b[43mkwargs\u001b[49m\u001b[43m,\u001b[49m\u001b[43m \u001b[49m\u001b[43mambiguous_fmt_datakey\u001b[49m\u001b[38;5;241;43m=\u001b[39;49m\u001b[43mambiguous_fmt_datakey\u001b[49m\u001b[43m)\u001b[49m\n",
      "File \u001b[0;32m/das/work/p22/p22251/anaconda/alvra-analysis-p22251/lib/python3.11/site-packages/matplotlib/axes/_base.py:486\u001b[0m, in \u001b[0;36m_process_plot_var_args._plot_args\u001b[0;34m(self, axes, tup, kwargs, return_kwargs, ambiguous_fmt_datakey)\u001b[0m\n\u001b[1;32m    483\u001b[0m     axes\u001b[38;5;241m.\u001b[39myaxis\u001b[38;5;241m.\u001b[39mupdate_units(y)\n\u001b[1;32m    485\u001b[0m \u001b[38;5;28;01mif\u001b[39;00m x\u001b[38;5;241m.\u001b[39mshape[\u001b[38;5;241m0\u001b[39m] \u001b[38;5;241m!=\u001b[39m y\u001b[38;5;241m.\u001b[39mshape[\u001b[38;5;241m0\u001b[39m]:\n\u001b[0;32m--> 486\u001b[0m     \u001b[38;5;28;01mraise\u001b[39;00m \u001b[38;5;167;01mValueError\u001b[39;00m(\u001b[38;5;124mf\u001b[39m\u001b[38;5;124m\"\u001b[39m\u001b[38;5;124mx and y must have same first dimension, but \u001b[39m\u001b[38;5;124m\"\u001b[39m\n\u001b[1;32m    487\u001b[0m                      \u001b[38;5;124mf\u001b[39m\u001b[38;5;124m\"\u001b[39m\u001b[38;5;124mhave shapes \u001b[39m\u001b[38;5;132;01m{\u001b[39;00mx\u001b[38;5;241m.\u001b[39mshape\u001b[38;5;132;01m}\u001b[39;00m\u001b[38;5;124m and \u001b[39m\u001b[38;5;132;01m{\u001b[39;00my\u001b[38;5;241m.\u001b[39mshape\u001b[38;5;132;01m}\u001b[39;00m\u001b[38;5;124m\"\u001b[39m)\n\u001b[1;32m    488\u001b[0m \u001b[38;5;28;01mif\u001b[39;00m x\u001b[38;5;241m.\u001b[39mndim \u001b[38;5;241m>\u001b[39m \u001b[38;5;241m2\u001b[39m \u001b[38;5;129;01mor\u001b[39;00m y\u001b[38;5;241m.\u001b[39mndim \u001b[38;5;241m>\u001b[39m \u001b[38;5;241m2\u001b[39m:\n\u001b[1;32m    489\u001b[0m     \u001b[38;5;28;01mraise\u001b[39;00m \u001b[38;5;167;01mValueError\u001b[39;00m(\u001b[38;5;124mf\u001b[39m\u001b[38;5;124m\"\u001b[39m\u001b[38;5;124mx and y can be no greater than 2D, but have \u001b[39m\u001b[38;5;124m\"\u001b[39m\n\u001b[1;32m    490\u001b[0m                      \u001b[38;5;124mf\u001b[39m\u001b[38;5;124m\"\u001b[39m\u001b[38;5;124mshapes \u001b[39m\u001b[38;5;132;01m{\u001b[39;00mx\u001b[38;5;241m.\u001b[39mshape\u001b[38;5;132;01m}\u001b[39;00m\u001b[38;5;124m and \u001b[39m\u001b[38;5;132;01m{\u001b[39;00my\u001b[38;5;241m.\u001b[39mshape\u001b[38;5;132;01m}\u001b[39;00m\u001b[38;5;124m\"\u001b[39m)\n",
      "\u001b[0;31mValueError\u001b[0m: x and y must have same first dimension, but have shapes (22,) and (21,)"
     ]
    },
    {
     "data": {
      "application/vnd.jupyter.widget-view+json": {
       "model_id": "8fde5e5a6c674e0cbee8cfd3e3627690",
       "version_major": 2,
       "version_minor": 0
      },
      "image/png": "[encoded data removed]",
      "text/html": [
       "\n",
       "            <div style=\"display: inline-block;\">\n",
       "                <div class=\"jupyter-widgets widget-label\" style=\"text-align: center;\">\n",
       "                    Figure\n",
       "                </div>\n",
       "                <img src='data:image/png;base64,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' width=1000.0/>\n",
       "            </div>\n",
       "        "
      ],
      "text/plain": [
       "Canvas(toolbar=Toolbar(toolitems=[('Home', 'Reset original view', 'home', 'home'), ('Back', 'Back to previous …"
      ]
     },
     "metadata": {},
     "output_type": "display_data"
    }
   ],
   "source": [
    "Plot_correlations_scan(pgroup, reducedir, runlist, timescan=True, lowlim = 0.9)  #This plots ALL the runs of runlisT"
   ]
  },
  {
   "cell_type": "code",
   "execution_count": 58,
   "id": "aca17db0-139a-4e82-9de2-d4605b7d9932",
   "metadata": {},
   "outputs": [
    {
     "ename": "ValueError",
     "evalue": "x and y must have same first dimension, but have shapes (0,) and (1,)",
     "output_type": "error",
     "traceback": [
      "\u001b[0;31m---------------------------------------------------------------------------\u001b[0m",
      "\u001b[0;31mValueError\u001b[0m                                Traceback (most recent call last)",
      "Cell \u001b[0;32mIn[58], line 1\u001b[0m\n\u001b[0;32m----> 1\u001b[0m \u001b[43mPlot_scan_2diodes\u001b[49m\u001b[43m(\u001b[49m\u001b[43mpgroup\u001b[49m\u001b[43m,\u001b[49m\u001b[43m \u001b[49m\u001b[43mreducedir\u001b[49m\u001b[43m,\u001b[49m\u001b[43m \u001b[49m\u001b[43mrunlist\u001b[49m\u001b[43m,\u001b[49m\u001b[43m \u001b[49m\u001b[43mtimescan\u001b[49m\u001b[38;5;241;43m=\u001b[39;49m\u001b[38;5;28;43;01mFalse\u001b[39;49;00m\u001b[43m)\u001b[49m  \u001b[38;5;66;03m## this plots only the LAST run of runlist\u001b[39;00m\n",
      "File \u001b[0;32m/das/work/p22/p22251/anaconda/alvra-analysis-p22251/lib/python3.11/site-packages/alvra_tools-0.3.16-py3.13.egg/alvra_tools/XAS_utils.py:157\u001b[0m, in \u001b[0;36mPlot_scan_2diodes\u001b[0;34m(pgroup, reducedir, runlist, timescan, threshold, indexrun)\u001b[0m\n\u001b[1;32m    154\u001b[0m     pp2, GS2, ES2, err_pp2, err_GS2, err_ES2 \u001b[38;5;241m=\u001b[39m Rebin_energyscans_PP(pump_2, unpump_2, Izero_pump, Izero_unpump, xaxis, rbk, threshold)\n\u001b[1;32m    155\u001b[0m lines \u001b[38;5;241m=\u001b[39m \u001b[38;5;28mnext\u001b[39m(linecycler)\n\u001b[0;32m--> 157\u001b[0m \u001b[43max1\u001b[49m\u001b[38;5;241;43m.\u001b[39;49m\u001b[43mplot\u001b[49m\u001b[43m(\u001b[49m\u001b[43mrbk\u001b[49m\u001b[43m,\u001b[49m\u001b[43m \u001b[49m\u001b[43mES1\u001b[49m\u001b[43m,\u001b[49m\u001b[43m \u001b[49m\u001b[43mlinestyle\u001b[49m\u001b[38;5;241;43m=\u001b[39;49m\u001b[43mlines\u001b[49m\u001b[43m,\u001b[49m\u001b[43m \u001b[49m\u001b[43mlabel\u001b[49m\u001b[38;5;241;43m=\u001b[39;49m\u001b[38;5;124;43m'\u001b[39;49m\u001b[38;5;124;43mON 1 \u001b[39;49m\u001b[38;5;132;43;01m{}\u001b[39;49;00m\u001b[38;5;124;43m'\u001b[39;49m\u001b[38;5;241;43m.\u001b[39;49m\u001b[43mformat\u001b[49m\u001b[43m(\u001b[49m\u001b[43mrunname\u001b[49m\u001b[43m)\u001b[49m\u001b[43m,\u001b[49m\u001b[43m \u001b[49m\u001b[43mcolor\u001b[49m\u001b[38;5;241;43m=\u001b[39;49m\u001b[38;5;124;43m'\u001b[39;49m\u001b[38;5;124;43mroyalblue\u001b[39;49m\u001b[38;5;124;43m'\u001b[39;49m\u001b[43m,\u001b[49m\u001b[43m \u001b[49m\u001b[43malpha\u001b[49m\u001b[43m \u001b[49m\u001b[38;5;241;43m=\u001b[39;49m\u001b[43m \u001b[49m\u001b[38;5;241;43m0.8\u001b[39;49m\u001b[43m)\u001b[49m\n\u001b[1;32m    158\u001b[0m ax1\u001b[38;5;241m.\u001b[39mfill_between(rbk, ES1\u001b[38;5;241m-\u001b[39merr_ES1, ES1\u001b[38;5;241m+\u001b[39merr_ES1, color\u001b[38;5;241m=\u001b[39m\u001b[38;5;124m'\u001b[39m\u001b[38;5;124mlightblue\u001b[39m\u001b[38;5;124m'\u001b[39m)\n\u001b[1;32m    159\u001b[0m ax1\u001b[38;5;241m.\u001b[39mplot(rbk, GS1, linestyle\u001b[38;5;241m=\u001b[39mlines, label\u001b[38;5;241m=\u001b[39m\u001b[38;5;124m'\u001b[39m\u001b[38;5;124mOFF 1 \u001b[39m\u001b[38;5;132;01m{}\u001b[39;00m\u001b[38;5;124m'\u001b[39m\u001b[38;5;241m.\u001b[39mformat(runname), color\u001b[38;5;241m=\u001b[39m\u001b[38;5;124m'\u001b[39m\u001b[38;5;124morange\u001b[39m\u001b[38;5;124m'\u001b[39m, alpha \u001b[38;5;241m=\u001b[39m \u001b[38;5;241m0.8\u001b[39m)\n",
      "File \u001b[0;32m/das/work/p22/p22251/anaconda/alvra-analysis-p22251/lib/python3.11/site-packages/matplotlib/axes/_axes.py:1779\u001b[0m, in \u001b[0;36mAxes.plot\u001b[0;34m(self, scalex, scaley, data, *args, **kwargs)\u001b[0m\n\u001b[1;32m   1536\u001b[0m \u001b[38;5;250m\u001b[39m\u001b[38;5;124;03m\"\"\"\u001b[39;00m\n\u001b[1;32m   1537\u001b[0m \u001b[38;5;124;03mPlot y versus x as lines and/or markers.\u001b[39;00m\n\u001b[1;32m   1538\u001b[0m \n\u001b[0;32m   (...)\u001b[0m\n\u001b[1;32m   1776\u001b[0m \u001b[38;5;124;03m(``'green'``) or hex strings (``'#008000'``).\u001b[39;00m\n\u001b[1;32m   1777\u001b[0m \u001b[38;5;124;03m\"\"\"\u001b[39;00m\n\u001b[1;32m   1778\u001b[0m kwargs \u001b[38;5;241m=\u001b[39m cbook\u001b[38;5;241m.\u001b[39mnormalize_kwargs(kwargs, mlines\u001b[38;5;241m.\u001b[39mLine2D)\n\u001b[0;32m-> 1779\u001b[0m lines \u001b[38;5;241m=\u001b[39m [\u001b[38;5;241m*\u001b[39m\u001b[38;5;28mself\u001b[39m\u001b[38;5;241m.\u001b[39m_get_lines(\u001b[38;5;28mself\u001b[39m, \u001b[38;5;241m*\u001b[39margs, data\u001b[38;5;241m=\u001b[39mdata, \u001b[38;5;241m*\u001b[39m\u001b[38;5;241m*\u001b[39mkwargs)]\n\u001b[1;32m   1780\u001b[0m \u001b[38;5;28;01mfor\u001b[39;00m line \u001b[38;5;129;01min\u001b[39;00m lines:\n\u001b[1;32m   1781\u001b[0m     \u001b[38;5;28mself\u001b[39m\u001b[38;5;241m.\u001b[39madd_line(line)\n",
      "File \u001b[0;32m/das/work/p22/p22251/anaconda/alvra-analysis-p22251/lib/python3.11/site-packages/matplotlib/axes/_base.py:296\u001b[0m, in \u001b[0;36m_process_plot_var_args.__call__\u001b[0;34m(self, axes, data, *args, **kwargs)\u001b[0m\n\u001b[1;32m    294\u001b[0m     this \u001b[38;5;241m+\u001b[39m\u001b[38;5;241m=\u001b[39m args[\u001b[38;5;241m0\u001b[39m],\n\u001b[1;32m    295\u001b[0m     args \u001b[38;5;241m=\u001b[39m args[\u001b[38;5;241m1\u001b[39m:]\n\u001b[0;32m--> 296\u001b[0m \u001b[38;5;28;01myield from\u001b[39;00m \u001b[38;5;28;43mself\u001b[39;49m\u001b[38;5;241;43m.\u001b[39;49m\u001b[43m_plot_args\u001b[49m\u001b[43m(\u001b[49m\n\u001b[1;32m    297\u001b[0m \u001b[43m    \u001b[49m\u001b[43maxes\u001b[49m\u001b[43m,\u001b[49m\u001b[43m \u001b[49m\u001b[43mthis\u001b[49m\u001b[43m,\u001b[49m\u001b[43m \u001b[49m\u001b[43mkwargs\u001b[49m\u001b[43m,\u001b[49m\u001b[43m \u001b[49m\u001b[43mambiguous_fmt_datakey\u001b[49m\u001b[38;5;241;43m=\u001b[39;49m\u001b[43mambiguous_fmt_datakey\u001b[49m\u001b[43m)\u001b[49m\n",
      "File \u001b[0;32m/das/work/p22/p22251/anaconda/alvra-analysis-p22251/lib/python3.11/site-packages/matplotlib/axes/_base.py:486\u001b[0m, in \u001b[0;36m_process_plot_var_args._plot_args\u001b[0;34m(self, axes, tup, kwargs, return_kwargs, ambiguous_fmt_datakey)\u001b[0m\n\u001b[1;32m    483\u001b[0m     axes\u001b[38;5;241m.\u001b[39myaxis\u001b[38;5;241m.\u001b[39mupdate_units(y)\n\u001b[1;32m    485\u001b[0m \u001b[38;5;28;01mif\u001b[39;00m x\u001b[38;5;241m.\u001b[39mshape[\u001b[38;5;241m0\u001b[39m] \u001b[38;5;241m!=\u001b[39m y\u001b[38;5;241m.\u001b[39mshape[\u001b[38;5;241m0\u001b[39m]:\n\u001b[0;32m--> 486\u001b[0m     \u001b[38;5;28;01mraise\u001b[39;00m \u001b[38;5;167;01mValueError\u001b[39;00m(\u001b[38;5;124mf\u001b[39m\u001b[38;5;124m\"\u001b[39m\u001b[38;5;124mx and y must have same first dimension, but \u001b[39m\u001b[38;5;124m\"\u001b[39m\n\u001b[1;32m    487\u001b[0m                      \u001b[38;5;124mf\u001b[39m\u001b[38;5;124m\"\u001b[39m\u001b[38;5;124mhave shapes \u001b[39m\u001b[38;5;132;01m{\u001b[39;00mx\u001b[38;5;241m.\u001b[39mshape\u001b[38;5;132;01m}\u001b[39;00m\u001b[38;5;124m and \u001b[39m\u001b[38;5;132;01m{\u001b[39;00my\u001b[38;5;241m.\u001b[39mshape\u001b[38;5;132;01m}\u001b[39;00m\u001b[38;5;124m\"\u001b[39m)\n\u001b[1;32m    488\u001b[0m \u001b[38;5;28;01mif\u001b[39;00m x\u001b[38;5;241m.\u001b[39mndim \u001b[38;5;241m>\u001b[39m \u001b[38;5;241m2\u001b[39m \u001b[38;5;129;01mor\u001b[39;00m y\u001b[38;5;241m.\u001b[39mndim \u001b[38;5;241m>\u001b[39m \u001b[38;5;241m2\u001b[39m:\n\u001b[1;32m    489\u001b[0m     \u001b[38;5;28;01mraise\u001b[39;00m \u001b[38;5;167;01mValueError\u001b[39;00m(\u001b[38;5;124mf\u001b[39m\u001b[38;5;124m\"\u001b[39m\u001b[38;5;124mx and y can be no greater than 2D, but have \u001b[39m\u001b[38;5;124m\"\u001b[39m\n\u001b[1;32m    490\u001b[0m                      \u001b[38;5;124mf\u001b[39m\u001b[38;5;124m\"\u001b[39m\u001b[38;5;124mshapes \u001b[39m\u001b[38;5;132;01m{\u001b[39;00mx\u001b[38;5;241m.\u001b[39mshape\u001b[38;5;132;01m}\u001b[39;00m\u001b[38;5;124m and \u001b[39m\u001b[38;5;132;01m{\u001b[39;00my\u001b[38;5;241m.\u001b[39mshape\u001b[38;5;132;01m}\u001b[39;00m\u001b[38;5;124m\"\u001b[39m)\n",
      "\u001b[0;31mValueError\u001b[0m: x and y must have same first dimension, but have shapes (0,) and (1,)"
     ]
    },
    {
     "data": {
      "application/vnd.jupyter.widget-view+json": {
       "model_id": "3774132ad4c74b46817b1d1f07ad6da0",
       "version_major": 2,
       "version_minor": 0
      },
      "image/png": "[encoded data removed]",
      "text/html": [
       "\n",
       "            <div style=\"display: inline-block;\">\n",
       "                <div class=\"jupyter-widgets widget-label\" style=\"text-align: center;\">\n",
       "                    Figure\n",
       "                </div>\n",
       "                <img src='data:image/png;base64,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' width=1000.0/>\n",
       "            </div>\n",
       "        "
      ],
      "text/plain": [
       "Canvas(toolbar=Toolbar(toolitems=[('Home', 'Reset original view', 'home', 'home'), ('Back', 'Back to previous …"
      ]
     },
     "metadata": {},
     "output_type": "display_data"
    }
   ],
   "source": [
    "Plot_scan_2diodes(pgroup, reducedir, runlist, timescan=False)  ## this plots only the LAST run of runlist"
   ]
  },
  {
   "cell_type": "code",
   "execution_count": null,
   "id": "9de3372a-edea-4052-b0b6-6cf6b9c90c48",
   "metadata": {},
   "outputs": [],
   "source": [
    "\n"
   ]
  },
  {
   "cell_type": "code",
   "execution_count": null,
   "id": "58776132-b954-4db5-ba81-402c5bd3e2e9",
   "metadata": {},
   "outputs": [],
   "source": []
  },
  {
   "cell_type": "code",
   "execution_count": null,
   "id": "7f2c672d-7752-486a-a585-592110c734ec",
   "metadata": {},
   "outputs": [],
   "source": []
  },
  {
   "cell_type": "code",
   "execution_count": null,
   "id": "2e164f50-666c-4737-9138-3d6b8aaadd68",
   "metadata": {},
   "outputs": [],
   "source": []
  },
  {
   "cell_type": "code",
   "execution_count": null,
   "id": "a3bf9486-1159-4180-918b-678e414d6131",
   "metadata": {},
   "outputs": [],
   "source": []
  },
  {
   "cell_type": "code",
   "execution_count": null,
   "id": "b919b77f-a2a7-417b-8561-2ac57f89839b",
   "metadata": {},
   "outputs": [],
   "source": []
  },
  {
   "cell_type": "code",
   "execution_count": null,
   "id": "fbccca57-cb55-4fda-9103-a252de0b1e3a",
   "metadata": {},
   "outputs": [],
   "source": []
  },
  {
   "cell_type": "code",
   "execution_count": null,
   "id": "d7bd022d-48ed-4566-a434-6b22abbec1b2",
   "metadata": {},
   "outputs": [],
   "source": []
  },
  {
   "cell_type": "code",
   "execution_count": null,
   "id": "e1b9b99e-5c8f-4910-ba7d-84e203362f72",
   "metadata": {},
   "outputs": [],
   "source": []
  },
  {
   "cell_type": "code",
   "execution_count": null,
   "id": "055c68ae-33f2-41f4-857b-e247aca2082b",
   "metadata": {},
   "outputs": [],
   "source": []
  },
  {
   "cell_type": "markdown",
   "id": "82c157ef-e4f7-453b-84db-66eb8733dd85",
   "metadata": {},
   "source": [
    "<a id='old'></a>\n",
    "## Old"
   ]
  },
  {
   "cell_type": "code",
   "execution_count": 103,
   "id": "4c22f372-78f5-4c9d-968f-56e4642278cf",
   "metadata": {},
   "outputs": [
    {
     "name": "stdout",
     "output_type": "stream",
     "text": [
      "run: 0117\n"
     ]
    },
    {
     "ename": "IndexError",
     "evalue": "list index out of range",
     "output_type": "error",
     "traceback": [
      "\u001b[0;31m---------------------------------------------------------------------------\u001b[0m",
      "\u001b[0;31mIndexError\u001b[0m                                Traceback (most recent call last)",
      "Cell \u001b[0;32mIn[103], line 8\u001b[0m\n\u001b[1;32m      6\u001b[0m \u001b[38;5;66;03m#############################################################\u001b[39;00m\n\u001b[1;32m      7\u001b[0m jsonfile \u001b[38;5;241m=\u001b[39m \u001b[38;5;124m'\u001b[39m\u001b[38;5;124m'\u001b[39m\n\u001b[0;32m----> 8\u001b[0m jsonfile \u001b[38;5;241m=\u001b[39m \u001b[43mglob\u001b[49m\u001b[38;5;241;43m.\u001b[39;49m\u001b[43mglob\u001b[49m\u001b[43m(\u001b[49m\u001b[38;5;124;43m'\u001b[39;49m\u001b[38;5;124;43m/sf/alvra/data/\u001b[39;49m\u001b[38;5;132;43;01m{}\u001b[39;49;00m\u001b[38;5;124;43m/work/testdata/*\u001b[39;49m\u001b[38;5;132;43;01m{:04d}\u001b[39;49;00m\u001b[38;5;124;43m*/meta/scan.json\u001b[39;49m\u001b[38;5;124;43m'\u001b[39;49m\u001b[38;5;241;43m.\u001b[39;49m\u001b[43mformat\u001b[49m\u001b[43m(\u001b[49m\u001b[43mpgroup\u001b[49m\u001b[43m,\u001b[49m\u001b[43m \u001b[49m\u001b[43mrunnumber\u001b[49m\u001b[43m)\u001b[49m\u001b[43m)\u001b[49m\u001b[43m[\u001b[49m\u001b[38;5;241;43m0\u001b[39;49m\u001b[43m]\u001b[49m\n\u001b[1;32m      9\u001b[0m titlestring \u001b[38;5;241m=\u001b[39m \u001b[38;5;28mstr\u001b[39m(pgroup \u001b[38;5;241m+\u001b[39m \u001b[38;5;124m'\u001b[39m\u001b[38;5;124m --- \u001b[39m\u001b[38;5;124m'\u001b[39m \u001b[38;5;241m+\u001b[39mjsonfile\u001b[38;5;241m.\u001b[39msplit(\u001b[38;5;124m'\u001b[39m\u001b[38;5;124m/\u001b[39m\u001b[38;5;124m'\u001b[39m)[\u001b[38;5;241m-\u001b[39m\u001b[38;5;241m3\u001b[39m])\n\u001b[1;32m     10\u001b[0m run_name \u001b[38;5;241m=\u001b[39m jsonfile\u001b[38;5;241m.\u001b[39msplit(\u001b[38;5;124m'\u001b[39m\u001b[38;5;124m/\u001b[39m\u001b[38;5;124m'\u001b[39m)[\u001b[38;5;241m-\u001b[39m\u001b[38;5;241m3\u001b[39m]\n",
      "\u001b[0;31mIndexError\u001b[0m: list index out of range"
     ]
    }
   ],
   "source": [
    "pgroup='p21960'\n",
    "runnumber = 117\n",
    "\n",
    "print ('run: {:04d}'.format(runnumber))\n",
    "\n",
    "#############################################################\n",
    "jsonfile = ''\n",
    "jsonfile = glob.glob('/sf/alvra/data/{}/work/testdata/*{:04d}*/meta/scan.json'.format(pgroup, runnumber))[0]\n",
    "titlestring = str(pgroup + ' --- ' +jsonfile.split('/')[-3])\n",
    "run_name = jsonfile.split('/')[-3]\n",
    "jsonfile"
   ]
  },
  {
   "cell_type": "code",
   "execution_count": null,
   "id": "009235e3-5fee-4983-b341-80808f8ca6bc",
   "metadata": {},
   "outputs": [],
   "source": [
    "Two_diodes = True\n",
    "\n",
    "reducedir='/sf/alvra/data/{}/work/Reduced_data/old_way/'.format(pgroup)\n",
    "saveflag=True\n",
    "\n",
    "quantile_corr = 0.7\n",
    "\n",
    "channel_delay_motor = channel_delay_topas\n",
    "detector_XAS_1 = channel_diode_1\n",
    "detector_XAS_2 = channel_diode_2\n",
    "detector_Izero = channel_Izero122\n",
    "\n",
    "#######################################################################################################\n",
    "from sfdata import SFScanInfo\n",
    "scan = SFScanInfo(jsonfile)\n",
    "scan = remove_JF_from_scan(scan)\n",
    "\n",
    "LoadXANES(Two_diodes, scan, detector_XAS_1, detector_XAS_2, detector_Izero, quantile_corr, saveflag, reducedir, run_name)\n",
    "data, _ = load_reduced_data(pgroup, reducedir, [runnumber])\n",
    "globals().update(data)"
   ]
  },
  {
   "cell_type": "code",
   "execution_count": null,
   "id": "474de6e3-fedd-4df5-bae0-894e90efe76c",
   "metadata": {},
   "outputs": [],
   "source": [
    "if not Two_diodes:\n",
    "    detector_XAS_2 = detector_XAS_1\n",
    "Plot_correlation(titlestring, scan, data, quantile_corr, detector_XAS_1, detector_XAS_2, timescan=False)"
   ]
  },
  {
   "cell_type": "code",
   "execution_count": null,
   "id": "654b97da-adc5-4890-a400-26731c4b3655",
   "metadata": {},
   "outputs": [],
   "source": [
    "if Two_diodes:\n",
    "    XAS1_pump_probe, XAS2_pump_probe, Energy_eV = Plot_2diodes_4figs(titlestring, scan, data, \n",
    "                                                              quantile_corr, detector_XAS_1, detector_XAS_2, timescan=False)\n",
    "    XAS1_pump_probe, XAS2_pump_probe, Energy_eV = Plot_2diodes_2figs(titlestring, scan, data, \n",
    "                                                              quantile_corr, detector_XAS_1, detector_XAS_2, timescan=False)\n",
    "    \n",
    "    Energy_eV, ave_pp1 = Plot_2diodes_Averaged_2figs(titlestring, scan, data, timescan=False)\n",
    "else:\n",
    "    XAS1_pump_probe, Energy_eV = Plot_1diode(titlestring, scan, data, \n",
    "                                            quantile_corr, detector_XAS_1, timescan=False)"
   ]
  },
  {
   "cell_type": "code",
   "execution_count": null,
   "id": "fab13986-1161-41de-bf5d-18fe3891502a",
   "metadata": {},
   "outputs": [],
   "source": []
  },
  {
   "cell_type": "code",
   "execution_count": null,
   "id": "57a058a3-3498-43bd-bd09-c9301d0532d2",
   "metadata": {},
   "outputs": [],
   "source": []
  },
  {
   "cell_type": "code",
   "execution_count": null,
   "id": "789843db-af58-4e55-8d83-77bfa95cabbb",
   "metadata": {},
   "outputs": [],
   "source": []
  },
  {
   "cell_type": "code",
   "execution_count": null,
   "id": "7fabdfb7-8405-49f8-9111-057b87f197f5",
   "metadata": {},
   "outputs": [],
   "source": []
  },
  {
   "cell_type": "code",
   "execution_count": null,
   "id": "b90d49f9-51da-4f85-8c37-6e86d37b5da7",
   "metadata": {},
   "outputs": [],
   "source": []
  },
  {
   "cell_type": "code",
   "execution_count": null,
   "id": "91b4b0ff-23da-4c73-a5b2-42b6ffa8e063",
   "metadata": {},
   "outputs": [],
   "source": []
  },
  {
   "cell_type": "code",
   "execution_count": null,
   "id": "59fa392c-e6db-4e1d-a249-573f60fa950a",
   "metadata": {},
   "outputs": [],
   "source": []
  },
  {
   "cell_type": "code",
   "execution_count": null,
   "id": "38261bdf-208f-44e7-bdd7-e40a69c8bd44",
   "metadata": {},
   "outputs": [],
   "source": []
  },
  {
   "cell_type": "code",
   "execution_count": null,
   "id": "15aae3f9-41e7-433e-a8d0-a606f1142d09",
   "metadata": {},
   "outputs": [],
   "source": []
  },
  {
   "cell_type": "code",
   "execution_count": null,
   "id": "77978d41-1b7c-45b2-8e8f-bc5389e26ca4",
   "metadata": {},
   "outputs": [],
   "source": []
  },
  {
   "cell_type": "code",
   "execution_count": null,
   "id": "2bb31c92-f8a8-4f73-981b-ed1762f03152",
   "metadata": {},
   "outputs": [],
   "source": []
  },
  {
   "cell_type": "code",
   "execution_count": null,
   "id": "12221dff-2205-4dd2-9cd7-2778fb7ada1d",
   "metadata": {},
   "outputs": [],
   "source": []
  },
  {
   "cell_type": "code",
   "execution_count": null,
   "id": "43886976-8738-4253-b639-b67e74d25420",
   "metadata": {},
   "outputs": [],
   "source": []
  },
  {
   "cell_type": "code",
   "execution_count": null,
   "id": "48ca67f0-490c-4f11-8f66-048ca0624038",
   "metadata": {},
   "outputs": [],
   "source": []
  },
  {
   "cell_type": "code",
   "execution_count": null,
   "id": "5221be9a-6ab0-4561-9ebf-b2d803668318",
   "metadata": {},
   "outputs": [],
   "source": []
  },
  {
   "cell_type": "code",
   "execution_count": null,
   "id": "b7a0ad7c-162f-4983-8385-065db5dba0de",
   "metadata": {},
   "outputs": [],
   "source": []
  }
 ],
 "metadata": {
  "kernelspec": {
   "display_name": "Python [conda env:alvra-analysis-p22251]",
   "language": "python",
   "name": "conda-env-alvra-analysis-p22251-py"
  },
  "language_info": {
   "codemirror_mode": {
    "name": "ipython",
    "version": 3
   },
   "file_extension": ".py",
   "mimetype": "text/x-python",
   "name": "python",
   "nbconvert_exporter": "python",
   "pygments_lexer": "ipython3",
   "version": "3.11.10"
  }
 },
 "nbformat": 4,
 "nbformat_minor": 5
}

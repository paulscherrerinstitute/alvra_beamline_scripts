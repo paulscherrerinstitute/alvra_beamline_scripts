{
 "cells": [
  {
   "cell_type": "code",
   "execution_count": 1,
   "metadata": {},
   "outputs": [],
   "source": [
    "%matplotlib widget\n",
    "import jungfrau_utils as ju\n",
    "import numpy as np\n",
    "import json, h5py, copy\n",
    "import os, glob\n",
    "import time\n",
    "import pandas as pd\n",
    "from matplotlib import pyplot as plt\n",
    "from matplotlib import cm\n",
    "from scipy.optimize import curve_fit\n",
    "from IPython.display import clear_output, display\n",
    "import matplotlib.colors as colors\n",
    "import matplotlib.ticker as ticker\n",
    "from ipyfilechooser import FileChooser\n",
    "from scipy.stats.stats import pearsonr\n",
    "\n",
    "from alvra_tools.load_data import *\n",
    "from alvra_tools.channels import *\n",
    "from alvra_tools.utils import *\n",
    "from alvra_tools.XAS_functions import *\n",
    "from alvra_tools.timing_tool import *\n",
    "\n",
    "import warnings\n",
    "warnings.filterwarnings('ignore')"
   ]
  },
  {
   "cell_type": "markdown",
   "metadata": {},
   "source": [
    "## choose file with the run number"
   ]
  },
  {
   "cell_type": "code",
   "execution_count": 98,
   "metadata": {},
   "outputs": [
    {
     "name": "stdout",
     "output_type": "stream",
     "text": [
      "run: 0094\n"
     ]
    },
    {
     "data": {
      "text/plain": [
       "'/sf/alvra/data/p21148/raw/run0094-AuNP_timescan_11922eV_4uJ_008/meta/scan.json'"
      ]
     },
     "execution_count": 98,
     "metadata": {},
     "output_type": "execute_result"
    }
   ],
   "source": [
    "pgroup='p21148'\n",
    "runnumber = 94\n",
    "print ('run: {:04d}'.format(runnumber))\n",
    "\n",
    "#############################################################\n",
    "jsonfile = ''\n",
    "jsonfile = glob.glob('/sf/alvra/data/{}/raw/*{:04d}*/meta/scan.json'.format(pgroup, runnumber))[0]\n",
    "titlestring = str(pgroup + ' --- ' +jsonfile.split('/')[-3])\n",
    "run_name = jsonfile.split('/')[-3]\n",
    "jsonfile"
   ]
  },
  {
   "cell_type": "code",
   "execution_count": 102,
   "metadata": {},
   "outputs": [
    {
     "name": "stdout",
     "output_type": "stream",
     "text": [
      "Processing: run0094-AuNP_timescan_11922eV_4uJ_008\n",
      "Step 41 of 41: Processing acq0041\n",
      "\n",
      "--------------------------------------------------------------------------------\n",
      "\n",
      "\u001b[32mSAR-CVME-TIFALL4:EvtSet      1001 / 1001 -> 0% loss ▇▇▇▇▇▇▇▇▇▇\u001b[39m\n",
      "\u001b[32mSARES12-GES1:PR1_CH2_VAL_GET 1001 / 1001 -> 0% loss ▇▇▇▇▇▇▇▇▇▇\u001b[39m\n",
      "\u001b[31mSAROP11-PBPS110:INTENSITY    1000 / 1001 -> 0% loss ▇▇▇▇▇▇▇▇▇▇\u001b[39m\n",
      "\n",
      "\u001b[31mover the whole data set: 1000 / 1001 -> 0% loss\u001b[39m\n",
      "\u001b[31mcomplete channels: 2 / 3 -> 33% incomplete\u001b[39m\n",
      "\n",
      "--------------------------------------------------------------------------------\n",
      "\n",
      "FEL rep rate is 100.0 Hz\n",
      "Laser rep rate is 50.0 Hz (delayed or dark)\n",
      "Pump scheme is 1:1\n",
      "Loaded 494 pump and 494 unpump shots\n",
      "(114,) shots out of (494,) survived\n",
      "Step 41 of 41: Processed acq0041\n",
      "correlation Diode (all shots) = 0.9900790842730595\n",
      "------------------------------\n",
      "Processed 41 out of 41 files\n",
      "------------------------------\n",
      "Timezero found in file = 115.570520000045 mm\n",
      "Scan is done with the stage in fs\n"
     ]
    }
   ],
   "source": [
    "quantile_corr = 0.5\n",
    "\n",
    "Timezero_mm = 199.38 ## this in mm from the timescans 5.12 - 06:50 night\n",
    "\n",
    "detector_XAS = channel_diode_2\n",
    "detector_Izero = channel_Izero110\n",
    "\n",
    "reducedir='../Claudio/Reduced_XANES_timescans/'\n",
    "saveflag=True\n",
    "\n",
    "#######################################################################################################33\n",
    "from sfdata import SFScanInfo\n",
    "try:\n",
    "    scan = SFScanInfo(jsonfile)\n",
    "    scan = remove_JF_from_scan(scan)\n",
    "    flag = False\n",
    "\n",
    "    try:\n",
    "        flag = True\n",
    "        Timezero_mm = get_timezero_NBS(jsonfile)\n",
    "    except:\n",
    "        Timezero_mm = Timezero_mm\n",
    "\n",
    "    (DataDiode_pump, DataDiode_unpump, Pump_probe_Diode,\n",
    "     Izero_pump_scan, Izero_unpump_scan, correlation, readbacks, goodshots) = \\\n",
    "    XAS_scanPP_1diode_noTT(scan, detector_XAS, detector_Izero, quantile_corr)\n",
    "\n",
    "    print ('------------------------------')\n",
    "    if flag:\n",
    "        print ('Timezero found in file = {} mm'.format(Timezero_mm))\n",
    "    else:\n",
    "        print ('Timezero = {} mm'.format(Timezero_mm))\n",
    "\n",
    "    Delay_mm, Delay_fs = adjust_delayaxis(scan,readbacks,Timezero_mm)\n",
    "\n",
    "    if saveflag:\n",
    "        os.makedirs(reducedir+run_name, exist_ok=True)\n",
    "        save_data_timescans(reducedir, run_name, Delay_mm, Delay_fs,\n",
    "                            DataDiode_pump, DataDiode_unpump, Pump_probe_Diode, goodshots)\n",
    "except:\n",
    "    print ('==> json file not yet ready!! <==')\n"
   ]
  },
  {
   "cell_type": "code",
   "execution_count": 101,
   "metadata": {},
   "outputs": [
    {
     "ename": "ValueError",
     "evalue": "x and y must have same first dimension, but have shapes (41,) and (40,)",
     "output_type": "error",
     "traceback": [
      "\u001b[0;31m---------------------------------------------------------------------------\u001b[0m",
      "\u001b[0;31mValueError\u001b[0m                                Traceback (most recent call last)",
      "\u001b[0;32m<ipython-input-101-b29e687db1ce>\u001b[0m in \u001b[0;36m<module>\u001b[0;34m\u001b[0m\n\u001b[1;32m     15\u001b[0m \u001b[0mlabel\u001b[0m \u001b[0;34m=\u001b[0m \u001b[0mscan\u001b[0m\u001b[0;34m.\u001b[0m\u001b[0mparameters\u001b[0m\u001b[0;34m[\u001b[0m\u001b[0;34m'name'\u001b[0m\u001b[0;34m]\u001b[0m\u001b[0;34m[\u001b[0m\u001b[0;36m0\u001b[0m\u001b[0;34m]\u001b[0m\u001b[0;34m\u001b[0m\u001b[0;34m\u001b[0m\u001b[0m\n\u001b[1;32m     16\u001b[0m \u001b[0;34m\u001b[0m\u001b[0m\n\u001b[0;32m---> 17\u001b[0;31m \u001b[0max1\u001b[0m\u001b[0;34m.\u001b[0m\u001b[0mplot\u001b[0m\u001b[0;34m(\u001b[0m\u001b[0mDelay_fs\u001b[0m\u001b[0;34m,\u001b[0m \u001b[0mXAS_pump\u001b[0m\u001b[0;34m,\u001b[0m \u001b[0mlabel\u001b[0m\u001b[0;34m=\u001b[0m\u001b[0;34m'ON, {}, {}%'\u001b[0m\u001b[0;34m.\u001b[0m\u001b[0mformat\u001b[0m\u001b[0;34m(\u001b[0m\u001b[0mdetector_XAS\u001b[0m\u001b[0;34m.\u001b[0m\u001b[0msplit\u001b[0m\u001b[0;34m(\u001b[0m\u001b[0;34m':'\u001b[0m\u001b[0;34m)\u001b[0m\u001b[0;34m[\u001b[0m\u001b[0;34m-\u001b[0m\u001b[0;36m1\u001b[0m\u001b[0;34m]\u001b[0m\u001b[0;34m,\u001b[0m \u001b[0mquantile_corr\u001b[0m\u001b[0;34m*\u001b[0m\u001b[0;36m100\u001b[0m\u001b[0;34m)\u001b[0m\u001b[0;34m,\u001b[0m\u001b[0mmarker\u001b[0m\u001b[0;34m=\u001b[0m\u001b[0;34m'.'\u001b[0m\u001b[0;34m)\u001b[0m\u001b[0;34m\u001b[0m\u001b[0;34m\u001b[0m\u001b[0m\n\u001b[0m\u001b[1;32m     18\u001b[0m \u001b[0max1\u001b[0m\u001b[0;34m.\u001b[0m\u001b[0mfill_between\u001b[0m\u001b[0;34m(\u001b[0m\u001b[0mDelay_fs\u001b[0m\u001b[0;34m,\u001b[0m \u001b[0merr_low_pump\u001b[0m\u001b[0;34m,\u001b[0m \u001b[0merr_high_pump\u001b[0m\u001b[0;34m,\u001b[0m \u001b[0mcolor\u001b[0m\u001b[0;34m=\u001b[0m\u001b[0;34m'lightblue'\u001b[0m\u001b[0;34m)\u001b[0m\u001b[0;34m\u001b[0m\u001b[0;34m\u001b[0m\u001b[0m\n\u001b[1;32m     19\u001b[0m \u001b[0;34m\u001b[0m\u001b[0m\n",
      "\u001b[0;32m/das/work/p21/p21148/anaconda/alvra-analysis-p21148/lib/python3.8/site-packages/matplotlib/axes/_axes.py\u001b[0m in \u001b[0;36mplot\u001b[0;34m(self, scalex, scaley, data, *args, **kwargs)\u001b[0m\n\u001b[1;32m   1603\u001b[0m         \"\"\"\n\u001b[1;32m   1604\u001b[0m         \u001b[0mkwargs\u001b[0m \u001b[0;34m=\u001b[0m \u001b[0mcbook\u001b[0m\u001b[0;34m.\u001b[0m\u001b[0mnormalize_kwargs\u001b[0m\u001b[0;34m(\u001b[0m\u001b[0mkwargs\u001b[0m\u001b[0;34m,\u001b[0m \u001b[0mmlines\u001b[0m\u001b[0;34m.\u001b[0m\u001b[0mLine2D\u001b[0m\u001b[0;34m)\u001b[0m\u001b[0;34m\u001b[0m\u001b[0;34m\u001b[0m\u001b[0m\n\u001b[0;32m-> 1605\u001b[0;31m         \u001b[0mlines\u001b[0m \u001b[0;34m=\u001b[0m \u001b[0;34m[\u001b[0m\u001b[0;34m*\u001b[0m\u001b[0mself\u001b[0m\u001b[0;34m.\u001b[0m\u001b[0m_get_lines\u001b[0m\u001b[0;34m(\u001b[0m\u001b[0;34m*\u001b[0m\u001b[0margs\u001b[0m\u001b[0;34m,\u001b[0m \u001b[0mdata\u001b[0m\u001b[0;34m=\u001b[0m\u001b[0mdata\u001b[0m\u001b[0;34m,\u001b[0m \u001b[0;34m**\u001b[0m\u001b[0mkwargs\u001b[0m\u001b[0;34m)\u001b[0m\u001b[0;34m]\u001b[0m\u001b[0;34m\u001b[0m\u001b[0;34m\u001b[0m\u001b[0m\n\u001b[0m\u001b[1;32m   1606\u001b[0m         \u001b[0;32mfor\u001b[0m \u001b[0mline\u001b[0m \u001b[0;32min\u001b[0m \u001b[0mlines\u001b[0m\u001b[0;34m:\u001b[0m\u001b[0;34m\u001b[0m\u001b[0;34m\u001b[0m\u001b[0m\n\u001b[1;32m   1607\u001b[0m             \u001b[0mself\u001b[0m\u001b[0;34m.\u001b[0m\u001b[0madd_line\u001b[0m\u001b[0;34m(\u001b[0m\u001b[0mline\u001b[0m\u001b[0;34m)\u001b[0m\u001b[0;34m\u001b[0m\u001b[0;34m\u001b[0m\u001b[0m\n",
      "\u001b[0;32m/das/work/p21/p21148/anaconda/alvra-analysis-p21148/lib/python3.8/site-packages/matplotlib/axes/_base.py\u001b[0m in \u001b[0;36m__call__\u001b[0;34m(self, data, *args, **kwargs)\u001b[0m\n\u001b[1;32m    313\u001b[0m                 \u001b[0mthis\u001b[0m \u001b[0;34m+=\u001b[0m \u001b[0margs\u001b[0m\u001b[0;34m[\u001b[0m\u001b[0;36m0\u001b[0m\u001b[0;34m]\u001b[0m\u001b[0;34m,\u001b[0m\u001b[0;34m\u001b[0m\u001b[0;34m\u001b[0m\u001b[0m\n\u001b[1;32m    314\u001b[0m                 \u001b[0margs\u001b[0m \u001b[0;34m=\u001b[0m \u001b[0margs\u001b[0m\u001b[0;34m[\u001b[0m\u001b[0;36m1\u001b[0m\u001b[0;34m:\u001b[0m\u001b[0;34m]\u001b[0m\u001b[0;34m\u001b[0m\u001b[0;34m\u001b[0m\u001b[0m\n\u001b[0;32m--> 315\u001b[0;31m             \u001b[0;32myield\u001b[0m \u001b[0;32mfrom\u001b[0m \u001b[0mself\u001b[0m\u001b[0;34m.\u001b[0m\u001b[0m_plot_args\u001b[0m\u001b[0;34m(\u001b[0m\u001b[0mthis\u001b[0m\u001b[0;34m,\u001b[0m \u001b[0mkwargs\u001b[0m\u001b[0;34m)\u001b[0m\u001b[0;34m\u001b[0m\u001b[0;34m\u001b[0m\u001b[0m\n\u001b[0m\u001b[1;32m    316\u001b[0m \u001b[0;34m\u001b[0m\u001b[0m\n\u001b[1;32m    317\u001b[0m     \u001b[0;32mdef\u001b[0m \u001b[0mget_next_color\u001b[0m\u001b[0;34m(\u001b[0m\u001b[0mself\u001b[0m\u001b[0;34m)\u001b[0m\u001b[0;34m:\u001b[0m\u001b[0;34m\u001b[0m\u001b[0;34m\u001b[0m\u001b[0m\n",
      "\u001b[0;32m/das/work/p21/p21148/anaconda/alvra-analysis-p21148/lib/python3.8/site-packages/matplotlib/axes/_base.py\u001b[0m in \u001b[0;36m_plot_args\u001b[0;34m(self, tup, kwargs, return_kwargs)\u001b[0m\n\u001b[1;32m    499\u001b[0m \u001b[0;34m\u001b[0m\u001b[0m\n\u001b[1;32m    500\u001b[0m         \u001b[0;32mif\u001b[0m \u001b[0mx\u001b[0m\u001b[0;34m.\u001b[0m\u001b[0mshape\u001b[0m\u001b[0;34m[\u001b[0m\u001b[0;36m0\u001b[0m\u001b[0;34m]\u001b[0m \u001b[0;34m!=\u001b[0m \u001b[0my\u001b[0m\u001b[0;34m.\u001b[0m\u001b[0mshape\u001b[0m\u001b[0;34m[\u001b[0m\u001b[0;36m0\u001b[0m\u001b[0;34m]\u001b[0m\u001b[0;34m:\u001b[0m\u001b[0;34m\u001b[0m\u001b[0;34m\u001b[0m\u001b[0m\n\u001b[0;32m--> 501\u001b[0;31m             raise ValueError(f\"x and y must have same first dimension, but \"\n\u001b[0m\u001b[1;32m    502\u001b[0m                              f\"have shapes {x.shape} and {y.shape}\")\n\u001b[1;32m    503\u001b[0m         \u001b[0;32mif\u001b[0m \u001b[0mx\u001b[0m\u001b[0;34m.\u001b[0m\u001b[0mndim\u001b[0m \u001b[0;34m>\u001b[0m \u001b[0;36m2\u001b[0m \u001b[0;32mor\u001b[0m \u001b[0my\u001b[0m\u001b[0;34m.\u001b[0m\u001b[0mndim\u001b[0m \u001b[0;34m>\u001b[0m \u001b[0;36m2\u001b[0m\u001b[0;34m:\u001b[0m\u001b[0;34m\u001b[0m\u001b[0;34m\u001b[0m\u001b[0m\n",
      "\u001b[0;31mValueError\u001b[0m: x and y must have same first dimension, but have shapes (41,) and (40,)"
     ]
    },
    {
     "data": {
      "application/vnd.jupyter.widget-view+json": {
       "model_id": "8c429bd0512b44e2b319fe3b82531163",
       "version_major": 2,
       "version_minor": 0
      },
      "image/png": "[encoded data removed]",
      "text/html": [
       "\n",
       "            <div style=\"display: inline-block;\">\n",
       "                <div class=\"jupyter-widgets widget-label\" style=\"text-align: center;\">\n",
       "                    Figure\n",
       "                </div>\n",
       "                <img src='data:image/png;base64,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' width=900.0/>\n",
       "            </div>\n",
       "        "
      ],
      "text/plain": [
       "Canvas(toolbar=Toolbar(toolitems=[('Home', 'Reset original view', 'home', 'home'), ('Back', 'Back to previous …"
      ]
     },
     "metadata": {},
     "output_type": "display_data"
    }
   ],
   "source": [
    "fig, (ax1, ax2) = plt.subplots(1, 2, figsize=(9, 5), constrained_layout=True)\n",
    "plt.suptitle(jsonfile.split('/')[-3], fontsize = 12)\n",
    "\n",
    "XAS_pump = DataDiode_pump[:,0]\n",
    "err_low_pump = DataDiode_pump[:,1]\n",
    "err_high_pump = DataDiode_pump[:,2]\n",
    "XAS_unpump = DataDiode_unpump[:,0]\n",
    "err_low_unpump = DataDiode_unpump[:,1]\n",
    "err_high_unpump = DataDiode_unpump[:,2]\n",
    "XAS_pump_probe = Pump_probe_Diode[:,0]\n",
    "err_low_pump_probe = Pump_probe_Diode[:,1]\n",
    "err_high_pump_probe = Pump_probe_Diode[:,2]\n",
    "\n",
    "units = scan.parameters['units'][0]\n",
    "label = scan.parameters['name'][0]\n",
    "\n",
    "ax1.plot(Delay_fs, XAS_pump, label='ON, {}, {}%'.format(detector_XAS.split(':')[-1], quantile_corr*100),marker='.')\n",
    "ax1.fill_between(Delay_fs, err_low_pump, err_high_pump, color='lightblue')\n",
    "\n",
    "ax1.plot(Delay_fs, XAS_unpump, label='OFF, {}, {}%'.format(detector_XAS.split(':')[-1], quantile_corr*100),marker='.')\n",
    "ax1.fill_between(Delay_fs, err_low_unpump, err_high_unpump, color='navajowhite')\n",
    "\n",
    "ax1.set_xlabel(\"{} ({})\".format(label, units))\n",
    "ax1.set_ylabel (\"XAS Diode 1(I0 norm)\")\n",
    "ax1.set_title('XAS (fluo)')\n",
    "ax1.legend(loc=\"best\")\n",
    "ax1.grid()\n",
    "\n",
    "ax2.plot(Delay_fs, XAS_pump_probe, label='pp, {}, {}%'.format(detector_XAS.split(':')[-1], quantile_corr*100),marker='.', color = 'g')\n",
    "ax2.fill_between(Delay_fs, err_low_pump_probe, err_high_pump_probe, color='lightgreen')\n",
    "\n",
    "ax2.set_xlabel(\"{} ({})\".format(label, units))\n",
    "ax2.set_ylabel (\"Delta XAS\")\n",
    "ax2.set_title('pump probe')\n",
    "ax2.legend(loc=\"best\")\n",
    "ax2.grid()\n",
    "ax2.axvline(0)\n",
    "plt.show()"
   ]
  },
  {
   "cell_type": "markdown",
   "metadata": {},
   "source": [
    "## Check correlation for a certain delay point"
   ]
  },
  {
   "cell_type": "code",
   "execution_count": 48,
   "metadata": {},
   "outputs": [
    {
     "name": "stdout",
     "output_type": "stream",
     "text": [
      "(85,) shots out of (482,) survived\n",
      "Correlation (all shots)      = 0.8228528153047165\n",
      "Correlation (filtered shots) = 0.987229017015786\n",
      "Delay = 549.33 fs\n"
     ]
    }
   ],
   "source": [
    "chosen_delay_fs = 500\n",
    "\n",
    "detector_XAS = channel_diode_1\n",
    "detector_Izero = channel_Izero110\n",
    "quantile_corr = 0.4\n",
    "##################################################################3\n",
    "from sfdata import SFScanInfo\n",
    "scan = SFScanInfo(jsonfile)\n",
    "scan = remove_JF_from_scan(scan)\n",
    "\n",
    "index_delay = np.arange(len(Delay_fs))[(Delay_fs > chosen_delay_fs)][0]\n",
    "\n",
    "(Fluo_pump, Fluo_unpump, Izero_pump, Izero_unpump, \n",
    " Fluo_pump_filter, Fluo_unpump_filter, Izero_pump_filter, Izero_unpump_filter) = \\\n",
    "Get_correlation_from_scan(scan, index_delay, detector_XAS, detector_Izero, quantile_corr)\n",
    "\n",
    "print ('Correlation (all shots)      = {}'.format(pearsonr(Izero_pump,Fluo_pump)[0]))\n",
    "print ('Correlation (filtered shots) = {}'.format(pearsonr(Izero_pump_filter,Fluo_pump_filter)[0]))\n",
    "print ('Delay = {:.2f} fs'.format(Delay_fs[index_delay]))"
   ]
  },
  {
   "cell_type": "code",
   "execution_count": null,
   "metadata": {},
   "outputs": [],
   "source": [
    "from scipy import stats\n",
    "#m,b = np.polyfit(Izero_pump,Fluo_pump, 1)\n",
    "#m_filter,b_filter = np.polyfit(Izero_pump_filter,Fluo_pump_filter, 1)\n",
    "m_median = np.median(Fluo_pump/Izero_pump)\n",
    "m_median_filter = np.median(Fluo_pump_filter/Izero_pump_filter)\n",
    "print (\"Median (all) = {}, Median (filtered) = {}\".format(m_median, m_median_filter))\n",
    "\n",
    "MAD = stats.median_absolute_deviation(Fluo_pump/Izero_pump)\n",
    "MAD_filter = stats.median_absolute_deviation(Fluo_pump_filter/Izero_pump_filter)\n",
    "\n",
    "print (\"MAD (all) = {}, MAD(filtered) = {}\".format(MAD, MAD_filter))\n",
    "\n",
    "print (\"MAD/median (all) = {}%, MAD/median (filtered) = {}%\".format(MAD/m_median*100, MAD_filter/m_median_filter*100))"
   ]
  },
  {
   "cell_type": "code",
   "execution_count": null,
   "metadata": {},
   "outputs": [],
   "source": [
    "plt.figure(figsize=(10,4))\n",
    "plt.suptitle('Delay = {:.2f} fs <------ {}'.format(Delay_fs[index_delay], scan.files[index_delay][1].split('/')[-1].split('.')[0]))\n",
    "plt.subplot(121)\n",
    "plt.title('pump')\n",
    "plt.scatter(Izero_pump_filter, Fluo_pump_filter)\n",
    "plt.scatter(Izero_pump, Fluo_pump, s = 0.5)\n",
    "plt.xlabel('Izero')\n",
    "plt.ylabel('Fluo pump')\n",
    "plt.grid()\n",
    "\n",
    "plt.subplot(122)\n",
    "plt.title('unpump')\n",
    "plt.scatter(Izero_unpump_filter, Fluo_unpump_filter)\n",
    "plt.scatter(Izero_unpump, Fluo_unpump, s = 0.5)\n",
    "plt.xlabel('Izero')\n",
    "plt.ylabel('Fluo unpump')\n",
    "plt.grid()\n",
    "plt.show()"
   ]
  },
  {
   "cell_type": "code",
   "execution_count": null,
   "metadata": {},
   "outputs": [],
   "source": [
    "plt.figure(figsize=(10,4))\n",
    "plt.suptitle('Delay = {:.2f} fs <------ {}'.format(Delay_fs[index_delay], scan.files[index_delay][1].split('/')[-1].split('.')[0]))\n",
    "plt.subplot(121)\n",
    "plt.title('pump')\n",
    "plt.scatter(Fluo_pump/Izero_pump, Fluo_pump, s=8, alpha = 0.5,  label = 'all')\n",
    "plt.scatter(Fluo_pump_filter/Izero_pump_filter, Fluo_pump_filter, s=8, alpha = 0.5, label='filter')\n",
    "plt.axvline(x=m_median_filter, color = 'green')\n",
    "plt.legend(loc='best')\n",
    "plt.xlabel('Fluo pump / Izero')\n",
    "plt.ylabel('Fluo pump')\n",
    "plt.grid()\n",
    "\n",
    "m_median_filter = np.median(Fluo_unpump_filter/Izero_unpump_filter)\n",
    "\n",
    "plt.subplot(122)\n",
    "plt.title('unpump')\n",
    "plt.scatter(Fluo_unpump/Izero_unpump, Fluo_unpump, s=8, alpha = 0.5,  label = 'all')\n",
    "plt.scatter(Fluo_unpump_filter/Izero_unpump_filter, Fluo_unpump_filter, s=8, alpha = 0.5, label='filter')\n",
    "plt.axvline(x=m_median_filter, color = 'green')\n",
    "plt.xlabel('Fluo unpump / Izero')\n",
    "plt.ylabel('Fluo unpump')\n",
    "plt.grid()\n",
    "plt.show()"
   ]
  },
  {
   "cell_type": "code",
   "execution_count": null,
   "metadata": {},
   "outputs": [],
   "source": []
  },
  {
   "cell_type": "code",
   "execution_count": null,
   "metadata": {},
   "outputs": [],
   "source": []
  },
  {
   "cell_type": "markdown",
   "metadata": {},
   "source": [
    "# Loop of scans, WITHOUT TT correction"
   ]
  },
  {
   "cell_type": "code",
   "execution_count": null,
   "metadata": {},
   "outputs": [],
   "source": [
    "pgroup='p20269'\n",
    "#runlist = [790]\n",
    "runlist = np.arange(176, 179, 1)\n",
    "\n",
    "print ('{} runs: {}'.format(len(runlist),runlist))\n",
    "\n",
    "#############################################################\n",
    "from itertools import chain\n",
    "jsonlist = []\n",
    "for run in runlist:\n",
    "    file = glob.glob('/sf/alvra/data/{}/raw/*{:04d}*/meta/scan.json'.format(pgroup, run))\n",
    "    jsonlist.append(file)\n",
    "jsonlist = itertools.chain.from_iterable(jsonlist)\n",
    "jsonlist = sorted(jsonlist, key = os.path.getmtime)\n",
    "jsonlist"
   ]
  },
  {
   "cell_type": "code",
   "execution_count": null,
   "metadata": {},
   "outputs": [],
   "source": [
    "quantile_corr = 0.6\n",
    "Timezero_mm = 86.61422    ## this in mm from the YAG scans\n",
    "\n",
    "detector_XAS = channel_diode_1\n",
    "detector_Izero = channel_Izero110\n",
    "\n",
    "reducedir='../Claudio/Reduced_XANES_timescans_test/'\n",
    "\n",
    "#######################################################################################################33\n",
    "from sfdata import SFScanInfo\n",
    "\n",
    "DataDiode_pump_all = []\n",
    "DataDiode_unpump_all = []\n",
    "Pump_probe_all = []\n",
    "Delay_fs_all = []\n",
    "\n",
    "for json_file in jsonlist:\n",
    "    scan = SFScanInfo(json_file)\n",
    "    scan = remove_JF_from_scan(scan)\n",
    "    \n",
    "    flag = False\n",
    "    try:\n",
    "        Timezero_mm = get_timezero_NBS(json_file)\n",
    "        flag = True\n",
    "    except:\n",
    "        Timezero_mm = Timezero_mm\n",
    "    \n",
    "    DataDiode_pump = []\n",
    "    DataDiode_unpump = []\n",
    "    Pump_probe_Diode = []\n",
    "    \n",
    "    (DataDiode_pump, DataDiode_unpump, Pump_probe_Diode,\n",
    "     Izero_pump_scan, Izero_unpump_scan, correlation, Delay_mm, Delay_fs, goodshots) = \\\n",
    "    XAS_delayscan_noTT(scan, detector_XAS, detector_Izero, quantile_corr)\n",
    "    \n",
    "    print ('------------------------------')\n",
    "    if flag:\n",
    "        print ('Timezero found in file = {} mm'.format(Timezero_mm))\n",
    "    else:\n",
    "        print ('Timezero = {} mm'.format(Timezero_mm))\n",
    "        \n",
    "    if scan.parameters['units'] == ['nS']:\n",
    "        Delay_fs = - scan.values\n",
    "    #    Delay_fs = Delay_fs - 0.17\n",
    "    else:\n",
    "        Delay_fs = scan.values\n",
    "        Delay_fs = Delay_fs - mm2fs(Timezero_mm, 0)\n",
    "    \n",
    "    DataDiode_pump_all.append(DataDiode_pump)\n",
    "    DataDiode_unpump_all.append(DataDiode_unpump)\n",
    "    Pump_probe_all.append(Pump_probe_Diode)\n",
    "    Delay_fs_all.append(Delay_fs)\n",
    "    \n",
    "    run_name = json_file.split('/')[-3]\n",
    "    os.makedirs(reducedir+run_name, exist_ok=True)\n",
    "    \n",
    "    save_data_timescans(reducedir, run_name, Delay_mm, Delay_fs,\n",
    "                        DataDiode_pump, DataDiode_unpump, Pump_probe_Diode, goodshots)\n",
    "    \n",
    "    print ('Processed run {}'.format(json_file.split('/')[-3]))\n",
    "\n",
    "DataDiode_pump_all = np.array(DataDiode_pump_all)\n",
    "DataDiode_unpump_all = np.array(DataDiode_unpump_all)\n",
    "Pump_probe_all = np.array(Pump_probe_all)\n",
    "Delay_fs_all = np.array(Delay_fs_all)\n"
   ]
  },
  {
   "cell_type": "code",
   "execution_count": null,
   "metadata": {},
   "outputs": [],
   "source": [
    "fig, (ax1, ax2) = plt.subplots(1, 2, figsize=(9, 5), constrained_layout=True)\n",
    "plt.suptitle(jsonfile.split('/')[-1], fontsize = 12)\n",
    "\n",
    "XAS_pump = np.mean(DataDiode_pump_all, axis=0)[:,0]\n",
    "err_low_pump = (XAS_pump - np.mean(DataDiode_pump_all, axis=0)[:,1])/np.sqrt(len(jsonlist))\n",
    "err_high_pump = (np.mean(DataDiode_pump_all, axis=0)[:,2]-XAS_pump)/np.sqrt(len(jsonlist))\n",
    "XAS_unpump = np.mean(DataDiode_unpump_all, axis=0)[:,0]\n",
    "err_low_unpump = (XAS_unpump - np.mean(DataDiode_unpump_all, axis=0)[:,1])/np.sqrt(len(jsonlist))\n",
    "err_high_unpump = (np.mean(DataDiode_unpump_all, axis =0)[:,2]-XAS_unpump)/np.sqrt(len(jsonlist))\n",
    "XAS_pump_probe = np.mean(Pump_probe_all, axis=0)[:,0]\n",
    "err_low_pump_probe = np.mean(Pump_probe_all, axis=0)[:,1]/np.sqrt(len(jsonlist))\n",
    "err_high_pump_probe = np.mean(Pump_probe_all, axis=0)[:,2]/np.sqrt(len(jsonlist))\n",
    "\n",
    "Delay_fs_mean = np.mean(Delay_fs_all, axis=0)[:]\n",
    "\n",
    "ax1.plot(Delay_fs_mean, XAS_pump, label='ON, diode 1, {}%'.format(quantile_corr*100),marker='.')\n",
    "ax1.fill_between(Delay_fs_mean, XAS_pump - err_low_pump, XAS_pump + err_high_pump, color='lightblue')\n",
    "\n",
    "ax1.plot(Delay_fs_mean, XAS_unpump, label='OFF, diode 1, {}%'.format(quantile_corr*100),marker='.')\n",
    "ax1.fill_between(Delay_fs_mean, XAS_unpump - err_low_unpump, XAS_unpump + err_high_unpump, color='navajowhite')\n",
    "\n",
    "ax1.set_xlabel(\"Delay (fs)\")\n",
    "ax1.set_ylabel (\"XAS Diode 1(I0 norm)\")\n",
    "ax1.set_title('XAS (fluo)')\n",
    "ax1.legend(loc=\"best\")\n",
    "ax1.grid()\n",
    "\n",
    "ax2.plot(Delay_fs_mean, XAS_pump_probe, label='pp, diode 1, {}%'.format(quantile_corr*100),marker='.', color = 'g')\n",
    "#ax2.fill_between(Delay_fs_mean, XAS_pump_probe - err_low_pump_probe, XAS_pump_probe + err_high_pump_probe, color='lightgreen')\n",
    "\n",
    "\n",
    "ax2.set_xlabel(\"Delay (fs)\")\n",
    "ax2.set_ylabel (\"Delta XAS\")\n",
    "ax2.set_title('pump probe')\n",
    "ax2.legend(loc=\"best\")\n",
    "ax2.grid()\n",
    "\n",
    "plt.show()"
   ]
  },
  {
   "cell_type": "code",
   "execution_count": null,
   "metadata": {},
   "outputs": [],
   "source": []
  },
  {
   "cell_type": "code",
   "execution_count": null,
   "metadata": {},
   "outputs": [],
   "source": []
  },
  {
   "cell_type": "code",
   "execution_count": null,
   "metadata": {},
   "outputs": [],
   "source": []
  },
  {
   "cell_type": "code",
   "execution_count": null,
   "metadata": {},
   "outputs": [],
   "source": []
  }
 ],
 "metadata": {
  "kernelspec": {
   "display_name": "Python [conda env:alvra-analysis-p21148]",
   "language": "python",
   "name": "conda-env-alvra-analysis-p21148-py"
  },
  "language_info": {
   "codemirror_mode": {
    "name": "ipython",
    "version": 3
   },
   "file_extension": ".py",
   "mimetype": "text/x-python",
   "name": "python",
   "nbconvert_exporter": "python",
   "pygments_lexer": "ipython3",
   "version": "3.8.10"
  }
 },
 "nbformat": 4,
 "nbformat_minor": 4
}

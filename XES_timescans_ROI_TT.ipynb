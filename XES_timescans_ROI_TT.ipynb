{
 "cells": [
  {
   "cell_type": "code",
   "execution_count": 1,
   "metadata": {},
   "outputs": [],
   "source": [
    "%matplotlib widget\n",
    "import jungfrau_utils as ju\n",
    "import numpy as np\n",
    "import json, h5py\n",
    "import os, glob\n",
    "import time\n",
    "import pandas as pd\n",
    "from matplotlib import pyplot as plt\n",
    "from matplotlib import cm\n",
    "from scipy.optimize import curve_fit\n",
    "from IPython.display import clear_output, display\n",
    "import matplotlib.colors as colors\n",
    "import matplotlib.ticker as ticker\n",
    "from ipyfilechooser import FileChooser\n",
    "from scipy.stats.stats import pearsonr\n",
    "\n",
    "from alvra_tools.load_data import *\n",
    "from alvra_tools.channels import *\n",
    "from alvra_tools.utils import *\n",
    "from alvra_tools.XES_functions import *\n",
    "\n",
    "import warnings\n",
    "warnings.filterwarnings('ignore')"
   ]
  },
  {
   "cell_type": "markdown",
   "metadata": {},
   "source": [
    "## Load scan file"
   ]
  },
  {
   "cell_type": "code",
   "execution_count": 2,
   "metadata": {},
   "outputs": [
    {
     "name": "stdout",
     "output_type": "stream",
     "text": [
      "run: 0009\n",
      "/sf/alvra/data/p21148/raw/run0009-test_vonHamos_scan/meta/scan.json\n",
      "Scan contains 6 step(s), scanvar goes from -48.70 to 200.81 fs\n"
     ]
    }
   ],
   "source": [
    "pgroup='p21148'\n",
    "runnumber = 9\n",
    "print ('run: {:04d}'.format(runnumber))\n",
    "\n",
    "#############################################################\n",
    "jsonfile = ''\n",
    "jsonfile = glob.glob('/sf/alvra/data/{}/raw/*{:04d}*/meta/scan.json'.format(pgroup, runnumber))[0]\n",
    "titlestring = str( pgroup + ' --- ' +jsonfile.split('/')[-3])\n",
    "print (jsonfile)\n",
    "from sfdata import SFScanInfo\n",
    "scan = SFScanInfo(jsonfile)\n",
    "if scan.parameters['scan_name'] != 'dummy':\n",
    "    if scan.parameters['units'] == ['fs']:\n",
    "        Timezero_mm = get_timezero_NBS(jsonfile)\n",
    "        scanvar = scan.readbacks - mm2fs(Timezero_mm, 0)\n",
    "    else: \n",
    "        scanvar = scan.readbacks\n",
    "    print ('Scan contains {} step(s), scanvar goes from {:.2f} to {:.2f} {}'.format(len(scan), scanvar[0], scanvar[-1], scan.parameters['units'][0]))\n",
    "else:\n",
    "    print ('No motors moved')"
   ]
  },
  {
   "cell_type": "code",
   "execution_count": 3,
   "metadata": {},
   "outputs": [
    {
     "name": "stdout",
     "output_type": "stream",
     "text": [
      "Processing: run0009-test_vonHamos_scan\n",
      "Step 6 of 6: Processing acq0006\n",
      "\n",
      "--------------------------------------------------------------------------------\n",
      "\n",
      "\u001b[32mJF02T09V03:ROI_Cr2DW                     1001 / 1001 -> 0% loss ▇▇▇▇▇▇▇▇▇▇\u001b[39m\n",
      "\u001b[32mJF02T09V03:ROI_Cr2UP                     1001 / 1001 -> 0% loss ▇▇▇▇▇▇▇▇▇▇\u001b[39m\n",
      "\u001b[32mSAR-CVME-TIFALL4:EvtSet                  1001 / 1001 -> 0% loss ▇▇▇▇▇▇▇▇▇▇\u001b[39m\n",
      "\u001b[32mSARES11-SPEC125-M1.edge_amplitude        1001 / 1001 -> 0% loss ▇▇▇▇▇▇▇▇▇▇\u001b[39m\n",
      "\u001b[32mSARES11-SPEC125-M1.edge_derivative       1001 / 1001 -> 0% loss ▇▇▇▇▇▇▇▇▇▇\u001b[39m\n",
      "\u001b[32mSARES11-SPEC125-M1.edge_position         1001 / 1001 -> 0% loss ▇▇▇▇▇▇▇▇▇▇\u001b[39m\n",
      "\u001b[32mSARES11-SPEC125-M1.edge_raw              1001 / 1001 -> 0% loss ▇▇▇▇▇▇▇▇▇▇\u001b[39m\n",
      "\u001b[32mSARES11-SPEC125-M1.projection_background 1001 / 1001 -> 0% loss ▇▇▇▇▇▇▇▇▇▇\u001b[39m\n",
      "\u001b[32mSARES11-SPEC125-M1.projection_signal     1001 / 1001 -> 0% loss ▇▇▇▇▇▇▇▇▇▇\u001b[39m\n",
      "\u001b[32mSLAAR11-LMOT-M451:ENC_1_BS               1001 / 1001 -> 0% loss ▇▇▇▇▇▇▇▇▇▇\u001b[39m\n",
      "\n",
      "\u001b[32mover the whole data set: 1001 / 1001 -> 0% loss\u001b[39m\n",
      "\u001b[32mcomplete channels: 10 / 10 -> 0% incomplete\u001b[39m\n",
      "\n",
      "--------------------------------------------------------------------------------\n",
      "\n",
      "FEL rep rate is 100.0 Hz\n",
      "Laser rep rate is 100.0 Hz (delayed or dark)\n",
      "Pump scheme is 0:1\n",
      "Loaded 1001 pump and 0 unpump shots\n",
      "------------------------------\n",
      "Timezero found in file = 128.22992000004498 mm\n"
     ]
    }
   ],
   "source": [
    "threshold_low = 0\n",
    "threshold_high = 10\n",
    "\n",
    "Timezero_mm = 100.02694\n",
    "\n",
    "channels_list = []\n",
    "\n",
    "reducedir='../Claudio/Reduced_XES_timescans/'\n",
    "saveflag = False\n",
    "\n",
    "TT = TT_PSEN126\n",
    "Timezero_mm = 100.02694\n",
    "channel_delay_motor = channel_delay_topas\n",
    "\n",
    "#####################################################\n",
    "\n",
    "import sfdata.sfdatafile\n",
    "sfdata.sfdatafile.ju = None\n",
    "scan = SFScanInfo(jsonfile)\n",
    "\n",
    "try:\n",
    "    Timezero_mm = get_timezero_NBS(jsonfile)\n",
    "    flag = True\n",
    "except:        \n",
    "    Timezero_mm = Timezero_mm\n",
    "    flag = False\n",
    "    \n",
    "Delays_fs_scan, Delays_corr_scan, spectra_shots_on, spectra_shots_off, ROIs, Delay_fs, Delay_mm, meta = \\\n",
    "XES_delayscan_TT_ROIs(scan, channels_list, TT, channel_delay_motor, Timezero_mm, threshold_low, threshold_high)\n",
    "\n",
    "print ('------------------------------')\n",
    "if flag:\n",
    "    print ('Timezero found in file = {} mm'.format(Timezero_mm))\n",
    "else:\n",
    "    print ('Timezero = {} mm'.format(Timezero_mm))\n",
    "\n",
    "if scan.parameters['units'] == ['nS']:\n",
    "    Delay_fs = scan.values\n",
    "#    Delay_fs = Delay_fs - 0.17\n",
    "else:\n",
    "    Delay_fs = scan.values\n",
    "    Delay_fs = Delay_fs - mm2fs(Timezero_mm, 0)\n",
    "    \n",
    "run_name = jsonfile.split('/')[-3]\n",
    "if saveflag:\n",
    "    os.makedirs(reducedir+run_name, exist_ok=True)\n",
    "    save_data_XES_timescans_ROIs(reducedir, run_name, spectra_on, spectra_off, ROIs, meta)    "
   ]
  },
  {
   "cell_type": "code",
   "execution_count": 4,
   "metadata": {},
   "outputs": [],
   "source": [
    "s_all_on = {}\n",
    "s_all_off = {}\n",
    "for key in ROIs:\n",
    "    spectra_all_on=[]\n",
    "    spectra_all_off=[]\n",
    "    for index_step in range(len(scan)):\n",
    "        spectra_all_on.extend(spectra_shots_on[index_step][key])\n",
    "        spectra_all_off.extend(spectra_shots_on[index_step][key])\n",
    "    s_all_on[key] = spectra_all_on\n",
    "    s_all_off[key] = spectra_all_off"
   ]
  },
  {
   "cell_type": "code",
   "execution_count": 26,
   "metadata": {},
   "outputs": [],
   "source": [
    "binsize = 10\n",
    "\n",
    "binList = np.arange(Delays_fs_scan[0] - 100, Delays_fs_scan[-1] + 100, binsize)\n",
    "bin_centres = (binList[:-1] + binList[1:])/2\n",
    "Delay_fs_TT = np.arange(Delays_fs_scan[0] -100 + binsize/2, Delays_fs_scan[-1] + 100 - binsize/2, binsize)\n",
    "\n",
    "s_rebin_on = {}\n",
    "s_rebin_off = {}\n",
    "for j,key in enumerate(ROIs):\n",
    "    temp_s_on  = np.array(s_all_on[key])\n",
    "    temp_s_off = np.array(s_all_off[key])\n",
    "    spec_rebin_on  = np.zeros((len(bin_centres), np.array(meta[key+'-roi'])[1][1]-np.array(meta[key+'-roi'])[1][0]))\n",
    "    spec_rebin_off = np.zeros((len(bin_centres), np.array(meta[key+'-roi'])[1][1]-np.array(meta[key+'-roi'])[1][0]))\n",
    "    \n",
    "    for i in range(len(bin_centres)):\n",
    "        cond1 = Delays_corr_scan > binList[i]\n",
    "        cond2 = Delays_corr_scan < binList[i+1]\n",
    "\n",
    "        idx = np.where(cond1*cond2)[0]\n",
    "\n",
    "        Delay_fs_TT[i] = np.average(Delays_corr_scan[idx])\n",
    "        \n",
    "        spec_rebin_on[i]  = np.average(temp_s_on[idx,:], axis=0)\n",
    "        spec_rebin_off[i] = np.average(temp_s_off[idx,:], axis=0)\n",
    "        \n",
    "    s_rebin_on[key]  = spec_rebin_on\n",
    "    s_rebin_off[key] = spec_rebin_off"
   ]
  },
  {
   "cell_type": "code",
   "execution_count": 23,
   "metadata": {},
   "outputs": [
    {
     "name": "stdout",
     "output_type": "stream",
     "text": [
      "(44, 600)\n",
      "(44,)\n",
      "(600,)\n"
     ]
    },
    {
     "ename": "ValueError",
     "evalue": "x and y arguments to pcolormesh cannot have non-finite values or be of type numpy.ma.core.MaskedArray with masked values",
     "output_type": "error",
     "traceback": [
      "\u001b[0;31m---------------------------------------------------------------------------\u001b[0m",
      "\u001b[0;31mValueError\u001b[0m                                Traceback (most recent call last)",
      "\u001b[0;32m<ipython-input-23-213e200b34b9>\u001b[0m in \u001b[0;36m<module>\u001b[0;34m\u001b[0m\n\u001b[1;32m     30\u001b[0m     \u001b[0mplt\u001b[0m\u001b[0;34m.\u001b[0m\u001b[0msca\u001b[0m\u001b[0;34m(\u001b[0m\u001b[0max\u001b[0m\u001b[0;34m)\u001b[0m\u001b[0;34m\u001b[0m\u001b[0;34m\u001b[0m\u001b[0m\n\u001b[1;32m     31\u001b[0m     \u001b[0mplt\u001b[0m\u001b[0;34m.\u001b[0m\u001b[0mtitle\u001b[0m\u001b[0;34m(\u001b[0m\u001b[0mkey\u001b[0m\u001b[0;34m)\u001b[0m\u001b[0;34m\u001b[0m\u001b[0;34m\u001b[0m\u001b[0m\n\u001b[0;32m---> 32\u001b[0;31m     \u001b[0mplt\u001b[0m\u001b[0;34m.\u001b[0m\u001b[0mpcolormesh\u001b[0m\u001b[0;34m(\u001b[0m\u001b[0mDelay_fs_TT\u001b[0m\u001b[0;34m,\u001b[0m \u001b[0my_axis_rebin\u001b[0m\u001b[0;34m,\u001b[0m \u001b[0mnp\u001b[0m\u001b[0;34m.\u001b[0m\u001b[0mtranspose\u001b[0m\u001b[0;34m(\u001b[0m\u001b[0mnp\u001b[0m\u001b[0;34m.\u001b[0m\u001b[0masarray\u001b[0m\u001b[0;34m(\u001b[0m\u001b[0mmatrix_off_rebin\u001b[0m\u001b[0;34m)\u001b[0m\u001b[0;34m)\u001b[0m\u001b[0;34m,\u001b[0m \u001b[0mvmin\u001b[0m \u001b[0;34m=\u001b[0m \u001b[0mvmin\u001b[0m\u001b[0;34m,\u001b[0m \u001b[0mvmax\u001b[0m \u001b[0;34m=\u001b[0m \u001b[0mvmax\u001b[0m\u001b[0;34m)\u001b[0m\u001b[0;34m\u001b[0m\u001b[0;34m\u001b[0m\u001b[0m\n\u001b[0m\u001b[1;32m     33\u001b[0m     \u001b[0;31m#plt.plot(Delay_fs, np.transpose(np.asarray(matrix_off_rebin)).sum(axis=0))\u001b[0m\u001b[0;34m\u001b[0m\u001b[0;34m\u001b[0m\u001b[0;34m\u001b[0m\u001b[0m\n\u001b[1;32m     34\u001b[0m     \u001b[0mplt\u001b[0m\u001b[0;34m.\u001b[0m\u001b[0mcolorbar\u001b[0m\u001b[0;34m(\u001b[0m\u001b[0;34m)\u001b[0m\u001b[0;34m\u001b[0m\u001b[0;34m\u001b[0m\u001b[0m\n",
      "\u001b[0;32m/sf/alvra/anaconda/alvra-analysis/lib/python3.8/site-packages/matplotlib/pyplot.py\u001b[0m in \u001b[0;36mpcolormesh\u001b[0;34m(alpha, norm, cmap, vmin, vmax, shading, antialiased, data, *args, **kwargs)\u001b[0m\n\u001b[1;32m   2978\u001b[0m         \u001b[0mvmax\u001b[0m\u001b[0;34m=\u001b[0m\u001b[0;32mNone\u001b[0m\u001b[0;34m,\u001b[0m \u001b[0mshading\u001b[0m\u001b[0;34m=\u001b[0m\u001b[0;32mNone\u001b[0m\u001b[0;34m,\u001b[0m \u001b[0mantialiased\u001b[0m\u001b[0;34m=\u001b[0m\u001b[0;32mFalse\u001b[0m\u001b[0;34m,\u001b[0m \u001b[0mdata\u001b[0m\u001b[0;34m=\u001b[0m\u001b[0;32mNone\u001b[0m\u001b[0;34m,\u001b[0m\u001b[0;34m\u001b[0m\u001b[0;34m\u001b[0m\u001b[0m\n\u001b[1;32m   2979\u001b[0m         **kwargs):\n\u001b[0;32m-> 2980\u001b[0;31m     __ret = gca().pcolormesh(\n\u001b[0m\u001b[1;32m   2981\u001b[0m         \u001b[0;34m*\u001b[0m\u001b[0margs\u001b[0m\u001b[0;34m,\u001b[0m \u001b[0malpha\u001b[0m\u001b[0;34m=\u001b[0m\u001b[0malpha\u001b[0m\u001b[0;34m,\u001b[0m \u001b[0mnorm\u001b[0m\u001b[0;34m=\u001b[0m\u001b[0mnorm\u001b[0m\u001b[0;34m,\u001b[0m \u001b[0mcmap\u001b[0m\u001b[0;34m=\u001b[0m\u001b[0mcmap\u001b[0m\u001b[0;34m,\u001b[0m \u001b[0mvmin\u001b[0m\u001b[0;34m=\u001b[0m\u001b[0mvmin\u001b[0m\u001b[0;34m,\u001b[0m\u001b[0;34m\u001b[0m\u001b[0;34m\u001b[0m\u001b[0m\n\u001b[1;32m   2982\u001b[0m         \u001b[0mvmax\u001b[0m\u001b[0;34m=\u001b[0m\u001b[0mvmax\u001b[0m\u001b[0;34m,\u001b[0m \u001b[0mshading\u001b[0m\u001b[0;34m=\u001b[0m\u001b[0mshading\u001b[0m\u001b[0;34m,\u001b[0m \u001b[0mantialiased\u001b[0m\u001b[0;34m=\u001b[0m\u001b[0mantialiased\u001b[0m\u001b[0;34m,\u001b[0m\u001b[0;34m\u001b[0m\u001b[0;34m\u001b[0m\u001b[0m\n",
      "\u001b[0;32m/sf/alvra/anaconda/alvra-analysis/lib/python3.8/site-packages/matplotlib/__init__.py\u001b[0m in \u001b[0;36minner\u001b[0;34m(ax, data, *args, **kwargs)\u001b[0m\n\u001b[1;32m   1359\u001b[0m     \u001b[0;32mdef\u001b[0m \u001b[0minner\u001b[0m\u001b[0;34m(\u001b[0m\u001b[0max\u001b[0m\u001b[0;34m,\u001b[0m \u001b[0;34m*\u001b[0m\u001b[0margs\u001b[0m\u001b[0;34m,\u001b[0m \u001b[0mdata\u001b[0m\u001b[0;34m=\u001b[0m\u001b[0;32mNone\u001b[0m\u001b[0;34m,\u001b[0m \u001b[0;34m**\u001b[0m\u001b[0mkwargs\u001b[0m\u001b[0;34m)\u001b[0m\u001b[0;34m:\u001b[0m\u001b[0;34m\u001b[0m\u001b[0;34m\u001b[0m\u001b[0m\n\u001b[1;32m   1360\u001b[0m         \u001b[0;32mif\u001b[0m \u001b[0mdata\u001b[0m \u001b[0;32mis\u001b[0m \u001b[0;32mNone\u001b[0m\u001b[0;34m:\u001b[0m\u001b[0;34m\u001b[0m\u001b[0;34m\u001b[0m\u001b[0m\n\u001b[0;32m-> 1361\u001b[0;31m             \u001b[0;32mreturn\u001b[0m \u001b[0mfunc\u001b[0m\u001b[0;34m(\u001b[0m\u001b[0max\u001b[0m\u001b[0;34m,\u001b[0m \u001b[0;34m*\u001b[0m\u001b[0mmap\u001b[0m\u001b[0;34m(\u001b[0m\u001b[0msanitize_sequence\u001b[0m\u001b[0;34m,\u001b[0m \u001b[0margs\u001b[0m\u001b[0;34m)\u001b[0m\u001b[0;34m,\u001b[0m \u001b[0;34m**\u001b[0m\u001b[0mkwargs\u001b[0m\u001b[0;34m)\u001b[0m\u001b[0;34m\u001b[0m\u001b[0;34m\u001b[0m\u001b[0m\n\u001b[0m\u001b[1;32m   1362\u001b[0m \u001b[0;34m\u001b[0m\u001b[0m\n\u001b[1;32m   1363\u001b[0m         \u001b[0mbound\u001b[0m \u001b[0;34m=\u001b[0m \u001b[0mnew_sig\u001b[0m\u001b[0;34m.\u001b[0m\u001b[0mbind\u001b[0m\u001b[0;34m(\u001b[0m\u001b[0max\u001b[0m\u001b[0;34m,\u001b[0m \u001b[0;34m*\u001b[0m\u001b[0margs\u001b[0m\u001b[0;34m,\u001b[0m \u001b[0;34m**\u001b[0m\u001b[0mkwargs\u001b[0m\u001b[0;34m)\u001b[0m\u001b[0;34m\u001b[0m\u001b[0;34m\u001b[0m\u001b[0m\n",
      "\u001b[0;32m/sf/alvra/anaconda/alvra-analysis/lib/python3.8/site-packages/matplotlib/axes/_axes.py\u001b[0m in \u001b[0;36mpcolormesh\u001b[0;34m(self, alpha, norm, cmap, vmin, vmax, shading, antialiased, *args, **kwargs)\u001b[0m\n\u001b[1;32m   6181\u001b[0m         \u001b[0mkwargs\u001b[0m\u001b[0;34m.\u001b[0m\u001b[0msetdefault\u001b[0m\u001b[0;34m(\u001b[0m\u001b[0;34m'edgecolors'\u001b[0m\u001b[0;34m,\u001b[0m \u001b[0;34m'none'\u001b[0m\u001b[0;34m)\u001b[0m\u001b[0;34m\u001b[0m\u001b[0;34m\u001b[0m\u001b[0m\n\u001b[1;32m   6182\u001b[0m \u001b[0;34m\u001b[0m\u001b[0m\n\u001b[0;32m-> 6183\u001b[0;31m         X, Y, C, shading = self._pcolorargs('pcolormesh', *args,\n\u001b[0m\u001b[1;32m   6184\u001b[0m                                             shading=shading, kwargs=kwargs)\n\u001b[1;32m   6185\u001b[0m         \u001b[0mNy\u001b[0m\u001b[0;34m,\u001b[0m \u001b[0mNx\u001b[0m \u001b[0;34m=\u001b[0m \u001b[0mX\u001b[0m\u001b[0;34m.\u001b[0m\u001b[0mshape\u001b[0m\u001b[0;34m\u001b[0m\u001b[0;34m\u001b[0m\u001b[0m\n",
      "\u001b[0;32m/sf/alvra/anaconda/alvra-analysis/lib/python3.8/site-packages/matplotlib/axes/_axes.py\u001b[0m in \u001b[0;36m_pcolorargs\u001b[0;34m(self, funcname, shading, *args, **kwargs)\u001b[0m\n\u001b[1;32m   5659\u001b[0m             \u001b[0;32mif\u001b[0m \u001b[0mfuncname\u001b[0m \u001b[0;34m==\u001b[0m \u001b[0;34m'pcolormesh'\u001b[0m\u001b[0;34m:\u001b[0m\u001b[0;34m\u001b[0m\u001b[0;34m\u001b[0m\u001b[0m\n\u001b[1;32m   5660\u001b[0m                 \u001b[0;32mif\u001b[0m \u001b[0mnp\u001b[0m\u001b[0;34m.\u001b[0m\u001b[0mma\u001b[0m\u001b[0;34m.\u001b[0m\u001b[0mis_masked\u001b[0m\u001b[0;34m(\u001b[0m\u001b[0mX\u001b[0m\u001b[0;34m)\u001b[0m \u001b[0;32mor\u001b[0m \u001b[0mnp\u001b[0m\u001b[0;34m.\u001b[0m\u001b[0mma\u001b[0m\u001b[0;34m.\u001b[0m\u001b[0mis_masked\u001b[0m\u001b[0;34m(\u001b[0m\u001b[0mY\u001b[0m\u001b[0;34m)\u001b[0m\u001b[0;34m:\u001b[0m\u001b[0;34m\u001b[0m\u001b[0;34m\u001b[0m\u001b[0m\n\u001b[0;32m-> 5661\u001b[0;31m                     raise ValueError(\n\u001b[0m\u001b[1;32m   5662\u001b[0m                         \u001b[0;34m'x and y arguments to pcolormesh cannot have '\u001b[0m\u001b[0;34m\u001b[0m\u001b[0;34m\u001b[0m\u001b[0m\n\u001b[1;32m   5663\u001b[0m                         \u001b[0;34m'non-finite values or be of type '\u001b[0m\u001b[0;34m\u001b[0m\u001b[0;34m\u001b[0m\u001b[0m\n",
      "\u001b[0;31mValueError\u001b[0m: x and y arguments to pcolormesh cannot have non-finite values or be of type numpy.ma.core.MaskedArray with masked values"
     ]
    },
    {
     "data": {
      "application/vnd.jupyter.widget-view+json": {
       "model_id": "3e96f76f48a74c598bca7c234145194a",
       "version_major": 2,
       "version_minor": 0
      },
      "image/png": "[encoded data removed]",
      "text/html": [
       "\n",
       "            <div style=\"display: inline-block;\">\n",
       "                <div class=\"jupyter-widgets widget-label\" style=\"text-align: center;\">\n",
       "                    Figure\n",
       "                </div>\n",
       "                <img src='data:image/png;base64,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' width=1000.0/>\n",
       "            </div>\n",
       "        "
      ],
      "text/plain": [
       "Canvas(toolbar=Toolbar(toolitems=[('Home', 'Reset original view', 'home', 'home'), ('Back', 'Back to previous …"
      ]
     },
     "metadata": {},
     "output_type": "display_data"
    }
   ],
   "source": [
    "energy_calib = False\n",
    "\n",
    "m = -5.430862659608205\n",
    "b = 16537.553363439678\n",
    "\n",
    "bin_ = 1\n",
    "\n",
    "vmin = None\n",
    "vmax = None\n",
    "\n",
    "################################################\n",
    "\n",
    "fig, axs = plt.subplots(nrows=1, ncols=len(ROIs), figsize=(10,4))\n",
    "plt.suptitle(titlestring)\n",
    "for i, (key, ax) in enumerate(zip(ROIs, axs.flatten())):\n",
    "    matrix_off = s_rebin_on[key]\n",
    "        \n",
    "    yaxis = np.arange(np.array(meta[key+'-roi']).flatten()[-2], np.array(meta[key+'-roi']).flatten()[-1], 1)\n",
    "    y_axis_rebin, matrix_off_rebin = plot_tool_static_2D(matrix_off, 0, yaxis, bin_)\n",
    "    \n",
    "    ylabel = 'JF pixel'\n",
    "    if energy_calib:\n",
    "        y_axis_rebin = (y_axis_rebin-b)/m\n",
    "        ylabel = 'Emission energy (eV)'\n",
    "        \n",
    "    plt.sca(ax)\n",
    "    plt.title(key)\n",
    "    plt.pcolormesh(Delay_fs_TT, y_axis_rebin, np.transpose(np.asarray(matrix_off_rebin)), vmin = vmin, vmax = vmax)\n",
    "    #plt.plot(Delay_fs, np.transpose(np.asarray(matrix_off_rebin)).sum(axis=0))\n",
    "    plt.colorbar()\n",
    "    plt.ylabel(ylabel)\n",
    "    #plt.ylim(3120, 3180)\n",
    "    plt.grid()\n",
    "    plt.xlabel('Delay ({})'.format(scan.parameters['units'][0]))\n",
    "plt.tight_layout()"
   ]
  },
  {
   "cell_type": "code",
   "execution_count": null,
   "metadata": {},
   "outputs": [],
   "source": []
  },
  {
   "cell_type": "code",
   "execution_count": null,
   "metadata": {},
   "outputs": [],
   "source": []
  },
  {
   "cell_type": "code",
   "execution_count": null,
   "metadata": {},
   "outputs": [],
   "source": []
  },
  {
   "cell_type": "code",
   "execution_count": null,
   "metadata": {},
   "outputs": [],
   "source": []
  },
  {
   "cell_type": "code",
   "execution_count": null,
   "metadata": {},
   "outputs": [],
   "source": []
  },
  {
   "cell_type": "code",
   "execution_count": null,
   "metadata": {},
   "outputs": [],
   "source": []
  },
  {
   "cell_type": "code",
   "execution_count": null,
   "metadata": {},
   "outputs": [],
   "source": []
  },
  {
   "cell_type": "code",
   "execution_count": null,
   "metadata": {},
   "outputs": [],
   "source": []
  },
  {
   "cell_type": "code",
   "execution_count": null,
   "metadata": {},
   "outputs": [],
   "source": []
  },
  {
   "cell_type": "code",
   "execution_count": null,
   "metadata": {},
   "outputs": [],
   "source": []
  },
  {
   "cell_type": "code",
   "execution_count": null,
   "metadata": {},
   "outputs": [],
   "source": []
  },
  {
   "cell_type": "code",
   "execution_count": null,
   "metadata": {},
   "outputs": [],
   "source": []
  },
  {
   "cell_type": "code",
   "execution_count": null,
   "metadata": {},
   "outputs": [],
   "source": []
  },
  {
   "cell_type": "code",
   "execution_count": null,
   "metadata": {},
   "outputs": [],
   "source": []
  },
  {
   "cell_type": "code",
   "execution_count": null,
   "metadata": {},
   "outputs": [],
   "source": []
  },
  {
   "cell_type": "code",
   "execution_count": 19,
   "metadata": {},
   "outputs": [],
   "source": [
    "def rebin2D(arr, axis, bin_):\n",
    "    arr = np.array(arr)\n",
    "    arr_new=[]\n",
    "    if axis == 1:\n",
    "        arr=arr.T\n",
    "    for index in range(len(arr)):\n",
    "        cut=arr[index]\n",
    "        new=bin_sum(cut,bin_)\n",
    "        arr_new.append(new)\n",
    "    arr_new=np.array(arr_new)\n",
    "    if axis == 1:\n",
    "        arr_new=arr_new.T\n",
    "    return arr_new"
   ]
  },
  {
   "cell_type": "code",
   "execution_count": 20,
   "metadata": {},
   "outputs": [],
   "source": [
    "def plot_tool_2D(matrix_ON, matrix_OFF, axis, x_axis, bin_):\n",
    "    \n",
    "    matrix_on_rebin  = rebin2D(matrix_ON, axis, bin_)\n",
    "    matrix_off_rebin = rebin2D(matrix_OFF, axis, bin_)\n",
    "    x_axis_rebin = bin_mean(x_axis, bin_)\n",
    "    \n",
    "    return x_axis_rebin, matrix_on_rebin, matrix_off_rebin#, low_err, high_err"
   ]
  },
  {
   "cell_type": "code",
   "execution_count": 21,
   "metadata": {},
   "outputs": [],
   "source": [
    "def plot_tool_static_2D(matrix, axis, x_axis, bin_):\n",
    "    \n",
    "    matrix_rebin  = rebin2D(matrix, axis, bin_)\n",
    "    x_axis_rebin = bin_mean(x_axis, bin_)\n",
    "    \n",
    "    return x_axis_rebin, matrix_rebin"
   ]
  },
  {
   "cell_type": "code",
   "execution_count": null,
   "metadata": {},
   "outputs": [],
   "source": []
  }
 ],
 "metadata": {
  "kernelspec": {
   "display_name": "Python [conda env:alvra-analysis]",
   "language": "python",
   "name": "conda-env-alvra-analysis-py"
  },
  "language_info": {
   "codemirror_mode": {
    "name": "ipython",
    "version": 3
   },
   "file_extension": ".py",
   "mimetype": "text/x-python",
   "name": "python",
   "nbconvert_exporter": "python",
   "pygments_lexer": "ipython3",
   "version": "3.8.10"
  }
 },
 "nbformat": 4,
 "nbformat_minor": 4
}

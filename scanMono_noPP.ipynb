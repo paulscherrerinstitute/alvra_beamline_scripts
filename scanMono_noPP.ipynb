{
 "cells": [
  {
   "cell_type": "code",
   "execution_count": null,
   "metadata": {
    "collapsed": true
   },
   "outputs": [],
   "source": [
    "%matplotlib nbagg\n",
    "import numpy as np\n",
    "import json\n",
    "import os, math\n",
    "import pandas as pd\n",
    "from matplotlib import pyplot as plt\n",
    "from scipy.optimize import curve_fit\n",
    "from IPython.display import clear_output, display\n",
    "\n",
    "from alvra_tools.load_data import *\n",
    "from alvra_tools.load_meta import *\n",
    "from alvra_tools.channels import *\n",
    "#from alvra_tools.channels_raw import *\n",
    "from alvra_tools.utils import errfunc_sigma, errfunc_fwhm, threshold\n",
    "import glob"
   ]
  },
  {
   "cell_type": "code",
   "execution_count": null,
   "metadata": {
    "collapsed": true
   },
   "outputs": [],
   "source": [
    "scan_name =\"monoCalib_2.5kev_10\"\n",
    "\n",
    "DIR_json = \"/sf/alvra/data/p18442/res/scan_info/\"\n",
    "DIR = \"/sf/alvra/data/p18442/raw/scan_data/\" + scan_name + \"/\"             #use this for a scan\n",
    "\n",
    "#######################################################################\n",
    "\n",
    "files_scan = glob.glob(DIR_json + scan_name + '.*')\n",
    "scan_range = '.'+files_scan[-1].split('.')[-2]\n",
    "print ('scan_range = {}'.format(scan_range))"
   ]
  },
  {
   "cell_type": "code",
   "execution_count": null,
   "metadata": {
    "collapsed": true
   },
   "outputs": [],
   "source": [
    "quantile_band = 0.2\n",
    "\n",
    "###############################################################3\n",
    "\n",
    "json_file = DIR_json + scan_name + scan_range + \".json\"\n",
    "print (json_file)\n",
    "\n",
    "with open(json_file) as file:\n",
    "    data = json.load(file)\n",
    "numFiles = len(data['scan_files'])\n",
    "#numFiles = 1\n",
    "\n",
    "print (\"Processing\",numFiles,\"files\")\n",
    "\n",
    "Signal = []\n",
    "Izero = []\n",
    "Energy_eV = []\n",
    "\n",
    "for i in range(0,numFiles):\n",
    "    filename = str(data['scan_files'][i][0])\n",
    "    print (filename)\n",
    "    exists = os.path.isfile(filename)\n",
    "    if exists: # and i !=21:\n",
    "        clear_output(wait=True)\n",
    "        print(\"step\", i+1, \"of\",numFiles, f\": Processing {filename}\")\n",
    "        (data_trans_shot, data_fluo_shot, Izero_shot, laser_shot, Energy_shot, pulseIDs) = load_FEL_scans(filename, channel_energy)\n",
    "        \n",
    "        #df_data = pd.DataFrame(data_fluo_shot)\n",
    "        df_data = pd.DataFrame(data_trans_shot)\n",
    "        Signal.append(np.quantile(df_data, [0.5, 0.5 - quantile_band/2, 0.5 + quantile_band/2]))\n",
    "        \n",
    "        df_Izero = pd.DataFrame(Izero_shot)\n",
    "        Izero.append(np.quantile(df_Izero, [0.5, 0.5 - quantile_band/2, 0.5 + quantile_band/2]))\n",
    "    \n",
    "        Energy_shot = [x for x in Energy_shot if (np.abs(x) > 0)]\n",
    "        Energy_eV.append(np.mean(Energy_shot))\n",
    "    \n",
    "Signal = np.asarray(Signal)\n",
    "Izero = np.asarray(Izero)\n",
    "\n",
    "Energy_eV_readback = load_scan_readback(json_file)\n",
    "Energy_eV = np.asarray(Energy_eV)\n",
    "print (\"Job done!\")\n",
    "print ('Quantiles for error bars: {},{}'.format(0.5 - quantile_band/2, 0.5 + quantile_band/2))"
   ]
  },
  {
   "cell_type": "code",
   "execution_count": null,
   "metadata": {
    "collapsed": true
   },
   "outputs": [],
   "source": [
    "# Normalization in case the signal comes from a Diode after I0.\n",
    "\n",
    "#Signal_norm = -Signal / Izero\n",
    "\n",
    "# No normalization in case the signal comes from I0 itself.\n",
    "\n",
    "Signal_norm = Izero"
   ]
  },
  {
   "cell_type": "code",
   "execution_count": null,
   "metadata": {
    "collapsed": true,
    "scrolled": false
   },
   "outputs": [],
   "source": [
    "Int = Signal_norm[:,0]\n",
    "err_low = Signal_norm[:,1]\n",
    "err_high = Signal_norm[:,2]\n",
    "\n",
    "plt.figure()\n",
    "\n",
    "plt.plot(Energy_eV, Int, label='{}%'.format(quantile_band*100),marker='.')\n",
    "plt.fill_between(Energy_eV, err_low, err_high, color='lightblue')\n",
    "\n",
    "plt.title(scan_name + scan_range)\n",
    "plt.xlabel(\"Energy (eV)\")\n",
    "plt.legend(loc=\"best\")\n",
    "plt.grid()\n",
    "\n",
    "plt.show()"
   ]
  },
  {
   "cell_type": "code",
   "execution_count": null,
   "metadata": {
    "collapsed": true
   },
   "outputs": [],
   "source": [
    "spectrum_toFit = np.copy(Signal_norm[:,0])\n",
    "Energy_eV_toFit = np.copy(Energy_eV.ravel())\n",
    "\n",
    "def gaussian(x, amp, cen, wid):\n",
    "    return amp * np.exp(-4*(np.log(2))*(x-cen)**2 / wid**2)\n",
    "\n",
    "# Now fit with error funciton\n",
    "index = ~(np.isnan(Energy_eV_toFit) | np.isnan(spectrum_toFit))\n",
    "\n",
    "parameters,extras = curve_fit(gaussian, Energy_eV_toFit[index], spectrum_toFit[index], p0 = [0.3, 2400, 7])\n",
    "#parameters,extras = curve_fit(errfunc_fwhm, Delay_mm_toFit, Pump_probe_toFit, p0 = [0.01, 0.12, 161, 0.1])\n",
    "\n",
    "print(\"Position t0 =\",np.round(parameters[1],3),\"eV\")\n",
    "print(\"Width =\",np.abs(np.round(parameters[2],3)),\"eV\")\n",
    "\n",
    "#best_vals, covar = curve_fit(gaussian, x, y, p0=init_vals)"
   ]
  },
  {
   "cell_type": "code",
   "execution_count": null,
   "metadata": {
    "collapsed": true
   },
   "outputs": [],
   "source": [
    "plt.figure()\n",
    "\n",
    "plt.plot(Energy_eV, Int, label='{}%'.format(quantile_band*100),marker='.')\n",
    "plt.fill_between(Energy_eV, err_low, err_high, color='lightblue')\n",
    "\n",
    "plt.plot(Energy_eV_toFit, gaussian(Energy_eV_toFit,*parameters))\n",
    "\n",
    "plt.title(scan_name + scan_range)\n",
    "plt.grid()\n",
    "plt.xlabel(\"Energy (eV)\")\n",
    "plt.legend(loc=\"best\")\n",
    "\n",
    "\n",
    "plt.show()"
   ]
  },
  {
   "cell_type": "code",
   "execution_count": null,
   "metadata": {
    "collapsed": true
   },
   "outputs": [],
   "source": [
    "Signal_norm1 = Signal_norm.copy()"
   ]
  },
  {
   "cell_type": "code",
   "execution_count": null,
   "metadata": {
    "collapsed": true
   },
   "outputs": [],
   "source": [
    "plt.figure()\n",
    "\n",
    "plt.plot(Energy_eV, Signal_norm_1, label=\"original\",marker='.')\n",
    "plt.plot(Energy_eV, Signal_norm_3, label=\"first try\",marker='.')\n",
    "plt.plot(Energy_eV, Signal_norm_2, label=\"second try\",marker='.')\n",
    "\n",
    "low_err= Signal_norm - err_Signal_norm\n",
    "high_err= Signal_norm + err_Signal_norm\n",
    "\n",
    "\n",
    "#plt.fill_between(Energy_eV, low_err, high_err, color='lightblue')\n",
    "plt.title(DIR)\n",
    "plt.xlabel(\"Energy (eV)\")\n",
    "plt.legend(loc=\"best\")\n",
    "\n",
    "\n",
    "plt.show()\n",
    "#plt.savefig('Timescan_7_diode')"
   ]
  },
  {
   "cell_type": "code",
   "execution_count": null,
   "metadata": {
    "collapsed": true
   },
   "outputs": [],
   "source": []
  }
 ],
 "metadata": {
  "kernelspec": {
   "display_name": "Python [conda env:alvra-analysis]",
   "language": "python",
   "name": "conda-env-alvra-analysis-py"
  },
  "language_info": {
   "codemirror_mode": {
    "name": "ipython",
    "version": 3
   },
   "file_extension": ".py",
   "mimetype": "text/x-python",
   "name": "python",
   "nbconvert_exporter": "python",
   "pygments_lexer": "ipython3",
   "version": "3.6.7"
  }
 },
 "nbformat": 4,
 "nbformat_minor": 2
}

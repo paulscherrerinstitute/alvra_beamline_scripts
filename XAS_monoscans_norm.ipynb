{
 "cells": [
  {
   "cell_type": "code",
   "execution_count": null,
   "metadata": {
    "collapsed": true
   },
   "outputs": [],
   "source": [
    "%matplotlib nbagg\n",
    "import numpy as np\n",
    "import json\n",
    "import os, math\n",
    "import pandas as pd\n",
    "from matplotlib import pyplot as plt\n",
    "from scipy.optimize import curve_fit\n",
    "from IPython.display import clear_output, display\n",
    "\n",
    "from alvra_tools.load_data import *\n",
    "from alvra_tools.channels import *\n",
    "#from alvra_tools.channels_raw import *\n",
    "from alvra_tools.utils import errfunc_sigma, errfunc_fwhm, threshold\n",
    "import glob"
   ]
  },
  {
   "cell_type": "markdown",
   "metadata": {},
   "source": [
    "### Next cell: list files of a scan"
   ]
  },
  {
   "cell_type": "code",
   "execution_count": null,
   "metadata": {
    "scrolled": true
   },
   "outputs": [],
   "source": [
    "scan_name =\"RuBpy_XAS_scan_3\"\n",
    "#scan_name =\"MB_monoscan_11\"\n",
    "DIR_json = \"/sf/alvra/data/p18442/res/scan_info/\"\n",
    "DIR = \"/sf/alvra/data/p18442/raw/scan_data/\" + scan_name + \"/\"             #use this for a scan\n",
    "\n",
    "#######################################################################\n",
    "\n",
    "files_scan = glob.glob(DIR_json + scan_name + '.*')\n",
    "print (files_scan)\n",
    "scan_range = '.'+files_scan[-1].split('.')[-2]\n",
    "print (scan_range)\n",
    "\n",
    "!ls -lah -rt $DIR | grep BSREAD.h5\n",
    "!hostname\n"
   ]
  },
  {
   "cell_type": "markdown",
   "metadata": {},
   "source": [
    "# Load one step and check I0 filtering"
   ]
  },
  {
   "cell_type": "markdown",
   "metadata": {},
   "source": [
    "### First plot pump/unpump to see if channels are all right"
   ]
  },
  {
   "cell_type": "code",
   "execution_count": null,
   "metadata": {
    "collapsed": true
   },
   "outputs": [],
   "source": [
    "f =\"run_001285.BSREAD.h5\"\n",
    "fn = DIR + f\n",
    "\n",
    "(DataFluo_pump_shot, DataFluo_unpump_shot, IzeroFEL_pump_shot, IzeroFEL_unpump_shot, Energy_shot, \\\n",
    " DataTrans_pump_shot, DataTrans_unpump_shot) = load_PumpProbe_events(fn, channel_energy)\n",
    "\n",
    "IzeroFEL_pump_raw = IzeroFEL_pump_shot.copy()\n",
    "IzeroFEL_unpump_raw = IzeroFEL_unpump_shot.copy()\n",
    "DataFluo_pump_shot_raw = DataFluo_pump_shot.copy()\n",
    "DataFluo_unpump_shot_raw = DataFluo_unpump_shot.copy()\n",
    "\n",
    "print (\"Energy = {} eV\".format(Energy_shot.mean()))\n",
    "print (\"Median value Izero (all) = {}\".format(np.median(np.concatenate((IzeroFEL_pump_raw, IzeroFEL_unpump_raw), axis=0))))\n",
    "print (\"Median value fluo (all) = {}\".format(np.median(np.concatenate((DataFluo_pump_shot_raw, DataFluo_unpump_shot_raw), axis=0))))\n",
    "\n",
    "fig = plt.figure(constrained_layout=True, figsize=(9,5))\n",
    "plt.suptitle(scan_name +\"/\"+ f.split('.')[0], y = 1)\n",
    "gs = fig.add_gridspec(2, 2)\n",
    "\n",
    "f_ax1 = fig.add_subplot(gs[0, :-1])\n",
    "f_ax1.set_title('Fluo')\n",
    "plt.hist(DataFluo_pump_shot, bins =np.arange(-0.5,0.85,0.01), facecolor='red', label=\"pump\", alpha=0.5)\n",
    "plt.hist(DataFluo_unpump_shot, bins =np.arange(-0.5,0.85,0.01), facecolor='grey', label=\"unpump\", alpha=0.5)\n",
    "plt.grid()\n",
    "plt.legend(loc=\"best\")\n",
    "\n",
    "f_ax2 = fig.add_subplot(gs[1, :-1])\n",
    "f_ax2.set_title('I_zero')\n",
    "plt.hist(IzeroFEL_pump_shot, bins =np.arange(0,0.85,0.01), facecolor='red', label='pump', alpha=0.5)\n",
    "plt.hist(IzeroFEL_unpump_shot, bins =np.arange(0,0.85,0.01), facecolor='blue', label ='unpump', alpha=0.5)\n",
    "plt.grid()\n",
    "plt.legend(loc=\"best\")\n",
    "\n",
    "f_ax3 = fig.add_subplot(gs[0:, 1])\n",
    "f_ax3.set_title('correlation')\n",
    "plt.plot(IzeroFEL_pump_shot, DataFluo_pump_shot, color = 'red',  linestyle='None', label='pump',marker='.')\n",
    "plt.plot(IzeroFEL_unpump_shot, DataFluo_unpump_shot, color = 'blue',  linestyle='None', label='unpump',marker='.')\n",
    "plt.grid()\n",
    "plt.legend(loc=\"best\")\n",
    "plt.xlabel(\"I_zero (PBPS122)\")\n",
    "plt.ylabel (\"Fluorescence (PIPS)\")\n",
    "\n",
    "plt.show()"
   ]
  },
  {
   "cell_type": "markdown",
   "metadata": {},
   "source": [
    "\n",
    "### Then filter the same data"
   ]
  },
  {
   "cell_type": "code",
   "execution_count": null,
   "metadata": {
    "collapsed": true
   },
   "outputs": [],
   "source": [
    "min_I0 = 0.01\n",
    "min_fluo = 0.001\n",
    "quantile_corr = 0.8\n",
    "########################################################################################################\n",
    "\n",
    "ffn = DIR + f\n",
    "\n",
    "(DataFluo_pump_shot, DataFluo_unpump_shot, IzeroFEL_pump_shot, IzeroFEL_unpump_shot, Energy_shot, \\\n",
    " DataTrans_pump_shot, DataTrans_unpump_shot) = load_PumpProbe_events(ffn, channel_energy)\n",
    "\n",
    "IzeroFEL_pump_raw = IzeroFEL_pump_shot.copy()\n",
    "IzeroFEL_unpump_raw = IzeroFEL_unpump_shot.copy()\n",
    "DataFluo_pump_shot_raw = DataFluo_pump_shot.copy()\n",
    "DataFluo_unpump_shot_raw = DataFluo_unpump_shot.copy()\n",
    "\n",
    "threshold_FEL_pump = IzeroFEL_pump_shot > min_I0\n",
    "threshold_FEL_unpump = IzeroFEL_unpump_shot > min_I0\n",
    "threshold_fluo_pump = DataFluo_pump_shot > min_fluo\n",
    "threshold_fluo_unpump = DataFluo_unpump_shot > min_fluo\n",
    "\n",
    "thresholds_filter = threshold_FEL_pump & threshold_FEL_unpump & \\\n",
    "                   threshold_fluo_pump & threshold_fluo_unpump\n",
    "\n",
    "DataFluo_pump_shot = DataFluo_pump_shot[thresholds_filter]\n",
    "DataFluo_unpump_shot = DataFluo_unpump_shot[thresholds_filter]\n",
    "IzeroFEL_pump_shot = IzeroFEL_pump_shot[thresholds_filter]\n",
    "IzeroFEL_unpump_shot = IzeroFEL_unpump_shot[thresholds_filter]\n",
    "\n",
    "DataFluo_pump_shot_norm = DataFluo_pump_shot / IzeroFEL_pump_shot\n",
    "DataFluo_unpump_shot_norm = DataFluo_unpump_shot / IzeroFEL_unpump_shot\n",
    "DataFluo_pump_shot_norm_raw = DataFluo_pump_shot_norm.copy()\n",
    "\n",
    "med = np.median(DataFluo_unpump_shot_norm)\n",
    "qnt_low = np.quantile(DataFluo_unpump_shot_norm, 0.5 - quantile_corr/2)\n",
    "qnt_high = np.quantile(DataFluo_unpump_shot_norm, 0.5 + quantile_corr/2)\n",
    "\n",
    "condition_corr_unpump_low = DataFluo_unpump_shot_norm > qnt_low\n",
    "condition_corr_unpump_high = DataFluo_unpump_shot_norm < qnt_high\n",
    "\n",
    "med = np.median(DataFluo_pump_shot_norm)\n",
    "qnt_low = np.quantile(DataFluo_pump_shot_norm, 0.5 - quantile_corr/2)\n",
    "qnt_high = np.quantile(DataFluo_pump_shot_norm, 0.5 + quantile_corr/2)\n",
    "\n",
    "condition_corr_pump_low = DataFluo_pump_shot_norm > qnt_low\n",
    "condition_corr_pump_high = DataFluo_pump_shot_norm < qnt_high\n",
    "\n",
    "correlation_filter = condition_corr_unpump_low & condition_corr_unpump_high & \\\n",
    "                    condition_corr_pump_low & condition_corr_pump_high\n",
    "\n",
    "DataFluo_pump_shot_norm = DataFluo_pump_shot_norm[correlation_filter]\n",
    "DataFluo_unpump_shot_norm = DataFluo_unpump_shot_norm[correlation_filter]\n",
    "\n",
    "print (\"Original size (pump/umpump):\", len(DataFluo_pump_shot_raw), len(DataFluo_unpump_shot_raw))\n",
    "print (\"Filtered size conditions (pump/unpump):\", len(DataFluo_pump_shot), len(DataFluo_unpump_shot))\n",
    "print (\"Filtered size correlation (pump/unpump):\", len(DataFluo_pump_shot_norm), len(DataFluo_unpump_shot_norm))\n",
    "print (\"Energy = {} eV\".format(Energy_shot.mean()))\n",
    "print (\"Median value Izero (filter) = {}\".format(np.median(IzeroFEL_pump_shot)))\n",
    "print (\"Median value fluo (filter) = {}\".format(np.median(DataFluo_pump_shot_raw)))\n"
   ]
  },
  {
   "cell_type": "code",
   "execution_count": null,
   "metadata": {
    "collapsed": true
   },
   "outputs": [],
   "source": [
    "plt.figure(figsize = (7,9))\n",
    "plt.suptitle(scan_name +\"/\"+ f.split('.')[0])\n",
    "\n",
    "plt.subplot(311)\n",
    "plt.hist(DataFluo_pump_shot_raw, bins =np.arange(-0.5,0.85,0.01), facecolor='blue', label=\"fluo pump raw\", alpha=0.5)\n",
    "plt.hist(DataFluo_pump_shot, bins =np.arange(-0.5,0.85,0.01), facecolor='red', label=\"fluo pump filter, {}%\".format(quantile_corr*100), alpha=0.5)\n",
    "plt.grid()\n",
    "plt.legend(loc=\"best\")\n",
    "\n",
    "plt.subplot(312)\n",
    "plt.hist(IzeroFEL_pump_raw, bins =np.arange(0,0.85,0.01), facecolor='blue', label='I0 pump raw', alpha=0.5)\n",
    "plt.hist(IzeroFEL_pump_shot, bins =np.arange(0,0.85,0.01), facecolor='red', label ='I0 pump filter, {}%'.format(quantile_corr*100), alpha=0.5)\n",
    "plt.grid()\n",
    "plt.legend(loc=\"best\")\n",
    "\n",
    "plt.subplot(313)\n",
    "x_axis = np.arange(0,3,0.01)\n",
    "plt.hist(DataFluo_pump_shot_norm_raw, bins =x_axis, facecolor='blue', label='pump corr raw', alpha=0.5)\n",
    "plt.hist(DataFluo_pump_shot_norm, bins =x_axis, facecolor='red', label='pump corr filter, {}%'.format(quantile_corr*100), alpha=0.5)\n",
    "plt.grid()\n",
    "plt.legend(loc=\"best\")\n",
    "plt.axvline(med, color = 'k') \n",
    "plt.axvline(qnt_low, color = 'k')\n",
    "plt.axvline(qnt_high, color = 'k') \n",
    "plt.xlabel('fluo / I0')\n",
    "\n",
    "plt.show()"
   ]
  },
  {
   "cell_type": "markdown",
   "metadata": {},
   "source": [
    "# Now load the full scan"
   ]
  },
  {
   "cell_type": "markdown",
   "metadata": {},
   "source": [
    "### First, without any filtering of the data, check data distributions with quantiles "
   ]
  },
  {
   "cell_type": "code",
   "execution_count": null,
   "metadata": {
    "collapsed": true
   },
   "outputs": [],
   "source": [
    "quantiles = [0.5, 0.1, 0.2, 0.3, 0.4, 0.6, 0.7, 0.8, 0.9]\n",
    "\n",
    "######################################################33\n",
    "json_file = DIR_json + scan_name + scan_range + \".json\"\n",
    "print (json_file)\n",
    "\n",
    "with open(json_file) as file:\n",
    "    data = json.load(file)\n",
    "numFiles = len(data['scan_files'])\n",
    "#numFiles = 35\n",
    "\n",
    "print (\"Processing\",numFiles,\"files\")\n",
    "\n",
    "DataFluo_pump = []\n",
    "DataFluo_unpump = []\n",
    "err_DataFluo_pump = []\n",
    "err_DataFluo_unpump = []\n",
    "\n",
    "Pump_probe = []\n",
    "err_Pump_probe = []\n",
    "\n",
    "Energy_eV = []\n",
    "\n",
    "for i in range(0,numFiles):             \n",
    "    filename = str(data['scan_files'][i][0])    \n",
    "    exists = os.path.isfile(filename)\n",
    "    if exists: #and i!=0:\n",
    "        clear_output(wait=True)\n",
    "        print(\"step\",i+1,\"of\",numFiles,\": Processing %s\" %(str(data['scan_files'][i][0])))\n",
    "        \n",
    "        (DataFluo_pump_shot, DataFluo_unpump_shot, IzeroFEL_pump_shot, IzeroFEL_unpump_shot, Energy_shot, \\\n",
    "         DataTrans_pump_shot, DataTrans_unpump_shot) = load_PumpProbe_events(filename, channel_energy)\n",
    "        \n",
    "        print (\"Loaded {} shots\".format(len(DataFluo_pump_shot)))\n",
    "    \n",
    "        DataFluo_pump_shot_norm = DataFluo_pump_shot / IzeroFEL_pump_shot\n",
    "        DataFluo_unpump_shot_norm = DataFluo_unpump_shot / IzeroFEL_unpump_shot\n",
    "        Pump_probe_shot = DataFluo_pump_shot_norm - DataFluo_unpump_shot_norm\n",
    "        \n",
    "        df_pump = pd.DataFrame(DataFluo_pump_shot_norm)\n",
    "        df_unpump = pd.DataFrame(DataFluo_unpump_shot_norm)\n",
    "        df_pump_probe = pd.DataFrame(Pump_probe_shot)\n",
    "              \n",
    "        DataFluo_pump.append(np.quantile(df_pump, quantiles))\n",
    "        DataFluo_unpump.append(np.quantile(df_unpump, quantiles))\n",
    "        Pump_probe.append(np.quantile(df_pump_probe, quantiles))\n",
    "        \n",
    "        Energy_shot = [x for x in Energy_shot if (np.abs(x) > 0)]\n",
    "        Energy_eV.append(np.mean(Energy_shot))\n",
    "    \n",
    "DataFluo_pump = np.asarray(DataFluo_pump)\n",
    "DataFluo_unpump = np.asarray(DataFluo_unpump)\n",
    "Pump_probe = np.asarray(Pump_probe)\n",
    "\n",
    "Energy_eV = np.asarray(Energy_eV)\n",
    "\n",
    "print (\"Job done!\")\n"
   ]
  },
  {
   "cell_type": "code",
   "execution_count": null,
   "metadata": {
    "collapsed": true
   },
   "outputs": [],
   "source": [
    "plt.figure(figsize = (10,5))\n",
    "plt.suptitle(json_file.split('scan_info')[1], fontsize=12)\n",
    "\n",
    "plt.subplot(1,2,1)\n",
    "plt.plot(Energy_eV, DataFluo_unpump[:,0],label='median',marker='.' )\n",
    "plt.fill_between(Energy_eV,np.array(DataFluo_unpump[:,4]),np.array(DataFluo_unpump[:,5]), label='20%', alpha = 0.3)\n",
    "plt.fill_between(Energy_eV,np.array(DataFluo_unpump[:,3]),np.array(DataFluo_unpump[:,6]), label='40%', alpha = 0.3)\n",
    "plt.fill_between(Energy_eV,np.array(DataFluo_unpump[:,2]),np.array(DataFluo_unpump[:,7]), label='60%', alpha = 0.3)\n",
    "plt.fill_between(Energy_eV,np.array(DataFluo_unpump[:,1]),np.array(DataFluo_unpump[:,8]), label='80%', alpha = 0.3)\n",
    "plt.grid()\n",
    "plt.gca().set_title('XAS unpump')\n",
    "plt.legend(loc=\"best\")\n",
    "plt.ylabel(\"XAS ground state\")\n",
    "plt.xlabel(\"Energy (eV)\")\n",
    "\n",
    "plt.subplot(1,2,2)\n",
    "plt.plot(Energy_eV, Pump_probe[:,0],label='median',marker='.' )\n",
    "plt.fill_between(Energy_eV,np.array(Pump_probe[:,4]),np.array(Pump_probe[:,5]), label='20%', alpha = 0.3)\n",
    "plt.fill_between(Energy_eV,np.array(Pump_probe[:,3]),np.array(Pump_probe[:,6]), label='40%', alpha = 0.3)\n",
    "plt.fill_between(Energy_eV,np.array(Pump_probe[:,2]),np.array(Pump_probe[:,7]), label='60%', alpha = 0.3)\n",
    "plt.fill_between(Energy_eV,np.array(Pump_probe[:,1]),np.array(Pump_probe[:,8]), label='80%', alpha = 0.3)\n",
    "plt.grid()\n",
    "plt.gca().set_title('pump probe')\n",
    "plt.legend(loc=\"best\")\n",
    "plt.ylabel(\"Delta XAS\")\n",
    "plt.xlabel(\"Energy (eV)\")\n",
    "\n",
    "plt.show()"
   ]
  },
  {
   "cell_type": "markdown",
   "metadata": {},
   "source": [
    "### Now choose thresholds and quantile"
   ]
  },
  {
   "cell_type": "code",
   "execution_count": null,
   "metadata": {
    "collapsed": true,
    "scrolled": true
   },
   "outputs": [],
   "source": [
    "min_I0 = 0.01\n",
    "min_fluo = 0.001\n",
    "quantile_corr = 0.5\n",
    "\n",
    "########################################################################\n",
    "json_file = DIR_json + scan_name + scan_range + \".json\"\n",
    "print (json_file)\n",
    "\n",
    "with open(json_file) as file:\n",
    "    data = json.load(file)\n",
    "numFiles = len(data['scan_files'])\n",
    "#numFiles = 35\n",
    "\n",
    "print (\"Processing\",numFiles,\"files\")\n",
    "\n",
    "DataFluo_pump = []\n",
    "DataFluo_unpump = []\n",
    "err_DataFluo_pump = []\n",
    "err_DataFluo_unpump = []\n",
    "\n",
    "Pump_probe = []\n",
    "err_Pump_probe = []\n",
    "\n",
    "Energy_eV = []\n",
    "\n",
    "for i in range(0,numFiles):             \n",
    "    filename = str(data['scan_files'][i][0])    \n",
    "    exists = os.path.isfile(filename)\n",
    "    if exists: #and i!=0:\n",
    "        clear_output(wait=True)\n",
    "        print(\"step\",i+1,\"of\",numFiles,\": Processing %s\" %(str(data['scan_files'][i][0])))\n",
    "        \n",
    "        (DataFluo_pump_shot, DataFluo_unpump_shot, IzeroFEL_pump_shot, IzeroFEL_unpump_shot, Energy_shot, \\\n",
    "         DataTrans_pump_shot, DataTrans_unpump_shot) = load_PumpProbe_events(filename, channel_energy)\n",
    "        \n",
    "        print (\"Loaded {} shots\".format(len(DataFluo_pump_shot)))\n",
    "        \n",
    "        threshold_FEL_pump = IzeroFEL_pump_shot > min_I0\n",
    "        threshold_FEL_unpump = IzeroFEL_unpump_shot > min_I0\n",
    "        threshold_fluo_pump = DataFluo_pump_shot > min_fluo\n",
    "        threshold_fluo_unpump = DataFluo_unpump_shot > min_fluo\n",
    "        \n",
    "        thresholds_filter = threshold_FEL_pump & threshold_FEL_unpump & \\\n",
    "                            threshold_fluo_pump & threshold_fluo_unpump\n",
    "\n",
    "        DataFluo_pump_shot = DataFluo_pump_shot[thresholds_filter]\n",
    "        DataFluo_unpump_shot = DataFluo_unpump_shot[thresholds_filter]\n",
    "        IzeroFEL_pump_shot = IzeroFEL_pump_shot[thresholds_filter]\n",
    "        IzeroFEL_unpump_shot = IzeroFEL_unpump_shot[thresholds_filter]\n",
    "        \n",
    "        print (\"survived {}/{} shots\".format(len(DataFluo_pump_shot), len(DataFluo_unpump_shot)))\n",
    "        \n",
    "        DataFluo_pump_shot_norm = DataFluo_pump_shot / IzeroFEL_pump_shot\n",
    "        DataFluo_unpump_shot_norm = DataFluo_unpump_shot / IzeroFEL_unpump_shot\n",
    "        \n",
    "        med = np.median(DataFluo_unpump_shot_norm)\n",
    "        qnt_low = np.quantile(DataFluo_unpump_shot_norm, 0.5 - quantile_corr/2)\n",
    "        qnt_high = np.quantile(DataFluo_unpump_shot_norm, 0.5 + quantile_corr/2)\n",
    "        \n",
    "        condition_corr_unpump_low = DataFluo_unpump_shot_norm > qnt_low\n",
    "        condition_corr_unpump_high = DataFluo_unpump_shot_norm < qnt_high\n",
    "        \n",
    "        med = np.median(DataFluo_pump_shot_norm)\n",
    "        qnt_low = np.quantile(DataFluo_pump_shot_norm, 0.5 - quantile_corr/2)\n",
    "        qnt_high = np.quantile(DataFluo_pump_shot_norm, 0.5 + quantile_corr/2)\n",
    "\n",
    "        condition_corr_pump_low = DataFluo_pump_shot_norm > qnt_low\n",
    "        condition_corr_pump_high = DataFluo_pump_shot_norm < qnt_high\n",
    "        \n",
    "        correlation_filter = condition_corr_unpump_low & condition_corr_unpump_high & \\\n",
    "                             condition_corr_pump_low & condition_corr_pump_high\n",
    "\n",
    "        DataFluo_pump_shot_norm = DataFluo_pump_shot_norm[correlation_filter]\n",
    "        DataFluo_unpump_shot_norm = DataFluo_unpump_shot_norm[correlation_filter]\n",
    "        Pump_probe_shot = DataFluo_pump_shot_norm - DataFluo_unpump_shot_norm\n",
    "        \n",
    "        print (\"survived {}/{} shots\".format(len(DataFluo_pump_shot_norm), len(DataFluo_unpump_shot_norm)))\n",
    "        \n",
    "        df_pump = pd.DataFrame(DataFluo_pump_shot_norm)\n",
    "        df_unpump = pd.DataFrame(DataFluo_unpump_shot_norm)\n",
    "        df_pump_probe = pd.DataFrame(Pump_probe_shot)\n",
    "        \n",
    "        DataFluo_pump.append(np.quantile(df_pump, [0.5, 0, 1]))\n",
    "        DataFluo_unpump.append(np.quantile(df_unpump, [0.5, 0, 1]))\n",
    "        Pump_probe.append(np.quantile(df_pump_probe, [0.5, 0, 1]))\n",
    "        \n",
    "        Energy_shot = [x for x in Energy_shot if (np.abs(x) > 0)]\n",
    "        Energy_eV.append(np.mean(Energy_shot))\n",
    "    \n",
    "DataFluo_pump = np.asarray(DataFluo_pump)\n",
    "DataFluo_unpump = np.asarray(DataFluo_unpump)\n",
    "Pump_probe = np.asarray(Pump_probe)\n",
    "                  \n",
    "Energy_eV = np.asarray(Energy_eV)\n",
    "\n",
    "print (\"Job done!\")\n"
   ]
  },
  {
   "cell_type": "markdown",
   "metadata": {},
   "source": [
    "# Plot energy scans"
   ]
  },
  {
   "cell_type": "code",
   "execution_count": null,
   "metadata": {
    "collapsed": true
   },
   "outputs": [],
   "source": [
    "plt.figure(figsize = (10,5))\n",
    "plt.suptitle(json_file.split('scan_info')[1], fontsize=12)\n",
    "\n",
    "Pump_probe_relative = (DataFluo_pump - DataFluo_unpump) / DataFluo_unpump\n",
    "XAS_pump = DataFluo_pump[:,0]\n",
    "err_low_pump = DataFluo_pump[:,1]\n",
    "err_high_pump = DataFluo_pump[:,2]\n",
    "XAS_unpump = DataFluo_unpump[:,0]\n",
    "err_low_unpump = DataFluo_unpump[:,1]\n",
    "err_high_unpump = DataFluo_unpump[:,2]\n",
    "XAS_pump_probe = Pump_probe[:,0]\n",
    "err_low_pump_probe = Pump_probe[:,1]\n",
    "err_high_pump_probe = Pump_probe[:,2]\n",
    "\n",
    "plt.subplot(1,2,1)\n",
    "plt.plot(Energy_eV, XAS_pump, label='ON, {}%'.format(quantile_corr*100),marker='.')\n",
    "plt.fill_between(Energy_eV, err_low_pump, err_high_pump, color='lightblue')\n",
    "\n",
    "plt.plot(Energy_eV, XAS_unpump, label='OFF, {}%'.format(quantile_corr*100),marker='.')\n",
    "plt.fill_between(Energy_eV, err_low_unpump, err_high_unpump, color='navajowhite')\n",
    "\n",
    "plt.xlabel(\"Energy (eV)\")\n",
    "plt.ylabel (\"XAS (I0 norm)\")\n",
    "plt.gca().set_title('XAS (fluo)')\n",
    "plt.legend(loc=\"best\")\n",
    "plt.grid()\n",
    "\n",
    "plt.subplot(1,2,2)\n",
    "plt.plot(Energy_eV, XAS_pump_probe, label='pump-probe, {}%'.format(quantile_corr*100),color='green', marker='.')\n",
    "plt.fill_between(Energy_eV,err_low_pump_probe, err_high_pump_probe, color='lightgreen')\n",
    "plt.xlabel(\"Energy (eV)\")\n",
    "plt.ylabel (\"DeltaXAS (I0 norm)\")\n",
    "plt.gca().set_title('pump-probe vs energy')\n",
    "plt.legend(loc=\"best\")\n",
    "plt.grid()\n",
    "\n",
    "plt.show()\n",
    "\n"
   ]
  },
  {
   "cell_type": "code",
   "execution_count": null,
   "metadata": {
    "collapsed": true
   },
   "outputs": [],
   "source": []
  },
  {
   "cell_type": "code",
   "execution_count": null,
   "metadata": {
    "collapsed": true
   },
   "outputs": [],
   "source": []
  },
  {
   "cell_type": "code",
   "execution_count": null,
   "metadata": {
    "collapsed": true
   },
   "outputs": [],
   "source": []
  },
  {
   "cell_type": "markdown",
   "metadata": {},
   "source": [
    "## cell to export data"
   ]
  },
  {
   "cell_type": "code",
   "execution_count": null,
   "metadata": {
    "collapsed": true
   },
   "outputs": [],
   "source": [
    "import pandas as pd\n",
    "DIR_save = \"/das/work/p17/p17589/Extract_data_MbNo/\"\n",
    "file2save = DIR_save + scan_name + \".txt\"\n",
    "pd.DataFrame({\n",
    "    'pump_probe': Pump_probe_15uJ,\n",
    "    'signal_on' : DataFluo_pump_15uJ,\n",
    "    'signal_off' : DataFluo_unpump_15uJ,\n",
    "}).to_csv(file2save,index=False)"
   ]
  }
 ],
 "metadata": {
  "kernelspec": {
   "display_name": "Python [conda env:alvra-analysis]",
   "language": "python",
   "name": "conda-env-alvra-analysis-py"
  },
  "language_info": {
   "codemirror_mode": {
    "name": "ipython",
    "version": 3
   },
   "file_extension": ".py",
   "mimetype": "text/x-python",
   "name": "python",
   "nbconvert_exporter": "python",
   "pygments_lexer": "ipython3",
   "version": "3.6.7"
  }
 },
 "nbformat": 4,
 "nbformat_minor": 2
}

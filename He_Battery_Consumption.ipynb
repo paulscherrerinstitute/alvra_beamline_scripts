{
 "cells": [
  {
   "cell_type": "code",
   "execution_count": 2,
   "id": "fe83578c-dfda-48f7-baf4-fbe2ec5b4067",
   "metadata": {},
   "outputs": [
    {
     "name": "stdout",
     "output_type": "stream",
     "text": [
      "[19688.70833333 19689.70833333 19691.5625     19692.70833333]\n"
     ]
    },
    {
     "data": {
      "image/png": "[encoded data removed]",
      "text/plain": [
       "<Figure size 432x288 with 1 Axes>"
      ]
     },
     "metadata": {
      "needs_background": "light"
     },
     "output_type": "display_data"
    },
    {
     "name": "stdout",
     "output_type": "stream",
     "text": [
      "Enddate of battery        : 2024-01-23 19:33:50.830444+00:00\n",
      "Days left at current rate : 53\n"
     ]
    }
   ],
   "source": [
    "import matplotlib.pyplot as plt\n",
    "import matplotlib.dates as mdates\n",
    "import numpy as np\n",
    "from datetime import datetime, timezone\n",
    "\n",
    "x_values = [datetime(2023, 11, 27, 17), \n",
    "            datetime(2023, 11, 28, 17), \n",
    "            datetime(2023, 11, 30, 13, 30),\n",
    "            datetime(2023, 12, 1, 17)]\n",
    "y_values = [300, \n",
    "            295, \n",
    "            283,\n",
    "            280]\n",
    "\n",
    "plt.scatter(x_values, y_values)\n",
    "\n",
    "#find line of best fit\n",
    "xt = mdates.date2num(x_values)\n",
    "print(xt)\n",
    "a, b = np.polyfit(xt, y_values, 1)\n",
    "\n",
    "#add line of best fit to plot\n",
    "plt.plot(xt, a*xt+b,'r--')\n",
    "plt.show()\n",
    "\n",
    "#calculate time remaiing in battery at current consumption rate from linear fit\n",
    "intercept=-b/a\n",
    "enddate = mdates.num2date(intercept)\n",
    "print('Enddate of battery        :', enddate)\n",
    "difference = enddate - datetime.now(timezone.utc)\n",
    "print('Days left at current rate :', difference.days)"
   ]
  },
  {
   "cell_type": "code",
   "execution_count": null,
   "id": "04f6f9bd-1d11-4fb2-81e3-6afb0e61ee8b",
   "metadata": {},
   "outputs": [],
   "source": []
  }
 ],
 "metadata": {
  "kernelspec": {
   "display_name": "Python [conda env:alvra-analysis-p21211]",
   "language": "python",
   "name": "conda-env-alvra-analysis-p21211-py"
  },
  "language_info": {
   "codemirror_mode": {
    "name": "ipython",
    "version": 3
   },
   "file_extension": ".py",
   "mimetype": "text/x-python",
   "name": "python",
   "nbconvert_exporter": "python",
   "pygments_lexer": "ipython3",
   "version": "3.8.10"
  }
 },
 "nbformat": 4,
 "nbformat_minor": 5
}

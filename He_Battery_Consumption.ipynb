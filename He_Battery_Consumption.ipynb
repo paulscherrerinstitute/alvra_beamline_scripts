{
 "cells": [
  {
   "cell_type": "code",
   "execution_count": 12,
   "id": "0363d1da-07a9-44fa-bbcf-4dd47e9d72e0",
   "metadata": {
    "tags": []
   },
   "outputs": [],
   "source": [
    "import matplotlib.pyplot as plt\n",
    "import matplotlib.dates as mdates\n",
    "import numpy as np\n",
    "from datetime import datetime, timezone"
   ]
  },
  {
   "cell_type": "code",
   "execution_count": 13,
   "id": "310e26a7-8fff-4e00-a8b3-b8e35dfc0f2b",
   "metadata": {
    "tags": []
   },
   "outputs": [],
   "source": [
    "pgroup = 'p21600'\n",
    "x_values = [datetime(2024, 2, 6, 7), \n",
    "            datetime(2024, 2, 7, 15), \n",
    "            datetime(2024, 2, 8, 16),\n",
    "            datetime(2024, 2, 9, 10)]\n",
    "y_values = [221, \n",
    "            208, \n",
    "            198,\n",
    "            185]"
   ]
  },
  {
   "cell_type": "code",
   "execution_count": 15,
   "id": "fe83578c-dfda-48f7-baf4-fbe2ec5b4067",
   "metadata": {},
   "outputs": [
    {
     "name": "stdout",
     "output_type": "stream",
     "text": [
      "[19759.29166667 19760.625      19761.66666667 19762.41666667]\n"
     ]
    },
    {
     "data": {
      "image/png": "[encoded data removed]",
      "text/plain": [
       "<Figure size 432x288 with 1 Axes>"
      ]
     },
     "metadata": {
      "needs_background": "light"
     },
     "output_type": "display_data"
    },
    {
     "name": "stdout",
     "output_type": "stream",
     "text": [
      "Enddate of battery        : 2024-02-26 04:49:42.508473+00:00\n",
      "Days left at current rate : 16\n"
     ]
    }
   ],
   "source": [
    "plt.scatter(x_values, y_values)\n",
    "\n",
    "#find line of best fit\n",
    "xt = mdates.date2num(x_values)\n",
    "print(xt)\n",
    "a, b = np.polyfit(xt, y_values, 1)\n",
    "\n",
    "#add line of best fit to plot\n",
    "plt.plot(xt, a*xt+b,'r--')\n",
    "plt.title('{} --- slope: {:.3f}'.format(pgroup, a))\n",
    "plt.grid()\n",
    "plt.tight_layout()\n",
    "plt.show()\n",
    "\n",
    "#calculate time remaiing in battery at current consumption rate from linear fit\n",
    "intercept=-b/a\n",
    "enddate = mdates.num2date(intercept)\n",
    "print('Enddate of battery        :', enddate)\n",
    "difference = enddate - datetime.now(timezone.utc)\n",
    "print('Days left at current rate :', difference.days)"
   ]
  },
  {
   "cell_type": "code",
   "execution_count": null,
   "id": "04f6f9bd-1d11-4fb2-81e3-6afb0e61ee8b",
   "metadata": {},
   "outputs": [],
   "source": []
  }
 ],
 "metadata": {
  "kernelspec": {
   "display_name": "Python [conda env:alvra-analysis-p21211]",
   "language": "python",
   "name": "conda-env-alvra-analysis-p21211-py"
  },
  "language_info": {
   "codemirror_mode": {
    "name": "ipython",
    "version": 3
   },
   "file_extension": ".py",
   "mimetype": "text/x-python",
   "name": "python",
   "nbconvert_exporter": "python",
   "pygments_lexer": "ipython3",
   "version": "3.8.10"
  }
 },
 "nbformat": 4,
 "nbformat_minor": 5
}

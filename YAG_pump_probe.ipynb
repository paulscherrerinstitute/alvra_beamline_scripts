{
 "cells": [
  {
   "cell_type": "code",
   "execution_count": null,
   "metadata": {
    "collapsed": true
   },
   "outputs": [],
   "source": [
    "%matplotlib nbagg\n",
    "import numpy as np\n",
    "import json\n",
    "import os, math\n",
    "import pandas as pd\n",
    "from matplotlib import pyplot as plt\n",
    "from scipy.optimize import curve_fit\n",
    "from IPython.display import clear_output, display\n",
    "\n",
    "from alvra_tools.load_data import *\n",
    "from alvra_tools.channels import *\n",
    "#from alvra_tools.channels_raw import *\n",
    "from alvra_tools.utils import errfunc_sigma, errfunc_fwhm, threshold\n",
    "import glob"
   ]
  },
  {
   "cell_type": "code",
   "execution_count": null,
   "metadata": {
    "collapsed": true,
    "scrolled": true
   },
   "outputs": [],
   "source": [
    "scan_name =\"yag_scan_2.5pink_1\"\n",
    "DIR_json = \"/sf/alvra/data/p18442/res/scan_info/\"\n",
    "DIR = \"/sf/alvra/data/p18442/raw/scan_data/\" + scan_name + \"/\"             #use this for a scan\n",
    "\n",
    "#######################################################################\n",
    "\n",
    "files_scan = glob.glob(DIR_json + scan_name + '.*')\n",
    "print (files_scan)\n",
    "scan_range = '.'+files_scan[-1].split('.')[-2]\n",
    "print (scan_range)\n",
    "\n",
    "!ls -lah -rt $DIR | grep BSREAD.h5\n",
    "!hostname"
   ]
  },
  {
   "cell_type": "markdown",
   "metadata": {},
   "source": [
    "### Next cell: Signal calculated Shot-to-shot and averaged"
   ]
  },
  {
   "cell_type": "code",
   "execution_count": null,
   "metadata": {
    "collapsed": true
   },
   "outputs": [],
   "source": [
    "min_I0 = 0.01\n",
    "min_laser = 0.001\n",
    "quantile_I0 = 1\n",
    "\n",
    "########################################################################\n",
    "json_file = DIR_json + scan_name + scan_range + \".json\"\n",
    "\n",
    "with open(json_file) as file:\n",
    "    data = json.load(file)\n",
    "numFiles = len(data['scan_files'])\n",
    "#numFiles = 15\n",
    "print (\"Processing\",numFiles,\"files\")\n",
    "print (json_file)\n",
    "\n",
    "Pump_probe = []\n",
    "Pump_probe_avg =[]\n",
    "Delay_mm = []\n",
    "\n",
    "Izero_FEL_mean = []\n",
    "err_Izero_FEL_mean = []\n",
    "Izero_FEL_all = []\n",
    "Izero_FEL_all_filter = []\n",
    "\n",
    "PIPS_mean = []\n",
    "BAM_mean = []\n",
    "BAM_error = []\n",
    "\n",
    "for i in range(0,numFiles):\n",
    "    filename = str(data['scan_files'][i][0])\n",
    "    exists = os.path.isfile(filename)\n",
    "\n",
    "    if (exists):# and (i!=12):\n",
    "        clear_output(wait=True)\n",
    "        print(\"step\",i+1,\"of\",numFiles,\": Processing %s\" % (str(data['scan_files'][i][0])))\n",
    "        (Laser_pump, Laser_unpump, Laser_ref_pump, Laser_ref_unpump, Izero_FEL, PIPS, delay, pids_loop) = \\\n",
    "        load_YAG_events(str(data['scan_files'][i][0]))\n",
    "           \n",
    "        threshold_FEL = Izero_FEL > min_I0\n",
    "        \n",
    "        qnt_low = np.quantile(Izero_FEL, 0.5 - quantile_I0/2)\n",
    "        qnt_high = np.quantile(Izero_FEL, 0.5 + quantile_I0/2)\n",
    "        \n",
    "        condition_Izero_low = Izero_FEL > qnt_low\n",
    "        condition_Izero_high = Izero_FEL < qnt_high\n",
    "        condition_laser_pump = Laser_pump > min_laser\n",
    "        condition_laser_unpump = Laser_unpump > min_laser\n",
    "        \n",
    "        combined_filter = threshold_FEL & condition_Izero_low & condition_Izero_high & \\\n",
    "                          condition_laser_pump & condition_laser_unpump\n",
    "        \n",
    "        Laser_pump = Laser_pump[combined_filter]\n",
    "        Laser_unpump = Laser_unpump[combined_filter]\n",
    "        Laser_ref_pump = Laser_ref_pump[combined_filter]\n",
    "        Laser_ref_unpump = Laser_ref_unpump[combined_filter]\n",
    "        Izero_FEL_filter = Izero_FEL[combined_filter]\n",
    "        \n",
    "        print (\"Survived after filtering {} shots each\".format(len(Laser_pump)))\n",
    "        #Laser_diff = -np.log10((Laser_pump/Laser_ref_pump) / (Laser_unpump/ Laser_ref_unpump))\n",
    "        Laser_diff = -np.log10((Laser_pump) / (Laser_unpump))\n",
    "        #Laser_diff = ((Laser_pump) / (Laser_unpump))\n",
    "        \n",
    "        df_pump_probe = pd.DataFrame(Laser_diff)\n",
    "        Pump_probe.append(np.quantile(df_pump_probe, [0.5, 0, 1]))\n",
    "        \n",
    "        Pump = np.median(Laser_pump)\n",
    "        Unpump = np.median(Laser_unpump)\n",
    "        Pump_probe_avg.append(-np.log10((Pump) / (Unpump)))\n",
    "        \n",
    "        Izero_FEL_all_filter.append(Izero_FEL_filter)  \n",
    "        Izero_FEL_mean.append(Izero_FEL_filter.mean())\n",
    "        err_Izero_FEL_mean.append(Izero_FEL_filter.std() / np.sqrt(Izero_FEL_filter.size))\n",
    "        \n",
    "        Delay_mm.append(data['scan_readbacks'][i]) ## Delay from the json file\n",
    "        \n",
    "Pump_probe = np.asarray(Pump_probe)\n",
    "Pump_probe_avg = np.asarray(Pump_probe_avg)\n",
    "\n",
    "Izero_FEL_mean = np.asarray(Izero_FEL_mean)\n",
    "err_Izero_FEL_mean = np.asarray(err_Izero_FEL_mean)\n",
    "\n",
    "Delay_mm = np.asarray(Delay_mm)\n",
    "print (\"PBPS data of the last step have {} shots, avg intensity = {} +/- {}\".format(len(Izero_FEL),round(np.average(Izero_FEL),4), round(np.std(Izero_FEL),4)))\n"
   ]
  },
  {
   "cell_type": "markdown",
   "metadata": {},
   "source": [
    " ### Plot pump probe signals as a function of delay (stage mm)"
   ]
  },
  {
   "cell_type": "code",
   "execution_count": null,
   "metadata": {
    "collapsed": true
   },
   "outputs": [],
   "source": [
    "pp = Pump_probe[:,0]\n",
    "err_pp_low = Pump_probe[:,1]\n",
    "err_pp_high = Pump_probe[:,2]\n",
    "\n",
    "plt.figure(figsize = (10,5))\n",
    "plt.subplot(121)\n",
    "plt.plot(Delay_mm, pp, label='shot-to-shot, {}%'.format(quantile_I0*100), marker='.')\n",
    "plt.fill_between(np.squeeze(Delay_mm), err_pp_low, err_pp_high, color='lightblue')\n",
    "plt.title(scan_name + scan_range)\n",
    "plt.xlabel(\"Delay (mm)\")\n",
    "plt.legend(loc=\"best\")\n",
    "plt.grid()\n",
    "\n",
    "plt.subplot(122)\n",
    "plt.plot(Delay_mm, Pump_probe_avg, label=\"averaged\", color = 'r', marker='.')\n",
    "\n",
    "plt.title(scan_name + scan_range)\n",
    "plt.xlabel(\"Delay (mm)\")\n",
    "plt.legend(loc=\"best\")\n",
    "plt.grid()\n",
    "plt.show()\n",
    "#plt.savefig(savedir + 'LAMcheck_026')"
   ]
  },
  {
   "cell_type": "markdown",
   "metadata": {},
   "source": [
    " ### Extract t0 from the fit "
   ]
  },
  {
   "cell_type": "code",
   "execution_count": null,
   "metadata": {
    "collapsed": true
   },
   "outputs": [],
   "source": [
    "# Get a rough estimate of timezero in mm from the plot just above.\n",
    "Timezero = 160.9\n",
    "\n",
    "Pump_probe_toFit = pp.copy()\n",
    "Delay_mm_toFit = np.copy(Delay_mm.ravel())\n",
    "Delay_ps_toFit = (Delay_mm_toFit - Timezero)*2/(3e8*1e3*1e-12) # change to right t0 !"
   ]
  },
  {
   "cell_type": "code",
   "execution_count": null,
   "metadata": {
    "collapsed": true
   },
   "outputs": [],
   "source": [
    "# Now fit with error funciton\n",
    "index = ~(np.isnan(Delay_mm_toFit) | np.isnan(Pump_probe_toFit))\n",
    "\n",
    "parameters_mm,extras = curve_fit(errfunc_fwhm, Delay_mm_toFit[index], Pump_probe_toFit[index], p0 = [0, 0.2, Timezero, 0.5])\n",
    "t0_mm = parameters_mm[2]\n",
    "width_mm = parameters_mm[3]\n",
    "\n",
    "print(\"Position t0 =\",np.round(t0_mm,5),\"mm\")\n",
    "print(\"Width =\",np.abs(np.round(width_mm,3))*1000,\"um\")"
   ]
  },
  {
   "cell_type": "code",
   "execution_count": null,
   "metadata": {
    "collapsed": true
   },
   "outputs": [],
   "source": [
    "# Now fit IN TIME with error funciton (defined above)\n",
    "index = ~(np.isnan(Delay_ps_toFit) | np.isnan(Pump_probe_toFit))\n",
    "parameters_ps,extras = curve_fit(errfunc_fwhm, Delay_ps_toFit[index], Pump_probe_toFit[index], p0 = [0, 0.2, 0, 100])\n",
    "t0_ps = parameters_ps[2]\n",
    "width_ps = parameters_ps[3]\n",
    "\n",
    "print(\"Position t0 =\",np.round(t0_ps,5),\"ps\")\n",
    "print(\"Width =\",np.abs(np.round(width_ps,5))*1000,\"fs\")"
   ]
  },
  {
   "cell_type": "code",
   "execution_count": null,
   "metadata": {
    "collapsed": true
   },
   "outputs": [],
   "source": [
    "#... and the plot with the fit curves\n",
    "\n",
    "plt.figure(figsize = (10,5))\n",
    "plt.subplot(121)\n",
    "\n",
    "plt.plot(Delay_mm_toFit, pp, label='pump probe, {}%'.format(quantile_I0*100),marker='.')\n",
    "plt.fill_between(np.squeeze(Delay_mm_toFit), err_pp_low, err_pp_high, color='lightblue')\n",
    "plt.plot(Delay_mm_toFit, errfunc_fwhm(Delay_mm_toFit,*parameters_mm))\n",
    "plt.grid()\n",
    "plt.xlabel(\"delay (mm)\")\n",
    "plt.legend(loc=\"best\")\n",
    "plt.gca().set_title('Pump-probe vs Delay (mm)')\n",
    "plt.legend(loc=\"best\")\n",
    "plt.title('t0=' + str(np.round(t0_mm, 5)) + ' mm' )\n",
    "\n",
    "\n",
    "plt.subplot(122)\n",
    "\n",
    "plt.plot(Delay_ps_toFit*1000, pp, label='pump probe, {}%'.format(quantile_I0*100),marker='.')\n",
    "plt.fill_between(np.squeeze(Delay_ps_toFit*1000), err_pp_low, err_pp_high, color='lightblue')\n",
    "plt.plot(Delay_ps_toFit*1000, errfunc_fwhm(Delay_ps_toFit,*parameters_ps))\n",
    "plt.grid()\n",
    "plt.xlabel(\"delay (fs)\")\n",
    "plt.legend(loc=\"best\")\n",
    "plt.gca().set_title('width = {} fs'.format(np.abs(round(width_ps, 5))*1000))\n",
    "plt.legend(loc=\"best\")\n",
    "#plt.title('width=' + str(np.round(width_ps_ps, 5)) + ' fs' )\n",
    "\n",
    "print ('t0 = {} mm'.format(np.round(t0_mm, 5)))\n",
    "plt.show()"
   ]
  },
  {
   "cell_type": "code",
   "execution_count": null,
   "metadata": {
    "collapsed": true
   },
   "outputs": [],
   "source": []
  },
  {
   "cell_type": "code",
   "execution_count": null,
   "metadata": {
    "collapsed": true
   },
   "outputs": [],
   "source": []
  },
  {
   "cell_type": "code",
   "execution_count": null,
   "metadata": {
    "collapsed": true
   },
   "outputs": [],
   "source": [
    "time_zero =  149.6658   #this is in mm from the delay scans (offset of 70 um due to air vs He[100 mbar])\n",
    "\n",
    "desidered_delay = 3        #choose this in ps\n",
    "\n",
    "delay_to_set = (100/(2*333))*desidered_delay + time_zero        #factor of 2 because of the delay stage\n",
    "\n",
    "desidered_delay + time_zero\n",
    "print (\"To be at\",desidered_delay,\"ps, put the laser pump delay stage to\",np.round(delay_to_set,4),\"mm\")"
   ]
  },
  {
   "cell_type": "code",
   "execution_count": null,
   "metadata": {
    "collapsed": true
   },
   "outputs": [],
   "source": [
    "offset_space = 50       # this is in um\n",
    "\n",
    "offset_time = 2*(offset_space * 1e-6)/3e8/1e-15            #factor of 2 because of the delay stage, results in fs\n",
    "print (\"An offset of\",offset_space,\"um corresponds to an offset of\",np.round(offset_time,4),\"fs\")"
   ]
  },
  {
   "cell_type": "code",
   "execution_count": null,
   "metadata": {
    "collapsed": true
   },
   "outputs": [],
   "source": [
    "offset_time = 140      # this is in fs\n",
    "\n",
    "offset_space = 3e8 * (offset_time * 1e-15)/2/1e-6          #factor of 2 because of the delay stage, results in um\n",
    "print (\"An offset of\",offset_time,\"fs corresponds to an offset of\",np.round(offset_space,4),\"um\")"
   ]
  },
  {
   "cell_type": "code",
   "execution_count": null,
   "metadata": {
    "collapsed": true
   },
   "outputs": [],
   "source": [
    "195.2-(105.9-88.35)"
   ]
  },
  {
   "cell_type": "code",
   "execution_count": null,
   "metadata": {
    "collapsed": true
   },
   "outputs": [],
   "source": [
    "# Check if the condition on the intensity makes sense by looking at the total histogram. §\n",
    "\n",
    "Izero_total_1D = np.hstack(Izero_FEL_all)\n",
    "Izero_total_1D_filter = np.hstack(Izero_FEL_all_filter)\n",
    "\n",
    "print (\"Total shots=\",Izero_total_1D.size,\"// filtered=,\",Izero_total_1D_filter.size)\n",
    "plt.figure()\n",
    "\n",
    "### ALL STEPS ###\n",
    "plt.hist(Izero_total_1D_filter, bins = np.arange(0,2,0.01), facecolor='red', alpha=0.5)\n",
    "plt.hist(Izero_total_1D, bins = np.arange(0,2,0.01), facecolor='blue', alpha=0.5)\n",
    "\n",
    "### ONLY THE LAST STEP ###\n",
    "#plt.hist(Izero_FEL, bins = np.arange(0,1.5,0.01), facecolor='blue', alpha=0.5)\n",
    "#plt.hist(Izero_FEL_filter, bins = np.arange(0,1.5,0.01), facecolor='orange', alpha=0.5)\n",
    "\n",
    "plt.xlim(0,2)\n",
    "plt.title(DIR)\n",
    "\n",
    "plt.show()"
   ]
  },
  {
   "cell_type": "code",
   "execution_count": null,
   "metadata": {
    "collapsed": true
   },
   "outputs": [],
   "source": []
  }
 ],
 "metadata": {
  "kernelspec": {
   "display_name": "Python [conda env:alvra-analysis]",
   "language": "python",
   "name": "conda-env-alvra-analysis-py"
  },
  "language_info": {
   "codemirror_mode": {
    "name": "ipython",
    "version": 3
   },
   "file_extension": ".py",
   "mimetype": "text/x-python",
   "name": "python",
   "nbconvert_exporter": "python",
   "pygments_lexer": "ipython3",
   "version": "3.6.7"
  }
 },
 "nbformat": 4,
 "nbformat_minor": 2
}

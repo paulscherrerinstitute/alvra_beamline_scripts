{
 "cells": [
  {
   "cell_type": "code",
   "execution_count": null,
   "metadata": {
    "collapsed": true
   },
   "outputs": [],
   "source": [
    "%matplotlib nbagg\n",
    "import numpy as np\n",
    "import json\n",
    "import os, math\n",
    "import pandas as pd\n",
    "from matplotlib import pyplot as plt\n",
    "from scipy.optimize import curve_fit\n",
    "from IPython.display import clear_output, display\n",
    "\n",
    "from alvra_tools.load_data import *\n",
    "from alvra_tools.channels import *\n",
    "#from alvra_tools.channels_raw import *\n",
    "from alvra_tools.utils import errfunc_sigma, errfunc_fwhm, threshold\n",
    "import glob"
   ]
  },
  {
   "cell_type": "code",
   "execution_count": null,
   "metadata": {
    "scrolled": true
   },
   "outputs": [],
   "source": [
    "scan_name =\"SiN_timingHe_3\"\n",
    "DIR_json = \"/sf/alvra/data/p18182/res/scan_info/\"\n",
    "DIR = \"/sf/alvra/data/p18182/raw/scan_data/\" + scan_name + \"/\"             #use this for a scan\n",
    "\n",
    "#######################################################################\n",
    "\n",
    "files_scan = glob.glob(DIR_json + scan_name + '.*')\n",
    "print (files_scan)\n",
    "scan_range = '.'+files_scan[-1].split('.')[-2]\n",
    "print (scan_range)\n",
    "\n",
    "!ls -lah -rt $DIR | grep BSREAD.h5\n",
    "!hostname"
   ]
  },
  {
   "cell_type": "markdown",
   "metadata": {},
   "source": [
    "### Next cell: Signal calculated Shot-to-shot and averaged"
   ]
  },
  {
   "cell_type": "code",
   "execution_count": null,
   "metadata": {
    "scrolled": false
   },
   "outputs": [],
   "source": [
    "quantile_laser = 0.5\n",
    "\n",
    "########################################################################\n",
    "json_file = DIR_json + scan_name + scan_range + \".json\"\n",
    "\n",
    "with open(json_file) as file:\n",
    "    data = json.load(file)\n",
    "numFiles = len(data['scan_files'])\n",
    "#numFiles = 1\n",
    "print (\"Processing\",numFiles,\"files\")\n",
    "print (json_file)\n",
    "\n",
    "Pump_probe_all = []\n",
    "Pump_probe = []\n",
    "Pump_probe_avg =[]\n",
    "Delay_mm = []\n",
    "\n",
    "for i in range(0,numFiles):\n",
    "    filename = str(data['scan_files'][i][0])\n",
    "    testdata = check_files_and_data(filename)\n",
    "\n",
    "    if (testdata):# and (i!=12):\n",
    "        clear_output(wait=True)\n",
    "        print(\"step\",i+1,\"of\",numFiles,\": Processing %s\" % (str(data['scan_files'][i][0])))\n",
    "        \n",
    "        (Laser_pump, Laser_unpump, Laser_ref_pump, Laser_ref_unpump, Izero_FEL, PIPS, delay, pids_loop) = \\\n",
    "        load_YAG_events(str(data['scan_files'][i][0]))\n",
    "        \n",
    "        #Laser_diff = -np.log10((Laser_pump/Laser_ref_pump) / (Laser_unpump/ Laser_ref_unpump))\n",
    "        Laser_diff = -np.log10((Laser_pump) / (Laser_unpump))\n",
    "        #Laser_diff = ((Laser_pump) / (Laser_unpump))\n",
    "        Pump_probe_all.append(Laser_diff)\n",
    "        df_pump_probe = pd.DataFrame(Laser_diff)\n",
    "        Pump_probe.append(np.nanquantile(df_pump_probe, [0.5, 0.5 - quantile_laser/2, 0.5 + quantile_laser/2]))\n",
    "            \n",
    "        Pump = np.median(Laser_pump)\n",
    "        Unpump = np.median(Laser_unpump)\n",
    "        Pump_probe_avg.append(-np.log10((Pump) / (Unpump)))\n",
    "        \n",
    "        Delay_mm.append(data['scan_readbacks'][i]) ## Delay from the json file\n",
    "\n",
    "Pump_probe_all = np.asarray(Pump_probe_all)\n",
    "Pump_probe = np.asarray(Pump_probe)\n",
    "Pump_probe_avg = np.asarray(Pump_probe_avg)\n",
    "\n",
    "Delay_mm = np.asarray(Delay_mm)\n",
    "print (\"PBPS data of the last step have {} shots, avg intensity = {} +/- {}\".format(len(Izero_FEL),round(np.average(Izero_FEL),4), round(np.std(Izero_FEL),4)))\n",
    "print (\"Quantile range = {}\".format(0.5 - quantile_laser/2), 0.5 + quantile_laser/2)\n",
    "print (\"Loaded {} files, size of the arrays = {}\".format(numFiles, len(Pump_probe)))\n"
   ]
  },
  {
   "cell_type": "markdown",
   "metadata": {},
   "source": [
    " ### Plot pump probe signals as a function of delay (stage mm)"
   ]
  },
  {
   "cell_type": "code",
   "execution_count": null,
   "metadata": {},
   "outputs": [],
   "source": [
    "pp = Pump_probe[:,0]\n",
    "err_pp_low = Pump_probe[:,1]\n",
    "err_pp_high = Pump_probe[:,2]\n",
    "\n",
    "plt.figure(figsize = (11,5))\n",
    "plt.suptitle (scan_name + scan_range)\n",
    "plt.subplot(131)\n",
    "for i in range(len(Delay_mm)):\n",
    "    xe = Delay_mm[i]\n",
    "    ye = Pump_probe_all[i,:]\n",
    "    plt.plot([xe] * len(ye), ye, 'r.', ms=.5, alpha=0.8)\n",
    "plt.plot(Delay_mm, pp, label='shot-to-shot, {}%'.format(quantile_laser*100), marker='.')\n",
    "plt.xlabel(\"Delay (mm)\")\n",
    "plt.legend(loc=\"best\")\n",
    "plt.grid()\n",
    "\n",
    "plt.subplot(132)\n",
    "plt.plot(Delay_mm, pp, label='shot-to-shot, {}%'.format(quantile_laser*100), marker='.')\n",
    "plt.fill_between(np.squeeze(Delay_mm), err_pp_low, err_pp_high, color='lightblue')\n",
    "plt.xlabel(\"Delay (mm)\")\n",
    "plt.legend(loc=\"best\")\n",
    "plt.grid()\n",
    "\n",
    "plt.subplot(133)\n",
    "plt.plot(Delay_mm, Pump_probe_avg, label=\"averaged\", color = 'r', marker='.')\n",
    "plt.xlabel(\"Delay (mm)\")\n",
    "plt.legend(loc=\"best\")\n",
    "plt.grid()\n",
    "plt.show()\n",
    "#plt.savefig(savedir + 'LAMcheck_026')"
   ]
  },
  {
   "cell_type": "markdown",
   "metadata": {},
   "source": [
    " ### Extract t0 from the fit "
   ]
  },
  {
   "cell_type": "code",
   "execution_count": null,
   "metadata": {
    "collapsed": true
   },
   "outputs": [],
   "source": [
    "# Get a rough estimate of timezero in mm from the plot just above.\n",
    "Timezero = 163.03148\n",
    "\n",
    "Pump_probe_toFit = pp.copy()\n",
    "Delay_mm_toFit = np.copy(Delay_mm.ravel())\n",
    "Delay_ps_toFit = (Delay_mm_toFit - Timezero)*2/(3e8*1e3*1e-12) # change to right t0 !"
   ]
  },
  {
   "cell_type": "code",
   "execution_count": null,
   "metadata": {},
   "outputs": [],
   "source": [
    "# Now fit with error funciton\n",
    "index = ~(np.isnan(Delay_mm_toFit) | np.isnan(Pump_probe_toFit))\n",
    "\n",
    "parameters_mm,extras = curve_fit(errfunc_fwhm, Delay_mm_toFit[index], Pump_probe_toFit[index], p0 = [0, 0.2, Timezero, 0.5])\n",
    "t0_mm = parameters_mm[2]\n",
    "width_mm = parameters_mm[3]\n",
    "\n",
    "print(\"Position t0 =\",np.round(t0_mm,5),\"mm\")\n",
    "print(\"Width =\",np.abs(np.round(width_mm,3))*1000,\"um\")"
   ]
  },
  {
   "cell_type": "code",
   "execution_count": null,
   "metadata": {},
   "outputs": [],
   "source": [
    "# Now fit IN TIME with error funciton (defined above)\n",
    "index = ~(np.isnan(Delay_ps_toFit) | np.isnan(Pump_probe_toFit))\n",
    "parameters_ps,extras = curve_fit(errfunc_fwhm, Delay_ps_toFit[index], Pump_probe_toFit[index], p0 = [0, 0.2, 0, 100])\n",
    "t0_ps = parameters_ps[2]\n",
    "width_ps = parameters_ps[3]\n",
    "\n",
    "print(\"Position t0 =\",np.round(t0_ps,5),\"ps\")\n",
    "print(\"Width =\",np.abs(np.round(width_ps,5))*1000,\"fs\")"
   ]
  },
  {
   "cell_type": "code",
   "execution_count": null,
   "metadata": {},
   "outputs": [],
   "source": [
    "#... and the plot with the fit curves\n",
    "\n",
    "plt.figure(figsize = (10,5))\n",
    "plt.suptitle (scan_name + scan_range)\n",
    "plt.subplot(121)\n",
    "\n",
    "plt.plot(Delay_mm_toFit, pp, label='pump probe, {}%'.format(quantile_laser*100),marker='.')\n",
    "plt.fill_between(np.squeeze(Delay_mm_toFit), err_pp_low, err_pp_high, color='lightblue')\n",
    "plt.plot(Delay_mm_toFit, errfunc_fwhm(Delay_mm_toFit,*parameters_mm))\n",
    "plt.grid()\n",
    "plt.xlabel(\"delay (mm)\")\n",
    "plt.legend(loc=\"best\")\n",
    "plt.gca().set_title('Pump-probe vs Delay (mm)')\n",
    "plt.legend(loc=\"best\")\n",
    "plt.title('t0=' + str(np.round(t0_mm, 5)) + ' mm' )\n",
    "\n",
    "\n",
    "plt.subplot(122)\n",
    "\n",
    "plt.plot(Delay_ps_toFit*1000, pp, label='pump probe, {}%'.format(quantile_laser*100),marker='.')\n",
    "plt.fill_between(np.squeeze(Delay_ps_toFit*1000), err_pp_low, err_pp_high, color='lightblue')\n",
    "plt.plot(Delay_ps_toFit*1000, errfunc_fwhm(Delay_ps_toFit,*parameters_ps))\n",
    "plt.grid()\n",
    "plt.xlabel(\"delay (fs)\")\n",
    "plt.legend(loc=\"best\")\n",
    "plt.gca().set_title('width = {} fs'.format(np.abs(round(width_ps, 5))*1000))\n",
    "plt.legend(loc=\"best\")\n",
    "#plt.title('width=' + str(np.round(width_ps_ps, 5)) + ' fs' )\n",
    "\n",
    "print ('t0 = {} mm'.format(np.round(t0_mm, 5)))\n",
    "plt.show()"
   ]
  },
  {
   "cell_type": "code",
   "execution_count": null,
   "metadata": {
    "collapsed": true
   },
   "outputs": [],
   "source": []
  },
  {
   "cell_type": "code",
   "execution_count": null,
   "metadata": {
    "collapsed": true
   },
   "outputs": [],
   "source": []
  },
  {
   "cell_type": "code",
   "execution_count": null,
   "metadata": {
    "collapsed": true
   },
   "outputs": [],
   "source": []
  },
  {
   "cell_type": "markdown",
   "metadata": {
    "collapsed": true
   },
   "source": [
    "# From here with TT (PALM) jitter correction"
   ]
  },
  {
   "cell_type": "code",
   "execution_count": null,
   "metadata": {
    "collapsed": true
   },
   "outputs": [],
   "source": [
    "import photodiag\n",
    "\n",
    "#DIRcalib = '/sf/photo/src/PALM/calib/'\n",
    "#DIRcalib = '/sf/photo/src/PALM/calib/Alvra'\n",
    "DIRcalib = '/sf/alvra/data/p18182/res/PhotoDiag/scan_info/'\n",
    "\n",
    "CalibrationFn = DIRcalib + '2020-01-25_16:28:32.palm_etof'\n",
    "\n",
    "energyFrom =  8400\n",
    "energyTo =    8600\n",
    "energySteps = 2000\n",
    "palm = photodiag.PalmSetup({'0': 'SAROP11-PALMK118:CH1_BUFFER', '1': 'SAROP11-PALMK118:CH2_BUFFER'},\n",
    "                 noise_range=[0, 250],\n",
    "                 energy_range=np.linspace(energyFrom, energyTo, energySteps))\n",
    "\n",
    "palm.load_etof_calib(CalibrationFn)"
   ]
  },
  {
   "cell_type": "code",
   "execution_count": null,
   "metadata": {},
   "outputs": [],
   "source": [
    "quantile_laser = 0.5\n",
    "ev2fsCalib= -20.723024835035712    # This is from THz scan_508\n",
    "Timezero = 163.03148              # This is from above\n",
    "modulo = 2                        # This is for FEL/50Hz -- laser/100Hz\n",
    "                \n",
    "########################################################################\n",
    "\n",
    "\n",
    "###########################################################################################\n",
    "json_file = DIR_json + scan_name + scan_range + \".json\"\n",
    "\n",
    "with open(json_file) as file:\n",
    "    data = json.load(file)\n",
    "numFiles = len(data['scan_files'])\n",
    "#numFiles = 1\n",
    "print (\"Processing\",numFiles,\"files\")\n",
    "print (json_file)\n",
    "\n",
    "Pump_probe = []\n",
    "Pump_probe_avg =[]\n",
    "Pump_probe_all = []\n",
    "Delays_stage_mm = []\n",
    "Delays_PALM_all = []\n",
    "\n",
    "for i in range(0,numFiles):\n",
    "    filename = str(data['scan_files'][i][0])\n",
    "    testdata = check_files_and_data(filename)\n",
    "\n",
    "    if (testdata):# and (i!=12):\n",
    "        clear_output(wait=True)\n",
    "        print(\"step\",i+1,\"of\",numFiles,\": Processing %s\" % (str(data['scan_files'][i][0])))\n",
    "        \n",
    "        # Load pump probe data:\n",
    "        (Laser_pump, Laser_unpump, Laser_ref_pump, Laser_ref_unpump, Izero_FEL, PIPS, delays_stage_mm, pids_loop) = \\\n",
    "        load_YAG_events(filename)\n",
    "        \n",
    "        # Load PALM data:\n",
    "        pulse_id_PALM, delays_PALM_eV, _, (input_data, lags, cross_corr, _) = palm.process_hdf5_file(filename, debug=True)\n",
    "       \n",
    "        # Load pump-unpump scheme:\n",
    "        (reprate_light, reprate_dark), mod_out = load_reprates_FEL_pump(filename)\n",
    "        \n",
    "        pulse_id_PALM = pulse_id_PALM[:len(reprate_light)]\n",
    "        delays_PALM_eV = delays_PALM_eV[:len(reprate_light)]\n",
    "        cross_corr = cross_corr[:len(reprate_light)]\n",
    "        input_data_0 = input_data['0'][:][:len(reprate_light)]\n",
    "        input_data_1 = input_data['1'][:][:len(reprate_light)]\n",
    "        \n",
    "        delays_PALM_fs = delays_PALM_eV * ev2fsCalib\n",
    "        \n",
    "        #Laser_diff = -np.log10((Laser_pump/Laser_ref_pump) / (Laser_unpump/ Laser_ref_unpump))\n",
    "        Laser_diff = -np.log10((Laser_pump) / (Laser_unpump))\n",
    "        #Laser_diff = ((Laser_pump) / (Laser_unpump))\n",
    "        #delays_stage_fs =(delays_stage_mm - Timezero)*2/(3e8*1e3*1e-15) # change to right t0 !\n",
    "        \n",
    "        fullArraySize = int(len(delays_PALM_fs)/mod_out)\n",
    "        \n",
    "        beamOK = (np.amax(input_data_0,axis=1) > 0.1)# & (delays !=0.0)\n",
    "        \n",
    "        delays_beamOK_light = delays_PALM_fs[beamOK & reprate_light]\n",
    "        cross_corr_OK = cross_corr[beamOK & reprate_light]\n",
    "        pulseID_OK = pulse_id_PALM[beamOK & reprate_light]\n",
    "        refData_OK = input_data_0[beamOK & reprate_light]\n",
    "        StrData_OK = input_data_1[beamOK & reprate_light]\n",
    "                                  \n",
    "        shots2pad = fullArraySize - len(delays_beamOK_light)\n",
    "        print ('Modulo is {}, light shots are {}, need to pad {} shots'.format(mod_out, len(delays_beamOK_light), shots2pad))\n",
    "        delays_beamOK_light = np.pad(delays_beamOK_light, (0, shots2pad), constant_values=np.NaN)\n",
    "    \n",
    "#        Laser_diff = Laser_diff[beamOK & reprate_light]\n",
    "                       \n",
    "        df_pump_probe = pd.DataFrame(Laser_diff)\n",
    "        Pump_probe.append(np.quantile(df_pump_probe, [0.5, 0.5 - quantile_laser/2, 0.5 + quantile_laser/2]))\n",
    "            \n",
    "        Pump = np.median(Laser_pump)\n",
    "        Unpump = np.median(Laser_unpump)\n",
    "        Pump_probe_avg.append(-np.log10((Pump) / (Unpump)))\n",
    "        \n",
    "        Delays_stage_mm.append(data['scan_readbacks'][i]) ## Delay from the json file\n",
    "        Delays_PALM_all.append(delays_beamOK_light)\n",
    "        \n",
    "        Pump_probe_all.append(Laser_diff)\n",
    "\n",
    "Pump_probe = np.asarray(Pump_probe)\n",
    "Pump_probe_avg = np.asarray(Pump_probe_avg)\n",
    "Pump_probe_all = np.asarray(Pump_probe_all)\n",
    "Delays_stage_mm = np.asarray(Delays_stage_mm)\n",
    "Delays_PALM_all = np.asarray(Delays_PALM_all)\n",
    "        \n",
    "Delays_stage_fs = (Delays_stage_mm - Timezero)*2/(3e8*1e3*1e-15) # change to right t0 !\n",
    "\n",
    "print (\"PBPS data of the last step have {} shots, avg intensity = {} +/- {}\".format(len(Izero_FEL),round(np.average(Izero_FEL),4), round(np.std(Izero_FEL),4)))\n",
    "print (\"Quantile range = {}\".format(0.5 - quantile_laser/2), 0.5 + quantile_laser/2)\n",
    "print (\"Loaded {} files, size of the arrays = {}\".format(numFiles, len(Pump_probe)))"
   ]
  },
  {
   "cell_type": "code",
   "execution_count": null,
   "metadata": {},
   "outputs": [],
   "source": [
    "Delays_PALM_all.shape"
   ]
  },
  {
   "cell_type": "code",
   "execution_count": null,
   "metadata": {},
   "outputs": [],
   "source": [
    "plt.figure(figsize=(10,5))\n",
    "plt.suptitle(DIR)\n",
    "\n",
    "plt.subplot(121)\n",
    "plt.hist((Delays_PALM_all[0,:]-np.nanmean(Delays_PALM_all)), bins =np.arange(-100,100,5), facecolor='blue', \\\n",
    "         label=\"sigma = {} fs\".format(np.round(np.nanstd(Delays_PALM_all[0,:]-np.nanmean(Delays_PALM_all)), 3), alpha=0.5))\n",
    "plt.title('single run')\n",
    "plt.legend(loc=\"best\")\n",
    "plt.xlabel ('delay (fs)')\n",
    "plt.show()\n",
    "\n",
    "plt.subplot(122)\n",
    "plt.hist((Delays_PALM_all.ravel()-np.nanmean(Delays_PALM_all)), bins =np.arange(-100,100,5), facecolor='blue', \\\n",
    "         label=\"sigma = {} fs\".format(np.round(np.nanstd(Delays_PALM_all.ravel()-np.nanmean(Delays_PALM_all)), 3), alpha=0.5))\n",
    "plt.title('all runs')\n",
    "plt.legend(loc=\"best\")\n",
    "plt.xlabel ('delay (fs)')\n",
    "plt.show()"
   ]
  },
  {
   "cell_type": "code",
   "execution_count": null,
   "metadata": {
    "collapsed": true
   },
   "outputs": [],
   "source": [
    "def CorrectJitterSignal(DelaysPALM_fs, DelaysSTAGE_fs, Signal, reBinFac, quantile_rebin):\n",
    "    print (DelaysPALM_fs.shape, DelaysSTAGE_fs.shape, Signal.shape)\n",
    "    #Delaystmp = DelaysRAW#*calibPALM\n",
    "    CorrectedTime = DelaysSTAGE_fs + ((DelaysPALM_fs)-(np.nanmean(DelaysPALM_fs)))\n",
    "    PALMSteps =  DelaysSTAGE_fs.shape[0]*reBinFac\n",
    "    CorrectedTime = CorrectedTime.ravel()\n",
    "    binsCentre = np.linspace(DelaysSTAGE_fs[0], DelaysSTAGE_fs[-1], PALMSteps)\n",
    "    \n",
    "    digi = np.digitize(CorrectedTime, binsCentre[:,0])\n",
    "    \n",
    "    signalProc = []\n",
    "    signalProcSS = []\n",
    "    Num_points = []\n",
    "    \n",
    "    for i in range(PALMSteps):\n",
    "        ind = digi==i+1\n",
    "        num_points = np.count_nonzero(ind)\n",
    "        #signalProc.append(np.nanmedian(Signal[ind]))\n",
    "        signalProcSS.append(Signal[ind])\n",
    "        Num_points.append(num_points)\n",
    "        df_signal = pd.DataFrame(Signal[ind])\n",
    "        signalProc.append(np.nanquantile(df_signal, [0.5, 0.5 - quantile_rebin/2, 0.5 + quantile_rebin/2]))\n",
    "        \n",
    "        \n",
    "    signalProc= np.array(signalProc)\n",
    "    signalProcSS= np.array(signalProcSS)\n",
    "    Num_points = np.asarray(Num_points)\n",
    "\n",
    "    return binsCentre, CorrectedTime, signalProc, signalProcSS, Num_points"
   ]
  },
  {
   "cell_type": "code",
   "execution_count": null,
   "metadata": {},
   "outputs": [],
   "source": [
    "quantile_reBin = 0.5\n",
    "reBin_factor = 2\n",
    "\n",
    "############################################################################\n",
    "\n",
    "BinsCentre, CorrectedTime, Signal, SignalSS, ShotsPerBin = \\\n",
    "CorrectJitterSignal(Delays_PALM_all, Delays_stage_fs, Pump_probe_all.ravel(), reBin_factor, quantile_reBin)"
   ]
  },
  {
   "cell_type": "code",
   "execution_count": null,
   "metadata": {},
   "outputs": [],
   "source": [
    "sig = Signal[:,0]\n",
    "err_sig_low = Signal[:,1]\n",
    "err_sig_high = Signal[:,2]\n",
    "\n",
    "plt.figure(figsize = (8,5))\n",
    "plt.title (scan_name + scan_range)\n",
    "\n",
    "#for i in range(len(BinsCentre)):\n",
    "#    xe = BinsCentre[i]\n",
    "#    ye = SigSS[i]\n",
    "#    plt.plot([xe] * ShotsPerBin[i], ye, 'r.', ms=.5, alpha=0.8)\n",
    "plt.plot (np.squeeze(BinsCentre), sig, label='Re-binned, factor {}, {}%  '.format(reBin_factor, quantile_reBin*100), marker = '.')\n",
    "plt.fill_between(np.squeeze(BinsCentre), err_sig_low, err_sig_high, color='lightblue',  alpha = 0.5)\n",
    "\n",
    "plt.plot(Delay_ps_toFit*1000, pp, label='original, {}%'.format(quantile_laser*100), color = 'r', marker='.', alpha = 0.75)\n",
    "#plt.fill_between(np.squeeze(Delay_ps_toFit*1000), err_pp_low, err_pp_high, color='navajowhite',  alpha = 0.3)\n",
    "\n",
    "plt.legend(loc=\"best\")\n",
    "plt.xlabel(\"delay (fs)\")\n",
    "plt.grid()\n",
    "plt.show()"
   ]
  },
  {
   "cell_type": "code",
   "execution_count": null,
   "metadata": {
    "collapsed": true
   },
   "outputs": [],
   "source": []
  },
  {
   "cell_type": "code",
   "execution_count": null,
   "metadata": {
    "collapsed": true
   },
   "outputs": [],
   "source": []
  },
  {
   "cell_type": "code",
   "execution_count": null,
   "metadata": {
    "collapsed": true
   },
   "outputs": [],
   "source": []
  },
  {
   "cell_type": "code",
   "execution_count": null,
   "metadata": {
    "collapsed": true
   },
   "outputs": [],
   "source": []
  },
  {
   "cell_type": "code",
   "execution_count": null,
   "metadata": {
    "collapsed": true
   },
   "outputs": [],
   "source": [
    "time_zero =  149.6658   #this is in mm from the delay scans (offset of 70 um due to air vs He[100 mbar])\n",
    "\n",
    "desidered_delay = 3        #choose this in ps\n",
    "\n",
    "delay_to_set = (100/(2*333))*desidered_delay + time_zero        #factor of 2 because of the delay stage\n",
    "\n",
    "desidered_delay + time_zero\n",
    "print (\"To be at\",desidered_delay,\"ps, put the laser pump delay stage to\",np.round(delay_to_set,4),\"mm\")"
   ]
  },
  {
   "cell_type": "code",
   "execution_count": null,
   "metadata": {
    "collapsed": true
   },
   "outputs": [],
   "source": [
    "offset_space = 50       # this is in um\n",
    "\n",
    "offset_time = 2*(offset_space * 1e-6)/3e8/1e-15            #factor of 2 because of the delay stage, results in fs\n",
    "print (\"An offset of\",offset_space,\"um corresponds to an offset of\",np.round(offset_time,4),\"fs\")"
   ]
  },
  {
   "cell_type": "code",
   "execution_count": null,
   "metadata": {
    "collapsed": true
   },
   "outputs": [],
   "source": [
    "offset_time = 140      # this is in fs\n",
    "\n",
    "offset_space = 3e8 * (offset_time * 1e-15)/2/1e-6          #factor of 2 because of the delay stage, results in um\n",
    "print (\"An offset of\",offset_time,\"fs corresponds to an offset of\",np.round(offset_space,4),\"um\")"
   ]
  },
  {
   "cell_type": "code",
   "execution_count": null,
   "metadata": {
    "collapsed": true
   },
   "outputs": [],
   "source": [
    "195.2-(105.9-88.35)"
   ]
  },
  {
   "cell_type": "code",
   "execution_count": null,
   "metadata": {
    "collapsed": true
   },
   "outputs": [],
   "source": [
    "# Check if the condition on the intensity makes sense by looking at the total histogram. §\n",
    "\n",
    "Izero_total_1D = np.hstack(Izero_FEL_all)\n",
    "Izero_total_1D_filter = np.hstack(Izero_FEL_all_filter)\n",
    "\n",
    "print (\"Total shots=\",Izero_total_1D.size,\"// filtered=,\",Izero_total_1D_filter.size)\n",
    "plt.figure()\n",
    "\n",
    "### ALL STEPS ###\n",
    "plt.hist(Izero_total_1D_filter, bins = np.arange(0,2,0.01), facecolor='red', alpha=0.5)\n",
    "plt.hist(Izero_total_1D, bins = np.arange(0,2,0.01), facecolor='blue', alpha=0.5)\n",
    "\n",
    "### ONLY THE LAST STEP ###\n",
    "#plt.hist(Izero_FEL, bins = np.arange(0,1.5,0.01), facecolor='blue', alpha=0.5)\n",
    "#plt.hist(Izero_FEL_filter, bins = np.arange(0,1.5,0.01), facecolor='orange', alpha=0.5)\n",
    "\n",
    "plt.xlim(0,2)\n",
    "plt.title(DIR)\n",
    "\n",
    "plt.show()"
   ]
  },
  {
   "cell_type": "code",
   "execution_count": null,
   "metadata": {
    "collapsed": true
   },
   "outputs": [],
   "source": []
  }
 ],
 "metadata": {
  "kernelspec": {
   "display_name": "Python [conda env:alvra-analysis]",
   "language": "python",
   "name": "conda-env-alvra-analysis-py"
  },
  "language_info": {
   "codemirror_mode": {
    "name": "ipython",
    "version": 3
   },
   "file_extension": ".py",
   "mimetype": "text/x-python",
   "name": "python",
   "nbconvert_exporter": "python",
   "pygments_lexer": "ipython3",
   "version": "3.6.7"
  }
 },
 "nbformat": 4,
 "nbformat_minor": 2
}

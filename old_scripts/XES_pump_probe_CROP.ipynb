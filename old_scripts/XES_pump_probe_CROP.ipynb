{
 "cells": [
  {
   "cell_type": "code",
   "execution_count": null,
   "metadata": {
    "collapsed": true
   },
   "outputs": [],
   "source": [
    "%matplotlib nbagg\n",
    "import jungfrau_utils as ju\n",
    "import numpy as np\n",
    "import json\n",
    "import os\n",
    "import time\n",
    "from matplotlib import pyplot as plt\n",
    "from scipy.optimize import curve_fit\n",
    "from IPython.display import clear_output, display\n",
    "\n",
    "import h5py\n",
    "\n",
    "from alvra_tools import *\n",
    "from alvra_tools.channels import *\n",
    "#from alvra_tools.channels_raw import *"
   ]
  },
  {
   "cell_type": "code",
   "execution_count": null,
   "metadata": {
    "scrolled": true
   },
   "outputs": [],
   "source": [
    "#scan_name =\"Ru_foil_monoscan_001\"\n",
    "scan_name =\"XES-L-cystine-timescan\"\n",
    "\n",
    "DIR_raw = \"/sf/alvra/data/p18387/raw/scan_data/XES-L-cystine-timescan/\"\n",
    "DIR_json = \"/sf/alvra/data/p18387/res/scan_info/\"\n",
    "\n",
    "DIR_res = \"/das/work/p18/p18387/data/scan_data/XES-L-cystine-timescan/\"         # reconverted\n",
    "#DIR_res = \"/sf/alvra/data/p18387/res/data/scan_data/XES-L-cystine-timescan/\"    # old conversion\n",
    "\n",
    "!ls -lah -t $DIR_res\n",
    "\n",
    "!hostname\n",
    "\n",
    "listfile = os.listdir(DIR_res)\n",
    "number_files = len(listfile)\n",
    "print (\"There are\",number_files,\"files in the folder\", DIR_res)"
   ]
  },
  {
   "cell_type": "code",
   "execution_count": null,
   "metadata": {},
   "outputs": [],
   "source": [
    "fn_crop = \"run_001714.JF02T09V02.h5\"\n",
    "jf_file_crop = h5py.File(DIR_res + fn_crop, \"r\")\n",
    "print (jf_file_crop)\n",
    "print(list(jf_file_crop.keys()))\n",
    "\n",
    "imagesROI2 = jf_file_crop[\"data/JF02T09V02/data_roi_2\"]\n",
    "pulse_IDs = jf_file_crop[\"data/JF02T09V02/pulse_id\"]\n",
    "\n",
    "h5py.File.close\n",
    "imagesROI2[0][:].shape"
   ]
  },
  {
   "cell_type": "code",
   "execution_count": null,
   "metadata": {
    "collapsed": true
   },
   "outputs": [],
   "source": [
    "img = imagesROI2[0][:]\n",
    "img[img < 2] = 0\n",
    "img[img > 10] = 0"
   ]
  },
  {
   "cell_type": "code",
   "execution_count": null,
   "metadata": {},
   "outputs": [],
   "source": [
    "plt.figure()\n",
    "plt.imshow(img, origin=\"lower\", aspect='auto', vmin=0, vmax=1)\n",
    "plt.show()"
   ]
  },
  {
   "cell_type": "code",
   "execution_count": null,
   "metadata": {},
   "outputs": [],
   "source": [
    "plt.figure()\n",
    "plt.plot(img.sum(axis = 0), label=\"No Thr\", marker='.')\n",
    "plt.show()"
   ]
  },
  {
   "cell_type": "code",
   "execution_count": null,
   "metadata": {},
   "outputs": [],
   "source": [
    "nframes =len(pulse_IDs)\n",
    "#nframes = 10\n",
    "print (nframes)\n",
    "\n",
    "total_roi = 0\n",
    "total_roi_thr = 0\n",
    "threshold_low = 2\n",
    "threshold_high = 10\n",
    "\n",
    "for i in range(nframes):\n",
    "    image_roi = imagesROI2[i][:]\n",
    "    image_roi_thr = image_roi\n",
    "    total_roi += image_roi\n",
    "    image_roi_thr[image_roi_thr < threshold_low] = 0\n",
    "    image_roi_thr[image_roi_thr > threshold_high] = 0\n",
    "    #image_roi_thr = convert_to_photon_num_range(image_roi_thr)\n",
    "    total_roi_thr += image_roi_thr\n",
    "    \n",
    "total_line = total_roi.sum(axis = 0)\n",
    "total_linethr = total_roi_thr.sum(axis = 0)\n",
    "    \n",
    "plt.figure(figsize = (10,5))\n",
    "plt.subplots_adjust(wspace=0.5)\n",
    "\n",
    "plt.subplot(121)\n",
    "plt.plot(total_line, label=\"No Thr\", marker='.')\n",
    "plt.legend(loc=\"best\")\n",
    "plt.title(jf_file_crop)\n",
    "\n",
    "plt.subplot(122)\n",
    "plt.plot(total_linethr, label=\"with Thr\", marker='.')\n",
    "plt.legend(loc=\"best\")\n",
    "plt.title(\"Low=\" + str(threshold_low) +\" & High=\"+ str(threshold_high))\n",
    "#plt.ylim((0,100))"
   ]
  },
  {
   "cell_type": "markdown",
   "metadata": {},
   "source": [
    "# New script in the next cell (single file)"
   ]
  },
  {
   "cell_type": "code",
   "execution_count": null,
   "metadata": {},
   "outputs": [],
   "source": [
    "#from glob import glob\n",
    "#files = sorted(glob(DIR + \"*\"))\n",
    "\n",
    "files = [\"run_001714\"]\n",
    "#files = [\"RuBpy3_monoscan_006_step00{}\".format(i) for i in range(15, 36)]\n",
    "#files = [\"run_000{}\".format(i) for i in list(range(386, 400))+list(range(405, 410))]\n",
    "\n",
    "threshold_low = 2\n",
    "threshold_high = 10\n",
    "Timezero = 194.6     ## This is mm from the stage\n",
    "\n",
    "######################################################################################\n",
    "clock = Clock()\n",
    "spectrum_ON_roi0 = 0\n",
    "spectrum_OFF_roi0 = 0\n",
    "spectrum_ON_roi1 = 0\n",
    "spectrum_OFF_roi1 = 0\n",
    "spectrum_ON_roi2 = 0\n",
    "spectrum_OFF_roi2 = 0\n",
    "spectrum_ON_roi3 = 0\n",
    "spectrum_OFF_roi3 = 0\n",
    "energy_eV = 0\n",
    "j = 0\n",
    "        \n",
    "for f in files:\n",
    "    j +=1\n",
    "    JF_single_file_crop = DIR_res + f + \".JF02T09V02.h5\"\n",
    "    BS_single_file = DIR_raw + f + \".BSREAD.h5\"\n",
    "    #print(\"Processing file %s\" % (JF_single_file_crop))\n",
    "    \n",
    "    print(\"\\nFile\", j, \"of\", len(files), \": Processing:\", JF_single_file_crop.split(\"/\")[-1])\n",
    "    \n",
    "    nshots = None  # put this to None for ALL images\n",
    "#   nshots = None\n",
    "\n",
    "    delay, pids = load_single_channel_pulseID(BS_single_file, channel_delay, 50)\n",
    "    delay = [x for x in delay if (x > 0)]\n",
    "    Delay_mm_single = np.mean(delay)\n",
    "    Delay_ps_single = (Delay_mm_single - Timezero)*2/(3e8*1e3*1e-12) # in ps, change to right t0 !\n",
    "    \n",
    "    with h5py.File(JF_single_file_crop, \"r\") as juf:\n",
    "        imagesROI1 = juf[\"data/JF02T09V02/data_roi_1\"][:nshots]\n",
    "        ROI1 = juf[\"data/JF02T09V02/roi_1\"][:]\n",
    "        imagesROI2 = juf[\"data/JF02T09V02/data_roi_2\"][:nshots]\n",
    "        ROI2 = juf[\"data/JF02T09V02/roi_2\"][:]\n",
    "        pulse_ids = juf[\"data/JF02T09V02/pulse_id\"][:nshots].T[0]\n",
    "        frames = len(pulse_ids)\n",
    "        \n",
    "        print (\"Found {} shots\".format(frames))\n",
    "        \n",
    "    reprate_on, reprate_off = load_data._make_reprates_on_off(pulse_ids, 50, 25)\n",
    "    \n",
    "    imagesROI2_ON  = imagesROI2[reprate_on]\n",
    "    imagesROI2_OFF  = imagesROI2[reprate_off]\n",
    "    imagesROI1_ON  = imagesROI1[reprate_on]\n",
    "    imagesROI1_OFF  = imagesROI1[reprate_off]\n",
    "    pulse_ids_on    = pulse_ids[reprate_on]\n",
    "    pulse_ids_off   = pulse_ids[reprate_off]\n",
    "    \n",
    "    imagesROI2_ON_thr = imagesROI2_ON.copy()\n",
    "    imagesROI2_ON_thr[imagesROI2_ON < threshold_low] = 0\n",
    "    imagesROI2_ON_thr[imagesROI2_ON > threshold_high] = 0\n",
    "    \n",
    "    imagesROI2_OFF_thr = imagesROI2_OFF.copy()\n",
    "    imagesROI2_OFF_thr[imagesROI2_OFF < threshold_low] = 0\n",
    "    imagesROI2_OFF_thr[imagesROI2_OFF > threshold_high] = 0\n",
    "    \n",
    "    imagesROI1_ON_thr = imagesROI1_ON.copy()\n",
    "    imagesROI1_ON_thr[imagesROI1_ON < threshold_low] = 0\n",
    "    imagesROI1_ON_thr[imagesROI1_ON > threshold_high] = 0\n",
    "    \n",
    "    imagesROI1_OFF_thr = imagesROI1_OFF.copy()\n",
    "    imagesROI1_OFF_thr[imagesROI1_OFF < threshold_low] = 0\n",
    "    imagesROI1_OFF_thr[imagesROI1_OFF > threshold_high] = 0\n",
    "    \n",
    "    spectrum_ON_roi2  = imagesROI2_ON_thr.sum(axis = 1).sum(axis = 0)\n",
    "    spectrum_OFF_roi2 = imagesROI2_OFF_thr.sum(axis = 1).sum(axis = 0)\n",
    "    spectrum_ON_roi1  = imagesROI1_ON_thr.sum(axis = 1).sum(axis = 0)\n",
    "    spectrum_OFF_roi1 = imagesROI1_OFF_thr.sum(axis = 1).sum(axis = 0)\n",
    "    \n",
    "    spectrum_ON_roi2 = spectrum_ON_roi2.astype('float32')\n",
    "    spectrum_OFF_roi2 = spectrum_OFF_roi2.astype('float32') \n",
    "    spectrum_ON_roi1 = spectrum_ON_roi1.astype('float32')\n",
    "    spectrum_OFF_roi1 = spectrum_OFF_roi1.astype('float32') \n",
    "    \n",
    "#\n",
    "    print (\"It took\", clock.tick(), \"seconds to process this file\")\n",
    "    \n",
    "print (\"\\nJob done! It took\", clock.tock(), \"seconds to process\", len(files), \"file(s)\")\n"
   ]
  },
  {
   "cell_type": "markdown",
   "metadata": {},
   "source": [
    "### ROI1: Kbeta"
   ]
  },
  {
   "cell_type": "code",
   "execution_count": null,
   "metadata": {},
   "outputs": [],
   "source": [
    "bin_ = 1   # change the bin size if wanted, 1 is every pixel\n",
    "\n",
    "spectra_on = spectrum_ON_roi1.copy()\n",
    "spectra_off = spectrum_OFF_roi1.copy()\n",
    "\n",
    "x_axis = np.arange(ROI1[1][0],ROI1[1][1])\n",
    "\n",
    "spectra_on_rebin1  = bin_sum(spectra_on,  bin_)\n",
    "spectra_off_rebin1 = bin_sum(spectra_off, bin_)\n",
    "x_axis_rebin1 = bin_mean(x_axis, bin_)\n",
    "\n",
    "spectra_on_err1  = np.sqrt(spectra_on_rebin1)\n",
    "spectra_off_err1 = np.sqrt(spectra_off_rebin1)\n",
    "\n",
    "#spectrumAllOutFoc=spectra_on_rebin1 + spectra_off_rebin1\n",
    "plt.figure()\n",
    "plt.subplot(211)\n",
    "plt.title(scan_name + \", delay = {} ps\".format(str(np.round(Delay_ps_single,3))))\n",
    "plt.plot(x_axis_rebin1, spectra_on_rebin1, label=\"ON\", marker='.')\n",
    "plt.plot(x_axis_rebin1, spectra_off_rebin1, label=\"OFF\", marker='.')\n",
    "plt.legend(loc=\"best\")\n",
    "plt.grid()\n",
    "\n",
    "#plt.title(jf_file)\n",
    "\n",
    "low_err= (spectra_on_rebin1 - spectra_off_rebin1)-np.sqrt(spectra_on_err1**2+spectra_off_err1**2)\n",
    "high_err= (spectra_on_rebin1 - spectra_off_rebin1)+np.sqrt(spectra_on_err1**2+spectra_off_err1**2)\n",
    "#x_axis_rebin1,\n",
    "plt.subplot(212)\n",
    "plt.plot(x_axis_rebin1,spectra_on_rebin1 - spectra_off_rebin1, label=\"ON - OFF\",marker='.')\n",
    "#plt.plot(spectra_on_rebin1 - spectra_off_rebin1, label=\"ON - OFF\",marker='.')\n",
    "plt.xlabel(\"JF pixel\")\n",
    "plt.grid()\n",
    "\n",
    "\n",
    "plt.legend(loc=\"best\")\n",
    "plt.fill_between(x_axis_rebin1, low_err, high_err, color='lightblue')\n",
    "plt.show()"
   ]
  },
  {
   "cell_type": "code",
   "execution_count": null,
   "metadata": {
    "collapsed": true
   },
   "outputs": [],
   "source": [
    "def edge_removal(module_edge, roi_removal, array):\n",
    "    index_edge = module_edge - roi_removal[1][0]\n",
    "    array_input = array.copy()\n",
    "    print (array[index_edge-1:index_edge+3])\n",
    "    array[index_edge] = array[index_edge-1]/2\n",
    "    array[index_edge-1] = array[index_edge-1]/2\n",
    "\n",
    "    array[index_edge+1] = array[index_edge+2]/2\n",
    "    array[index_edge+2] = array[index_edge+2]/2 \n",
    "    print (array[index_edge-1:index_edge+3])\n",
    "    return array, array_input"
   ]
  },
  {
   "cell_type": "code",
   "execution_count": null,
   "metadata": {},
   "outputs": [],
   "source": [
    "spectrum_ON_roi2, spectrum_ON_roi2_orig = edge_removal(6472, ROI2, spectrum_ON_roi2) \n",
    "spectrum_OFF_roi2, spectrum_OFF_roi2_orig = edge_removal(6472, ROI2, spectrum_OFF_roi2) "
   ]
  },
  {
   "cell_type": "code",
   "execution_count": null,
   "metadata": {},
   "outputs": [],
   "source": [
    "bin_ = 1   # change the bin size if wanted, 1 is every pixel\n",
    "\n",
    "spectra_on = spectrum_ON_roi2.copy()\n",
    "spectra_off = spectrum_OFF_roi2.copy()\n",
    "\n",
    "x_axis = np.arange(ROI2[1][0],ROI2[1][1])\n",
    "\n",
    "spectra_on_rebin1  = bin_sum(spectra_on,  bin_)\n",
    "spectra_off_rebin1 = bin_sum(spectra_off, bin_)\n",
    "x_axis_rebin1 = bin_mean(x_axis, bin_)\n",
    "\n",
    "spectra_on_err1  = np.sqrt(spectra_on_rebin1)\n",
    "spectra_off_err1 = np.sqrt(spectra_off_rebin1)\n",
    "\n",
    "#spectrumAllOutFoc=spectra_on_rebin1 + spectra_off_rebin1\n",
    "plt.figure()\n",
    "plt.subplot(211)\n",
    "plt.title(scan_name + \", delay = {} ps\".format(str(np.round(Delay_ps_single,3))))\n",
    "plt.plot(x_axis_rebin1, spectra_on_rebin1, label=\"ON\", marker='.')\n",
    "plt.plot(x_axis_rebin1, spectra_off_rebin1, label=\"OFF\", marker='.')\n",
    "plt.legend(loc=\"best\")\n",
    "plt.grid()\n",
    "\n",
    "#plt.title(jf_file)\n",
    "\n",
    "low_err= (spectra_on_rebin1 - spectra_off_rebin1)-np.sqrt(spectra_on_err1**2+spectra_off_err1**2)\n",
    "high_err= (spectra_on_rebin1 - spectra_off_rebin1)+np.sqrt(spectra_on_err1**2+spectra_off_err1**2)\n",
    "#x_axis_rebin1,\n",
    "plt.subplot(212)\n",
    "plt.plot(x_axis_rebin1,spectra_on_rebin1 - spectra_off_rebin1, label=\"ON - OFF\",marker='.')\n",
    "#plt.plot(spectra_on_rebin1 - spectra_off_rebin1, label=\"ON - OFF\",marker='.')\n",
    "plt.xlabel(\"JF pixel\")\n",
    "plt.grid()\n",
    "\n",
    "\n",
    "plt.legend(loc=\"best\")\n",
    "plt.fill_between(x_axis_rebin1, low_err, high_err, color='lightblue')\n",
    "plt.show()"
   ]
  },
  {
   "cell_type": "markdown",
   "metadata": {},
   "source": [
    "# New script in the next cell (scans) "
   ]
  },
  {
   "cell_type": "code",
   "execution_count": null,
   "metadata": {
    "collapsed": true
   },
   "outputs": [],
   "source": [
    "run_start = 1751\n",
    "run_end = 1767\n",
    "first_file = 45\n",
    "#1751 - 1767\n",
    "num_files = run_end - run_start + 1\n",
    "print (num_files)\n",
    "\n",
    "from glob import glob\n",
    "print (DIR_res + scan_name)\n",
    "scan_data = list((sorted(glob(DIR_res + \"*\"))))\n",
    "scan_data_scan = list(scan_data[first_file:first_file + num_files])\n",
    "scan_data_scan"
   ]
  },
  {
   "cell_type": "code",
   "execution_count": null,
   "metadata": {
    "collapsed": true,
    "scrolled": true
   },
   "outputs": [],
   "source": [
    "scan_name = \"XES-L-cystine-timescan\"          # you need to change only this name\n",
    "scan_range =\".run001802-001818\"\n",
    "\n",
    "threshold_low = 2\n",
    "threshold_high = 10\n",
    "\n",
    "\n",
    "######################################################################################\n",
    "#from glob import glob\n",
    "#scan_data = list(reversed(sorted(glob(DIR + \"*\"))))\n",
    "\n",
    "fn_json = DIR_json + scan_name + scan_range + \".json\"\n",
    "scan_data_json = load_scan_data(fn_json)\n",
    "\n",
    "Energy_eV = []\n",
    "Delay_mm = []\n",
    "\n",
    "XES_transient_roi1 =[]\n",
    "XES_transient_roi2 = []\n",
    "\n",
    "clock = Clock()\n",
    "num_scan_files = len(scan_data_scan)\n",
    "print(\"\\nProcessing\", num_scan_files, \"files total\")\n",
    "\n",
    "for i, fn in enumerate(scan_data_scan):\n",
    "    \n",
    "    juf_scan = scan_data_scan[i]\n",
    "    bsf_scan = scan_data_json[i][0]\n",
    "    \n",
    "    print(\"\\nFile\", i+1, \"of\", num_scan_files, \": Processing:\", juf_scan)\n",
    "    print(bsf_scan)\n",
    "    \n",
    "    nshots = None  # put this to None for ALL images\n",
    "#   nshots = None\n",
    "    \n",
    "    energy, pids = load_single_channel_pulseID(bsf_scan, channel_energy, 50)\n",
    "    energy = [x for x in energy if (x > 0)]\n",
    "    Energy_eV.append(np.mean(energy))\n",
    "    \n",
    "    delay, pids = load_single_channel_pulseID(bsf_scan, channel_delay, 50)\n",
    "    delay = [x for x in delay if (x > 0)]\n",
    "    Delay_mm.append(np.mean(delay))\n",
    "    \n",
    "    with h5py.File(juf_scan, \"r\") as juf:\n",
    "        imagesROI1 = juf[\"data/JF02T09V02/data_roi_1\"][:nshots]\n",
    "        ROI1 = juf[\"data/JF02T09V02/roi_1\"][:]\n",
    "        imagesROI2 = juf[\"data/JF02T09V02/data_roi_2\"][:nshots]\n",
    "        ROI2 = juf[\"data/JF02T09V02/roi_2\"][:]\n",
    "        pulse_ids = juf[\"data/JF02T09V02/pulse_id\"][:nshots].T[0]\n",
    "        frames = len(pulse_ids)\n",
    "        \n",
    "    print (\"Found {} shots\".format(frames))\n",
    "    \n",
    "    reprate_on, reprate_off = load_data._make_reprates_on_off(pulse_ids, 50, 25)\n",
    "    \n",
    "    imagesROI2_ON  = imagesROI2[reprate_on]\n",
    "    imagesROI2_OFF  = imagesROI2[reprate_off]\n",
    "    imagesROI1_ON  = imagesROI1[reprate_on]\n",
    "    imagesROI1_OFF  = imagesROI1[reprate_off]\n",
    "    pulse_ids_on    = pulse_ids[reprate_on]\n",
    "    pulse_ids_off   = pulse_ids[reprate_off]\n",
    "    \n",
    "    imagesROI2_ON_thr = imagesROI2_ON.copy()\n",
    "    imagesROI2_ON_thr[imagesROI2_ON < threshold_low] = 0\n",
    "    imagesROI2_ON_thr[imagesROI2_ON > threshold_high] = 0\n",
    "    \n",
    "    imagesROI2_OFF_thr = imagesROI2_OFF.copy()\n",
    "    imagesROI2_OFF_thr[imagesROI2_OFF < threshold_low] = 0\n",
    "    imagesROI2_OFF_thr[imagesROI2_OFF > threshold_high] = 0\n",
    "    \n",
    "    imagesROI1_ON_thr = imagesROI1_ON.copy()\n",
    "    imagesROI1_ON_thr[imagesROI1_ON < threshold_low] = 0\n",
    "    imagesROI1_ON_thr[imagesROI1_ON > threshold_high] = 0\n",
    "    \n",
    "    imagesROI1_OFF_thr = imagesROI1_OFF.copy()\n",
    "    imagesROI1_OFF_thr[imagesROI1_OFF < threshold_low] = 0\n",
    "    imagesROI1_OFF_thr[imagesROI1_OFF > threshold_high] = 0\n",
    "    \n",
    "    spectrum_ON_roi2  = imagesROI2_ON_thr.sum(axis = 1).sum(axis = 0)\n",
    "    spectrum_OFF_roi2 = imagesROI2_OFF_thr.sum(axis = 1).sum(axis = 0)\n",
    "    spectrum_ON_roi1  = imagesROI1_ON_thr.sum(axis = 1).sum(axis = 0)\n",
    "    spectrum_OFF_roi1 = imagesROI1_OFF_thr.sum(axis = 1).sum(axis = 0)\n",
    "    \n",
    "    spectrum_ON_roi2 = spectrum_ON_roi2.astype('float32')\n",
    "    spectrum_OFF_roi2 = spectrum_OFF_roi2.astype('float32') \n",
    "    spectrum_ON_roi1 = spectrum_ON_roi1.astype('float32')\n",
    "    spectrum_OFF_roi1 = spectrum_OFF_roi1.astype('float32') \n",
    "    \n",
    "    XES_transient_roi1.append(np.abs(spectrum_ON_roi1 - spectrum_OFF_roi1))\n",
    "    XES_transient_roi2.append(np.abs(spectrum_ON_roi2 - spectrum_OFF_roi2))\n",
    "\n",
    "    print (\"It took\", clock.tick(), \"seconds to process this file\")\n",
    "    clear_output(wait=True)\n",
    "XES_transient_roi1=np.array(XES_transient_roi1)\n",
    "XES_transient_roi2=np.array(XES_transient_roi2)\n",
    "Energy_eV = np.array(Energy_eV)\n",
    "Delay_mm = np.array(Delay_mm)\n",
    "\n",
    "print (\"\\nJob done! It took\", clock.tock(), \"seconds to process\", num_scan_files, \"file(s)\")\n"
   ]
  },
  {
   "cell_type": "code",
   "execution_count": null,
   "metadata": {
    "collapsed": true
   },
   "outputs": [],
   "source": [
    "Timezero = 194.6   # position of Timezero on PP delay (in mm!)\n",
    "Delay_ps = (Delay_mm - Timezero)*2/(3e8*1e3*1e-12) # change to right t0 !\n",
    "\n",
    "plt.figure(figsize=(8,4))\n",
    "plt.subplot(121)\n",
    "plt.plot(Delay_ps,XES_transient_roi2.sum(axis = 1), label = \"roi2, Ka\", marker ='.')\n",
    "plt.legend(loc=\"best\")\n",
    "plt.ylabel(\"Signal\")\n",
    "plt.xlabel(\"Delay (ps)\")\n",
    "\n",
    "plt.subplot(122)\n",
    "plt.plot(Delay_ps,XES_transient_roi1.sum(axis = 1), label = \"roi1, Kb\", marker ='.')\n",
    "plt.legend(loc=\"best\")\n",
    "plt.xlabel(\"Delay (ps)\")\n",
    "\n",
    "\n",
    "plt.title(scan_name)\n",
    "plt.show()"
   ]
  },
  {
   "cell_type": "code",
   "execution_count": null,
   "metadata": {
    "collapsed": true
   },
   "outputs": [],
   "source": [
    "scan6 = (XES_transient_roi1.sum(axis = 1)).copy()\n",
    "delay6 = Delay_ps.copy()"
   ]
  },
  {
   "cell_type": "code",
   "execution_count": null,
   "metadata": {
    "collapsed": true
   },
   "outputs": [],
   "source": [
    "plt.figure(figsize=(8,4))\n",
    "#plt.title(scan_name)\n",
    "plt.subplot(121)\n",
    "\n",
    "plt.plot(delay1,scan1, label = \"scan1 run001702-001721, 20k\", marker ='.')\n",
    "plt.plot(delay2,scan2, label = \"scan2 run001734-001750, 20k\", marker ='.')\n",
    "plt.xlabel(\"Delay (ps)\")\n",
    "plt.ylabel(\"Signal\")\n",
    "plt.legend(loc=\"best\")\n",
    "plt.grid()\n",
    "\n",
    "plt.subplot(122)\n",
    "plt.plot(delay3,scan3, label = \"scan3 run001751-001767, 5k\", marker ='.')\n",
    "plt.plot(delay4,scan4, label = \"scan4 run001768-001784, 5k\", marker ='.')\n",
    "plt.plot(delay5,scan5, label = \"scan5 run001785-001801, 5k\", marker ='.')\n",
    "plt.plot(delay6,scan6, label = \"scan6 run001802-001818, 5k\", marker ='.')\n",
    "\n",
    "\n",
    "plt.xlabel(\"Delay (ps)\")\n",
    "\n",
    "\n",
    "plt.legend(loc=\"best\")\n",
    "plt.grid()\n",
    "\n",
    "plt.show()\n"
   ]
  },
  {
   "cell_type": "code",
   "execution_count": null,
   "metadata": {
    "collapsed": true
   },
   "outputs": [],
   "source": []
  },
  {
   "cell_type": "code",
   "execution_count": null,
   "metadata": {
    "collapsed": true
   },
   "outputs": [],
   "source": []
  },
  {
   "cell_type": "code",
   "execution_count": null,
   "metadata": {
    "collapsed": true
   },
   "outputs": [],
   "source": []
  },
  {
   "cell_type": "code",
   "execution_count": null,
   "metadata": {
    "collapsed": true
   },
   "outputs": [],
   "source": []
  },
  {
   "cell_type": "code",
   "execution_count": null,
   "metadata": {
    "collapsed": true,
    "scrolled": false
   },
   "outputs": [],
   "source": [
    "roi1 = [4300, 4600]\n",
    "roi2 = [4950, 5250]\n",
    "roi3 = [8500, 8700]\n",
    "roi4 = [6950, 7250]\n",
    "\n",
    "plt.figure(figsize=(5,9))\n",
    "plt.subplots_adjust(hspace=0.5)\n",
    "\n",
    "plt.subplot(311)\n",
    "plt.imshow(RIXS_pumped_roi2, aspect = 'auto', cmap = \"bwr\", origin =\"lower\", extent=[roi2[0], roi2[1], Energy_eV[0], Energy_eV[-1]], vmin=0, vmax=100)\n",
    "plt.title(\"RIXS unpumped\")\n",
    "plt.colorbar()\n",
    "plt.show()\n",
    "\n",
    "plt.subplot(312)\n",
    "plt.imshow(RIXS_pumped_roi2, aspect = 'auto', cmap = \"bwr\", origin =\"lower\", extent=[roi2[0], roi2[1], Energy_eV[0], Energy_eV[-1]], vmin=0, vmax=100)\n",
    "plt.title(\"RIXS pumped\")\n",
    "plt.colorbar()\n",
    "plt.show()\n",
    "\n",
    "plt.subplot(313)\n",
    "plt.imshow(RIXS_transient_roi2, aspect = 'auto', cmap = \"rainbow\", origin =\"lower\", extent=[roi2[0], roi2[1], Energy_eV[0], Energy_eV[-1]], vmin=-30, vmax=30)\n",
    "plt.title(\"RIXS transient\")\n",
    "plt.colorbar()\n",
    "plt.show()"
   ]
  },
  {
   "cell_type": "markdown",
   "metadata": {},
   "source": [
    "# Next cells: old code (still works...)"
   ]
  },
  {
   "cell_type": "markdown",
   "metadata": {
    "collapsed": true
   },
   "source": [
    "# Set the ROIs (roi1 & roi2 in pixels) in the next cell"
   ]
  },
  {
   "cell_type": "markdown",
   "metadata": {},
   "source": [
    "# The next cell is to analyse a single file or a series of identical ones to be summed up"
   ]
  },
  {
   "cell_type": "code",
   "execution_count": null,
   "metadata": {
    "collapsed": true
   },
   "outputs": [],
   "source": []
  }
 ],
 "metadata": {
  "kernelspec": {
   "display_name": "Python [conda env:alvra-analysis-p18387]",
   "language": "python",
   "name": "conda-env-alvra-analysis-p18387-py"
  },
  "language_info": {
   "codemirror_mode": {
    "name": "ipython",
    "version": 3
   },
   "file_extension": ".py",
   "mimetype": "text/x-python",
   "name": "python",
   "nbconvert_exporter": "python",
   "pygments_lexer": "ipython3",
   "version": "3.6.7"
  }
 },
 "nbformat": 4,
 "nbformat_minor": 2
}

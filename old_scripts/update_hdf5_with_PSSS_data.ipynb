{
 "cells": [
  {
   "cell_type": "code",
   "execution_count": null,
   "metadata": {
    "collapsed": true
   },
   "outputs": [],
   "source": [
    "import numpy as np\n",
    "import json\n",
    "import os\n",
    "from matplotlib import pyplot as plt\n",
    "#from astropy.modeling import models, fitting\n",
    "\n",
    "import jungfrau_utils as ju\n",
    "from alvra_tools import *\n",
    "from alvra_tools.utils import errfunc_sigma, errfunc_fwhm\n",
    "from alvra_tools.channels import *\n",
    "import csv"
   ]
  },
  {
   "cell_type": "markdown",
   "metadata": {},
   "source": [
    "### Location of the BSREAD file with PSSS data and the file with corrected images"
   ]
  },
  {
   "cell_type": "code",
   "execution_count": null,
   "metadata": {
    "collapsed": true
   },
   "outputs": [],
   "source": [
    "bsread_file = \"/sf/alvra/data/p18389/raw/test_PSSS/run_000015.BSREAD.h5\"\n",
    "images_file = \"/sf/alvra/data/p18389/raw/test_PSSS/run_000016.JF06T08V01.h5\""
   ]
  },
  {
   "cell_type": "markdown",
   "metadata": {},
   "source": [
    "### Load the PSSS data from BSREAD file using alvra_tools"
   ]
  },
  {
   "cell_type": "code",
   "execution_count": null,
   "metadata": {
    "collapsed": true
   },
   "outputs": [],
   "source": [
    "(Energy, FWHM, X, Y, pulseID) = \\\n",
    "load_PSSS_data_from_scans_pulseID(bsread_file,channel_PSSS_center, 50)"
   ]
  },
  {
   "cell_type": "markdown",
   "metadata": {},
   "source": [
    "### Load the images and pulse_ids of images with hits using alvra_tools"
   ]
  },
  {
   "cell_type": "code",
   "execution_count": null,
   "metadata": {},
   "outputs": [],
   "source": [
    "(Images, pulseID_img) = load_corr_JF_data(images_file)"
   ]
  },
  {
   "cell_type": "markdown",
   "metadata": {},
   "source": [
    "### Filter out spectra that don't have corresponding JF images"
   ]
  },
  {
   "cell_type": "code",
   "execution_count": null,
   "metadata": {},
   "outputs": [],
   "source": [
    "X_filtered = []\n",
    "Y_filtered = []\n",
    "Energy_filtered = []\n",
    "\n",
    "# find matching pulseID's\n",
    "for i in range(0, len(pulseID_img)):\n",
    "    for j in range(0, len(pulseID)):\n",
    "        if pulseID_img[i] == pulseID[j]:\n",
    "            \n",
    "            X_filtered.append(X[j])\n",
    "            Y_filtered.append(Y[j])\n",
    "            en = float(Energy[j])\n",
    "            Energy_filtered.append(en)\n",
    "        \n",
    "\n",
    "X_filtered = np.asarray(X_filtered)\n",
    "Y_filtered = np.asarray(Y_filtered)\n",
    "#Energy_filtered = np.asarray(Energy_filtered)"
   ]
  },
  {
   "cell_type": "markdown",
   "metadata": {},
   "source": [
    "### Plot single spectra"
   ]
  },
  {
   "cell_type": "code",
   "execution_count": null,
   "metadata": {
    "scrolled": false
   },
   "outputs": [],
   "source": [
    "plt.figure(figsize=(20,10))\n",
    "#plt.plot(X[0], Y_filtered[0])\n",
    "plt.plot(X[0], Y[0])\n",
    "plt.xlabel('Energy [eV]', fontsize=18)\n",
    "plt.ylabel('Intensity [a.u]', fontsize=18)\n",
    "plt.show()"
   ]
  },
  {
   "cell_type": "code",
   "execution_count": null,
   "metadata": {
    "collapsed": true
   },
   "outputs": [],
   "source": [
    "np.savetxt('/das/work/p18/p18389/karol/PSSS/run_0000_16_intensity.txt', (Y),delimiter=\",\",fmt=\"%s\") "
   ]
  },
  {
   "cell_type": "markdown",
   "metadata": {},
   "source": [
    "## Smooth spectra"
   ]
  },
  {
   "cell_type": "code",
   "execution_count": null,
   "metadata": {},
   "outputs": [],
   "source": [
    "def smooth(y, box_pts):\n",
    "    box = np.ones(box_pts)/box_pts\n",
    "    y_smooth = np.convolve(y, box, mode='same')\n",
    "    return y_smooth\n",
    "\n",
    "plt.figure(figsize=(20,10))\n",
    "plt.plot(X[0], smooth(Y_filtered[0],50))\n",
    "plt.xlabel('Energy [eV]', fontsize=18)\n",
    "plt.ylabel('Intensity [a.u]', fontsize=18)\n",
    "plt.show()"
   ]
  },
  {
   "cell_type": "markdown",
   "metadata": {},
   "source": [
    "### Fit the smoothed spectra with astopy"
   ]
  },
  {
   "cell_type": "code",
   "execution_count": null,
   "metadata": {},
   "outputs": [],
   "source": [
    "x = X[0]\n",
    "y = smooth(Y_filtered[0],50)\n",
    "\n",
    "#g_init = models.Gaussian1D(amplitude=10000., mean=11210, stddev=15.)\n",
    "g_init = models.Gaussian1D(amplitude=40000., mean=11200, stddev=19.)\n",
    "\n",
    "fit_g = fitting.LevMarLSQFitter()\n",
    "g = fit_g(g_init, x, y)\n",
    "\n",
    "# Plot the data with the best-fit model\n",
    "plt.figure(figsize=(20,10))\n",
    "plt.plot(x, y, 'ko')\n",
    "plt.plot(x, g(x), label='Gaussian')\n",
    "plt.xlabel('Energy [eV]', fontsize=18)\n",
    "plt.ylabel('Intensity [a.u]', fontsize=18)\n",
    "plt.legend(loc=2)\n",
    "print(g)\n",
    "print(Energy[8])\n",
    "print(pulseID[8])"
   ]
  },
  {
   "cell_type": "markdown",
   "metadata": {},
   "source": [
    "### Fit all single spectra "
   ]
  },
  {
   "cell_type": "code",
   "execution_count": null,
   "metadata": {},
   "outputs": [],
   "source": [
    "g_init = models.Gaussian1D(amplitude=40000., mean=11200, stddev=19.)\n",
    "fit_g = fitting.LevMarLSQFitter()\n",
    "\n",
    "Energy_fit_mean = []\n",
    "Energy_fit_amp = []\n",
    "Energy_fit_std = []\n",
    "\n",
    "for i in range(0,len(Y_filtered)):\n",
    "    y = smooth(Y_filtered[i],50)\n",
    "    g = fit_g(g_init, x, y)\n",
    "    \n",
    "    Energy_fit_mean.append(g.mean.value)\n",
    "    Energy_fit_amp.append(g.amplitude.value)\n",
    "    Energy_fit_std.append(g.stddev.value)"
   ]
  },
  {
   "cell_type": "code",
   "execution_count": null,
   "metadata": {},
   "outputs": [],
   "source": [
    "Energy_fit_mean"
   ]
  },
  {
   "cell_type": "markdown",
   "metadata": {},
   "source": [
    "### Reshape arrays (that was a bad idea...)"
   ]
  },
  {
   "cell_type": "code",
   "execution_count": null,
   "metadata": {
    "collapsed": true
   },
   "outputs": [],
   "source": [
    "#Energy_fit_mean = np.reshape(Energy_fit_mean, (-1,1))\n",
    "#Energy_fit_amp = np.reshape(Energy_fit_amp, (-1,1))\n",
    "#Energy_fit_std = np.reshape(Energy_fit_std, (-1,1))\n",
    "#Energy_fit_mean.shape\n",
    "#Energy_fit_mean"
   ]
  },
  {
   "cell_type": "markdown",
   "metadata": {},
   "source": [
    "### Save the hdf5 file with images, pulseIDs, energy from PSSS and from the fit"
   ]
  },
  {
   "cell_type": "code",
   "execution_count": null,
   "metadata": {
    "collapsed": true
   },
   "outputs": [],
   "source": [
    "save_file = '/das/work/p17/p17984/karol/PSSS/run_000096.energy.JF06T08V01.h5'\n",
    "#save(save_file, data=Images, pulse_id=pulseID_img, energy_psss=Energy_filtered, energy_fit=Energy_fit_filtered)\n",
    "save(save_file, data=Images, pulse_id=pulseID_img, energy_psss=Energy_filtered, energy_fit=Energy_fit_mean)"
   ]
  },
  {
   "cell_type": "markdown",
   "metadata": {},
   "source": [
    "### Check what's in the saved file"
   ]
  },
  {
   "cell_type": "code",
   "execution_count": null,
   "metadata": {
    "collapsed": true
   },
   "outputs": [],
   "source": [
    "jf_file = h5py.File(save_file)\n",
    "print(jf_file)\n",
    "#channel_raw_JF_images = \"/data/JF06T08V01/data\"\n",
    "\n",
    "en_psss = jf_file['energy_psss']\n",
    "en_fit = jf_file['energy_fit']\n",
    "\n",
    "print(en_psss[0:3])\n",
    "print(en_fit[0:3])"
   ]
  }
 ],
 "metadata": {
  "kernelspec": {
   "display_name": "Python [conda env:alvra-analysis-p18389]",
   "language": "python",
   "name": "conda-env-alvra-analysis-p18389-py"
  },
  "language_info": {
   "codemirror_mode": {
    "name": "ipython",
    "version": 3
   },
   "file_extension": ".py",
   "mimetype": "text/x-python",
   "name": "python",
   "nbconvert_exporter": "python",
   "pygments_lexer": "ipython3",
   "version": "3.6.7"
  }
 },
 "nbformat": 4,
 "nbformat_minor": 2
}

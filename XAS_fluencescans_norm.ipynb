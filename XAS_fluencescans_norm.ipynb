{
 "cells": [
  {
   "cell_type": "code",
   "execution_count": 1,
   "metadata": {
    "collapsed": true
   },
   "outputs": [],
   "source": [
    "%matplotlib nbagg\n",
    "import numpy as np\n",
    "import json\n",
    "import os, math\n",
    "import pandas as pd\n",
    "from matplotlib import pyplot as plt\n",
    "from scipy.optimize import curve_fit\n",
    "from IPython.display import clear_output, display\n",
    "\n",
    "from alvra_tools.load_data import *\n",
    "from alvra_tools.channels import *\n",
    "#from alvra_tools.channels_raw import *\n",
    "from alvra_tools.utils import errfunc_sigma, errfunc_fwhm, threshold\n",
    "import glob"
   ]
  },
  {
   "cell_type": "code",
   "execution_count": 2,
   "metadata": {},
   "outputs": [
    {
     "name": "stdout",
     "output_type": "stream",
     "text": [
      "-rw-r--r--.   1 root  p17589 163M Jul  7  2019 FeBpy_fluence_scan_7123eV_5ps_001_step0000.BSREAD.h5\n",
      "-rw-r--r--.   1 root  p17589 163M Jul  7  2019 FeBpy_fluence_scan_7123eV_5ps_001_step0001.BSREAD.h5\n",
      "-rw-r--r--.   1 root  p17589 163M Jul  7  2019 FeBpy_fluence_scan_7123eV_5ps_001_step0002.BSREAD.h5\n",
      "-rw-r--r--.   1 root  p17589 163M Jul  7  2019 FeBpy_fluence_scan_7123eV_5ps_001_step0003.BSREAD.h5\n",
      "-rw-r--r--.   1 root  p17589 163M Jul  7  2019 FeBpy_fluence_scan_7123eV_5ps_001_step0004.BSREAD.h5\n",
      "-rw-r--r--.   1 root  p17589 163M Jul  7  2019 FeBpy_fluence_scan_7123eV_5ps_001_step0005.BSREAD.h5\n",
      "-rw-r--r--.   1 root  p17589 163M Jul  7  2019 FeBpy_fluence_scan_7123eV_5ps_001_step0006.BSREAD.h5\n",
      "-rw-r--r--.   1 root  p17589 163M Jul  7  2019 FeBpy_fluence_scan_7123eV_5ps_001_step0007.BSREAD.h5\n",
      "-rw-r--r--.   1 root  p17589 163M Jul  7  2019 FeBpy_fluence_scan_7123eV_5ps_001_step0008.BSREAD.h5\n",
      "-rw-r--r--.   1 root  p17589 163M Jul  7  2019 FeBpy_fluence_scan_7123eV_5ps_001_step0009.BSREAD.h5\n",
      "-rw-r--r--.   1 root  p17589 163M Jul  7  2019 FeBpy_fluence_scan_7123eV_5ps_001_step0010.BSREAD.h5\n",
      "ra-c-003.psi.ch\n"
     ]
    }
   ],
   "source": [
    "scan_name =\"FeBpy_fluence_scan_7123eV_5ps_001\"\n",
    "DIR_json = \"/sf/alvra/data/p17589/res/scan_info/\"\n",
    "DIR = \"/sf/alvra/data/p17589/raw/scan_data/\" + scan_name + \"/\"             #use this for a scan\n",
    "\n",
    "#######################################################################\n",
    "\n",
    "#files_scan = glob.glob(DIR_json + scan_name + '.*')\n",
    "#print (files_scan)\n",
    "#scan_range = '.'+files_scan[-1].split('.')[-2]\n",
    "#print (scan_range)\n",
    "\n",
    "!ls -lah -rt $DIR | grep BSREAD.h5\n",
    "!hostname"
   ]
  },
  {
   "cell_type": "markdown",
   "metadata": {},
   "source": [
    "# Load one step and check I0 filtering"
   ]
  },
  {
   "cell_type": "markdown",
   "metadata": {},
   "source": [
    "### First plot pump/unpump to see if channels are all right"
   ]
  },
  {
   "cell_type": "code",
   "execution_count": 8,
   "metadata": {},
   "outputs": [
    {
     "name": "stdout",
     "output_type": "stream",
     "text": [
      "\n",
      "--------------------------------------------------------------------------------\n",
      "\n",
      "\u001b[32mSAR-CVME-TIFALL5:EvtSet  1999 / 1999 -> 0% loss ▇▇▇▇▇▇▇▇▇▇\u001b[39m\n",
      "\u001b[32mSARES11-GES1:CH2_VAL_GET 1999 / 1999 -> 0% loss ▇▇▇▇▇▇▇▇▇▇\u001b[39m\n",
      "\n",
      "\u001b[32mover the whole data set: 1999 / 1999 -> 0% loss\u001b[39m\n",
      "\n",
      "--------------------------------------------------------------------------------\n",
      "\n",
      "Probe rep rate (FEL) is 50.0 Hz\n",
      "channel missing: 'SAROP11-PBPS117:INTENSITY'\n",
      "Loaded pump = (499,) and unpump = (499,) shots\n"
     ]
    },
    {
     "ename": "KeyError",
     "evalue": "'SAROP11-PBPS122:INTENSITY'",
     "output_type": "error",
     "traceback": [
      "\u001b[0;31m---------------------------------------------------------------------------\u001b[0m",
      "\u001b[0;31mKeyError\u001b[0m                                  Traceback (most recent call last)",
      "\u001b[0;32m<ipython-input-8-157ec08ba38b>\u001b[0m in \u001b[0;36m<module>\u001b[0;34m\u001b[0m\n\u001b[1;32m      9\u001b[0m \u001b[0mWaveplate_shot\u001b[0m \u001b[0;34m=\u001b[0m \u001b[0mresults\u001b[0m\u001b[0;34m[\u001b[0m\u001b[0mchannel_waveplate\u001b[0m\u001b[0;34m]\u001b[0m\u001b[0;34m\u001b[0m\u001b[0;34m\u001b[0m\u001b[0m\n\u001b[1;32m     10\u001b[0m \u001b[0;34m\u001b[0m\u001b[0m\n\u001b[0;32m---> 11\u001b[0;31m \u001b[0mIzeroFEL_pump_shot\u001b[0m \u001b[0;34m=\u001b[0m \u001b[0mresultsPP\u001b[0m\u001b[0;34m[\u001b[0m\u001b[0mchannel_Izero122\u001b[0m\u001b[0;34m]\u001b[0m\u001b[0;34m.\u001b[0m\u001b[0mpump\u001b[0m\u001b[0;34m\u001b[0m\u001b[0;34m\u001b[0m\u001b[0m\n\u001b[0m\u001b[1;32m     12\u001b[0m \u001b[0mIzeroFEL_unpump_shot\u001b[0m \u001b[0;34m=\u001b[0m \u001b[0mresultsPP\u001b[0m\u001b[0;34m[\u001b[0m\u001b[0mchannel_Izero122\u001b[0m\u001b[0;34m]\u001b[0m\u001b[0;34m.\u001b[0m\u001b[0munpump\u001b[0m\u001b[0;34m\u001b[0m\u001b[0;34m\u001b[0m\u001b[0m\n\u001b[1;32m     13\u001b[0m \u001b[0mDataFluo_pump_shot\u001b[0m \u001b[0;34m=\u001b[0m \u001b[0mresultsPP\u001b[0m\u001b[0;34m[\u001b[0m\u001b[0mchannel_PIPS_fluo\u001b[0m\u001b[0;34m]\u001b[0m\u001b[0;34m.\u001b[0m\u001b[0mpump\u001b[0m\u001b[0;34m\u001b[0m\u001b[0;34m\u001b[0m\u001b[0m\n",
      "\u001b[0;31mKeyError\u001b[0m: 'SAROP11-PBPS122:INTENSITY'"
     ]
    }
   ],
   "source": [
    "f =\"FeBpy_fluence_scan_7123eV_5ps_001_step0000.BSREAD.h5\"\n",
    "fn = DIR + f\n",
    "\n",
    "channel_list_pp = [channel_PIPS_fluo, channel_Izero117]\n",
    "channel_list_all = channel_list_pp  + [channel_waveplate]\n",
    "\n",
    "resultsPP, results = load_data_compact_laser_pump(channel_list_pp, channel_list_all, fn)\n",
    "\n",
    "Waveplate_shot = results[channel_waveplate]\n",
    "\n",
    "IzeroFEL_pump_shot = resultsPP[channel_Izero122].pump\n",
    "IzeroFEL_unpump_shot = resultsPP[channel_Izero122].unpump\n",
    "DataFluo_pump_shot = resultsPP[channel_PIPS_fluo].pump\n",
    "DataFluo_unpump_shot = resultsPP[channel_PIPS_fluo].unpump\n",
    "\n",
    "#(DataFluo_pump_shot, DataFluo_unpump_shot, IzeroFEL_pump_shot, IzeroFEL_unpump_shot, Energy_shot, \\\n",
    "# DataTrans_pump_shot, DataTrans_unpump_shot, pids_shot) = load_PumpProbe_events(fn, channel_energy)\n",
    "\n",
    "IzeroFEL_pump_raw = IzeroFEL_pump_shot.copy()\n",
    "IzeroFEL_unpump_raw = IzeroFEL_unpump_shot.copy()\n",
    "DataFluo_pump_shot_raw = DataFluo_pump_shot.copy()\n",
    "DataFluo_unpump_shot_raw = DataFluo_unpump_shot.copy()\n",
    "\n",
    "print (\"Waveplate = {} degrees\".format(np.median(Waveplate_shot)))\n",
    "print (\"Median value Izero (all) = {}\".format(np.median(np.concatenate((IzeroFEL_pump_raw, IzeroFEL_unpump_raw), axis=0))))\n",
    "print (\"Median value fluo (all) = {}\".format(np.median(np.concatenate((DataFluo_pump_shot_raw, DataFluo_unpump_shot_raw), axis=0))))\n",
    "\n",
    "fig = plt.figure(constrained_layout=True, figsize=(9,5))\n",
    "plt.suptitle(scan_name +\"/\"+ f.split('.')[0], y = 1)\n",
    "gs = fig.add_gridspec(2, 2)\n",
    "\n",
    "f_ax1 = fig.add_subplot(gs[0, :-1])\n",
    "f_ax1.set_title('Fluo')\n",
    "plt.hist(DataFluo_pump_shot, bins =np.arange(-0.5,5,0.1), facecolor='red', label=\"pump\", alpha=0.5)\n",
    "plt.hist(DataFluo_unpump_shot, bins =np.arange(-0.5,5,0.1), facecolor='grey', label=\"unpump\", alpha=0.5)\n",
    "plt.grid()\n",
    "plt.legend(loc=\"best\")\n",
    "\n",
    "f_ax2 = fig.add_subplot(gs[1, :-1])\n",
    "f_ax2.set_title('I_zero')\n",
    "plt.hist(IzeroFEL_pump_shot, bins =np.arange(0,0.1,0.001), facecolor='red', label='pump', alpha=0.5)\n",
    "plt.hist(IzeroFEL_unpump_shot, bins =np.arange(0,0.1,0.001), facecolor='blue', label ='unpump', alpha=0.5)\n",
    "plt.grid()\n",
    "plt.legend(loc=\"best\")\n",
    "\n",
    "f_ax3 = fig.add_subplot(gs[0:, 1])\n",
    "f_ax3.set_title('correlation')\n",
    "plt.plot(IzeroFEL_pump_shot, DataFluo_pump_shot, color = 'red',  linestyle='None', label='pump',marker='.')\n",
    "plt.plot(IzeroFEL_unpump_shot, DataFluo_unpump_shot, color = 'blue',  linestyle='None', label='unpump',marker='.')\n",
    "plt.grid()\n",
    "plt.legend(loc=\"best\")\n",
    "plt.xlabel(\"I_zero (PBPS122)\")\n",
    "plt.ylabel (\"Fluorescence (PIPS)\")\n",
    "\n",
    "plt.show()"
   ]
  },
  {
   "cell_type": "markdown",
   "metadata": {},
   "source": [
    "### Filter some data"
   ]
  },
  {
   "cell_type": "code",
   "execution_count": 7,
   "metadata": {
    "scrolled": true
   },
   "outputs": [
    {
     "name": "stdout",
     "output_type": "stream",
     "text": [
      "\n",
      "--------------------------------------------------------------------------------\n",
      "\n",
      "\u001b[32mSAR-CVME-TIFALL5:EvtSet           1999 / 1999 -> 0% loss ▇▇▇▇▇▇▇▇▇▇\u001b[39m\n",
      "\u001b[32mSARES11-GES1:CH2_VAL_GET          1999 / 1999 -> 0% loss ▇▇▇▇▇▇▇▇▇▇\u001b[39m\n",
      "\u001b[32mSLAAR11-LTIM01-EVR0:DUMMY_PV4_NBS 1999 / 1999 -> 0% loss ▇▇▇▇▇▇▇▇▇▇\u001b[39m\n",
      "\n",
      "\u001b[32mover the whole data set: 1999 / 1999 -> 0% loss\u001b[39m\n",
      "\n",
      "--------------------------------------------------------------------------------\n",
      "\n",
      "Probe rep rate (FEL) is 50.0 Hz\n",
      "channel missing: 'SAROP11-PBPS122:INTENSITY'\n",
      "Loaded pump = (499,) and unpump = (499,) shots\n"
     ]
    },
    {
     "ename": "KeyError",
     "evalue": "'SAROP11-PBPS122:INTENSITY'",
     "output_type": "error",
     "traceback": [
      "\u001b[0;31m---------------------------------------------------------------------------\u001b[0m",
      "\u001b[0;31mKeyError\u001b[0m                                  Traceback (most recent call last)",
      "\u001b[0;32m<ipython-input-7-0ce8a1b67860>\u001b[0m in \u001b[0;36m<module>\u001b[0;34m\u001b[0m\n\u001b[1;32m     14\u001b[0m \u001b[0;31m# DataTrans_pump_shot, DataTrans_unpump_shot, pids_shot) = load_PumpProbe_events(ffn, channel_energy)\u001b[0m\u001b[0;34m\u001b[0m\u001b[0;34m\u001b[0m\u001b[0;34m\u001b[0m\u001b[0m\n\u001b[1;32m     15\u001b[0m \u001b[0;34m\u001b[0m\u001b[0m\n\u001b[0;32m---> 16\u001b[0;31m \u001b[0mIzeroFEL_pump_shot\u001b[0m \u001b[0;34m=\u001b[0m \u001b[0mresultsPP\u001b[0m\u001b[0;34m[\u001b[0m\u001b[0mchannel_Izero122\u001b[0m\u001b[0;34m]\u001b[0m\u001b[0;34m.\u001b[0m\u001b[0mpump\u001b[0m\u001b[0;34m\u001b[0m\u001b[0;34m\u001b[0m\u001b[0m\n\u001b[0m\u001b[1;32m     17\u001b[0m \u001b[0mIzeroFEL_unpump_shot\u001b[0m \u001b[0;34m=\u001b[0m \u001b[0mresultsPP\u001b[0m\u001b[0;34m[\u001b[0m\u001b[0mchannel_Izero122\u001b[0m\u001b[0;34m]\u001b[0m\u001b[0;34m.\u001b[0m\u001b[0munpump\u001b[0m\u001b[0;34m\u001b[0m\u001b[0;34m\u001b[0m\u001b[0m\n\u001b[1;32m     18\u001b[0m \u001b[0mDataFluo_pump_shot\u001b[0m \u001b[0;34m=\u001b[0m \u001b[0mresultsPP\u001b[0m\u001b[0;34m[\u001b[0m\u001b[0mchannel_PIPS_fluo\u001b[0m\u001b[0;34m]\u001b[0m\u001b[0;34m.\u001b[0m\u001b[0mpump\u001b[0m\u001b[0;34m\u001b[0m\u001b[0;34m\u001b[0m\u001b[0m\n",
      "\u001b[0;31mKeyError\u001b[0m: 'SAROP11-PBPS122:INTENSITY'"
     ]
    }
   ],
   "source": [
    "min_I0 = 0.01\n",
    "min_fluo = 0.001\n",
    "quantile_corr = 0.5\n",
    "########################################################################################################\n",
    "\n",
    "ffn = DIR + f\n",
    "\n",
    "channel_list_pp = [channel_PIPS_fluo, channel_Izero122]\n",
    "channel_list_all = channel_list_pp  + [channel_waveplate]\n",
    "\n",
    "resultsPP, results = load_data_compact_laser_pump(channel_list_pp, channel_list_all, fn)\n",
    "\n",
    "#(DataFluo_pump_shot, DataFluo_unpump_shot, IzeroFEL_pump_shot, IzeroFEL_unpump_shot, Energy_shot, \\\n",
    "# DataTrans_pump_shot, DataTrans_unpump_shot, pids_shot) = load_PumpProbe_events(ffn, channel_energy)\n",
    "\n",
    "IzeroFEL_pump_shot = resultsPP[channel_Izero122].pump\n",
    "IzeroFEL_unpump_shot = resultsPP[channel_Izero122].unpump\n",
    "DataFluo_pump_shot = resultsPP[channel_PIPS_fluo].pump\n",
    "DataFluo_unpump_shot = resultsPP[channel_PIPS_fluo].unpump\n",
    "\n",
    "IzeroFEL_pump_raw = IzeroFEL_pump_shot.copy()\n",
    "IzeroFEL_unpump_raw = IzeroFEL_unpump_shot.copy()\n",
    "DataFluo_pump_shot_raw = DataFluo_pump_shot.copy()\n",
    "DataFluo_unpump_shot_raw = DataFluo_unpump_shot.copy()\n",
    "\n",
    "threshold_FEL_pump = IzeroFEL_pump_shot > min_I0\n",
    "threshold_FEL_unpump = IzeroFEL_unpump_shot > min_I0\n",
    "threshold_fluo_pump = DataFluo_pump_shot > min_fluo\n",
    "threshold_fluo_unpump = DataFluo_unpump_shot > min_fluo\n",
    "\n",
    "thresholds_filter = threshold_FEL_pump & threshold_FEL_unpump & \\\n",
    "                   threshold_fluo_pump & threshold_fluo_unpump\n",
    "\n",
    "DataFluo_pump_shot = DataFluo_pump_shot[thresholds_filter]\n",
    "DataFluo_unpump_shot = DataFluo_unpump_shot[thresholds_filter]\n",
    "IzeroFEL_pump_shot = IzeroFEL_pump_shot[thresholds_filter]\n",
    "IzeroFEL_unpump_shot = IzeroFEL_unpump_shot[thresholds_filter]\n",
    "\n",
    "DataFluo_pump_shot_norm = DataFluo_pump_shot / IzeroFEL_pump_shot\n",
    "DataFluo_unpump_shot_norm = DataFluo_unpump_shot / IzeroFEL_unpump_shot\n",
    "DataFluo_pump_shot_norm_raw = DataFluo_pump_shot_norm.copy()\n",
    "\n",
    "med = np.median(DataFluo_unpump_shot_norm)\n",
    "qnt_low = np.nanquantile(DataFluo_unpump_shot_norm, 0.5 - quantile_corr/2)\n",
    "qnt_high = np.nanquantile(DataFluo_unpump_shot_norm, 0.5 + quantile_corr/2)\n",
    "\n",
    "condition_corr_unpump_low = DataFluo_unpump_shot_norm > qnt_low\n",
    "condition_corr_unpump_high = DataFluo_unpump_shot_norm < qnt_high\n",
    "\n",
    "med = np.median(DataFluo_pump_shot_norm)\n",
    "qnt_low = np.nanquantile(DataFluo_pump_shot_norm, 0.5 - quantile_corr/2)\n",
    "qnt_high = np.nanquantile(DataFluo_pump_shot_norm, 0.5 + quantile_corr/2)\n",
    "\n",
    "condition_corr_pump_low = DataFluo_pump_shot_norm > qnt_low\n",
    "condition_corr_pump_high = DataFluo_pump_shot_norm < qnt_high\n",
    "\n",
    "correlation_filter = condition_corr_unpump_low & condition_corr_unpump_high & \\\n",
    "                    condition_corr_pump_low & condition_corr_pump_high\n",
    "\n",
    "DataFluo_pump_shot_norm = DataFluo_pump_shot_norm[correlation_filter]\n",
    "DataFluo_unpump_shot_norm = DataFluo_unpump_shot_norm[correlation_filter]\n",
    "\n",
    "print (\"Original size (pump/umpump):\", len(DataFluo_pump_shot_raw), len(DataFluo_unpump_shot_raw))\n",
    "print (\"Filtered size conditions (pump/unpump):\", len(DataFluo_pump_shot), len(DataFluo_unpump_shot))\n",
    "print (\"Filtered size correlation (pump/unpump):\", len(DataFluo_pump_shot_norm), len(DataFluo_unpump_shot_norm))\n",
    "print (\"Energy = {} eV\".format(Energy_shot.mean()))\n",
    "print (\"Median value Izero (filter) = {}\".format(np.median(IzeroFEL_pump_shot)))\n",
    "print (\"Median value fluo (filter) = {}\".format(np.median(DataFluo_pump_shot_raw)))\n"
   ]
  },
  {
   "cell_type": "code",
   "execution_count": null,
   "metadata": {
    "collapsed": true
   },
   "outputs": [],
   "source": [
    "plt.figure(figsize = (7,9))\n",
    "plt.suptitle(scan_name +\"/\"+ f.split('.')[0])\n",
    "\n",
    "plt.subplot(311)\n",
    "plt.hist(DataFluo_pump_shot_raw, bins =np.arange(-0.5,5,0.1), facecolor='blue', label=\"fluo pump raw\", alpha=0.5)\n",
    "plt.hist(DataFluo_pump_shot, bins =np.arange(-0.5,5,0.1), facecolor='red', label=\"fluo pump filter, {}%\".format(quantile_corr*100), alpha=0.5)\n",
    "plt.grid()\n",
    "plt.legend(loc=\"best\")\n",
    "\n",
    "plt.subplot(312)\n",
    "plt.hist(IzeroFEL_pump_raw, bins =np.arange(0,0.1,0.001), facecolor='blue', label='I0 pump raw', alpha=0.5)\n",
    "plt.hist(IzeroFEL_pump_shot, bins =np.arange(0,0.1,0.001), facecolor='red', label ='I0 pump filter, {}%'.format(quantile_corr*100), alpha=0.5)\n",
    "plt.grid()\n",
    "plt.legend(loc=\"best\")\n",
    "\n",
    "plt.subplot(313)\n",
    "x_axis = np.arange(50,150,1)\n",
    "plt.hist(DataFluo_pump_shot_norm_raw, bins =x_axis, facecolor='blue', label='pump corr raw', alpha=0.5)\n",
    "plt.hist(DataFluo_pump_shot_norm, bins =x_axis, facecolor='red', label='pump corr filter, {}%'.format(quantile_corr*100), alpha=0.5)\n",
    "plt.grid()\n",
    "plt.legend(loc=\"best\")\n",
    "plt.axvline(med, color = 'k') \n",
    "plt.axvline(qnt_low, color = 'k')\n",
    "plt.axvline(qnt_high, color = 'k') \n",
    "plt.xlabel('fluo / I0')\n",
    "\n",
    "plt.show()\n",
    "print ('quantile range = {}'.format(0.5 - quantile_corr/2), 0.5 + quantile_corr/2)"
   ]
  },
  {
   "cell_type": "markdown",
   "metadata": {},
   "source": [
    "# Now load the full scan"
   ]
  },
  {
   "cell_type": "code",
   "execution_count": null,
   "metadata": {
    "collapsed": true
   },
   "outputs": [],
   "source": [
    "quantiles = [0.5, 0.1, 0.2, 0.3, 0.4, 0.6, 0.7, 0.8, 0.9]\n",
    "\n",
    "channel_list_pp = [channel_PIPS_fluo, channel_Izero117]\n",
    "channel_list_all = channel_list_pp + [channel_waveplate]\n",
    "\n",
    "########################################################\n",
    "#json_file = DIR_json + scan_name + scan_range + \".json\"\n",
    "json_file = DIR_json + scan_name + \"_scan_info.json\"\n",
    "print (json_file)\n",
    "\n",
    "with open(json_file) as file:\n",
    "    data = json.load(file)\n",
    "numFiles = len(data['scan_files'])\n",
    "#numFiles = 35\n",
    "\n",
    "print (\"Processing\",numFiles,\"files\")\n",
    "\n",
    "DataFluo_pump = []\n",
    "DataFluo_unpump = []\n",
    "err_DataFluo_pump = []\n",
    "err_DataFluo_unpump = []\n",
    "\n",
    "Pump_probe = []\n",
    "err_Pump_probe = []\n",
    "\n",
    "Waveplate_deg = []\n",
    "\n",
    "for i in range(0,numFiles):             \n",
    "    filename = str(data['scan_files'][i][0])    \n",
    "    exists = os.path.isfile(filename)\n",
    "    if exists: #and i!=0:\n",
    "        clear_output(wait=True)\n",
    "        print(\"step\",i+1,\"of\",numFiles,\": Processing %s\" %(str(data['scan_files'][i][0])))\n",
    "        \n",
    "        resultsPP, results = load_data_compact_laser_pump(channel_list_pp, channel_list_all, filename)\n",
    "        \n",
    "        #(DataFluo_pump_shot, DataFluo_unpump_shot, IzeroFEL_pump_shot, IzeroFEL_unpump_shot, Waveplate_shot, \\\n",
    "        # DataTrans_pump_shot, DataTrans_unpump_shot, pids_shot) = load_PumpProbe_events(filename, channel_waveplate)\n",
    "        \n",
    "        Waveplate_shot = results[channel_waveplate]\n",
    "        \n",
    "        IzeroFEL_pump_shot = resultsPP[channel_Izero122].pump\n",
    "        IzeroFEL_unpump_shot = resultsPP[channel_Izero122].unpump\n",
    "        DataFluo_pump_shot = resultsPP[channel_PIPS_fluo].pump\n",
    "        DataFluo_unpump_shot = resultsPP[channel_PIPS_fluo].unpump\n",
    "        \n",
    "        print (\"Loaded {} shots\".format(len(DataFluo_pump_shot)))\n",
    "    \n",
    "        DataFluo_pump_shot_norm = DataFluo_pump_shot / IzeroFEL_pump_shot\n",
    "        DataFluo_unpump_shot_norm = DataFluo_unpump_shot / IzeroFEL_unpump_shot\n",
    "        Pump_probe_shot = DataFluo_pump_shot_norm - DataFluo_unpump_shot_norm\n",
    "        \n",
    "        df_pump = pd.DataFrame(DataFluo_pump_shot_norm)\n",
    "        df_unpump = pd.DataFrame(DataFluo_unpump_shot_norm)\n",
    "        df_pump_probe = pd.DataFrame(Pump_probe_shot)\n",
    "              \n",
    "        DataFluo_pump.append(np.nanquantile(df_pump, quantiles))\n",
    "        DataFluo_unpump.append(np.nanquantile(df_unpump, quantiles))\n",
    "        Pump_probe.append(np.nanquantile(df_pump_probe, quantiles))\n",
    "        \n",
    "        Waveplate_shot = [x for x in Waveplate_shot if (np.abs(x) > 0)]\n",
    "        Waveplate_deg.append(np.mean(Waveplate_shot))\n",
    "    \n",
    "DataFluo_pump = np.asarray(DataFluo_pump)\n",
    "DataFluo_unpump = np.asarray(DataFluo_unpump)\n",
    "Pump_probe = np.asarray(Pump_probe)\n",
    "\n",
    "Waveplate_deg = np.asarray(Waveplate_deg)\n",
    "\n",
    "print (\"Job done!\")\n"
   ]
  },
  {
   "cell_type": "code",
   "execution_count": null,
   "metadata": {
    "collapsed": true
   },
   "outputs": [],
   "source": [
    "plt.figure(figsize = (10,5))\n",
    "plt.suptitle(json_file.split('scan_info')[1], fontsize=12)\n",
    "\n",
    "plt.subplot(1,2,1)\n",
    "plt.plot(Energy_eV, DataFluo_unpump[:,0],label='median',marker='.' )\n",
    "plt.fill_between(Waveplate_deg,np.array(DataFluo_unpump[:,4]),np.array(DataFluo_unpump[:,5]), label='20%', alpha = 0.3)\n",
    "plt.fill_between(Waveplate_deg,np.array(DataFluo_unpump[:,3]),np.array(DataFluo_unpump[:,6]), label='40%', alpha = 0.3)\n",
    "plt.fill_between(Waveplate_deg,np.array(DataFluo_unpump[:,2]),np.array(DataFluo_unpump[:,7]), label='60%', alpha = 0.3)\n",
    "plt.fill_between(Waveplate_deg,np.array(DataFluo_unpump[:,1]),np.array(DataFluo_unpump[:,8]), label='80%', alpha = 0.3)\n",
    "plt.grid()\n",
    "plt.gca().set_title('Unpump')\n",
    "plt.legend(loc=\"best\")\n",
    "plt.ylabel(\"XAS ground state\")\n",
    "plt.xlabel(\"Waveplate angle (deg)\")\n",
    "\n",
    "plt.subplot(1,2,2)\n",
    "plt.plot(Energy_eV, Pump_probe[:,0],label='median',marker='.' )\n",
    "plt.fill_between(Waveplate_deg,np.array(Pump_probe[:,4]),np.array(Pump_probe[:,5]), label='20%', alpha = 0.3)\n",
    "plt.fill_between(Waveplate_deg,np.array(Pump_probe[:,3]),np.array(Pump_probe[:,6]), label='40%', alpha = 0.3)\n",
    "plt.fill_between(Waveplate_deg,np.array(Pump_probe[:,2]),np.array(Pump_probe[:,7]), label='60%', alpha = 0.3)\n",
    "plt.fill_between(Waveplate_deg,np.array(Pump_probe[:,1]),np.array(Pump_probe[:,8]), label='80%', alpha = 0.3)\n",
    "plt.grid()\n",
    "plt.gca().set_title('pump probe')\n",
    "plt.legend(loc=\"best\")\n",
    "plt.ylabel(\"Delta XAS\")\n",
    "plt.xlabel(\"Waveplate angle (deg)\")\n",
    "\n",
    "plt.show()"
   ]
  },
  {
   "cell_type": "code",
   "execution_count": null,
   "metadata": {
    "collapsed": true
   },
   "outputs": [],
   "source": [
    "min_I0 = 0.01\n",
    "min_fluo = 0.001\n",
    "quantile_corr = 0.6\n",
    "\n",
    "channel_list_pp = [channel_PIPS_fluo, channel_Izero117]\n",
    "channel_list_all = channel_list_pp + [channel_waveplate]\n",
    "\n",
    "########################################################################\n",
    "#json_file = DIR_json + scan_name + scan_range + \".json\"\n",
    "json_file = DIR_json + scan_name + \"_scan_info.json\"\n",
    "print (json_file)\n",
    "\n",
    "with open(json_file) as file:\n",
    "    data = json.load(file)\n",
    "numFiles = len(data['scan_files'])\n",
    "#numFiles = 35\n",
    "\n",
    "print (\"Processing\",numFiles,\"files\")\n",
    "\n",
    "DataFluo_pump = []\n",
    "DataFluo_unpump = []\n",
    "err_DataFluo_pump = []\n",
    "err_DataFluo_unpump = []\n",
    "\n",
    "Pump_probe = []\n",
    "err_Pump_probe = []\n",
    "\n",
    "Waveplate_deg = []\n",
    "\n",
    "for i in range(0,numFiles):             \n",
    "    filename = str(data['scan_files'][i][0])    \n",
    "    exists = os.path.isfile(filename)\n",
    "    if exists: #and i!=0:\n",
    "        clear_output(wait=True)\n",
    "        print(\"step\",i+1,\"of\",numFiles,\": Processing %s\" %(str(data['scan_files'][i][0])))\n",
    "        \n",
    "        resultsPP, results = load_data_compact_laser_pump(channel_list_pp, channel_list_all, filename)\n",
    "        \n",
    "        #(DataFluo_pump_shot, DataFluo_unpump_shot, IzeroFEL_pump_shot, IzeroFEL_unpump_shot, Waveplate_shot, \\\n",
    "        # DataTrans_pump_shot, DataTrans_unpump_shot, pids_shot) = load_PumpProbe_events(filename, channel_waveplate)\n",
    "        \n",
    "        Waveplate_shot = results[channel_waveplate]\n",
    "        \n",
    "        IzeroFEL_pump_shot = resultsPP[channel_Izero122].pump\n",
    "        IzeroFEL_unpump_shot = resultsPP[channel_Izero122].unpump\n",
    "        DataFluo_pump_shot = resultsPP[channel_PIPS_fluo].pump\n",
    "        DataFluo_unpump_shot = resultsPP[channel_PIPS_fluo].unpump\n",
    "        \n",
    "        print (\"Loaded {} shots\".format(len(DataFluo_pump_shot)))\n",
    "        \n",
    "        DataFluo_pump_shot_norm = DataFluo_pump_shot / IzeroFEL_pump_shot\n",
    "        DataFluo_unpump_shot_norm = DataFluo_unpump_shot / IzeroFEL_unpump_shot\n",
    "        Pump_probe_shot = DataFluo_pump_shot_norm - DataFluo_unpump_shot_norm\n",
    "        \n",
    "        df_pump = pd.DataFrame(DataFluo_pump_shot_norm)\n",
    "        df_unpump = pd.DataFrame(DataFluo_unpump_shot_norm)\n",
    "        df_pump_probe = pd.DataFrame(Pump_probe_shot)\n",
    "        \n",
    "        DataFluo_pump.append(np.nanquantile(df_pump, [0.5, 0.5 - quantile_corr/2, 0.5 + quantile_corr/2]))\n",
    "        DataFluo_unpump.append(np.nanquantile(df_unpump, [0.5, 0.5 - quantile_corr/2, 0.5 + quantile_corr/2]))\n",
    "        Pump_probe.append(np.nanquantile(df_pump_probe, [0.5, 0.5 - quantile_corr/2, 0.5 + quantile_corr/2]))\n",
    "        \n",
    "        Waveplate_shot = [x for x in Waveplate_shot if (np.abs(x) > 0)]\n",
    "        Waveplate_deg.append(np.mean(Waveplate_shot))\n",
    "    \n",
    "DataFluo_pump = np.asarray(DataFluo_pump)\n",
    "DataFluo_unpump = np.asarray(DataFluo_unpump)\n",
    "Pump_probe = np.asarray(Pump_probe)\n",
    "                  \n",
    "Waveplate_deg = np.asarray(Waveplate_deg)\n",
    "\n",
    "print (\"Job done!\")\n"
   ]
  },
  {
   "cell_type": "markdown",
   "metadata": {},
   "source": [
    "# Plot fluence scans"
   ]
  },
  {
   "cell_type": "code",
   "execution_count": null,
   "metadata": {
    "collapsed": true
   },
   "outputs": [],
   "source": [
    "plt.figure(figsize = (10,5))\n",
    "plt.suptitle(json_file.split('scan_info')[1], fontsize=12)\n",
    "\n",
    "Pump_probe_relative = (DataFluo_pump - DataFluo_unpump) / DataFluo_unpump\n",
    "XAS_pump = DataFluo_pump[:,0]\n",
    "err_low_pump = DataFluo_pump[:,1]\n",
    "err_high_pump = DataFluo_pump[:,2]\n",
    "XAS_unpump = DataFluo_unpump[:,0]\n",
    "err_low_unpump = DataFluo_unpump[:,1]\n",
    "err_high_unpump = DataFluo_unpump[:,2]\n",
    "XAS_pump_probe = Pump_probe[:,0]\n",
    "err_low_pump_probe = Pump_probe[:,1]\n",
    "err_high_pump_probe = Pump_probe[:,2]\n",
    "\n",
    "plt.subplot(1,2,1)\n",
    "plt.plot(Waveplate_deg, XAS_pump, label='ON, {}%'.format(quantile_corr*100),marker='.')\n",
    "plt.fill_between(Waveplate_deg, err_low_pump, err_high_pump, color='lightblue')\n",
    "\n",
    "plt.plot(Waveplate_deg, XAS_unpump, label='OFF, {}%'.format(quantile_corr*100),marker='.')\n",
    "plt.fill_between(Waveplate_deg, err_low_unpump, err_high_unpump, color='navajowhite')\n",
    "\n",
    "plt.xlabel(\"Waveplate angle (deg)\")\n",
    "plt.ylabel (\"XAS (I0 norm)\")\n",
    "plt.gca().set_title('XAS (fluo)')\n",
    "plt.legend(loc=\"best\")\n",
    "plt.grid()\n",
    "\n",
    "plt.subplot(1,2,2)\n",
    "plt.plot(Waveplate_deg, XAS_pump_probe, label='pump-probe, {}%'.format(quantile_corr*100),color='green', marker='.')\n",
    "plt.fill_between(Waveplate_deg,err_low_pump_probe, err_high_pump_probe, color='lightgreen')\n",
    "plt.xlabel(\"Waveplate angle (deg)\")\n",
    "plt.ylabel (\"DeltaXAS (I0 norm)\")\n",
    "plt.gca().set_title('pump-probe vs angle')\n",
    "plt.legend(loc=\"best\")\n",
    "plt.grid()\n",
    "\n",
    "plt.show()\n",
    "\n"
   ]
  },
  {
   "cell_type": "code",
   "execution_count": null,
   "metadata": {
    "collapsed": true,
    "scrolled": true
   },
   "outputs": [],
   "source": []
  },
  {
   "cell_type": "markdown",
   "metadata": {},
   "source": [
    "# Calculate laser fluence "
   ]
  },
  {
   "cell_type": "code",
   "execution_count": null,
   "metadata": {
    "collapsed": true
   },
   "outputs": [],
   "source": [
    "fluences = 0.20514 +346.78 * (np.cos(np.pi/180*(Waveplate_deg-768.56)))**2"
   ]
  },
  {
   "cell_type": "code",
   "execution_count": null,
   "metadata": {
    "collapsed": true
   },
   "outputs": [],
   "source": [
    "print(Waveplate_deg)\n",
    "print(fluences)\n",
    "plt.figure()\n",
    "plt.title(scan_name)\n",
    "plt.plot(fluences, XAS_pump_probe/XAS_unpump, marker = '.')\n",
    "plt.grid()\n",
    "plt.xlabel('Fluence (uJ)')\n",
    "plt.ylabel('pump probe (%)')"
   ]
  },
  {
   "cell_type": "code",
   "execution_count": null,
   "metadata": {
    "collapsed": true
   },
   "outputs": [],
   "source": []
  },
  {
   "cell_type": "code",
   "execution_count": null,
   "metadata": {
    "collapsed": true
   },
   "outputs": [],
   "source": []
  },
  {
   "cell_type": "code",
   "execution_count": null,
   "metadata": {
    "collapsed": true
   },
   "outputs": [],
   "source": []
  },
  {
   "cell_type": "code",
   "execution_count": null,
   "metadata": {
    "collapsed": true
   },
   "outputs": [],
   "source": []
  },
  {
   "cell_type": "code",
   "execution_count": null,
   "metadata": {
    "collapsed": true
   },
   "outputs": [],
   "source": []
  }
 ],
 "metadata": {
  "kernelspec": {
   "display_name": "Python [conda env:alvra-analysis]",
   "language": "python",
   "name": "conda-env-alvra-analysis-py"
  },
  "language_info": {
   "codemirror_mode": {
    "name": "ipython",
    "version": 3
   },
   "file_extension": ".py",
   "mimetype": "text/x-python",
   "name": "python",
   "nbconvert_exporter": "python",
   "pygments_lexer": "ipython3",
   "version": "3.6.7"
  }
 },
 "nbformat": 4,
 "nbformat_minor": 2
}

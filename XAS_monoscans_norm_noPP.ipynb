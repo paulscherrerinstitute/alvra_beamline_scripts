{
 "cells": [
  {
   "cell_type": "code",
   "execution_count": null,
   "metadata": {
    "collapsed": true
   },
   "outputs": [],
   "source": [
    "%matplotlib nbagg\n",
    "import numpy as np\n",
    "import json\n",
    "import os, math\n",
    "import pandas as pd\n",
    "from matplotlib import pyplot as plt\n",
    "from scipy.optimize import curve_fit\n",
    "from IPython.display import clear_output, display\n",
    "\n",
    "from alvra_tools import *\n",
    "import glob"
   ]
  },
  {
   "cell_type": "code",
   "execution_count": null,
   "metadata": {
    "collapsed": true,
    "scrolled": true
   },
   "outputs": [],
   "source": [
    "scan_name =\"Na2SO4_monoscan_1\"\n",
    "#scan_name =\"MB_monoscan_11\"\n",
    "DIR_json = \"/sf/alvra/data/p18442/res/scan_info/\"\n",
    "DIR = \"/sf/alvra/data/p18442/raw/scan_data/\" + scan_name + \"/\"             #use this for a scan\n",
    "\n",
    "#######################################################################\n",
    "\n",
    "files_scan = glob.glob(DIR_json + scan_name + '.*')\n",
    "print (files_scan)\n",
    "scan_range = '.'+files_scan[-1].split('.')[-2]\n",
    "print (scan_range)\n",
    "\n",
    "!ls -lah -rt $DIR | grep BSREAD.h5\n",
    "!hostname"
   ]
  },
  {
   "cell_type": "markdown",
   "metadata": {},
   "source": [
    "# Load one step and check I0 filtering"
   ]
  },
  {
   "cell_type": "code",
   "execution_count": null,
   "metadata": {
    "collapsed": true
   },
   "outputs": [],
   "source": [
    "f =\"run_002140.BSREAD.h5\"\n",
    "fn = DIR + f\n",
    "\n",
    "(DataTrans_shot, DataFluo_shot, IzeroFEL_shot, Laser, Energy_shot, PulseIDs) = load_FEL_scans(fn, channel_energy)\n",
    "\n",
    "IzeroFEL_shot_raw = IzeroFEL_shot.copy()\n",
    "DataTrans_shot_raw = DataTrans_shot.copy()\n",
    "DataFluo_shot_raw = DataFluo_shot.copy()\n",
    "\n",
    "print (\"Energy = {} eV\".format(Energy_shot.mean()))\n",
    "print (\"Median value Izero (all) = {}\".format(np.median(IzeroFEL_shot_raw)))\n",
    "print (\"Median value fluo (all) = {}\".format(np.median(DataFluo_shot_raw)))\n",
    "\n",
    "fig = plt.figure(constrained_layout=True, figsize=(9,5))\n",
    "plt.suptitle(scan_name +\"/\"+ f.split('.')[0], y = 1)\n",
    "gs = fig.add_gridspec(2, 2)\n",
    "\n",
    "f_ax1 = fig.add_subplot(gs[0, :-1])\n",
    "f_ax1.set_title('Fluo')\n",
    "plt.hist(DataFluo_shot, bins =np.arange(-0.5,2,0.01), facecolor='red', label=\"fluo\", alpha=0.5)\n",
    "plt.grid()\n",
    "plt.legend(loc=\"best\")\n",
    "\n",
    "f_ax2 = fig.add_subplot(gs[1, :-1])\n",
    "f_ax2.set_title('I_zero')\n",
    "plt.hist(IzeroFEL_shot, bins =np.arange(0,0.85,0.01), facecolor='red', label='Izero', alpha=0.5)\n",
    "plt.grid()\n",
    "plt.legend(loc=\"best\")\n",
    "\n",
    "f_ax3 = fig.add_subplot(gs[0:, 1])\n",
    "f_ax3.set_title('correlation')\n",
    "plt.plot(IzeroFEL_shot, DataFluo_shot, color = 'red',  linestyle='None', label='correlation',marker='.')\n",
    "plt.grid()\n",
    "plt.legend(loc=\"best\")\n",
    "plt.xlabel(\"I_zero (PBPS122)\")\n",
    "plt.ylabel (\"Fluorescence (PIPS)\")\n",
    "\n",
    "plt.show()"
   ]
  },
  {
   "cell_type": "markdown",
   "metadata": {},
   "source": [
    "# Load mono scan"
   ]
  },
  {
   "cell_type": "markdown",
   "metadata": {},
   "source": [
    "### First, without any filtering of the data, check data distributions with quantiles "
   ]
  },
  {
   "cell_type": "code",
   "execution_count": null,
   "metadata": {
    "collapsed": true
   },
   "outputs": [],
   "source": [
    "quantiles = [0.5, 0.1, 0.2, 0.3, 0.4, 0.6, 0.7, 0.8, 0.9]\n",
    "\n",
    "######################################################33\n",
    "json_file = DIR_json + scan_name + scan_range + \".json\"\n",
    "print (json_file)\n",
    "\n",
    "with open(json_file) as file:\n",
    "    data = json.load(file)\n",
    "numFiles = len(data['scan_files'])\n",
    "#numFiles = 35\n",
    "\n",
    "print (\"Processing\",numFiles,\"files\")\n",
    "\n",
    "DataFluo = []\n",
    "Energy_eV = []\n",
    "\n",
    "for i in range(0,numFiles):             \n",
    "    fn = str(data['scan_files'][i][0])    \n",
    "    exists = os.path.isfile(fn)\n",
    "    if exists: #and i!=0:\n",
    "        clear_output(wait=True)\n",
    "        print(\"step\",i+1,\"of\",numFiles,\": Processing %s\" %(str(data['scan_files'][i][0])))\n",
    "        \n",
    "        (DataTrans_shot, DataFluo_shot, IzeroFEL_shot, Laser, Energy_shot, PulseIDs) = load_FEL_scans(fn, channel_energy)\n",
    "        \n",
    "        print (\"Loaded {} shots\".format(len(DataFluo_shot)))\n",
    "    \n",
    "        DataFluo_shot_norm = DataFluo_shot / IzeroFEL_shot\n",
    "        \n",
    "        df_fluo = pd.DataFrame(DataFluo_shot_norm)\n",
    "              \n",
    "        DataFluo.append(np.quantile(df_fluo, quantiles))        \n",
    "        Energy_shot = [x for x in Energy_shot if (np.abs(x) > 0)]\n",
    "        Energy_eV.append(np.mean(Energy_shot))\n",
    "    \n",
    "DataFluo = np.asarray(DataFluo)\n",
    "Energy_eV = np.asarray(Energy_eV)\n",
    "\n",
    "print (\"Job done!\")"
   ]
  },
  {
   "cell_type": "code",
   "execution_count": null,
   "metadata": {
    "collapsed": true
   },
   "outputs": [],
   "source": [
    "plt.figure(figsize = (7,5))\n",
    "\n",
    "plt.plot(Energy_eV, DataFluo[:,0],label='median',marker='.' )\n",
    "plt.fill_between(Energy_eV,np.array(DataFluo[:,4]),np.array(DataFluo[:,5]), label='20%', alpha = 0.3)\n",
    "plt.fill_between(Energy_eV,np.array(DataFluo[:,3]),np.array(DataFluo[:,6]), label='40%', alpha = 0.3)\n",
    "plt.fill_between(Energy_eV,np.array(DataFluo[:,2]),np.array(DataFluo[:,7]), label='60%', alpha = 0.3)\n",
    "plt.fill_between(Energy_eV,np.array(DataFluo[:,1]),np.array(DataFluo[:,8]), label='80%', alpha = 0.3)\n",
    "plt.grid()\n",
    "\n",
    "plt.legend(loc=\"best\")\n",
    "plt.ylabel(\"XAS Fluo\")\n",
    "plt.xlabel(\"Energy (eV)\")\n",
    "plt.title(json_file.split('scan_info')[1], fontsize=12)\n",
    "\n",
    "plt.show()"
   ]
  },
  {
   "cell_type": "markdown",
   "metadata": {},
   "source": [
    "### Now choose thresholds and quantile"
   ]
  },
  {
   "cell_type": "code",
   "execution_count": null,
   "metadata": {
    "collapsed": true
   },
   "outputs": [],
   "source": [
    "min_I0 = 0.01\n",
    "min_fluo = 0.001\n",
    "quantile_corr = 0.5\n",
    "\n",
    "########################################################################\n",
    "json_file = DIR_json + scan_name + scan_range + \".json\"\n",
    "print (json_file)\n",
    "\n",
    "with open(json_file) as file:\n",
    "    data = json.load(file)\n",
    "numFiles = len(data['scan_files'])\n",
    "#numFiles = 35\n",
    "\n",
    "print (\"Processing\",numFiles,\"files\")\n",
    "\n",
    "DataFluo = []\n",
    "Energy_eV = []\n",
    "\n",
    "for i in range(0,numFiles):             \n",
    "    filename = str(data['scan_files'][i][0])    \n",
    "    exists = os.path.isfile(filename)\n",
    "    if exists: #and i!=0:\n",
    "        clear_output(wait=True)\n",
    "        print(\"step\",i+1,\"of\",numFiles,\": Processing %s\" %(str(data['scan_files'][i][0])))\n",
    "        \n",
    "        (DataTrans_shot, DataFluo_shot, IzeroFEL_shot, Laser, Energy_shot, PulseIDs) = load_FEL_scans(filename, channel_energy)\n",
    "        \n",
    "        print (\"Loaded {} shots\".format(len(DataFluo_shot)))\n",
    "        \n",
    "        threshold_FEL = IzeroFEL_shot > min_I0\n",
    "        threshold_fluo = DataFluo_shot > min_fluo\n",
    "        thresholds_filter = threshold_FEL & threshold_fluo\n",
    "        DataFluo_shot = DataFluo_shot[thresholds_filter]\n",
    "        IzeroFEL_shot = IzeroFEL_shot[thresholds_filter]\n",
    "        \n",
    "        print (\"survived {} shots\".format(len(DataFluo_shot)))\n",
    "        \n",
    "        DataFluo_shot_norm = DataFluo_shot / IzeroFEL_shot\n",
    "        \n",
    "        med = np.median(DataFluo_shot_norm)\n",
    "        qnt_low = np.quantile(DataFluo_shot_norm, 0.5 - quantile_corr/2)\n",
    "        qnt_high = np.quantile(DataFluo_shot_norm, 0.5 + quantile_corr/2)\n",
    "        condition_corr_low = DataFluo_shot_norm > qnt_low\n",
    "        condition_corr_high = DataFluo_shot_norm < qnt_high\n",
    "        correlation_filter = condition_corr_low & condition_corr_high \n",
    "        DataFluo_shot_norm = DataFluo_shot_norm[correlation_filter]\n",
    "        \n",
    "        print (\"survived {} shots\".format(len(DataFluo_shot_norm)))\n",
    "        \n",
    "        df_fluo = pd.DataFrame(DataFluo_shot_norm)\n",
    "        DataFluo.append(np.quantile(df_fluo, [0.5, 0, 1]))\n",
    "        \n",
    "        Energy_shot = [x for x in Energy_shot if (np.abs(x) > 0)]\n",
    "        Energy_eV.append(np.mean(Energy_shot))\n",
    "    \n",
    "DataFluo = np.asarray(DataFluo)                  \n",
    "Energy_eV = np.asarray(Energy_eV)\n",
    "\n",
    "print (\"Job done!\")"
   ]
  },
  {
   "cell_type": "code",
   "execution_count": null,
   "metadata": {
    "collapsed": true
   },
   "outputs": [],
   "source": [
    "plt.figure(figsize = (7,5))\n",
    "\n",
    "XAS = DataFluo[:,0]\n",
    "err_low = DataFluo[:,1]\n",
    "err_high = DataFluo[:,2]\n",
    "\n",
    "plt.plot(Energy_eV, XAS, label='{}%'.format(quantile_corr*100),marker='.')\n",
    "plt.fill_between(Energy_eV, err_low, err_high, color='lightblue')\n",
    "plt.xlabel(\"Energy (eV)\")\n",
    "plt.ylabel (\"XAS (I0 norm)\")\n",
    "plt.gca().set_title('XAS (fluo)')\n",
    "plt.legend(loc=\"best\")\n",
    "plt.title(json_file.split('scan_info')[1], fontsize=12)\n",
    "plt.grid()\n",
    "\n",
    "plt.show()"
   ]
  },
  {
   "cell_type": "code",
   "execution_count": null,
   "metadata": {
    "collapsed": true
   },
   "outputs": [],
   "source": []
  },
  {
   "cell_type": "code",
   "execution_count": null,
   "metadata": {
    "collapsed": true
   },
   "outputs": [],
   "source": []
  }
 ],
 "metadata": {
  "kernelspec": {
   "display_name": "Python [conda env:alvra-analysis]",
   "language": "python",
   "name": "conda-env-alvra-analysis-py"
  },
  "language_info": {
   "codemirror_mode": {
    "name": "ipython",
    "version": 3
   },
   "file_extension": ".py",
   "mimetype": "text/x-python",
   "name": "python",
   "nbconvert_exporter": "python",
   "pygments_lexer": "ipython3",
   "version": "3.6.7"
  }
 },
 "nbformat": 4,
 "nbformat_minor": 2
}

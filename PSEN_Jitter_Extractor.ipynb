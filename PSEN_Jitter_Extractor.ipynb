{
 "cells": [
  {
   "cell_type": "code",
   "execution_count": 39,
   "metadata": {},
   "outputs": [
    {
     "ename": "ModuleNotFoundError",
     "evalue": "No module named 'bsread'",
     "output_type": "error",
     "traceback": [
      "\u001b[0;31m---------------------------------------------------------------------------\u001b[0m",
      "\u001b[0;31mModuleNotFoundError\u001b[0m                       Traceback (most recent call last)",
      "\u001b[0;32m<ipython-input-39-698ade0ef1da>\u001b[0m in \u001b[0;36m<module>\u001b[0;34m\u001b[0m\n\u001b[1;32m     13\u001b[0m \u001b[0;32mfrom\u001b[0m \u001b[0mscipy\u001b[0m\u001b[0;34m.\u001b[0m\u001b[0mndimage\u001b[0m \u001b[0;32mimport\u001b[0m \u001b[0mconvolve1d\u001b[0m\u001b[0;34m\u001b[0m\u001b[0;34m\u001b[0m\u001b[0m\n\u001b[1;32m     14\u001b[0m \u001b[0;32mfrom\u001b[0m \u001b[0mIPython\u001b[0m\u001b[0;34m.\u001b[0m\u001b[0mdisplay\u001b[0m \u001b[0;32mimport\u001b[0m \u001b[0mclear_output\u001b[0m\u001b[0;34m\u001b[0m\u001b[0;34m\u001b[0m\u001b[0m\n\u001b[0;32m---> 15\u001b[0;31m \u001b[0;32mfrom\u001b[0m \u001b[0malvra_tools\u001b[0m\u001b[0;34m.\u001b[0m\u001b[0mpsen\u001b[0m \u001b[0;32mimport\u001b[0m \u001b[0;34m*\u001b[0m\u001b[0;34m\u001b[0m\u001b[0;34m\u001b[0m\u001b[0m\n\u001b[0m\u001b[1;32m     16\u001b[0m \u001b[0mget_ipython\u001b[0m\u001b[0;34m(\u001b[0m\u001b[0;34m)\u001b[0m\u001b[0;34m.\u001b[0m\u001b[0mrun_line_magic\u001b[0m\u001b[0;34m(\u001b[0m\u001b[0;34m'matplotlib'\u001b[0m\u001b[0;34m,\u001b[0m \u001b[0;34m'notebook'\u001b[0m\u001b[0;34m)\u001b[0m\u001b[0;34m\u001b[0m\u001b[0;34m\u001b[0m\u001b[0m\n",
      "\u001b[0;32m/das/work/p17/p17589/dev/alvra_tools/alvra_tools/psen.py\u001b[0m in \u001b[0;36m<module>\u001b[0;34m\u001b[0m\n\u001b[1;32m      1\u001b[0m \u001b[0;32mimport\u001b[0m \u001b[0mnumpy\u001b[0m \u001b[0;32mas\u001b[0m \u001b[0mnp\u001b[0m\u001b[0;34m\u001b[0m\u001b[0;34m\u001b[0m\u001b[0m\n\u001b[0;32m----> 2\u001b[0;31m \u001b[0;32mfrom\u001b[0m \u001b[0mbsread\u001b[0m \u001b[0;32mimport\u001b[0m \u001b[0msource\u001b[0m\u001b[0;34m,\u001b[0m \u001b[0mSource\u001b[0m\u001b[0;34m\u001b[0m\u001b[0;34m\u001b[0m\u001b[0m\n\u001b[0m\u001b[1;32m      3\u001b[0m \u001b[0;32mfrom\u001b[0m \u001b[0mscipy\u001b[0m\u001b[0;34m.\u001b[0m\u001b[0minterpolate\u001b[0m \u001b[0;32mimport\u001b[0m \u001b[0minterp1d\u001b[0m\u001b[0;34m\u001b[0m\u001b[0;34m\u001b[0m\u001b[0m\n\u001b[1;32m      4\u001b[0m \u001b[0;32mfrom\u001b[0m \u001b[0mscipy\u001b[0m \u001b[0;32mimport\u001b[0m \u001b[0msignal\u001b[0m\u001b[0;34m\u001b[0m\u001b[0;34m\u001b[0m\u001b[0m\n\u001b[1;32m      5\u001b[0m \u001b[0;32mfrom\u001b[0m \u001b[0mscipy\u001b[0m\u001b[0;34m.\u001b[0m\u001b[0mndimage\u001b[0m \u001b[0;32mimport\u001b[0m \u001b[0mgaussian_filter1d\u001b[0m\u001b[0;34m\u001b[0m\u001b[0;34m\u001b[0m\u001b[0m\n",
      "\u001b[0;31mModuleNotFoundError\u001b[0m: No module named 'bsread'"
     ]
    }
   ],
   "source": [
    "import h5py\n",
    "import glob\n",
    "import numpy as np\n",
    "import matplotlib\n",
    "import matplotlib.pyplot as plt\n",
    "import os\n",
    "from scipy import optimize\n",
    "from scipy.interpolate import interp1d\n",
    "from scipy import signal\n",
    "from scipy.signal import savgol_filter\n",
    "from scipy.signal import find_peaks\n",
    "from scipy.ndimage import gaussian_filter1d\n",
    "from scipy.ndimage import convolve1d\n",
    "from IPython.display import clear_output\n",
    "%matplotlib nbagg\n",
    "from alvra_tools.psen import *"
   ]
  },
  {
   "cell_type": "code",
   "execution_count": 154,
   "metadata": {},
   "outputs": [],
   "source": [
    "lambdas = 467.55 + 0.07219*np.arange(0,2047)      #calibration new spec 23-9-2020\n",
    "nus = 299792458 / (lambdas * 10**-9)\n",
    "nus_new = np.linspace(nus[0], nus[-1], num=2047, endpoint=True)\n",
    "\n",
    "filter = np.concatenate((np.ones(50),signal.tukey(40)[20:40], np.zeros(1977), np.zeros(2047)))\n",
    "filter3 = np.concatenate((np.zeros(100), np.ones(100)))\n",
    "\n",
    "background_from_fit = np.loadtxt('/sf/alvra/data/p18954/scratch/2021-03-28-19:30-psen-background.txt')\n",
    "peakback = np.loadtxt('/sf/alvra/data/p18954/scratch/2021-03-28-19:30-psen-peak-background.txt')"
   ]
  },
  {
   "cell_type": "markdown",
   "metadata": {},
   "source": [
    "### Run next cell only once to make the directories for the SPECENC files."
   ]
  },
  {
   "cell_type": "code",
   "execution_count": 162,
   "metadata": {},
   "outputs": [
    {
     "name": "stdout",
     "output_type": "stream",
     "text": [
      "ocp_mut_1500fs_32nJ_100Hz_41\n"
     ]
    },
    {
     "ename": "FileExistsError",
     "evalue": "[Errno 17] File exists: '/sf/alvra/data/p18954/scratch/ocp_mut_1500fs_32nJ_100Hz_41'",
     "output_type": "error",
     "traceback": [
      "\u001b[0;31m---------------------------------------------------------------------------\u001b[0m",
      "\u001b[0;31mFileExistsError\u001b[0m                           Traceback (most recent call last)",
      "\u001b[0;32m<ipython-input-162-4413825afe0f>\u001b[0m in \u001b[0;36m<module>\u001b[0;34m\u001b[0m\n\u001b[1;32m      8\u001b[0m \u001b[0;32mfor\u001b[0m \u001b[0mfolder\u001b[0m \u001b[0;32min\u001b[0m \u001b[0mfolderlist\u001b[0m\u001b[0;34m:\u001b[0m\u001b[0;34m\u001b[0m\u001b[0;34m\u001b[0m\u001b[0m\n\u001b[1;32m      9\u001b[0m     \u001b[0mprint\u001b[0m \u001b[0;34m(\u001b[0m\u001b[0mfolder\u001b[0m\u001b[0;34m.\u001b[0m\u001b[0msplit\u001b[0m\u001b[0;34m(\u001b[0m\u001b[0;34m'/'\u001b[0m\u001b[0;34m)\u001b[0m\u001b[0;34m[\u001b[0m\u001b[0;34m-\u001b[0m\u001b[0;36m1\u001b[0m\u001b[0;34m]\u001b[0m\u001b[0;34m)\u001b[0m\u001b[0;34m\u001b[0m\u001b[0;34m\u001b[0m\u001b[0m\n\u001b[0;32m---> 10\u001b[0;31m     \u001b[0mos\u001b[0m\u001b[0;34m.\u001b[0m\u001b[0mmkdir\u001b[0m\u001b[0;34m(\u001b[0m\u001b[0;34m'/sf/alvra/data/p18954/scratch/'\u001b[0m \u001b[0;34m+\u001b[0m \u001b[0mfolder\u001b[0m\u001b[0;34m.\u001b[0m\u001b[0msplit\u001b[0m\u001b[0;34m(\u001b[0m\u001b[0;34m'/'\u001b[0m\u001b[0;34m)\u001b[0m\u001b[0;34m[\u001b[0m\u001b[0;34m-\u001b[0m\u001b[0;36m1\u001b[0m\u001b[0;34m]\u001b[0m\u001b[0;34m)\u001b[0m\u001b[0;34m\u001b[0m\u001b[0;34m\u001b[0m\u001b[0m\n\u001b[0m",
      "\u001b[0;31mFileExistsError\u001b[0m: [Errno 17] File exists: '/sf/alvra/data/p18954/scratch/ocp_mut_1500fs_32nJ_100Hz_41'"
     ]
    }
   ],
   "source": [
    "path = '/sf/alvra/data/p18954/raw/'\n",
    "\n",
    "folderlist = []\n",
    "for file in glob.glob(path + 'ocp_mut_1500fs_*41'):\n",
    "    folderlist.append(file)\n",
    "folderlist = sorted(folderlist)\n",
    "\n",
    "for folder in folderlist:\n",
    "    print (folder.split('/')[-1])\n",
    "    os.mkdir('/sf/alvra/data/p18954/scratch/' + folder.split('/')[-1])\n"
   ]
  },
  {
   "cell_type": "code",
   "execution_count": 163,
   "metadata": {
    "scrolled": true
   },
   "outputs": [
    {
     "data": {
      "text/plain": [
       "['/sf/alvra/data/p18954/raw/ocp_mut_1500fs_32nJ_100Hz_41/run_003882.BSDATA.h5',\n",
       " '/sf/alvra/data/p18954/raw/ocp_mut_1500fs_32nJ_100Hz_41/run_003883.BSDATA.h5',\n",
       " '/sf/alvra/data/p18954/raw/ocp_mut_1500fs_32nJ_100Hz_41/run_003884.BSDATA.h5',\n",
       " '/sf/alvra/data/p18954/raw/ocp_mut_1500fs_32nJ_100Hz_41/run_003885.BSDATA.h5',\n",
       " '/sf/alvra/data/p18954/raw/ocp_mut_1500fs_32nJ_100Hz_41/run_003886.BSDATA.h5',\n",
       " '/sf/alvra/data/p18954/raw/ocp_mut_1500fs_32nJ_100Hz_41/run_003887.BSDATA.h5',\n",
       " '/sf/alvra/data/p18954/raw/ocp_mut_1500fs_32nJ_100Hz_41/run_003888.BSDATA.h5',\n",
       " '/sf/alvra/data/p18954/raw/ocp_mut_1500fs_32nJ_100Hz_41/run_003889.BSDATA.h5',\n",
       " '/sf/alvra/data/p18954/raw/ocp_mut_1500fs_32nJ_100Hz_41/run_003890.BSDATA.h5',\n",
       " '/sf/alvra/data/p18954/raw/ocp_mut_1500fs_32nJ_100Hz_41/run_003891.BSDATA.h5',\n",
       " '/sf/alvra/data/p18954/raw/ocp_mut_1500fs_32nJ_100Hz_41/run_003892.BSDATA.h5',\n",
       " '/sf/alvra/data/p18954/raw/ocp_mut_1500fs_32nJ_100Hz_41/run_003893.BSDATA.h5',\n",
       " '/sf/alvra/data/p18954/raw/ocp_mut_1500fs_32nJ_100Hz_41/run_003894.BSDATA.h5',\n",
       " '/sf/alvra/data/p18954/raw/ocp_mut_1500fs_32nJ_100Hz_41/run_003895.BSDATA.h5',\n",
       " '/sf/alvra/data/p18954/raw/ocp_mut_1500fs_32nJ_100Hz_41/run_003896.BSDATA.h5',\n",
       " '/sf/alvra/data/p18954/raw/ocp_mut_1500fs_32nJ_100Hz_41/run_003897.BSDATA.h5',\n",
       " '/sf/alvra/data/p18954/raw/ocp_mut_1500fs_32nJ_100Hz_41/run_003898.BSDATA.h5',\n",
       " '/sf/alvra/data/p18954/raw/ocp_mut_1500fs_32nJ_100Hz_41/run_003899.BSDATA.h5',\n",
       " '/sf/alvra/data/p18954/raw/ocp_mut_1500fs_32nJ_100Hz_41/run_003900.BSDATA.h5',\n",
       " '/sf/alvra/data/p18954/raw/ocp_mut_1500fs_32nJ_100Hz_41/run_003901.BSDATA.h5',\n",
       " '/sf/alvra/data/p18954/raw/ocp_mut_1500fs_32nJ_100Hz_41/run_003902.BSDATA.h5',\n",
       " '/sf/alvra/data/p18954/raw/ocp_mut_1500fs_32nJ_100Hz_41/run_003903.BSDATA.h5',\n",
       " '/sf/alvra/data/p18954/raw/ocp_mut_1500fs_32nJ_100Hz_41/run_003904.BSDATA.h5',\n",
       " '/sf/alvra/data/p18954/raw/ocp_mut_1500fs_32nJ_100Hz_41/run_003905.BSDATA.h5',\n",
       " '/sf/alvra/data/p18954/raw/ocp_mut_1500fs_32nJ_100Hz_41/run_003906.BSDATA.h5',\n",
       " '/sf/alvra/data/p18954/raw/ocp_mut_1500fs_32nJ_100Hz_41/run_003907.BSDATA.h5',\n",
       " '/sf/alvra/data/p18954/raw/ocp_mut_1500fs_32nJ_100Hz_41/run_003908.BSDATA.h5',\n",
       " '/sf/alvra/data/p18954/raw/ocp_mut_1500fs_32nJ_100Hz_41/run_003909.BSDATA.h5',\n",
       " '/sf/alvra/data/p18954/raw/ocp_mut_1500fs_32nJ_100Hz_41/run_003910.BSDATA.h5',\n",
       " '/sf/alvra/data/p18954/raw/ocp_mut_1500fs_32nJ_100Hz_41/run_003911.BSDATA.h5',\n",
       " '/sf/alvra/data/p18954/raw/ocp_mut_1500fs_32nJ_100Hz_41/run_003912.BSDATA.h5',\n",
       " '/sf/alvra/data/p18954/raw/ocp_mut_1500fs_32nJ_100Hz_41/run_003913.BSDATA.h5',\n",
       " '/sf/alvra/data/p18954/raw/ocp_mut_1500fs_32nJ_100Hz_41/run_003914.BSDATA.h5',\n",
       " '/sf/alvra/data/p18954/raw/ocp_mut_1500fs_32nJ_100Hz_41/run_003915.BSDATA.h5',\n",
       " '/sf/alvra/data/p18954/raw/ocp_mut_1500fs_32nJ_100Hz_41/run_003916.BSDATA.h5',\n",
       " '/sf/alvra/data/p18954/raw/ocp_mut_1500fs_32nJ_100Hz_41/run_003917.BSDATA.h5',\n",
       " '/sf/alvra/data/p18954/raw/ocp_mut_1500fs_32nJ_100Hz_41/run_003918.BSDATA.h5',\n",
       " '/sf/alvra/data/p18954/raw/ocp_mut_1500fs_32nJ_100Hz_41/run_003919.BSDATA.h5',\n",
       " '/sf/alvra/data/p18954/raw/ocp_mut_1500fs_32nJ_100Hz_41/run_003920.BSDATA.h5',\n",
       " '/sf/alvra/data/p18954/raw/ocp_mut_1500fs_32nJ_100Hz_41/run_003921.BSDATA.h5',\n",
       " '/sf/alvra/data/p18954/raw/ocp_mut_1500fs_32nJ_100Hz_41/run_003922.BSDATA.h5',\n",
       " '/sf/alvra/data/p18954/raw/ocp_mut_1500fs_32nJ_100Hz_41/run_003923.BSDATA.h5',\n",
       " '/sf/alvra/data/p18954/raw/ocp_mut_1500fs_32nJ_100Hz_41/run_003924.BSDATA.h5',\n",
       " '/sf/alvra/data/p18954/raw/ocp_mut_1500fs_32nJ_100Hz_41/run_003925.BSDATA.h5',\n",
       " '/sf/alvra/data/p18954/raw/ocp_mut_1500fs_32nJ_100Hz_41/run_003926.BSDATA.h5',\n",
       " '/sf/alvra/data/p18954/raw/ocp_mut_1500fs_32nJ_100Hz_41/run_003927.BSDATA.h5',\n",
       " '/sf/alvra/data/p18954/raw/ocp_mut_1500fs_32nJ_100Hz_41/run_003928.BSDATA.h5',\n",
       " '/sf/alvra/data/p18954/raw/ocp_mut_1500fs_32nJ_100Hz_41/run_003929.BSDATA.h5',\n",
       " '/sf/alvra/data/p18954/raw/ocp_mut_1500fs_32nJ_100Hz_41/run_003930.BSDATA.h5',\n",
       " '/sf/alvra/data/p18954/raw/ocp_mut_1500fs_32nJ_100Hz_41/run_003931.BSDATA.h5',\n",
       " '/sf/alvra/data/p18954/raw/ocp_mut_1500fs_32nJ_100Hz_41/run_003932.BSDATA.h5',\n",
       " '/sf/alvra/data/p18954/raw/ocp_mut_1500fs_32nJ_100Hz_41/run_003933.BSDATA.h5',\n",
       " '/sf/alvra/data/p18954/raw/ocp_mut_1500fs_32nJ_100Hz_41/run_003934.BSDATA.h5',\n",
       " '/sf/alvra/data/p18954/raw/ocp_mut_1500fs_32nJ_100Hz_41/run_003935.BSDATA.h5',\n",
       " '/sf/alvra/data/p18954/raw/ocp_mut_1500fs_32nJ_100Hz_41/run_003936.BSDATA.h5',\n",
       " '/sf/alvra/data/p18954/raw/ocp_mut_1500fs_32nJ_100Hz_41/run_003937.BSDATA.h5',\n",
       " '/sf/alvra/data/p18954/raw/ocp_mut_1500fs_32nJ_100Hz_41/run_003938.BSDATA.h5',\n",
       " '/sf/alvra/data/p18954/raw/ocp_mut_1500fs_32nJ_100Hz_41/run_003939.BSDATA.h5',\n",
       " '/sf/alvra/data/p18954/raw/ocp_mut_1500fs_32nJ_100Hz_41/run_003940.BSDATA.h5',\n",
       " '/sf/alvra/data/p18954/raw/ocp_mut_1500fs_32nJ_100Hz_41/run_003941.BSDATA.h5',\n",
       " '/sf/alvra/data/p18954/raw/ocp_mut_1500fs_32nJ_100Hz_41/run_003942.BSDATA.h5',\n",
       " '/sf/alvra/data/p18954/raw/ocp_mut_1500fs_32nJ_100Hz_41/run_003943.BSDATA.h5',\n",
       " '/sf/alvra/data/p18954/raw/ocp_mut_1500fs_32nJ_100Hz_41/run_003944.BSDATA.h5',\n",
       " '/sf/alvra/data/p18954/raw/ocp_mut_1500fs_32nJ_100Hz_41/run_003945.BSDATA.h5',\n",
       " '/sf/alvra/data/p18954/raw/ocp_mut_1500fs_32nJ_100Hz_41/run_003946.BSDATA.h5',\n",
       " '/sf/alvra/data/p18954/raw/ocp_mut_1500fs_32nJ_100Hz_41/run_003947.BSDATA.h5',\n",
       " '/sf/alvra/data/p18954/raw/ocp_mut_1500fs_32nJ_100Hz_41/run_003948.BSDATA.h5',\n",
       " '/sf/alvra/data/p18954/raw/ocp_mut_1500fs_32nJ_100Hz_41/run_003949.BSDATA.h5',\n",
       " '/sf/alvra/data/p18954/raw/ocp_mut_1500fs_32nJ_100Hz_41/run_003950.BSDATA.h5',\n",
       " '/sf/alvra/data/p18954/raw/ocp_mut_1500fs_32nJ_100Hz_41/run_003951.BSDATA.h5']"
      ]
     },
     "execution_count": 163,
     "metadata": {},
     "output_type": "execute_result"
    }
   ],
   "source": [
    "# choose the data file(s):\n",
    "\n",
    "datafiles = []\n",
    "for file in glob.glob('/sf/alvra/data/p18954/raw/ocp_mut_1500fs_*_41/*.BSDATA.h5'):\n",
    "    datafiles.append(file)\n",
    "datafiles = sorted(datafiles)\n",
    "datafiles"
   ]
  },
  {
   "cell_type": "code",
   "execution_count": 164,
   "metadata": {},
   "outputs": [
    {
     "data": {
      "text/plain": [
       "70"
      ]
     },
     "execution_count": 164,
     "metadata": {},
     "output_type": "execute_result"
    }
   ],
   "source": [
    "len(datafiles)"
   ]
  },
  {
   "cell_type": "code",
   "execution_count": 165,
   "metadata": {},
   "outputs": [
    {
     "name": "stdout",
     "output_type": "stream",
     "text": [
      "check folder name: ocp_mut_1500fs_32nJ_100Hz_41\n"
     ]
    }
   ],
   "source": [
    "print ('check folder name: {}'.format(datafiles[0].split('/')[-2]))"
   ]
  },
  {
   "cell_type": "code",
   "execution_count": 166,
   "metadata": {
    "scrolled": false
   },
   "outputs": [
    {
     "name": "stdout",
     "output_type": "stream",
     "text": [
      "/sf/alvra/data/p18954/raw/ocp_mut_1500fs_32nJ_100Hz_41/run_003951.BSDATA.h5\n",
      "/sf/alvra/data/p18954/scratch/ocp_mut_1500fs_32nJ_100Hz_41/run_003951.SPECENC.h5\n"
     ]
    }
   ],
   "source": [
    "px2fs = 2.2054 # new spectrometer, it is ~ 2 px to fs\n",
    "p0 = 1024\n",
    "\n",
    "for file in datafiles:\n",
    "    clear_output(wait=True)\n",
    "    print(file)\n",
    "    \n",
    "    with h5py.File(file, 'r') as f:\n",
    "#        events = f['/data/SAR-CVME-TIFALL5:EvtSet/data'][:]\n",
    "        back = f['/SARES11-SPEC125-M2.roi_background_x_profile/data'][:]\n",
    "        sig = f['/SARES11-SPEC125-M2.roi_signal_x_profile/data'][:]\n",
    "        pulse_ids = f['/SARES11-SPEC125-M2.roi_signal_x_profile/pulse_id'][:]\n",
    "        \n",
    "        stage_delay = f['/SLAAR11-LTIM01-EVR0:DUMMY_PV5_NBS/data'][0]  ## NBS PV, set to delay in fs from Delay Panel\n",
    "     \n",
    "        #stage_delay_mm = f['/data/SLAAR11-LMOT-M451:ENC_1_BS/data'][0]    ## Topas Delay in mm.\n",
    "    #stage_delay = (stage_delay_mm - Timezero)*2/(3e8*1e3*1e-15)           ## convert Delay to fs, if loaded in mm\n",
    "    \n",
    "    edgePos = [] # edge positions in fs\n",
    "    peakAmp = [] # xcorr amplitudes in arb. units\n",
    "    pids = [] # pulse ids\n",
    "    \n",
    "    for k in range(0, len(pulse_ids)):\n",
    "        pids.append(int(pulse_ids[k]))\n",
    "        \n",
    "        # background subtraction\n",
    "        sig2 = np.nan_to_num(sig[k] / back[k]) / background_from_fit\n",
    "    \n",
    "        # interpolate to get evenly sampled in frequency space\n",
    "        sig3inter = interp1d(nus, sig2, kind='cubic')\n",
    "        sig4 = np.pad(sig3inter(nus_new), (0,len(sig3inter(nus_new))), 'constant', constant_values=0)\n",
    "\n",
    "        # Fourier transform, filter, inverse fourier transform, take the real part, and do a moving average\n",
    "        sig4fft = np.fft.fft(sig4)\n",
    "        sig4filtered = sig4fft * filter\n",
    "        sig4inverse = np.fft.ifft(sig4filtered)\n",
    "        sig4invreal = 2 * np.real(sig4inverse)\n",
    "        sig4inter = interp1d(nus_new, sig4invreal[0:2047], kind='cubic')\n",
    "        sig5 = sig4inter(nus)\n",
    "\n",
    "        sig5gaussO0 = gaussian_filter1d(sig5, 30)\n",
    "        sig5gaussO1 = gaussian_filter1d(sig5, 50, order = 1) - peakback\n",
    "        sig6 = np.roll(convolve1d(sig5gaussO0,filter3), -100)\n",
    "        \n",
    "        peak2 = np.argmax(sig5gaussO1)\n",
    "        \n",
    "        edgePos.append((p0 - peak2)*px2fs)\n",
    "        peakAmp.append(np.max(sig5gaussO1) * 11500)\n",
    "    \n",
    "    folderName = file.split('/')[-2]\n",
    "    runNumber = file.split('.')[0].split('/')[-1]\n",
    "    \n",
    "    savefile = '/sf/alvra/data/p18954/scratch/' + folderName + '/' + runNumber + '.SPECENC.h5'\n",
    "          \n",
    "    hf = h5py.File(savefile, 'w')\n",
    "    hf.create_dataset('pulse_ids', data=pids)\n",
    "#    hf.create_dataset('nominal_delay_from_stage', data=stage_delay)\n",
    "    hf.create_dataset('arrival_times', data=edgePos)\n",
    "    hf.create_dataset('arrival_times_amplitude', data=peakAmp)\n",
    "    hf.close()\n",
    "    print (savefile)"
   ]
  },
  {
   "cell_type": "code",
   "execution_count": 152,
   "metadata": {},
   "outputs": [
    {
     "data": {
      "text/plain": [
       "(0, 800)"
      ]
     },
     "execution_count": 152,
     "metadata": {},
     "output_type": "execute_result"
    },
    {
     "data": {
      "image/png": "[encoded data removed]",
      "text/plain": [
       "<Figure size 432x288 with 1 Axes>"
      ]
     },
     "metadata": {
      "needs_background": "light"
     },
     "output_type": "display_data"
    }
   ],
   "source": [
    "plt.figure()\n",
    "plt.plot(peakAmp, 'o')\n",
    "plt.xlim(0, 800)"
   ]
  },
  {
   "cell_type": "code",
   "execution_count": 111,
   "metadata": {},
   "outputs": [
    {
     "name": "stdout",
     "output_type": "stream",
     "text": [
      "61\n"
     ]
    }
   ],
   "source": [
    "dataSpecEnc = []\n",
    "for file in glob.glob('/sf/alvra/data/p18954/scratch/ocp_mut_1500fs_32nJ_100Hz_36/*.SPECENC.h5'):\n",
    "    #print (file)\n",
    "    dataSpecEnc.append(file)\n",
    "dataSpecEnc = sorted(dataSpecEnc)\n",
    "dataSpecEnc\n",
    "print (len(dataSpecEnc))"
   ]
  },
  {
   "cell_type": "code",
   "execution_count": 112,
   "metadata": {
    "scrolled": true
   },
   "outputs": [
    {
     "name": "stdout",
     "output_type": "stream",
     "text": [
      "/sf/alvra/data/p18954/scratch/ocp_mut_1500fs_32nJ_100Hz_36/run_003265.SPECENC.h5\n",
      "4339 4339\n",
      "Total loaded shots = 304329 from 61 runs\n"
     ]
    }
   ],
   "source": [
    "all_arrTimes = []\n",
    "\n",
    "import itertools\n",
    "\n",
    "for Specfile in dataSpecEnc:\n",
    "    clear_output(wait=True)\n",
    "    print (Specfile)\n",
    "    with h5py.File(Specfile, 'r') as f:\n",
    "        peakAmp = f['arrival_times_amplitude'][:]\n",
    "        arrTimes = f['arrival_times'][:]\n",
    "#        delay_fs = f['nominal_delay_from_stage'][:]\n",
    "        \n",
    "        light_shots = peakAmp * 10000 > 10\n",
    "        \n",
    "        arrTimes_light = arrTimes[light_shots] + 300\n",
    "        \n",
    "        print (len(arrTimes), len(arrTimes_light))\n",
    "        \n",
    "    all_arrTimes.append(arrTimes_light)\n",
    "        \n",
    "all_arrTimes = list(itertools.chain.from_iterable(all_arrTimes))\n",
    "print ('Total loaded shots = {} from {} runs'.format(len(all_arrTimes), len(dataSpecEnc)))\n"
   ]
  },
  {
   "cell_type": "code",
   "execution_count": 113,
   "metadata": {},
   "outputs": [
    {
     "data": {
      "image/png": "[encoded data removed]",
      "text/plain": [
       "<Figure size 432x288 with 1 Axes>"
      ]
     },
     "metadata": {
      "needs_background": "light"
     },
     "output_type": "display_data"
    }
   ],
   "source": [
    "plt.figure()\n",
    "plt.hist(all_arrTimes, bins = 25)\n",
    "plt.xlim(0,500)\n",
    "plt.show()"
   ]
  },
  {
   "cell_type": "code",
   "execution_count": 119,
   "metadata": {},
   "outputs": [
    {
     "data": {
      "text/plain": [
       "[<matplotlib.lines.Line2D at 0x2b12841922e8>]"
      ]
     },
     "execution_count": 119,
     "metadata": {},
     "output_type": "execute_result"
    },
    {
     "data": {
      "image/png": "[encoded data removed]",
      "text/plain": [
       "<Figure size 432x288 with 1 Axes>"
      ]
     },
     "metadata": {
      "needs_background": "light"
     },
     "output_type": "display_data"
    }
   ],
   "source": [
    "plt.figure()\n",
    "plt.plot(all_arrTimes, 'o')\n",
    "#plt.xlim(0,1000)"
   ]
  },
  {
   "cell_type": "code",
   "execution_count": null,
   "metadata": {},
   "outputs": [],
   "source": []
  }
 ],
 "metadata": {
  "kernelspec": {
   "display_name": "Python [conda env:alvra-analysis]",
   "language": "python",
   "name": "conda-env-alvra-analysis-py"
  },
  "language_info": {
   "codemirror_mode": {
    "name": "ipython",
    "version": 3
   },
   "file_extension": ".py",
   "mimetype": "text/x-python",
   "name": "python",
   "nbconvert_exporter": "python",
   "pygments_lexer": "ipython3",
   "version": "3.6.7"
  }
 },
 "nbformat": 4,
 "nbformat_minor": 2
}

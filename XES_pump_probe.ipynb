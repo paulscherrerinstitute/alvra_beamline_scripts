{
 "cells": [
  {
   "cell_type": "code",
   "execution_count": null,
   "metadata": {},
   "outputs": [],
   "source": [
    "%matplotlib nbagg\n",
    "%load_ext line_profiler\n",
    "%load_ext memory_profiler\n",
    "\n",
    "import jungfrau_utils as ju\n",
    "import numpy as np\n",
    "import json\n",
    "import os, math\n",
    "import time\n",
    "from matplotlib import pyplot as plt\n",
    "from matplotlib import cm\n",
    "from scipy.optimize import curve_fit\n",
    "from IPython.display import clear_output, display\n",
    "import matplotlib.colors as colors\n",
    "\n",
    "import h5py\n",
    "\n",
    "from alvra_tools import *\n",
    "from alvra_tools.channels import *\n",
    "from alvra_tools.utils import errfunc_sigma, errfunc_fwhm, threshold\n",
    "import glob"
   ]
  },
  {
   "cell_type": "code",
   "execution_count": null,
   "metadata": {
    "collapsed": true
   },
   "outputs": [],
   "source": [
    "# Choose a pedestal file (usually located in /sf/alvra/data/*pgroup*/res/JF_pedestals) \n",
    "# if you do not want to use the closest in time\n",
    "\n",
    "# pedestal_file = \"/sf/alvra/data/p17983/res/JF_pedestals/pedestal_20190727_2115.JF02T09V02.res.h5\"\n",
    "pedestal_file = None"
   ]
  },
  {
   "cell_type": "code",
   "execution_count": null,
   "metadata": {
    "scrolled": true
   },
   "outputs": [],
   "source": [
    "scan_name =\"RuBpy_RIXS_1\"     #use this for a scan\n",
    "#scan_name =\"RuFoil_mono_1\"     #use this for a single file\n",
    "pgroup =\"p18442\"\n",
    "\n",
    "#######################################################################\n",
    "\n",
    "DIR_json = \"/sf/alvra/data/{}/res/scan_info/\".format(pgroup)\n",
    "DIR = \"/sf/alvra/data/{}/raw/scan_data/{}/\".format(pgroup, scan_name) \n",
    "savedir = \"/das/work/p18/{}/Export_PNG/\".format(pgroup)\n",
    "\n",
    "isscan = os.path.exists(DIR)\n",
    "if isscan:\n",
    "    DIR = DIR\n",
    "else:\n",
    "    DIR = \"/sf/alvra/data/{}/raw/{}/\".format(pgroup, scan_name)\n",
    "\n",
    "print (DIR)\n",
    "files_scan = glob.glob(DIR_json + scan_name + '.*')\n",
    "\n",
    "try:\n",
    "    scan_range = '.'+files_scan[-1].split('.')[-2]\n",
    "    print ('Scan range runs: {}'.format(scan_range))\n",
    "    !ls -lah -rt $DIR | grep JF*\n",
    "    !hostname\n",
    "except:\n",
    "    print ('Single file, not a scan')\n",
    "    !ls -lah -rt $DIR | grep JF*\n",
    "    !hostname\n"
   ]
  },
  {
   "cell_type": "code",
   "execution_count": null,
   "metadata": {
    "scrolled": false
   },
   "outputs": [],
   "source": [
    "# First we load the first images of a file to check if everything is fine with the pedestal &  files (check high True or False)\n",
    "# We can see also how the ROIs look like (will be useful later)\n",
    "\n",
    "clock = Clock()\n",
    "\n",
    "fileName = \"run_001507.JF02T09V02.h5\"\n",
    "\n",
    "print(DIR + fileName)\n",
    "\n",
    "nframes = 10\n",
    "\n",
    "total = 0\n",
    "total_thr = 0\n",
    "\n",
    "with ju.File(DIR + fileName, pedestal_file=pedestal_file) as juf:\n",
    "    pulse_ids = juf[\"pulse_id\"][:]\n",
    "    print ('Total number of images is {}, load the first {}'.format(len(pulse_ids), nframes))\n",
    "\n",
    "    for i in range(nframes):\n",
    "        image = juf[i, :]\n",
    "        image_thr = image.copy()\n",
    "        image_thr[image < 2] = 0\n",
    "        total_thr += image_thr\n",
    "        total += image\n",
    "        #total /= nframes\n",
    "    \n",
    "print (total_thr.shape)\n",
    "print (\"It took\", clock.tick(), \"seconds to process this file\")\n",
    "\n",
    "#roi = [[225, 325], [6950, 7075]]\n",
    "#roi = [[225, 325], [7900, 8450]]\n",
    "#roi = [[0, total_corr.shape[0]], [0, total_corr.shape[1]]]\n",
    "\n",
    "plt.figure()\n",
    "plt.subplots_adjust(wspace=0.5)\n",
    "plt.subplot(121)\n",
    "plt.imshow(total_thr, origin=\"lower\", aspect='auto', vmin=0, vmax=1)\n",
    "plt.title(\"with threshold\")\n",
    "plt.colorbar()\n",
    "plt.subplot(122)\n",
    "plt.imshow(total, origin=\"lower\", aspect='auto', vmin=0, vmax=1)\n",
    "plt.title(\"without threshold\")\n",
    "plt.colorbar()\n",
    "plt.show()\n"
   ]
  },
  {
   "cell_type": "code",
   "execution_count": null,
   "metadata": {},
   "outputs": [],
   "source": [
    "plt.figure()\n",
    "plt.imshow(total_thr, origin=\"lower\", aspect='auto', vmin=0, vmax=0.1)\n",
    "plt.title(fileName)\n",
    "plt.colorbar()\n",
    "plt.show()"
   ]
  },
  {
   "cell_type": "markdown",
   "metadata": {},
   "source": [
    "# New script in the next cell (single file)"
   ]
  },
  {
   "cell_type": "code",
   "execution_count": null,
   "metadata": {},
   "outputs": [],
   "source": [
    "datalist = glob.glob(DIR + \"*.JF02T09V02.h5\")\n",
    "datalist = sorted(datalist)\n",
    "roi1 = (5000, 5200, 220, 290) # Ru ROIs\n",
    "roi2 = (4600, 4800, 220, 290)\n",
    "nshots = None\n",
    "\n",
    "%mprun -f load_crop_JF_batches_on_off load_crop_JF_batches_on_off(datalist[0], roi1, roi2, 50, 25,\\\n",
    "                                                                  pedestal_file=pedestal_file, nshots=nshots)"
   ]
  },
  {
   "cell_type": "code",
   "execution_count": null,
   "metadata": {
    "scrolled": true
   },
   "outputs": [],
   "source": [
    "files = [\"run_001612\"]\n",
    "detector = \"JF02T09V02\"\n",
    "\n",
    "roi1 = (5000, 5200, 220, 290) # Ru ROIs\n",
    "roi2 = (4600, 4800, 220, 290)\n",
    "#roi1 = (100, 250, 140, 220)\n",
    "#roi2 = (775, 925, 140, 220)\n",
    "\n",
    "threshold_low = 2.0\n",
    "threshold_high = 10\n",
    "\n",
    "Timezero = 194.6   # position of Timezero on PP delay (in mm!)\n",
    "######################################################################################\n",
    "start_time = time.time()\n",
    "spectrum_ON_roi1 = 0\n",
    "spectrum_OFF_roi1 = 0\n",
    "spectrum_ON_roi2 = 0\n",
    "spectrum_OFF_roi2 = 0\n",
    "Energy_eV_single = 0\n",
    "Delay_mm_single = 0\n",
    "        \n",
    "for f in files:\n",
    "    JF_single_file = DIR + f + \".{}.h5\".format(detector)\n",
    "    BS_single_file = DIR + f + \".BSREAD.h5\"\n",
    "    print(\"Processing file %s\" % (JF_single_file))\n",
    "    \n",
    "#    photon_range = (6, 7)\n",
    "\n",
    "    nshots = None  # put this to None for ALL images\n",
    "    #nshots = None\n",
    "       \n",
    "    images_ON_roi1, images_ON_roi2, pids_ON, images_OFF_roi1, images_OFF_roi2, pids_OFF = \\\n",
    "    load_crop_JF_batches_on_off(JF_single_file, roi1, roi2, 50, 25, pedestal_file=pedestal_file, \\\n",
    "                                nshots=nshots)\n",
    "    \n",
    "#   images_ON_roi1, images_ON_roi2, pids_ON, images_OFF_roi1, images_OFF_roi2, pids_OFF = \\\n",
    "#   load_crop_JF_data_on_off(JF_single_file, roi1, roi2, 50, 25, pedestal_file=pedestal_file, \\\n",
    "#                            nshots=nshots)\n",
    "    \n",
    "    energy, pids = load_single_channel_pulseID(BS_single_file, channel_energy, 50)\n",
    "    delay, pids = load_single_channel_pulseID(BS_single_file, channel_delay, 50)\n",
    "    \n",
    "    energy = [x for x in energy if (x > 0)]\n",
    "    delay = [x for x in delay if (x > 0)]\n",
    "    \n",
    "    Energy_eV_single = np.mean(energy)\n",
    "    Delay_mm_single = np.mean(delay)\n",
    "    Delay_ps_single = (Delay_mm_single - Timezero)*2/(3e8*1e3*1e-12) # in ps, change to right t0 !\n",
    "    \n",
    "#    Izero_pump, Izero_unpump, energy_eV, pulseIDs = \\\n",
    "#    load_FEL_pp_pulseID(BS_single_file, channel_energy, 50, 25, 50)  \n",
    "    \n",
    "    images_ON_roi1_thr = images_ON_roi1.copy()\n",
    "    images_ON_roi1_thr[images_ON_roi1 < threshold_low] = 0\n",
    "    images_ON_roi1_thr[images_ON_roi1 > threshold_high] = 0\n",
    "#   images_ON_roi1 = convert_to_photon_num_range(images_ON_roi1)\n",
    "\n",
    "    images_ON_roi2_thr = images_ON_roi2.copy()\n",
    "    images_ON_roi2[images_ON_roi2 < threshold_low] = 0\n",
    "    images_ON_roi2[images_ON_roi2 > threshold_high] = 0\n",
    "#   images_ON_roi2 = convert_to_photon_num_range(images_ON_roi2)\n",
    "\n",
    "    images_OFF_roi1_thr = images_OFF_roi1.copy()\n",
    "    images_OFF_roi1_thr[images_OFF_roi1 < threshold_low] = 0\n",
    "    images_OFF_roi1_thr[images_OFF_roi1 > threshold_high] = 0\n",
    "#   images_OFF_roi1 = convert_to_photon_num_range(images_OFF_roi1)\n",
    "\n",
    "    images_OFF_roi2_thr = images_OFF_roi2.copy()\n",
    "    images_OFF_roi2[images_OFF_roi2 < threshold_low] = 0\n",
    "    images_OFF_roi2[images_OFF_roi2 > threshold_high] = 0\n",
    "#   images_OFF_roi2 = convert_to_photon_num_range(images_OFF_roi2)\n",
    "\n",
    "    spectrum_ON_roi1  = images_ON_roi1_thr.sum(axis = 1).sum(axis = 0)\n",
    "    spectrum_OFF_roi1 = images_OFF_roi1_thr.sum(axis = 1).sum(axis = 0)\n",
    "    spectrum_ON_roi2  = images_ON_roi2.sum(axis = 1).sum(axis = 0)\n",
    "    spectrum_OFF_roi2 = images_OFF_roi2.sum(axis = 1).sum(axis = 0)\n",
    "    \n",
    "print (\"Job done! It took {} seconds to process {} file\".format(round((time.time() - start_time), 2),len(files)))"
   ]
  },
  {
   "cell_type": "markdown",
   "metadata": {
    "collapsed": true
   },
   "source": [
    "## Plot spectra of both ROIs together"
   ]
  },
  {
   "cell_type": "code",
   "execution_count": null,
   "metadata": {},
   "outputs": [],
   "source": [
    "from textwrap import wrap\n",
    "bin1_ = 1  # change the bin size if wanted, 1 is every pixel\n",
    "bin2_ = 1  # change the bin size if wanted, 1 is every pixel\n",
    "\n",
    "spectra_on1 = spectrum_ON_roi1.copy()\n",
    "spectra_off1 = spectrum_OFF_roi1.copy()\n",
    "spectra_on2 = spectrum_ON_roi2.copy()\n",
    "spectra_off2 = spectrum_OFF_roi2.copy()\n",
    "\n",
    "x_axis1 = np.arange(roi1[0], roi1[1])\n",
    "x_axis2 = np.arange(roi2[0], roi2[1])\n",
    "\n",
    "spectra_on_rebin1  = bin_sum(spectra_on1,  bin1_)\n",
    "spectra_off_rebin1 = bin_sum(spectra_off1, bin1_)\n",
    "x_axis_rebin1 = bin_mean(x_axis1, bin1_)\n",
    "spectra_on_rebin2  = bin_sum(spectra_on2,  bin2_)\n",
    "spectra_off_rebin2 = bin_sum(spectra_off2, bin2_)\n",
    "x_axis_rebin2 = bin_mean(x_axis2, bin2_)\n",
    "\n",
    "spectra_on_err1  = np.sqrt(spectra_on_rebin1)\n",
    "spectra_off_err1 = np.sqrt(spectra_off_rebin1)\n",
    "spectra_on_err2  = np.sqrt(spectra_on_rebin2)\n",
    "spectra_off_err2 = np.sqrt(spectra_off_rebin2)\n",
    "\n",
    "low_err1= (spectra_on_rebin1 - spectra_off_rebin1)-np.sqrt(spectra_on_err1**2+spectra_off_err1**2)\n",
    "high_err1= (spectra_on_rebin1 - spectra_off_rebin1)+np.sqrt(spectra_on_err1**2+spectra_off_err1**2)\n",
    "low_err2= (spectra_on_rebin2 - spectra_off_rebin2)-np.sqrt(spectra_on_err2**2+spectra_off_err2**2)\n",
    "high_err2= (spectra_on_rebin2 - spectra_off_rebin2)+np.sqrt(spectra_on_err2**2+spectra_off_err2**2)\n",
    "\n",
    "plt.figure(figsize=(10,5))\n",
    "plt.suptitle(scan_name)\n",
    "\n",
    "plt.subplot(221)\n",
    "\n",
    "plt.gca().set_title(\"\\n\".join(wrap('ROI1: {} Energy = {} eV'.format(roi1, np.round(Energy_eV_single, 2)),30)))\n",
    "#plt.gca().set_title('ROI1: [], Delay = {} ps'.format(roi1, np.round(Delay_ps_single, 2)))\n",
    "plt.plot(x_axis_rebin1, spectra_on_rebin1, label=\"ON\", marker='.')\n",
    "plt.plot(x_axis_rebin1, spectra_off_rebin1, label=\"OFF\", marker='.')\n",
    "plt.legend(loc=\"best\")\n",
    "plt.grid()\n",
    "\n",
    "plt.subplot(223)\n",
    "plt.plot(x_axis_rebin1,spectra_on_rebin1 - spectra_off_rebin1, label=\"ON - OFF\",marker='.')\n",
    "plt.fill_between(x_axis_rebin1, low_err1, high_err1, color='lightblue')\n",
    "plt.legend(loc=\"best\")\n",
    "plt.xlabel(\"JF pixel\")\n",
    "plt.grid()\n",
    "\n",
    "plt.subplot(222)\n",
    "plt.gca().set_title(\"\\n\".join(wrap('ROI2: {} Energy = {} eV'.format(roi2, np.round(Energy_eV_single, 2)),30)))\n",
    "#plt.gca().set_title('ROI2: [], Delay = {} ps'.format(roi2, np.round(Delay_ps_single, 2)))\n",
    "plt.plot(x_axis_rebin2, spectra_on_rebin2, label=\"ON\", marker='.')\n",
    "plt.plot(x_axis_rebin2, spectra_off_rebin2, label=\"OFF\", marker='.')\n",
    "plt.legend(loc=\"best\")\n",
    "plt.grid()\n",
    "\n",
    "plt.subplot(224)\n",
    "plt.plot(x_axis_rebin2,spectra_on_rebin2 - spectra_off_rebin2, label=\"ON - OFF\",marker='.')\n",
    "plt.fill_between(x_axis_rebin2, low_err2, high_err2, color='lightblue')\n",
    "plt.legend(loc=\"best\")\n",
    "plt.xlabel(\"JF pixel\")\n",
    "plt.grid()\n",
    "\n",
    "plt.show()"
   ]
  },
  {
   "cell_type": "markdown",
   "metadata": {},
   "source": [
    "## Or separately: ROI1"
   ]
  },
  {
   "cell_type": "code",
   "execution_count": null,
   "metadata": {},
   "outputs": [],
   "source": [
    "bin_ = 1   # change the bin size if wanted, 1 is every pixel\n",
    "\n",
    "spectra_on = spectrum_ON_roi1.copy()\n",
    "spectra_off = spectrum_OFF_roi1.copy()\n",
    "\n",
    "x_axis = np.arange(roi1[0], roi1[1])\n",
    "\n",
    "spectra_on_rebin1  = bin_sum(spectra_on,  bin_)\n",
    "spectra_off_rebin1 = bin_sum(spectra_off, bin_)\n",
    "x_axis_rebin1 = bin_mean(x_axis, bin_)\n",
    "\n",
    "spectra_on_err1  = np.sqrt(spectra_on_rebin1)\n",
    "spectra_off_err1 = np.sqrt(spectra_off_rebin1)\n",
    "\n",
    "\n",
    "\n",
    "#spectrumAllOutFoc=spectra_on_rebin1 + spectra_off_rebin1\n",
    "plt.figure()\n",
    "plt.suptitle(scan_name + ' // ROI1: {}'.format(roi1))\n",
    "plt.subplot(211)\n",
    "plt.gca().set_title('Energy = {} eV'.format(np.round(Energy_eV_single, 2)))\n",
    "#plt.gca().set_title('Delay = {} ps'.format(np.round(Delay_ps_single, 2)))\n",
    "plt.plot(x_axis_rebin1, spectra_on_rebin1, label=\"ON\", marker='.')\n",
    "plt.plot(x_axis_rebin1, spectra_off_rebin1, label=\"OFF\", marker='.')\n",
    "plt.legend(loc=\"best\")\n",
    "plt.grid()\n",
    "\n",
    "#plt.title(jf_file)\n",
    "\n",
    "low_err= (spectra_on_rebin1 - spectra_off_rebin1)-np.sqrt(spectra_on_err1**2+spectra_off_err1**2)\n",
    "high_err= (spectra_on_rebin1 - spectra_off_rebin1)+np.sqrt(spectra_on_err1**2+spectra_off_err1**2)\n",
    "#x_axis_rebin1,\n",
    "plt.subplot(212)\n",
    "plt.plot(x_axis_rebin1,spectra_on_rebin1 - spectra_off_rebin1, label=\"ON - OFF\",marker='.')\n",
    "#plt.plot(spectra_on_rebin1 - spectra_off_rebin1, label=\"ON - OFF\",marker='.')\n",
    "plt.xlabel(\"JF pixel\")\n",
    "plt.grid()\n",
    "\n",
    "\n",
    "plt.legend(loc=\"best\")\n",
    "plt.fill_between(x_axis_rebin1, low_err, high_err, color='lightblue')\n",
    "plt.show()"
   ]
  },
  {
   "cell_type": "markdown",
   "metadata": {},
   "source": [
    "## Or separately: ROI2"
   ]
  },
  {
   "cell_type": "code",
   "execution_count": null,
   "metadata": {},
   "outputs": [],
   "source": [
    "bin_ = 1  # change the bin size if wanted, 1 is every pixel\n",
    "\n",
    "spectra_on = spectrum_ON_roi2.copy()\n",
    "spectra_off = spectrum_OFF_roi2.copy()\n",
    "\n",
    "x_axis = np.arange(roi2[0], roi2[1])\n",
    "\n",
    "spectra_on_rebin2  = bin_sum(spectra_on,  bin_)\n",
    "spectra_off_rebin2 = bin_sum(spectra_off, bin_)\n",
    "x_axis_rebin2 = bin_mean(x_axis, bin_)\n",
    "\n",
    "spectra_on_err2  = np.sqrt(spectra_on_rebin2)\n",
    "spectra_off_err2 = np.sqrt(spectra_off_rebin2)\n",
    "\n",
    "#spectrumAllOutFoc=spectra_on_rebin1 + spectra_off_rebin1\n",
    "plt.figure()\n",
    "plt.suptitle(scan_name + ' // ROI1: {}'.format(roi1))\n",
    "plt.subplot(211)\n",
    "plt.gca().set_title('Energy = {} eV'.format(np.round(Energy_eV_single, 2)))\n",
    "#plt.gca().set_title('Delay = {} ps'.format(np.round(Delay_ps_single, 2)))\n",
    "plt.plot(x_axis_rebin2, spectra_on_rebin2, label=\"ON\", marker='.')\n",
    "plt.plot(x_axis_rebin2, spectra_off_rebin2, label=\"OFF\", marker='.')\n",
    "plt.legend(loc=\"best\")\n",
    "plt.grid()\n",
    "\n",
    "#plt.title(jf_file)\n",
    "\n",
    "low_err= (spectra_on_rebin2 - spectra_off_rebin2)-np.sqrt(spectra_on_err2**2+spectra_off_err2**2)\n",
    "high_err= (spectra_on_rebin2 - spectra_off_rebin2)+np.sqrt(spectra_on_err2**2+spectra_off_err2**2)\n",
    "#x_axis_rebin1,\n",
    "plt.subplot(212)\n",
    "plt.plot(x_axis_rebin2,spectra_on_rebin2 - spectra_off_rebin2, label=\"ON - OFF\",marker='.')\n",
    "plt.xlabel(\"JF pixel\")\n",
    "plt.grid()\n",
    "\n",
    "#plt.plot(spectra_on_rebin1 - spectra_off_rebin1, label=\"ON - OFF\",marker='.')\n",
    "\n",
    "plt.legend(loc=\"best\")\n",
    "plt.fill_between(x_axis_rebin2, low_err, high_err, color='lightblue')\n",
    "plt.show()"
   ]
  },
  {
   "cell_type": "markdown",
   "metadata": {},
   "source": [
    "# New script in the next cell (scans) "
   ]
  },
  {
   "cell_type": "code",
   "execution_count": null,
   "metadata": {},
   "outputs": [],
   "source": [
    "print (DIR_json + scan_name + scan_range + \".json\")"
   ]
  },
  {
   "cell_type": "code",
   "execution_count": null,
   "metadata": {
    "scrolled": true
   },
   "outputs": [],
   "source": [
    "scan_name = \"RuBpy_RIXS_1\"          # you need to change this name, but run also cell #3 above to get scan_range\n",
    "detector = \"JF02T09V02\"\n",
    "\n",
    "roi1 = (5000, 5200, 220, 290)\n",
    "roi2 = (4600, 4800, 220, 290) #Ru ROIs\n",
    "#roi1 = (6450, 6550, 220, 300)\n",
    "#roi2 = (5450, 5700, 220, 300)\n",
    "threshold_low = 2.0\n",
    "threshold_high = 10\n",
    "\n",
    "######################################################################################\n",
    "\n",
    "fname_scan = DIR_json + scan_name + scan_range + \".json\"\n",
    "scan_data = load_scan_data(fname_scan)\n",
    "\n",
    "\n",
    "Energy_eV = []\n",
    "Delay_mm = []\n",
    "XAS_roi1 = []\n",
    "XAS_roi1_on = []\n",
    "#Error_XAS_roi1 = []\n",
    "XAS_roi2 = []\n",
    "XAS_roi2_on = []\n",
    "#Error_XAS_roi2 = []\n",
    "RIXS_transient_roi1 = []\n",
    "RIXS_transient_roi2 = []\n",
    "Error_transient_roi1 = []\n",
    "Error_transient_roi2 = []\n",
    "RIXS_unpumped_roi1 = []\n",
    "RIXS_unpumped_roi2 = []\n",
    "Error_unpumped_roi1 = []\n",
    "Error_unpumped_roi2 = []\n",
    "RIXS_pumped_roi1 = []\n",
    "RIXS_pumped_roi2 = []\n",
    "Error_pumped_roi1 = []\n",
    "Error_pumped_roi2 = []\n",
    "XAS_transient_roi1=[]\n",
    "XES_transient_roi1 =[]\n",
    "XAS_transient_roi2=[]\n",
    "XES_transient_roi2 =[]\n",
    "\n",
    "#XES_1D = []\n",
    "\n",
    "clock = Clock()\n",
    "num_scan_files = len(scan_data)\n",
    "print(\"\\nProcessing\", num_scan_files, \"total files\")\n",
    "\n",
    "for i, (bs, fn) in enumerate(scan_data):\n",
    "#for i in range(0,4):\n",
    "    print(\"\\n File {} out of {}: Processing {}\".format(i+1, num_scan_files, fn.split('/')[-2:]))\n",
    "    \n",
    "    spectrum_ON_roi1 = 0\n",
    "    spectrum_OFF_roi1 = 0\n",
    "    spectrum_ON_roi2 = 0\n",
    "    spectrum_OFF_roi2 = 0\n",
    "    \n",
    "    nshots = None  # put this to None for ALL images\n",
    "    #nshots = None\n",
    "    \n",
    "    \n",
    "    images_ON_roi1, images_ON_roi2, pids_ON, images_OFF_roi1, images_OFF_roi2, pids_OFF = \\\n",
    "    load_crop_JF_batches_on_off(fn, roi1, roi2, 50, 25, pedestal_file=pedestal_file, nshots=nshots)\n",
    "    \n",
    "#   images_ON_roi1, images_ON_roi2, pids_ON, images_OFF_roi1, images_OFF_roi2, pids_OFF = \\\n",
    "#   load_crop_JF_data_on_off(fn, roi1, roi2, 50, 25, pedestal_file=pedestal_file, nshots=nshots)\n",
    "    \n",
    "    energy, pids = load_single_channel_pulseID(bs, channel_energy, 50)\n",
    "    energy = [x for x in energy if (x > 0)]\n",
    "    Energy_eV.append(np.mean(energy))\n",
    "    \n",
    "    delay, pids = load_single_channel_pulseID(bs, channel_delay, 50)\n",
    "    delay = [x for x in delay if (x > 0)]\n",
    "    Delay_mm.append(np.mean(delay))\n",
    "    \n",
    "    images_ON_roi1_thr = images_ON_roi1.copy()\n",
    "    images_ON_roi1_thr[images_ON_roi1 < threshold_low] = 0\n",
    "    images_ON_roi1_thr[images_ON_roi1 > threshold_high] = 0\n",
    "    \n",
    "    images_OFF_roi1_thr = images_OFF_roi1.copy()\n",
    "    images_OFF_roi1_thr[images_OFF_roi1 < threshold_low] = 0\n",
    "    images_OFF_roi1_thr[images_OFF_roi1 > threshold_high] = 0\n",
    "    \n",
    "    images_ON_roi2_thr = images_ON_roi2.copy()\n",
    "    images_ON_roi2_thr[images_ON_roi2 < threshold_low] = 0\n",
    "    images_ON_roi2_thr[images_ON_roi2 > threshold_high] = 0\n",
    "    \n",
    "    images_OFF_roi2_thr = images_OFF_roi2.copy()\n",
    "    images_OFF_roi2_thr[images_OFF_roi2 < threshold_low] = 0\n",
    "    images_OFF_roi2_thr[images_OFF_roi2 > threshold_high] = 0\n",
    "    \n",
    "    spectrum_ON_roi1 = images_ON_roi1_thr.sum(axis = 1).sum(axis = 0)\n",
    "    spectrum_OFF_roi1 = images_OFF_roi1_thr.sum(axis = 1).sum(axis = 0)\n",
    "    spectrum_ON_roi2 = images_ON_roi2_thr.sum(axis = 1).sum(axis = 0)\n",
    "    spectrum_OFF_roi2 = images_OFF_roi2_thr.sum(axis = 1).sum(axis = 0)\n",
    "\n",
    "######################### ROI 1 ##############################################\n",
    "    \n",
    "    XAS_roi1.append(np.abs(spectrum_OFF_roi1.sum()))\n",
    "    XAS_roi1_on.append(np.abs(spectrum_ON_roi1.sum()))\n",
    "    RIXS_unpumped_roi1.append(spectrum_OFF_roi1)\n",
    "    Error_unpumped_roi1.append(np.sqrt(spectrum_OFF_roi1))\n",
    "    RIXS_pumped_roi1.append(spectrum_ON_roi1)\n",
    "    Error_pumped_roi1.append(np.sqrt(spectrum_ON_roi1))\n",
    "    RIXS_transient_roi1.append(spectrum_ON_roi1 - spectrum_OFF_roi1)\n",
    "    Error_transient_roi1.append(np.sqrt((np.sqrt(spectrum_ON_roi1))**2 + (np.sqrt(spectrum_OFF_roi1))**2))\n",
    "    \n",
    "    XES_transient_roi1.append(np.abs(spectrum_ON_roi1 - spectrum_OFF_roi1))\n",
    " #   XES_1D.append(np.sum(XES_transient_roi1, axis = 1))\n",
    "    \n",
    "    XAS_transient_roi1.append(np.abs(np.sum(RIXS_transient_roi1)))\n",
    "    \n",
    "######################### ROI 2 ##############################################\n",
    "    \n",
    "    XAS_roi2.append(np.abs(spectrum_OFF_roi2.sum()))\n",
    "    XAS_roi2_on.append(np.abs(spectrum_ON_roi2.sum()))\n",
    "    RIXS_unpumped_roi2.append(spectrum_OFF_roi2)\n",
    "    Error_unpumped_roi2.append(np.sqrt(spectrum_OFF_roi2))\n",
    "    RIXS_pumped_roi2.append(spectrum_ON_roi2)\n",
    "    Error_pumped_roi2.append(np.sqrt(spectrum_ON_roi2))\n",
    "    RIXS_transient_roi2.append(spectrum_ON_roi2 - spectrum_OFF_roi2)\n",
    "    Error_transient_roi2.append(np.sqrt((np.sqrt(spectrum_ON_roi2))**2 + (np.sqrt(spectrum_OFF_roi2))**2))\n",
    "    \n",
    "    XES_transient_roi2.append(np.abs(spectrum_ON_roi2 - spectrum_OFF_roi2))\n",
    "#    XES_1D.append(np.sum(XES_transient_roi2, axis = 1))\n",
    "    \n",
    "    XAS_transient_roi2.append(np.abs(np.sum(RIXS_transient_roi2)))\n",
    "    clear_output(wait=True)\n",
    "    \n",
    "    print (\"It took {} to process file {}\".format(clock.tick(), fn.split('/')[-1]))\n",
    "\n",
    "Energy_eV = np.array(Energy_eV)\n",
    "Delay_mm = np.array(Delay_mm)\n",
    "XAS_roi1 = np.array(XAS_roi1)\n",
    "XAS_roi1_on = np.array(XAS_roi1_on)\n",
    "RIXS_unpumped_roi1 = np.array(RIXS_unpumped_roi1)\n",
    "Error_unpumped_roi1 = np.array(Error_unpumped_roi1)\n",
    "RIXS_pumped_roi1 = np.array(RIXS_pumped_roi1)\n",
    "Error_pumped_roi1 = np.array(Error_pumped_roi1)\n",
    "RIXS_transient_roi1 = np.array(RIXS_transient_roi1)\n",
    "Error_transient_roi1 = np.array(Error_transient_roi1)\n",
    "XAS_transient_roi1=np.array(XAS_transient_roi1)\n",
    "XES_transient_roi1=np.array(XES_transient_roi1)\n",
    "#XES_1D=np.array(XES_1D)\n",
    "XAS_roi2 = np.array(XAS_roi2)\n",
    "XAS_roi2_on = np.array(XAS_roi2_on)\n",
    "RIXS_unpumped_roi2 = np.array(RIXS_unpumped_roi2)\n",
    "Error_unpumped_roi2 = np.array(Error_unpumped_roi2)\n",
    "RIXS_pumped_roi2 = np.array(RIXS_pumped_roi2)\n",
    "Error_pumped_roi2 = np.array(Error_pumped_roi2)\n",
    "RIXS_transient_roi2 = np.array(RIXS_transient_roi2)\n",
    "Error_transient_roi2 = np.array(Error_transient_roi2)\n",
    "XAS_transient_roi2=np.array(XAS_transient_roi2)\n",
    "XES_transient_roi2=np.array(XES_transient_roi2)\n",
    "#XES_1D=np.array(XES_1D)\n",
    "\n",
    "print (\"\\nJob done! It took\", clock.tock(), \"seconds to process\", num_scan_files, \"file(s)\")\n",
    "\n"
   ]
  },
  {
   "cell_type": "code",
   "execution_count": null,
   "metadata": {},
   "outputs": [],
   "source": [
    "outdir = '/das/work/p18/p18442/Exported_data/'\n",
    "filename_h5 = outdir + scan_name + \"_export.h5\" \n",
    "with h5py.File(filename_h5, \"w\") as file2write:\n",
    "    file2write.create_dataset(\"energy_eV\", data = Energy_eV)\n",
    "    file2write.create_dataset(\"roi1\", data = roi1)\n",
    "    file2write.create_dataset(\"pump_roi1\", data = RIXS_pumped_roi1)\n",
    "    file2write.create_dataset(\"unpump_roi1\", data = RIXS_unpumped_roi1)\n",
    "    file2write.create_dataset(\"transient_roi1\", data = RIXS_transient_roi1)\n",
    "    file2write.create_dataset(\"roi2\", data = roi2)\n",
    "    file2write.create_dataset(\"pump_roi2\", data = RIXS_pumped_roi2)\n",
    "    file2write.create_dataset(\"unpump_roi2\", data = RIXS_unpumped_roi2)\n",
    "    file2write.create_dataset(\"transient_roi2\", data = RIXS_transient_roi2)\n",
    "\n",
    "print(filename_h5)"
   ]
  },
  {
   "cell_type": "code",
   "execution_count": null,
   "metadata": {},
   "outputs": [],
   "source": [
    "scan_name_load = 'RuBpy_RIXS_6'\n",
    "\n",
    "##########################################################\n",
    "\n",
    "outdir = '/das/work/p18/p18442/Exported_data/'\n",
    "fn = outdir + scan_name_load + \"_export.h5\" \n",
    "print (fn)\n",
    "with h5py.File(fn, \"r\") as file2open:\n",
    "    Energy_eV = file2open['energy_eV'][:]\n",
    "    roi1 = file2open['roi1'][:]\n",
    "    RIXS_pumped_roi1 = file2open['pump_roi1'][:]\n",
    "    RIXS_unpumped_roi1 = file2open['unpump_roi1'][:]\n",
    "    RIXS_transient_roi1 = file2open['transient_roi1'][:]\n",
    "    roi2 = file2open['roi2'][:]\n",
    "    RIXS_pumped_roi2 = file2open['pump_roi2'][:]\n",
    "    RIXS_unpumped_roi2 = file2open['unpump_roi2'][:]\n",
    "    RIXS_transient_roi2 = file2open['transient_roi2'][:]"
   ]
  },
  {
   "cell_type": "markdown",
   "metadata": {},
   "source": [
    "### For no pump probe data:"
   ]
  },
  {
   "cell_type": "code",
   "execution_count": null,
   "metadata": {},
   "outputs": [],
   "source": [
    "RIXS_total = RIXS_unpumped_roi1 + RIXS_pumped_roi1\n",
    "\n",
    "plt.figure(figsize=(8,4))\n",
    "plt.imshow(RIXS_total, aspect = 'auto', cmap = \"bwr\", origin =\"lower\", extent=[roi1[0], roi1[1], Energy_eV[0], Energy_eV[-1]])\n",
    "plt.xlabel(\"Emission energy (pixel)\")\n",
    "plt.ylabel(\"Incident energy (eV)\")\n",
    "\n",
    "plt.title(scan_name_load)\n",
    "plt.colorbar()\n",
    "plt.show()\n"
   ]
  },
  {
   "cell_type": "markdown",
   "metadata": {},
   "source": [
    "### For pump probe data (ROI1 and ROI2 together):"
   ]
  },
  {
   "cell_type": "code",
   "execution_count": null,
   "metadata": {
    "scrolled": false
   },
   "outputs": [],
   "source": [
    "plt.figure(figsize=(10,8))\n",
    "plt.suptitle(scan_name_load)\n",
    "plt.subplots_adjust(hspace=0.5)\n",
    "\n",
    "plt.subplot(321)\n",
    "plt.imshow(RIXS_unpumped_roi1, aspect = 'auto', cmap = \"bwr\", origin =\"lower\", \\\n",
    "           extent=[roi1[0], roi1[1], Energy_eV[0], Energy_eV[-1]])\n",
    "plt.title(\"RIXS unpumped roi1\")\n",
    "plt.colorbar()\n",
    "\n",
    "plt.subplot(322)\n",
    "plt.imshow(RIXS_unpumped_roi2, aspect = 'auto', cmap = \"bwr\", origin =\"lower\", \\\n",
    "           extent=[roi2[0], roi2[1], Energy_eV[0], Energy_eV[-1]])#, vmin=-250, vmax=250)\n",
    "plt.title(\"RIXS unpumped roi2\")\n",
    "plt.colorbar()\n",
    "\n",
    "plt.subplot(323)\n",
    "plt.imshow(RIXS_pumped_roi1, aspect = 'auto', cmap = \"bwr\", origin =\"lower\", \\\n",
    "           extent=[roi1[0], roi1[1], Energy_eV[0], Energy_eV[-1]])#, vmin=-0.03, vmax=0.03)\n",
    "plt.title(\"RIXS pumped roi1\")\n",
    "plt.colorbar()\n",
    "\n",
    "plt.subplot(324)\n",
    "plt.imshow(RIXS_pumped_roi2, aspect = 'auto', cmap = \"bwr\", origin =\"lower\", \\\n",
    "           extent=[roi2[0], roi2[1], Energy_eV[0], Energy_eV[-1]])\n",
    "plt.title(\"RIXS pumped roi2\")\n",
    "plt.colorbar()\n",
    "\n",
    "plt.subplot(325)\n",
    "plt.imshow(RIXS_transient_roi1, aspect = 'auto', cmap = \"bwr\", origin =\"lower\", \\\n",
    "           extent=[roi1[0], roi1[1], Energy_eV[0], Energy_eV[-1]], vmin=-250, vmax=250)\n",
    "plt.title(\"RIXS transient roi1\")\n",
    "plt.colorbar()\n",
    "\n",
    "plt.subplot(326)\n",
    "plt.imshow(RIXS_transient_roi2, aspect = 'auto', cmap = \"bwr\", origin =\"lower\", \\\n",
    "           extent=[roi2[0], roi2[1], Energy_eV[0], Energy_eV[-1]], vmin=-250, vmax=250)\n",
    "plt.title(\"RIXS transient roi2\")\n",
    "plt.colorbar()\n",
    "\n",
    "\n",
    "\n",
    "plt.show()"
   ]
  },
  {
   "cell_type": "markdown",
   "metadata": {},
   "source": [
    "### Only ROI1"
   ]
  },
  {
   "cell_type": "code",
   "execution_count": null,
   "metadata": {},
   "outputs": [],
   "source": [
    "plt.figure(figsize=(5,9))\n",
    "plt.suptitle(scan_name_load)\n",
    "plt.subplots_adjust(hspace=0.5)\n",
    "\n",
    "plt.subplot(311)\n",
    "plt.imshow(RIXS_unpumped_roi1, aspect = 'auto', cmap = \"bwr\", origin =\"lower\", \\\n",
    "           extent=[roi1[0], roi1[1], Energy_eV[0], Energy_eV[-1]])\n",
    "plt.title(\"RIXS unpumped roi1\")\n",
    "plt.colorbar()\n",
    "plt.show()\n",
    "\n",
    "plt.subplot(312)\n",
    "plt.imshow(RIXS_pumped_roi1, aspect = 'auto', cmap = \"bwr\", origin =\"lower\", \\\n",
    "           extent=[roi1[0], roi1[1], Energy_eV[0], Energy_eV[-1]])#, vmin=-250, vmax=250)\n",
    "plt.title(\"RIXS pumped roi1\")\n",
    "plt.colorbar()\n",
    "plt.show()\n",
    "\n",
    "plt.subplot(313)\n",
    "plt.imshow(RIXS_transient_roi1, aspect = 'auto', cmap = \"bwr\", origin =\"lower\", \\\n",
    "           extent=[roi1[0], roi1[1], Energy_eV[0], Energy_eV[-1]], vmin=-250, vmax=250)\n",
    "plt.title(\"RIXS transient roi1\")\n",
    "plt.colorbar()\n",
    "plt.show()"
   ]
  },
  {
   "cell_type": "markdown",
   "metadata": {
    "collapsed": true
   },
   "source": [
    "### Only ROI2"
   ]
  },
  {
   "cell_type": "code",
   "execution_count": null,
   "metadata": {},
   "outputs": [],
   "source": [
    "plt.figure(figsize=(5,9))\n",
    "plt.suptitle(scan_name_load)\n",
    "plt.subplots_adjust(hspace=0.5)\n",
    "\n",
    "plt.subplot(311)\n",
    "plt.imshow(RIXS_unpumped_roi2, aspect = 'auto', cmap = \"bwr\", origin =\"lower\", \\\n",
    "           extent=[roi2[0], roi2[1], Energy_eV[0], Energy_eV[-1]])\n",
    "plt.title(\"RIXS unpumped roi2\")\n",
    "plt.colorbar()\n",
    "plt.show()\n",
    "\n",
    "plt.subplot(312)\n",
    "plt.imshow(RIXS_pumped_roi2, aspect = 'auto', cmap = \"bwr\", origin =\"lower\", \\\n",
    "           extent=[roi2[0], roi2[1], Energy_eV[0], Energy_eV[-1]])#, vmin=-250, vmax=250)\n",
    "plt.title(\"RIXS pumped roi2\")\n",
    "plt.colorbar()\n",
    "plt.show()\n",
    "\n",
    "plt.subplot(313)\n",
    "plt.imshow(RIXS_transient_roi2, aspect = 'auto', cmap = \"bwr\", origin =\"lower\", \\\n",
    "           extent=[roi2[0], roi2[1], Energy_eV[0], Energy_eV[-1]], vmin=-250, vmax=250)\n",
    "plt.title(\"RIXS transient roi2\")\n",
    "plt.colorbar()\n",
    "plt.show()"
   ]
  },
  {
   "cell_type": "code",
   "execution_count": null,
   "metadata": {
    "collapsed": true
   },
   "outputs": [],
   "source": []
  },
  {
   "cell_type": "code",
   "execution_count": null,
   "metadata": {
    "collapsed": true
   },
   "outputs": [],
   "source": []
  },
  {
   "cell_type": "code",
   "execution_count": null,
   "metadata": {
    "collapsed": true
   },
   "outputs": [],
   "source": []
  },
  {
   "cell_type": "markdown",
   "metadata": {},
   "source": [
    "## XAS plots in PFY"
   ]
  },
  {
   "cell_type": "markdown",
   "metadata": {},
   "source": [
    "### ROI1"
   ]
  },
  {
   "cell_type": "code",
   "execution_count": null,
   "metadata": {},
   "outputs": [],
   "source": [
    "XAS_pump_roi1 =  np.sum(RIXS_pumped_roi1, axis=1)\n",
    "XAS_unpump_roi1 = np.sum(RIXS_unpumped_roi1, axis=1)\n",
    "XAS_pumpprobe_roi1 = XAS_pump_roi1 - XAS_unpump_roi1\n",
    "\n",
    "plt.figure(figsize=(10,5))\n",
    "plt.suptitle(scan_name_load + '    XAS, roi1')\n",
    "plt.subplot(121)\n",
    "plt.plot(Energy_eV,XAS_pump_roi1, label=\"laser on\", marker='.')\n",
    "plt.plot(Energy_eV,XAS_unpump_roi1, label=\"laser off\", marker='.')\n",
    "plt.legend(loc='best')\n",
    "plt.xlabel(\"Incident energy (eV)\")\n",
    "plt.grid()\n",
    "plt.ylabel(\"Counts\")\n",
    "\n",
    "plt.subplot(122)\n",
    "plt.plot(Energy_eV,XAS_pumpprobe_roi1, label=\"pump probe\",color='green', marker='.')\n",
    "plt.legend(loc='best')\n",
    "plt.xlabel(\"Incident energy (eV)\")\n",
    "plt.grid()\n",
    "plt.show()"
   ]
  },
  {
   "cell_type": "markdown",
   "metadata": {
    "collapsed": true
   },
   "source": [
    "### ROI2"
   ]
  },
  {
   "cell_type": "code",
   "execution_count": null,
   "metadata": {},
   "outputs": [],
   "source": [
    "XAS_pump_roi2 =  np.sum(RIXS_pumped_roi2, axis=1)\n",
    "XAS_unpump_roi2 = np.sum(RIXS_unpumped_roi2, axis=1)\n",
    "XAS_pumpprobe_roi2 = XAS_pump_roi2 - XAS_unpump_roi2\n",
    "\n",
    "plt.figure(figsize=(10,5))\n",
    "plt.suptitle(scan_name_load + '    XAS, roi2')\n",
    "plt.subplot(121)\n",
    "plt.plot(Energy_eV,XAS_pump_roi2, label=\"laser on\", marker='.')\n",
    "plt.plot(Energy_eV,XAS_unpump_roi2, label=\"laser off\", marker='.')\n",
    "plt.legend(loc='best')\n",
    "plt.xlabel(\"Incident energy (eV)\")\n",
    "plt.grid()\n",
    "plt.ylabel(\"Counts\")\n",
    "\n",
    "plt.subplot(122)\n",
    "plt.plot(Energy_eV,XAS_pumpprobe_roi2, label=\"pump probe\",color='green', marker='.')\n",
    "plt.legend(loc='best')\n",
    "plt.xlabel(\"Incident energy (eV)\")\n",
    "plt.grid()\n",
    "plt.show()"
   ]
  },
  {
   "cell_type": "code",
   "execution_count": null,
   "metadata": {
    "collapsed": true
   },
   "outputs": [],
   "source": []
  },
  {
   "cell_type": "code",
   "execution_count": null,
   "metadata": {
    "collapsed": true
   },
   "outputs": [],
   "source": []
  },
  {
   "cell_type": "code",
   "execution_count": null,
   "metadata": {
    "collapsed": true
   },
   "outputs": [],
   "source": []
  },
  {
   "cell_type": "code",
   "execution_count": null,
   "metadata": {
    "collapsed": true
   },
   "outputs": [],
   "source": []
  },
  {
   "cell_type": "code",
   "execution_count": null,
   "metadata": {
    "collapsed": true
   },
   "outputs": [],
   "source": []
  },
  {
   "cell_type": "code",
   "execution_count": null,
   "metadata": {
    "collapsed": true
   },
   "outputs": [],
   "source": []
  },
  {
   "cell_type": "code",
   "execution_count": null,
   "metadata": {
    "collapsed": true
   },
   "outputs": [],
   "source": []
  },
  {
   "cell_type": "code",
   "execution_count": null,
   "metadata": {
    "collapsed": true
   },
   "outputs": [],
   "source": [
    "Timezero = 194.6   # position of Timezero on PP delay (in mm!)\n",
    "Delay_ps = (Delay_mm - Timezero)*2/(3e8*1e3*1e-12) # change to right t0 !\n",
    "\n",
    "plt.figure(figsize=(8,4))\n",
    "plt.plot(Delay_ps, XES_transient_roi1.sum(axis = 1), marker ='.')\n",
    "plt.xlabel(\"delay (ps)\")\n",
    "plt.ylabel(\"Incident energy (eV)\")\n",
    "\n",
    "plt.title(scan_name)\n",
    "plt.show()\n"
   ]
  },
  {
   "cell_type": "code",
   "execution_count": null,
   "metadata": {
    "collapsed": true,
    "scrolled": false
   },
   "outputs": [],
   "source": [
    "Timezero = 194.6   # position of Timezero on PP delay (in mm!)\n",
    "Delay_ps = (Delay_mm - Timezero)*2/(3e8*1e3*1e-12) # change to right t0 !\n",
    "\n",
    "plt.figure()\n",
    "#plt.plot(Energy_eV,RIXS_transient_roi1, label=\"\", marker='.')\n",
    "plt.plot(Delay_ps,XES_1D, label=\"\", marker='.')\n",
    "plt.xlabel(\"Delay (ps)\")\n",
    "plt.ylabel(\"Counts\")\n",
    "plt.show"
   ]
  },
  {
   "cell_type": "code",
   "execution_count": null,
   "metadata": {
    "collapsed": true
   },
   "outputs": [],
   "source": []
  },
  {
   "cell_type": "code",
   "execution_count": null,
   "metadata": {
    "collapsed": true
   },
   "outputs": [],
   "source": []
  },
  {
   "cell_type": "code",
   "execution_count": null,
   "metadata": {
    "collapsed": true
   },
   "outputs": [],
   "source": []
  },
  {
   "cell_type": "code",
   "execution_count": null,
   "metadata": {
    "collapsed": true
   },
   "outputs": [],
   "source": []
  },
  {
   "cell_type": "code",
   "execution_count": null,
   "metadata": {
    "collapsed": true
   },
   "outputs": [],
   "source": []
  },
  {
   "cell_type": "code",
   "execution_count": null,
   "metadata": {
    "collapsed": true
   },
   "outputs": [],
   "source": []
  },
  {
   "cell_type": "code",
   "execution_count": null,
   "metadata": {
    "collapsed": true
   },
   "outputs": [],
   "source": []
  },
  {
   "cell_type": "code",
   "execution_count": null,
   "metadata": {
    "collapsed": true
   },
   "outputs": [],
   "source": []
  },
  {
   "cell_type": "code",
   "execution_count": null,
   "metadata": {
    "collapsed": true
   },
   "outputs": [],
   "source": [
    "plt.figure(figsize=(5,9))\n",
    "plt.subplots_adjust(hspace=0.5)\n",
    "\n",
    "plt.subplot(311)\n",
    "plt.imshow(RIXS_unpumped_roi1, aspect = 'auto', cmap = \"bwr\", origin =\"lower\", extent=[roi1[0], roi1[1], Delay_ps[0], Delay_ps[-1]])\n",
    "plt.title(\"RIXS unpumped\")\n",
    "plt.colorbar()\n",
    "plt.show()\n",
    "\n",
    "plt.subplot(312)\n",
    "plt.imshow(RIXS_pumped_roi1, aspect = 'auto', cmap = \"bwr\", origin =\"lower\", extent=[roi1[0], roi1[1], Delay_ps[0], Delay_ps[-1]])#, vmin=-250, vmax=250)\n",
    "plt.title(\"RIXS pumped\")\n",
    "plt.colorbar()\n",
    "plt.show()\n",
    "\n",
    "plt.subplot(313)\n",
    "plt.imshow(RIXS_transient_roi1, aspect = 'auto', cmap = \"rainbow\", origin =\"lower\", extent=[roi1[0], roi1[1], Delay_ps[0], Delay_ps[-1]])#, vmin=-0.03, vmax=0.03)\n",
    "plt.title(\"RIXS transient\")\n",
    "plt.colorbar()\n",
    "plt.show()"
   ]
  },
  {
   "cell_type": "code",
   "execution_count": null,
   "metadata": {
    "collapsed": true
   },
   "outputs": [],
   "source": [
    "np.sum(np.abs(RIXS_transient_roi1))"
   ]
  },
  {
   "cell_type": "code",
   "execution_count": null,
   "metadata": {
    "collapsed": true,
    "scrolled": false
   },
   "outputs": [],
   "source": [
    "plt.figure()\n",
    "#plt.plot(Energy_eV,RIXS_transient_roi1, label=\"\", marker='.')\n",
    "plt.plot(Energy_eV,XAS_roi1_on-XAS_roi1, label=\"\", marker='.')\n",
    "plt.xlabel(\"Incident energy (eV)\")\n",
    "plt.ylabel(\"Counts\")\n",
    "plt.show\n",
    "\n",
    "plt.figure()\n",
    "plt.plot(x_axis,RIXS_transient_roi1.sum(axis=0), label=\"\", marker='.')\n",
    "plt.xlabel(\"Pixels\")\n",
    "plt.ylabel(\"Counts\")\n",
    "plt.show\n",
    "\n",
    "plt.figure()\n",
    "plt.plot(Delay_ps,np.abs(RIXS_transient_roi1).sum(axis=1), label=\"\", marker='.')\n",
    "plt.xlabel(\"Delay ps\")\n",
    "plt.ylabel(\"Counts\")\n",
    "plt.show"
   ]
  },
  {
   "cell_type": "code",
   "execution_count": null,
   "metadata": {
    "collapsed": true
   },
   "outputs": [],
   "source": [
    "Timezero = 194.6   # position of Timezero on PP delay (in mm!)\n",
    "Delay_ps = (Delay_mm - Timezero)*2/(3e8*1e3*1e-12) # change to right t0 !\n",
    "\n",
    "plt.figure()\n",
    "#plt.plot(Energy_eV,RIXS_transient_roi1, label=\"\", marker='.')\n",
    "plt.plot(Delay_ps,XAS_roi1_on-XAS_roi1, label=\"\", marker='.')\n",
    "plt.xlabel(\"Delay (ps)\")\n",
    "plt.ylabel(\"Counts\")\n",
    "plt.show"
   ]
  },
  {
   "cell_type": "code",
   "execution_count": null,
   "metadata": {
    "collapsed": true,
    "scrolled": true
   },
   "outputs": [],
   "source": [
    "plt.figure(figsize=(5,9))\n",
    "plt.subplots_adjust(hspace=0.5)\n",
    "\n",
    "plt.subplot(311)\n",
    "plt.imshow(RIXS_unpumped_roi1, aspect = 'auto', cmap = \"bwr\", origin =\"lower\", extent=[roi1[0], roi1[1], Delay_mm[0], Energy_eV[-1]])\n",
    "plt.title(\"RIXS unpumped\")\n",
    "plt.colorbar()\n",
    "plt.show()\n",
    "\n",
    "plt.subplot(312)\n",
    "plt.imshow(RIXS_pumped_roi1, aspect = 'auto', cmap = \"bwr\", origin =\"lower\", extent=[roi1[0], roi1[1], Delay_mm[0], Energy_eV[-1]])#, vmin=-250, vmax=250)\n",
    "plt.title(\"RIXS pumped\")\n",
    "plt.colorbar()\n",
    "plt.show()\n",
    "\n",
    "plt.subplot(313)\n",
    "plt.imshow(RIXS_transient_roi1, aspect = 'auto', cmap = \"rainbow\", origin =\"lower\", extent=[roi1[0], roi1[1], Delay_mm[0], Energy_eV[-1]])#, vmin=-0.03, vmax=0.03)\n",
    "plt.title(\"RIXS transient\")\n",
    "plt.colorbar()\n",
    "plt.show()"
   ]
  },
  {
   "cell_type": "code",
   "execution_count": null,
   "metadata": {
    "collapsed": true
   },
   "outputs": [],
   "source": []
  },
  {
   "cell_type": "code",
   "execution_count": null,
   "metadata": {
    "collapsed": true
   },
   "outputs": [],
   "source": [
    "savedir = '/das/work/p18/p18387/exported_data/'\n",
    "filename_txt = savedir + \"run001710_Ka.txt\" \n",
    "output_matrix =[]\n",
    "output_matrix = np.array(x_axis)\n",
    "output_matrix = np.vstack((output_matrix, np.array(spectrum_ON_roi1)))\n",
    "output_matrix = np.vstack((output_matrix, np.array(spectrum_OFF_roi1)))\n",
    "#output_matrix = np.array()\n",
    "#output_matrix = np.vstack((output_matrix, np.array(spectrum_ON_roi2)))\n",
    "#output_matrix = np.vstack((output_matrix, np.array(spectrum_OFF_roi2)))\n",
    "\n",
    "np.savetxt(filename_txt, np.transpose(output_matrix))"
   ]
  },
  {
   "cell_type": "code",
   "execution_count": null,
   "metadata": {
    "collapsed": true
   },
   "outputs": [],
   "source": []
  },
  {
   "cell_type": "code",
   "execution_count": null,
   "metadata": {
    "collapsed": true
   },
   "outputs": [],
   "source": [
    "def edge_removal(module_edge, roi_removal, array):\n",
    "    index_edge = module_edge - roi_removal[0]\n",
    "    array_input = array.copy()\n",
    "    print (array[index_edge-1:index_edge+3])\n",
    "    array[index_edge] = array[index_edge-1]/2\n",
    "    array[index_edge-1] = array[index_edge-1]/2\n",
    "\n",
    "    array[index_edge+1] = array[index_edge+2]/2\n",
    "    array[index_edge+2] = array[index_edge+2]/2 \n",
    "    print (array[index_edge-1:index_edge+3])\n",
    "    return array, array_input"
   ]
  },
  {
   "cell_type": "code",
   "execution_count": null,
   "metadata": {
    "collapsed": true
   },
   "outputs": [],
   "source": [
    "spectrum_ON_roi1, spectrum_ON_roi1_orig = edge_removal(6472, roi1, spectrum_ON_roi1) \n",
    "spectrum_OFF_roi1, spectrum_OFF_roi1_orig = edge_removal(6472, roi1, spectrum_OFF_roi1) "
   ]
  }
 ],
 "metadata": {
  "kernelspec": {
   "display_name": "Python [conda env:alvra-analysis]",
   "language": "python",
   "name": "conda-env-alvra-analysis-py"
  },
  "language_info": {
   "codemirror_mode": {
    "name": "ipython",
    "version": 3
   },
   "file_extension": ".py",
   "mimetype": "text/x-python",
   "name": "python",
   "nbconvert_exporter": "python",
   "pygments_lexer": "ipython3",
   "version": "3.6.7"
  }
 },
 "nbformat": 4,
 "nbformat_minor": 2
}
